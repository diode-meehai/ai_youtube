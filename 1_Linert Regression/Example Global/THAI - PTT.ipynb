{
 "cells": [
  {
   "cell_type": "markdown",
   "metadata": {},
   "source": [
    "# 1. Import Library"
   ]
  },
  {
   "cell_type": "code",
   "execution_count": 1,
   "metadata": {},
   "outputs": [],
   "source": [
    "import numpy as np\n",
    "import pandas as pd\n",
    "import matplotlib.pyplot as plt\n",
    "%matplotlib inline"
   ]
  },
  {
   "cell_type": "markdown",
   "metadata": {},
   "source": [
    "# 2. Write Function"
   ]
  },
  {
   "cell_type": "code",
   "execution_count": 2,
   "metadata": {},
   "outputs": [],
   "source": [
    "def LR_find_r(X, Y):\n",
    "    Xmean = X.mean()\n",
    "    Ymean = Y.mean()\n",
    "    fraction = ((X - Xmean)*(Y - Ymean)).sum()\n",
    "    denorminator = np.sqrt(((X - Xmean)**2).sum()*((Y - Ymean)**2).sum())\n",
    "    r = fraction/denorminator\n",
    "    return r"
   ]
  },
  {
   "cell_type": "code",
   "execution_count": 3,
   "metadata": {},
   "outputs": [],
   "source": [
    "def LR_find_ab(X, Y):\n",
    "    XY = X*Y\n",
    "    X2 = X**2\n",
    "    Xmean = X.mean()\n",
    "    Ymean = Y.mean()\n",
    "    XYmean = XY.mean()\n",
    "    X2mean = X2.mean()\n",
    "    denorminator = X2mean - Xmean**2\n",
    "    a = (XYmean - Xmean*Ymean)/denorminator\n",
    "    b = (X2mean*Ymean - Xmean*XYmean)/denorminator\n",
    "    return a, b"
   ]
  },
  {
   "cell_type": "code",
   "execution_count": 4,
   "metadata": {},
   "outputs": [],
   "source": [
    "def LR_find_Yhat(X, a, b):\n",
    "    Yhat = a*X + b\n",
    "    return Yhat"
   ]
  },
  {
   "cell_type": "code",
   "execution_count": 5,
   "metadata": {},
   "outputs": [],
   "source": [
    "def find_error(Y, Yhat, TypeOfError):\n",
    "    if TypeOfError == 'SSE':\n",
    "        error = find_SSE(Y, Yhat)\n",
    "    elif TypeOfError == 'MSE':\n",
    "        error = find_MSE(Y, Yhat)\n",
    "    elif TypeOfError == 'MAE':\n",
    "        error = find_MAE(Y, Yhat)\n",
    "    elif TypeOfError == 'MAPE':\n",
    "        error = find_MAPE(Y, Yhat)\n",
    "    return error"
   ]
  },
  {
   "cell_type": "code",
   "execution_count": 6,
   "metadata": {},
   "outputs": [],
   "source": [
    "def find_SSE(Y, Yhat):\n",
    "    SSE = ((Y - Yhat)**2).sum()\n",
    "    return SSE"
   ]
  },
  {
   "cell_type": "code",
   "execution_count": 7,
   "metadata": {},
   "outputs": [],
   "source": [
    "def find_MSE(Y, Yhat):\n",
    "    N = Y.shape[0]\n",
    "    SSE = ((Y - Yhat)**2).sum()\n",
    "    MSE = SSE/N\n",
    "    return MSE"
   ]
  },
  {
   "cell_type": "code",
   "execution_count": 8,
   "metadata": {},
   "outputs": [],
   "source": [
    "def find_MAE(Y, Yhat):\n",
    "    N = Y.shape[0]\n",
    "    MAE = (np.abs(Y - Yhat)).sum()/N\n",
    "    return MAE"
   ]
  },
  {
   "cell_type": "code",
   "execution_count": 9,
   "metadata": {},
   "outputs": [],
   "source": [
    "def find_MAPE(Y, Yhat):\n",
    "    N = Y.shape[0]\n",
    "    MAPE = np.abs((Y - Yhat)/Y).sum()*100/N\n",
    "    return MAPE"
   ]
  },
  {
   "cell_type": "markdown",
   "metadata": {},
   "source": [
    "# 3. Read Data & Prepare Data\n",
    "เทียบหุ้น THAI(การบินไทย) กับ PTT(ปตท.)"
   ]
  },
  {
   "cell_type": "code",
   "execution_count": 10,
   "metadata": {},
   "outputs": [],
   "source": [
    "Data = pd.read_excel('THAI - PTT.xlsx')"
   ]
  },
  {
   "cell_type": "code",
   "execution_count": 11,
   "metadata": {
    "scrolled": true
   },
   "outputs": [
    {
     "data": {
      "text/html": [
       "<div>\n",
       "<style scoped>\n",
       "    .dataframe tbody tr th:only-of-type {\n",
       "        vertical-align: middle;\n",
       "    }\n",
       "\n",
       "    .dataframe tbody tr th {\n",
       "        vertical-align: top;\n",
       "    }\n",
       "\n",
       "    .dataframe thead th {\n",
       "        text-align: right;\n",
       "    }\n",
       "</style>\n",
       "<table border=\"1\" class=\"dataframe\">\n",
       "  <thead>\n",
       "    <tr style=\"text-align: right;\">\n",
       "      <th></th>\n",
       "      <th>วันเดือนปี</th>\n",
       "      <th>THAI</th>\n",
       "      <th>PTT</th>\n",
       "    </tr>\n",
       "  </thead>\n",
       "  <tbody>\n",
       "    <tr>\n",
       "      <th>0</th>\n",
       "      <td>Jan 02, 2019</td>\n",
       "      <td>12.2</td>\n",
       "      <td>46.25</td>\n",
       "    </tr>\n",
       "    <tr>\n",
       "      <th>1</th>\n",
       "      <td>Jan 03, 2019</td>\n",
       "      <td>12.0</td>\n",
       "      <td>45.50</td>\n",
       "    </tr>\n",
       "    <tr>\n",
       "      <th>2</th>\n",
       "      <td>Jan 04, 2019</td>\n",
       "      <td>12.1</td>\n",
       "      <td>46.75</td>\n",
       "    </tr>\n",
       "    <tr>\n",
       "      <th>3</th>\n",
       "      <td>Jan 07, 2019</td>\n",
       "      <td>12.4</td>\n",
       "      <td>48.00</td>\n",
       "    </tr>\n",
       "    <tr>\n",
       "      <th>4</th>\n",
       "      <td>Jan 08, 2019</td>\n",
       "      <td>12.7</td>\n",
       "      <td>48.00</td>\n",
       "    </tr>\n",
       "    <tr>\n",
       "      <th>5</th>\n",
       "      <td>Jan 09, 2019</td>\n",
       "      <td>12.5</td>\n",
       "      <td>48.25</td>\n",
       "    </tr>\n",
       "    <tr>\n",
       "      <th>6</th>\n",
       "      <td>Jan 10, 2019</td>\n",
       "      <td>12.7</td>\n",
       "      <td>48.75</td>\n",
       "    </tr>\n",
       "    <tr>\n",
       "      <th>7</th>\n",
       "      <td>Jan 11, 2019</td>\n",
       "      <td>12.4</td>\n",
       "      <td>49.25</td>\n",
       "    </tr>\n",
       "    <tr>\n",
       "      <th>8</th>\n",
       "      <td>Jan 14, 2019</td>\n",
       "      <td>12.4</td>\n",
       "      <td>48.00</td>\n",
       "    </tr>\n",
       "    <tr>\n",
       "      <th>9</th>\n",
       "      <td>Jan 15, 2019</td>\n",
       "      <td>12.4</td>\n",
       "      <td>47.75</td>\n",
       "    </tr>\n",
       "    <tr>\n",
       "      <th>10</th>\n",
       "      <td>Jan 16, 2019</td>\n",
       "      <td>12.2</td>\n",
       "      <td>47.50</td>\n",
       "    </tr>\n",
       "    <tr>\n",
       "      <th>11</th>\n",
       "      <td>Jan 17, 2019</td>\n",
       "      <td>12.3</td>\n",
       "      <td>47.25</td>\n",
       "    </tr>\n",
       "    <tr>\n",
       "      <th>12</th>\n",
       "      <td>Jan 18, 2019</td>\n",
       "      <td>12.5</td>\n",
       "      <td>48.25</td>\n",
       "    </tr>\n",
       "    <tr>\n",
       "      <th>13</th>\n",
       "      <td>Jan 21, 2019</td>\n",
       "      <td>12.4</td>\n",
       "      <td>48.75</td>\n",
       "    </tr>\n",
       "    <tr>\n",
       "      <th>14</th>\n",
       "      <td>Jan 22, 2019</td>\n",
       "      <td>12.5</td>\n",
       "      <td>49.50</td>\n",
       "    </tr>\n",
       "    <tr>\n",
       "      <th>15</th>\n",
       "      <td>Jan 23, 2019</td>\n",
       "      <td>12.8</td>\n",
       "      <td>49.50</td>\n",
       "    </tr>\n",
       "    <tr>\n",
       "      <th>16</th>\n",
       "      <td>Jan 24, 2019</td>\n",
       "      <td>12.8</td>\n",
       "      <td>49.00</td>\n",
       "    </tr>\n",
       "    <tr>\n",
       "      <th>17</th>\n",
       "      <td>Jan 25, 2019</td>\n",
       "      <td>12.9</td>\n",
       "      <td>48.75</td>\n",
       "    </tr>\n",
       "    <tr>\n",
       "      <th>18</th>\n",
       "      <td>Jan 28, 2019</td>\n",
       "      <td>13.4</td>\n",
       "      <td>48.75</td>\n",
       "    </tr>\n",
       "    <tr>\n",
       "      <th>19</th>\n",
       "      <td>Jan 29, 2019</td>\n",
       "      <td>13.3</td>\n",
       "      <td>48.25</td>\n",
       "    </tr>\n",
       "    <tr>\n",
       "      <th>20</th>\n",
       "      <td>Jan 30, 2019</td>\n",
       "      <td>13.2</td>\n",
       "      <td>48.25</td>\n",
       "    </tr>\n",
       "    <tr>\n",
       "      <th>21</th>\n",
       "      <td>Jan 31, 2019</td>\n",
       "      <td>13.3</td>\n",
       "      <td>48.50</td>\n",
       "    </tr>\n",
       "    <tr>\n",
       "      <th>22</th>\n",
       "      <td>Feb 01, 2019</td>\n",
       "      <td>13.2</td>\n",
       "      <td>49.50</td>\n",
       "    </tr>\n",
       "    <tr>\n",
       "      <th>23</th>\n",
       "      <td>Feb 04, 2019</td>\n",
       "      <td>13.4</td>\n",
       "      <td>49.25</td>\n",
       "    </tr>\n",
       "    <tr>\n",
       "      <th>24</th>\n",
       "      <td>Feb 05, 2019</td>\n",
       "      <td>13.6</td>\n",
       "      <td>49.25</td>\n",
       "    </tr>\n",
       "    <tr>\n",
       "      <th>25</th>\n",
       "      <td>Feb 06, 2019</td>\n",
       "      <td>13.7</td>\n",
       "      <td>48.75</td>\n",
       "    </tr>\n",
       "    <tr>\n",
       "      <th>26</th>\n",
       "      <td>Feb 07, 2019</td>\n",
       "      <td>13.4</td>\n",
       "      <td>49.00</td>\n",
       "    </tr>\n",
       "    <tr>\n",
       "      <th>27</th>\n",
       "      <td>Feb 08, 2019</td>\n",
       "      <td>13.2</td>\n",
       "      <td>48.50</td>\n",
       "    </tr>\n",
       "    <tr>\n",
       "      <th>28</th>\n",
       "      <td>Feb 11, 2019</td>\n",
       "      <td>13.2</td>\n",
       "      <td>48.25</td>\n",
       "    </tr>\n",
       "    <tr>\n",
       "      <th>29</th>\n",
       "      <td>Feb 12, 2019</td>\n",
       "      <td>13.3</td>\n",
       "      <td>48.50</td>\n",
       "    </tr>\n",
       "    <tr>\n",
       "      <th>...</th>\n",
       "      <td>...</td>\n",
       "      <td>...</td>\n",
       "      <td>...</td>\n",
       "    </tr>\n",
       "    <tr>\n",
       "      <th>55</th>\n",
       "      <td>Mar 21, 2019</td>\n",
       "      <td>12.5</td>\n",
       "      <td>48.25</td>\n",
       "    </tr>\n",
       "    <tr>\n",
       "      <th>56</th>\n",
       "      <td>Mar 22, 2019</td>\n",
       "      <td>12.5</td>\n",
       "      <td>48.75</td>\n",
       "    </tr>\n",
       "    <tr>\n",
       "      <th>57</th>\n",
       "      <td>Mar 25, 2019</td>\n",
       "      <td>12.3</td>\n",
       "      <td>47.75</td>\n",
       "    </tr>\n",
       "    <tr>\n",
       "      <th>58</th>\n",
       "      <td>Mar 26, 2019</td>\n",
       "      <td>12.3</td>\n",
       "      <td>48.00</td>\n",
       "    </tr>\n",
       "    <tr>\n",
       "      <th>59</th>\n",
       "      <td>Mar 27, 2019</td>\n",
       "      <td>12.4</td>\n",
       "      <td>47.50</td>\n",
       "    </tr>\n",
       "    <tr>\n",
       "      <th>60</th>\n",
       "      <td>Mar 28, 2019</td>\n",
       "      <td>12.4</td>\n",
       "      <td>47.50</td>\n",
       "    </tr>\n",
       "    <tr>\n",
       "      <th>61</th>\n",
       "      <td>Mar 29, 2019</td>\n",
       "      <td>12.3</td>\n",
       "      <td>48.00</td>\n",
       "    </tr>\n",
       "    <tr>\n",
       "      <th>62</th>\n",
       "      <td>Apr 01, 2019</td>\n",
       "      <td>12.5</td>\n",
       "      <td>48.00</td>\n",
       "    </tr>\n",
       "    <tr>\n",
       "      <th>63</th>\n",
       "      <td>Apr 02, 2019</td>\n",
       "      <td>12.5</td>\n",
       "      <td>48.00</td>\n",
       "    </tr>\n",
       "    <tr>\n",
       "      <th>64</th>\n",
       "      <td>Apr 03, 2019</td>\n",
       "      <td>12.4</td>\n",
       "      <td>48.25</td>\n",
       "    </tr>\n",
       "    <tr>\n",
       "      <th>65</th>\n",
       "      <td>Apr 04, 2019</td>\n",
       "      <td>12.4</td>\n",
       "      <td>48.00</td>\n",
       "    </tr>\n",
       "    <tr>\n",
       "      <th>66</th>\n",
       "      <td>Apr 05, 2019</td>\n",
       "      <td>12.4</td>\n",
       "      <td>47.75</td>\n",
       "    </tr>\n",
       "    <tr>\n",
       "      <th>67</th>\n",
       "      <td>Apr 09, 2019</td>\n",
       "      <td>12.4</td>\n",
       "      <td>48.00</td>\n",
       "    </tr>\n",
       "    <tr>\n",
       "      <th>68</th>\n",
       "      <td>Apr 10, 2019</td>\n",
       "      <td>12.3</td>\n",
       "      <td>48.25</td>\n",
       "    </tr>\n",
       "    <tr>\n",
       "      <th>69</th>\n",
       "      <td>Apr 11, 2019</td>\n",
       "      <td>12.3</td>\n",
       "      <td>48.25</td>\n",
       "    </tr>\n",
       "    <tr>\n",
       "      <th>70</th>\n",
       "      <td>Apr 12, 2019</td>\n",
       "      <td>12.4</td>\n",
       "      <td>48.00</td>\n",
       "    </tr>\n",
       "    <tr>\n",
       "      <th>71</th>\n",
       "      <td>Apr 17, 2019</td>\n",
       "      <td>12.4</td>\n",
       "      <td>48.50</td>\n",
       "    </tr>\n",
       "    <tr>\n",
       "      <th>72</th>\n",
       "      <td>Apr 18, 2019</td>\n",
       "      <td>12.6</td>\n",
       "      <td>48.75</td>\n",
       "    </tr>\n",
       "    <tr>\n",
       "      <th>73</th>\n",
       "      <td>Apr 19, 2019</td>\n",
       "      <td>12.9</td>\n",
       "      <td>48.50</td>\n",
       "    </tr>\n",
       "    <tr>\n",
       "      <th>74</th>\n",
       "      <td>Apr 22, 2019</td>\n",
       "      <td>12.8</td>\n",
       "      <td>49.25</td>\n",
       "    </tr>\n",
       "    <tr>\n",
       "      <th>75</th>\n",
       "      <td>Apr 23, 2019</td>\n",
       "      <td>12.8</td>\n",
       "      <td>49.50</td>\n",
       "    </tr>\n",
       "    <tr>\n",
       "      <th>76</th>\n",
       "      <td>Apr 24, 2019</td>\n",
       "      <td>12.7</td>\n",
       "      <td>49.50</td>\n",
       "    </tr>\n",
       "    <tr>\n",
       "      <th>77</th>\n",
       "      <td>Apr 25, 2019</td>\n",
       "      <td>12.7</td>\n",
       "      <td>49.50</td>\n",
       "    </tr>\n",
       "    <tr>\n",
       "      <th>78</th>\n",
       "      <td>Apr 26, 2019</td>\n",
       "      <td>12.6</td>\n",
       "      <td>49.25</td>\n",
       "    </tr>\n",
       "    <tr>\n",
       "      <th>79</th>\n",
       "      <td>Apr 29, 2019</td>\n",
       "      <td>12.8</td>\n",
       "      <td>48.75</td>\n",
       "    </tr>\n",
       "    <tr>\n",
       "      <th>80</th>\n",
       "      <td>Apr 30, 2019</td>\n",
       "      <td>12.7</td>\n",
       "      <td>48.75</td>\n",
       "    </tr>\n",
       "    <tr>\n",
       "      <th>81</th>\n",
       "      <td>May 02, 2019</td>\n",
       "      <td>12.7</td>\n",
       "      <td>49.25</td>\n",
       "    </tr>\n",
       "    <tr>\n",
       "      <th>82</th>\n",
       "      <td>May 03, 2019</td>\n",
       "      <td>12.8</td>\n",
       "      <td>49.25</td>\n",
       "    </tr>\n",
       "    <tr>\n",
       "      <th>83</th>\n",
       "      <td>May 07, 2019</td>\n",
       "      <td>12.7</td>\n",
       "      <td>48.75</td>\n",
       "    </tr>\n",
       "    <tr>\n",
       "      <th>84</th>\n",
       "      <td>May 08, 2019</td>\n",
       "      <td>12.2</td>\n",
       "      <td>48.00</td>\n",
       "    </tr>\n",
       "  </tbody>\n",
       "</table>\n",
       "<p>85 rows × 3 columns</p>\n",
       "</div>"
      ],
      "text/plain": [
       "      วันเดือนปี  THAI    PTT\n",
       "0   Jan 02, 2019  12.2  46.25\n",
       "1   Jan 03, 2019  12.0  45.50\n",
       "2   Jan 04, 2019  12.1  46.75\n",
       "3   Jan 07, 2019  12.4  48.00\n",
       "4   Jan 08, 2019  12.7  48.00\n",
       "5   Jan 09, 2019  12.5  48.25\n",
       "6   Jan 10, 2019  12.7  48.75\n",
       "7   Jan 11, 2019  12.4  49.25\n",
       "8   Jan 14, 2019  12.4  48.00\n",
       "9   Jan 15, 2019  12.4  47.75\n",
       "10  Jan 16, 2019  12.2  47.50\n",
       "11  Jan 17, 2019  12.3  47.25\n",
       "12  Jan 18, 2019  12.5  48.25\n",
       "13  Jan 21, 2019  12.4  48.75\n",
       "14  Jan 22, 2019  12.5  49.50\n",
       "15  Jan 23, 2019  12.8  49.50\n",
       "16  Jan 24, 2019  12.8  49.00\n",
       "17  Jan 25, 2019  12.9  48.75\n",
       "18  Jan 28, 2019  13.4  48.75\n",
       "19  Jan 29, 2019  13.3  48.25\n",
       "20  Jan 30, 2019  13.2  48.25\n",
       "21  Jan 31, 2019  13.3  48.50\n",
       "22  Feb 01, 2019  13.2  49.50\n",
       "23  Feb 04, 2019  13.4  49.25\n",
       "24  Feb 05, 2019  13.6  49.25\n",
       "25  Feb 06, 2019  13.7  48.75\n",
       "26  Feb 07, 2019  13.4  49.00\n",
       "27  Feb 08, 2019  13.2  48.50\n",
       "28  Feb 11, 2019  13.2  48.25\n",
       "29  Feb 12, 2019  13.3  48.50\n",
       "..           ...   ...    ...\n",
       "55  Mar 21, 2019  12.5  48.25\n",
       "56  Mar 22, 2019  12.5  48.75\n",
       "57  Mar 25, 2019  12.3  47.75\n",
       "58  Mar 26, 2019  12.3  48.00\n",
       "59  Mar 27, 2019  12.4  47.50\n",
       "60  Mar 28, 2019  12.4  47.50\n",
       "61  Mar 29, 2019  12.3  48.00\n",
       "62  Apr 01, 2019  12.5  48.00\n",
       "63  Apr 02, 2019  12.5  48.00\n",
       "64  Apr 03, 2019  12.4  48.25\n",
       "65  Apr 04, 2019  12.4  48.00\n",
       "66  Apr 05, 2019  12.4  47.75\n",
       "67  Apr 09, 2019  12.4  48.00\n",
       "68  Apr 10, 2019  12.3  48.25\n",
       "69  Apr 11, 2019  12.3  48.25\n",
       "70  Apr 12, 2019  12.4  48.00\n",
       "71  Apr 17, 2019  12.4  48.50\n",
       "72  Apr 18, 2019  12.6  48.75\n",
       "73  Apr 19, 2019  12.9  48.50\n",
       "74  Apr 22, 2019  12.8  49.25\n",
       "75  Apr 23, 2019  12.8  49.50\n",
       "76  Apr 24, 2019  12.7  49.50\n",
       "77  Apr 25, 2019  12.7  49.50\n",
       "78  Apr 26, 2019  12.6  49.25\n",
       "79  Apr 29, 2019  12.8  48.75\n",
       "80  Apr 30, 2019  12.7  48.75\n",
       "81  May 02, 2019  12.7  49.25\n",
       "82  May 03, 2019  12.8  49.25\n",
       "83  May 07, 2019  12.7  48.75\n",
       "84  May 08, 2019  12.2  48.00\n",
       "\n",
       "[85 rows x 3 columns]"
      ]
     },
     "execution_count": 11,
     "metadata": {},
     "output_type": "execute_result"
    }
   ],
   "source": [
    "Data"
   ]
  },
  {
   "cell_type": "code",
   "execution_count": 12,
   "metadata": {},
   "outputs": [],
   "source": [
    "DataMatrix = Data.values"
   ]
  },
  {
   "cell_type": "code",
   "execution_count": 13,
   "metadata": {
    "scrolled": true
   },
   "outputs": [
    {
     "data": {
      "text/plain": [
       "array([['Jan 02, 2019', 12.2, 46.25],\n",
       "       ['Jan 03, 2019', 12.0, 45.5],\n",
       "       ['Jan 04, 2019', 12.1, 46.75],\n",
       "       ['Jan 07, 2019', 12.4, 48.0],\n",
       "       ['Jan 08, 2019', 12.7, 48.0],\n",
       "       ['Jan 09, 2019', 12.5, 48.25],\n",
       "       ['Jan 10, 2019', 12.7, 48.75],\n",
       "       ['Jan 11, 2019', 12.4, 49.25],\n",
       "       ['Jan 14, 2019', 12.4, 48.0],\n",
       "       ['Jan 15, 2019', 12.4, 47.75],\n",
       "       ['Jan 16, 2019', 12.2, 47.5],\n",
       "       ['Jan 17, 2019', 12.3, 47.25],\n",
       "       ['Jan 18, 2019', 12.5, 48.25],\n",
       "       ['Jan 21, 2019', 12.4, 48.75],\n",
       "       ['Jan 22, 2019', 12.5, 49.5],\n",
       "       ['Jan 23, 2019', 12.8, 49.5],\n",
       "       ['Jan 24, 2019', 12.8, 49.0],\n",
       "       ['Jan 25, 2019', 12.9, 48.75],\n",
       "       ['Jan 28, 2019', 13.4, 48.75],\n",
       "       ['Jan 29, 2019', 13.3, 48.25],\n",
       "       ['Jan 30, 2019', 13.2, 48.25],\n",
       "       ['Jan 31, 2019', 13.3, 48.5],\n",
       "       ['Feb 01, 2019', 13.2, 49.5],\n",
       "       ['Feb 04, 2019', 13.4, 49.25],\n",
       "       ['Feb 05, 2019', 13.6, 49.25],\n",
       "       ['Feb 06, 2019', 13.7, 48.75],\n",
       "       ['Feb 07, 2019', 13.4, 49.0],\n",
       "       ['Feb 08, 2019', 13.2, 48.5],\n",
       "       ['Feb 11, 2019', 13.2, 48.25],\n",
       "       ['Feb 12, 2019', 13.3, 48.5],\n",
       "       ['Feb 13, 2019', 13.3, 49.0],\n",
       "       ['Feb 14, 2019', 13.4, 48.25],\n",
       "       ['Feb 15, 2019', 13.2, 48.25],\n",
       "       ['Feb 18, 2019', 13.2, 48.5],\n",
       "       ['Feb 20, 2019', 13.1, 49.0],\n",
       "       ['Feb 21, 2019', 13.3, 48.75],\n",
       "       ['Feb 22, 2019', 13.5, 49.25],\n",
       "       ['Feb 25, 2019', 13.5, 49.75],\n",
       "       ['Feb 26, 2019', 13.4, 49.0],\n",
       "       ['Feb 27, 2019', 13.3, 49.25],\n",
       "       ['Feb 28, 2019', 13.1, 48.5],\n",
       "       ['Mar 01, 2019', 12.6, 48.75],\n",
       "       ['Mar 04, 2019', 12.6, 48.75],\n",
       "       ['Mar 05, 2019', 12.9, 48.75],\n",
       "       ['Mar 06, 2019', 13.0, 47.5],\n",
       "       ['Mar 07, 2019', 13.1, 47.75],\n",
       "       ['Mar 08, 2019', 12.8, 47.5],\n",
       "       ['Mar 11, 2019', 12.6, 47.25],\n",
       "       ['Mar 12, 2019', 12.5, 47.25],\n",
       "       ['Mar 13, 2019', 12.6, 47.75],\n",
       "       ['Mar 14, 2019', 12.5, 48.0],\n",
       "       ['Mar 15, 2019', 12.3, 48.25],\n",
       "       ['Mar 18, 2019', 12.2, 47.75],\n",
       "       ['Mar 19, 2019', 12.2, 48.5],\n",
       "       ['Mar 20, 2019', 12.2, 48.25],\n",
       "       ['Mar 21, 2019', 12.5, 48.25],\n",
       "       ['Mar 22, 2019', 12.5, 48.75],\n",
       "       ['Mar 25, 2019', 12.3, 47.75],\n",
       "       ['Mar 26, 2019', 12.3, 48.0],\n",
       "       ['Mar 27, 2019', 12.4, 47.5],\n",
       "       ['Mar 28, 2019', 12.4, 47.5],\n",
       "       ['Mar 29, 2019', 12.3, 48.0],\n",
       "       ['Apr 01, 2019', 12.5, 48.0],\n",
       "       ['Apr 02, 2019', 12.5, 48.0],\n",
       "       ['Apr 03, 2019', 12.4, 48.25],\n",
       "       ['Apr 04, 2019', 12.4, 48.0],\n",
       "       ['Apr 05, 2019', 12.4, 47.75],\n",
       "       ['Apr 09, 2019', 12.4, 48.0],\n",
       "       ['Apr 10, 2019', 12.3, 48.25],\n",
       "       ['Apr 11, 2019', 12.3, 48.25],\n",
       "       ['Apr 12, 2019', 12.4, 48.0],\n",
       "       ['Apr 17, 2019', 12.4, 48.5],\n",
       "       ['Apr 18, 2019', 12.6, 48.75],\n",
       "       ['Apr 19, 2019', 12.9, 48.5],\n",
       "       ['Apr 22, 2019', 12.8, 49.25],\n",
       "       ['Apr 23, 2019', 12.8, 49.5],\n",
       "       ['Apr 24, 2019', 12.7, 49.5],\n",
       "       ['Apr 25, 2019', 12.7, 49.5],\n",
       "       ['Apr 26, 2019', 12.6, 49.25],\n",
       "       ['Apr 29, 2019', 12.8, 48.75],\n",
       "       ['Apr 30, 2019', 12.7, 48.75],\n",
       "       ['May 02, 2019', 12.7, 49.25],\n",
       "       ['May 03, 2019', 12.8, 49.25],\n",
       "       ['May 07, 2019', 12.7, 48.75],\n",
       "       ['May 08, 2019', 12.2, 48.0]], dtype=object)"
      ]
     },
     "execution_count": 13,
     "metadata": {},
     "output_type": "execute_result"
    }
   ],
   "source": [
    "DataMatrix"
   ]
  },
  {
   "cell_type": "code",
   "execution_count": 14,
   "metadata": {},
   "outputs": [],
   "source": [
    "N = DataMatrix.shape[0]"
   ]
  },
  {
   "cell_type": "code",
   "execution_count": 15,
   "metadata": {},
   "outputs": [
    {
     "data": {
      "text/plain": [
       "85"
      ]
     },
     "execution_count": 15,
     "metadata": {},
     "output_type": "execute_result"
    }
   ],
   "source": [
    "N"
   ]
  },
  {
   "cell_type": "code",
   "execution_count": 16,
   "metadata": {},
   "outputs": [],
   "source": [
    "X = DataMatrix[:, 1:2]"
   ]
  },
  {
   "cell_type": "code",
   "execution_count": 17,
   "metadata": {},
   "outputs": [],
   "source": [
    "Y = DataMatrix[:, 2:]"
   ]
  },
  {
   "cell_type": "code",
   "execution_count": 18,
   "metadata": {},
   "outputs": [
    {
     "data": {
      "text/plain": [
       "<matplotlib.collections.PathCollection at 0x1f5456c0400>"
      ]
     },
     "execution_count": 18,
     "metadata": {},
     "output_type": "execute_result"
    },
    {
     "data": {
      "image/png": "[encoded data removed]",
      "text/plain": [
       "<Figure size 432x288 with 1 Axes>"
      ]
     },
     "metadata": {
      "needs_background": "light"
     },
     "output_type": "display_data"
    }
   ],
   "source": [
    "plt.scatter(X, Y)"
   ]
  },
  {
   "cell_type": "code",
   "execution_count": 19,
   "metadata": {},
   "outputs": [],
   "source": [
    "r = LR_find_r(X, Y)"
   ]
  },
  {
   "cell_type": "code",
   "execution_count": 20,
   "metadata": {},
   "outputs": [
    {
     "data": {
      "text/plain": [
       "0.5281551414329544"
      ]
     },
     "execution_count": 20,
     "metadata": {},
     "output_type": "execute_result"
    }
   ],
   "source": [
    "r # -0.8 > r < 0.8 Low positive Correlation"
   ]
  },
  {
   "cell_type": "code",
   "execution_count": 21,
   "metadata": {},
   "outputs": [],
   "source": [
    "X_Train = X[:60]\n",
    "Y_Train = Y[:60]"
   ]
  },
  {
   "cell_type": "code",
   "execution_count": 22,
   "metadata": {},
   "outputs": [],
   "source": [
    "X_Test = X[60:]\n",
    "Y_Test = Y[60:]"
   ]
  },
  {
   "cell_type": "markdown",
   "metadata": {},
   "source": [
    "# 4. Create Model"
   ]
  },
  {
   "cell_type": "code",
   "execution_count": 23,
   "metadata": {},
   "outputs": [],
   "source": [
    "a, b = LR_find_ab(X_Train, Y_Train)"
   ]
  },
  {
   "cell_type": "code",
   "execution_count": 24,
   "metadata": {},
   "outputs": [],
   "source": [
    "Yhat_Train = LR_find_Yhat(X_Train, a, b)"
   ]
  },
  {
   "cell_type": "code",
   "execution_count": 25,
   "metadata": {},
   "outputs": [],
   "source": [
    "error_Train = find_error(Y_Train, Yhat_Train, 'MAPE')"
   ]
  },
  {
   "cell_type": "code",
   "execution_count": 26,
   "metadata": {
    "scrolled": true
   },
   "outputs": [
    {
     "data": {
      "text/plain": [
       "<matplotlib.legend.Legend at 0x1f54575b400>"
      ]
     },
     "execution_count": 26,
     "metadata": {},
     "output_type": "execute_result"
    },
    {
     "data": {
      "image/png": "[encoded data removed]",
      "text/plain": [
       "<Figure size 432x288 with 1 Axes>"
      ]
     },
     "metadata": {
      "needs_background": "light"
     },
     "output_type": "display_data"
    }
   ],
   "source": [
    "plt.plot(Y_Train, label = 'Real Train')\n",
    "plt.plot(Yhat_Train, label = 'Predicted Train')\n",
    "plt.legend()"
   ]
  },
  {
   "cell_type": "code",
   "execution_count": 27,
   "metadata": {},
   "outputs": [
    {
     "data": {
      "text/plain": [
       "1.0456912343417648"
      ]
     },
     "execution_count": 27,
     "metadata": {},
     "output_type": "execute_result"
    }
   ],
   "source": [
    "error_Train"
   ]
  },
  {
   "cell_type": "code",
   "execution_count": 28,
   "metadata": {},
   "outputs": [
    {
     "data": {
      "text/plain": [
       "[<matplotlib.lines.Line2D at 0x1f5457885f8>]"
      ]
     },
     "execution_count": 28,
     "metadata": {},
     "output_type": "execute_result"
    },
    {
     "data": {
      "image/png": "[encoded data removed]",
      "text/plain": [
       "<Figure size 432x288 with 1 Axes>"
      ]
     },
     "metadata": {
      "needs_background": "light"
     },
     "output_type": "display_data"
    }
   ],
   "source": [
    "plt.scatter(X_Train, Y_Train)\n",
    "plt.plot(X_Train, Yhat_Train, 'r')"
   ]
  },
  {
   "cell_type": "markdown",
   "metadata": {},
   "source": [
    "# 5. Make Prediction"
   ]
  },
  {
   "cell_type": "code",
   "execution_count": 29,
   "metadata": {},
   "outputs": [],
   "source": [
    "Yhat_Test = LR_find_Yhat(X_Test, a, b)"
   ]
  },
  {
   "cell_type": "code",
   "execution_count": 30,
   "metadata": {},
   "outputs": [],
   "source": [
    "error_Test = find_error(Y_Test, Yhat_Test, 'MAPE')"
   ]
  },
  {
   "cell_type": "code",
   "execution_count": 31,
   "metadata": {
    "scrolled": true
   },
   "outputs": [
    {
     "data": {
      "text/plain": [
       "<matplotlib.legend.Legend at 0x1f5457146d8>"
      ]
     },
     "execution_count": 31,
     "metadata": {},
     "output_type": "execute_result"
    },
    {
     "data": {
      "image/png": "[encoded data removed]",
      "text/plain": [
       "<Figure size 432x288 with 1 Axes>"
      ]
     },
     "metadata": {
      "needs_background": "light"
     },
     "output_type": "display_data"
    }
   ],
   "source": [
    "plt.plot(Y_Test, label = 'Real Test')\n",
    "plt.plot(Yhat_Test, label = 'Predicted Test')\n",
    "plt.legend()"
   ]
  },
  {
   "cell_type": "code",
   "execution_count": 32,
   "metadata": {},
   "outputs": [
    {
     "data": {
      "text/plain": [
       "1.082385649527221"
      ]
     },
     "execution_count": 32,
     "metadata": {},
     "output_type": "execute_result"
    }
   ],
   "source": [
    "error_Test"
   ]
  },
  {
   "cell_type": "code",
   "execution_count": 38,
   "metadata": {},
   "outputs": [
    {
     "data": {
      "text/plain": [
       "[<matplotlib.lines.Line2D at 0x1f5459c5a20>]"
      ]
     },
     "execution_count": 38,
     "metadata": {},
     "output_type": "execute_result"
    },
    {
     "data": {
      "image/png": "[encoded data removed]",
      "text/plain": [
       "<Figure size 432x288 with 1 Axes>"
      ]
     },
     "metadata": {
      "needs_background": "light"
     },
     "output_type": "display_data"
    }
   ],
   "source": [
    "plt.scatter(X_Test, Y_Test)\n",
    "plt.plot(X_Test, Yhat_Test, 'G')"
   ]
  },
  {
   "cell_type": "code",
   "execution_count": null,
   "metadata": {},
   "outputs": [],
   "source": []
  },
  {
   "cell_type": "code",
   "execution_count": null,
   "metadata": {},
   "outputs": [],
   "source": []
  }
 ],
 "metadata": {
  "kernelspec": {
   "display_name": "Python 3",
   "language": "python",
   "name": "python3"
  },
  "language_info": {
   "codemirror_mode": {
    "name": "ipython",
    "version": 3
   },
   "file_extension": ".py",
   "mimetype": "text/x-python",
   "name": "python",
   "nbconvert_exporter": "python",
   "pygments_lexer": "ipython3",
   "version": "3.7.3"
  }
 },
 "nbformat": 4,
 "nbformat_minor": 2
}
