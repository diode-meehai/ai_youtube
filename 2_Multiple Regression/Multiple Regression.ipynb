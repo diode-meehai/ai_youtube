{
 "cells": [
  {
   "cell_type": "code",
   "execution_count": null,
   "metadata": {},
   "outputs": [],
   "source": [
    "import numpy as np\n",
    "import pandas as pd\n",
    "import matplotlib.pyplot as plt\n",
    "%matplotlib inline"
   ]
  },
  {
   "cell_type": "code",
   "execution_count": null,
   "metadata": {},
   "outputs": [],
   "source": [
    "def MR_find_W(X, Y):\n",
    "    Xb = MR_create_Xb(X)\n",
    "    front = inv(np.dot(Xb.T, Xb))\n",
    "    back = np.dot(X.T, Y)\n",
    "    W = np.dot(front, back)\n",
    "    return W"
   ]
  },
  {
   "cell_type": "code",
   "execution_count": null,
   "metadata": {},
   "outputs": [],
   "source": [
    "def MR_create_Xb(X):\n",
    "    N = X.shape[0]\n",
    "    ones = np.ones([N, 1])\n",
    "    Xb = np.hstack([ones, X])\n",
    "    return Xb"
   ]
  },
  {
   "cell_type": "code",
   "execution_count": null,
   "metadata": {},
   "outputs": [],
   "source": [
    "def MR_find_Yhat(X, W):\n",
    "    Xb = MR_create_Xb(X)\n",
    "    Yhat = np.dot(Xb, W)\n",
    "    return Yhat"
   ]
  },
  {
   "cell_type": "code",
   "execution_count": null,
   "metadata": {},
   "outputs": [],
   "source": [
    "def find_error(Y, Yhat, TypeOfError):\n",
    "    if TypeOfError == 'SSE':\n",
    "        error = find_SSE(Y, Yhat)\n",
    "    elif TypeOfError == 'MSE':\n",
    "        error = find_MSE(Y, Yhat)\n",
    "    elif TypeOfError == 'MAE':\n",
    "        error = find_MAE(Y, Yhat)\n",
    "    elif TypeOfError == 'MAPE':\n",
    "        error = find_MAPE(Y, Yhat)\n",
    "    return error"
   ]
  },
  {
   "cell_type": "code",
   "execution_count": null,
   "metadata": {},
   "outputs": [],
   "source": [
    "def find_SSE(Y, Yhat):\n",
    "    SSE = ((Y - Yhat)**2).sum()\n",
    "    return SSE"
   ]
  },
  {
   "cell_type": "code",
   "execution_count": null,
   "metadata": {},
   "outputs": [],
   "source": [
    "def find_MSE(Y, Yhat):\n",
    "    N = Y.shape[0]\n",
    "    SSE = ((Y - Yhat)**2).sum()\n",
    "    MSE = SSE/N\n",
    "    return MSE"
   ]
  },
  {
   "cell_type": "code",
   "execution_count": null,
   "metadata": {},
   "outputs": [],
   "source": [
    "def find_MAE(Y, Yhat):\n",
    "    N = Y.shape[0]\n",
    "    MAE = (np.abs(Y - Yhat)).sum()/N\n",
    "    return MAE"
   ]
  },
  {
   "cell_type": "code",
   "execution_count": null,
   "metadata": {},
   "outputs": [],
   "source": [
    "def find_MAPE(Y, Yhat):\n",
    "    N = Y.shape[0]\n",
    "    MAPE = np.abs((Y - Yhat)/Y).sum()*100/N\n",
    "    return MAPE"
   ]
  },
  {
   "cell_type": "code",
   "execution_count": null,
   "metadata": {},
   "outputs": [],
   "source": [
    "def MR_find_W_local(X, Y, epoch = 1000, lr = 0.01):\n",
    "    Xb = MR_create_Xb(X)\n",
    "    N = Xb.shape[0]\n",
    "    D_1 = Xb.shape[1]\n",
    "    W = np.random.randn(D_1, 1)\n",
    "    error_list = []\n",
    "    for i in range(epoch):\n",
    "        Yhat = MR_find_Yhat(X, W)\n",
    "        error = find_error(Y, Yhat, 'SSE')\n",
    "        error_list.append(error)\n",
    "        S = np.dot(Xb.T, Y - Yhat)\n",
    "        W = W + (lr/N)*S\n",
    "    return W, error_list"
   ]
  },
  {
   "cell_type": "code",
   "execution_count": null,
   "metadata": {},
   "outputs": [],
   "source": [
    "def min4norm(Data):\n",
    "    _min = Data.min(axis=0)\n",
    "    return _min.reshape(1, -1)"
   ]
  },
  {
   "cell_type": "code",
   "execution_count": null,
   "metadata": {},
   "outputs": [],
   "source": [
    "def max4norm(Data):\n",
    "    _max = Data.max(axis=0)\n",
    "    return _max.reshape(1, -1)"
   ]
  },
  {
   "cell_type": "code",
   "execution_count": null,
   "metadata": {},
   "outputs": [],
   "source": [
    "def mean4norm(Data):\n",
    "    _mean = Data.mean(axis=0)\n",
    "    return _mean.reshape(1, -1)"
   ]
  },
  {
   "cell_type": "code",
   "execution_count": null,
   "metadata": {},
   "outputs": [],
   "source": [
    "def std4norm(Data):\n",
    "    _std = Data.std(axis=0)\n",
    "    return _std.reshape(1, -1)"
   ]
  },
  {
   "cell_type": "code",
   "execution_count": null,
   "metadata": {},
   "outputs": [],
   "source": [
    "def ed4norm(Data):\n",
    "    _ed = np.sqrt((Data**2).sum(axis=0))\n",
    "    return _ed.reshape(1, -1)"
   ]
  },
  {
   "cell_type": "code",
   "execution_count": null,
   "metadata": {},
   "outputs": [],
   "source": [
    "def minmaxNorm(Data, min_norm, _max_norm):\n",
    "    Data_Norm = (Data - min_norm)/(max_norm - min_norm)\n",
    "    return Data_norm"
   ]
  },
  {
   "cell_type": "code",
   "execution_count": null,
   "metadata": {},
   "outputs": [],
   "source": [
    "def meanNorm(Data, min_norm, max_norm, mean_norm):\n",
    "    Data_Norm = (Data - mean_norm)/(max_norm - min_norm)\n",
    "    return Data_Norm"
   ]
  },
  {
   "cell_type": "code",
   "execution_count": null,
   "metadata": {},
   "outputs": [],
   "source": [
    "def standardization(Data, mean_norm, std_norm):\n",
    "    Data_Norm = (Data - mean_norm)/std_norm\n",
    "    return Data_Norm"
   ]
  },
  {
   "cell_type": "code",
   "execution_count": null,
   "metadata": {},
   "outputs": [],
   "source": [
    "def SUL(Data, ed_norm):\n",
    "    Data_Norm = Data/ed_norm\n",
    "    return Data_Norm"
   ]
  },
  {
   "cell_type": "code",
   "execution_count": null,
   "metadata": {},
   "outputs": [],
   "source": [
    "def de_minmaxNorm(Data_Norm, min_norm, max_norm):\n",
    "    Data = Data_Norm*(max_norm - min_norm) + min_norm\n",
    "    return Data"
   ]
  },
  {
   "cell_type": "code",
   "execution_count": null,
   "metadata": {},
   "outputs": [],
   "source": [
    "def de_meanNorm(Data_Norm, min_norm, max_norm, mean_norm):\n",
    "    Data = Data_Norm*(max_norm - min_norm) + mean_norm\n",
    "    return Data"
   ]
  },
  {
   "cell_type": "code",
   "execution_count": null,
   "metadata": {},
   "outputs": [],
   "source": [
    "def de_standardization(Data_Norm, mean_norm, std_norm):\n",
    "    Data = Data_Norm*std_norm + mean_norm\n",
    "    return Data"
   ]
  },
  {
   "cell_type": "code",
   "execution_count": null,
   "metadata": {},
   "outputs": [],
   "source": [
    "def de_SUL(Data_Norm, ed_norm):\n",
    "    Data = Data_Norm*ed_norm\n",
    "    return Data"
   ]
  }
 ],
 "metadata": {
  "kernelspec": {
   "display_name": "Python 3",
   "language": "python",
   "name": "python3"
  },
  "language_info": {
   "codemirror_mode": {
    "name": "ipython",
    "version": 3
   },
   "file_extension": ".py",
   "mimetype": "text/x-python",
   "name": "python",
   "nbconvert_exporter": "python",
   "pygments_lexer": "ipython3",
   "version": "3.6.8"
  }
 },
 "nbformat": 4,
 "nbformat_minor": 2
}
