{
 "cells": [
  {
   "cell_type": "markdown",
   "metadata": {},
   "source": [
    "# 1. Import Library"
   ]
  },
  {
   "cell_type": "code",
   "execution_count": 1,
   "metadata": {},
   "outputs": [],
   "source": [
    "import numpy as np\n",
    "import pandas as pd\n",
    "import matplotlib.pyplot as plt\n",
    "%matplotlib inline"
   ]
  },
  {
   "cell_type": "markdown",
   "metadata": {},
   "source": [
    "# 2. Write Function"
   ]
  },
  {
   "cell_type": "code",
   "execution_count": 2,
   "metadata": {},
   "outputs": [],
   "source": [
    "def LoR_create_Xb(X):\n",
    "    N = X.shape[0]\n",
    "    ones = np.ones([N, 1])\n",
    "    Xb = np.hstack([ones, X])\n",
    "    return Xb"
   ]
  },
  {
   "cell_type": "code",
   "execution_count": 3,
   "metadata": {},
   "outputs": [],
   "source": [
    "def LoR_find_W_local(X, Y, epoch = 1000, lr = 1):\n",
    "    Xb = LoR_create_Xb(X)\n",
    "    N = Xb.shape[0]\n",
    "    D_1 = Xb.shape[1]\n",
    "    W = np.random.randn(D_1, 1)/np.sqrt(D_1)\n",
    "    error_list = []\n",
    "    for i in range(epoch):\n",
    "        Yhat = LoR_find_Yhat(X, W)\n",
    "        # error = find_error_bin_class(Y, np.round(Yhat, 0))\n",
    "        error = (-Y*np.log(Yhat) - (1 - Y)*np.log(1 - Yhat)).sum()\n",
    "        error_list.append(error)\n",
    "        S = np.dot(Xb.T, Y - Yhat)\n",
    "        W = W + (lr/N)*S\n",
    "    return W, error_list"
   ]
  },
  {
   "cell_type": "code",
   "execution_count": 4,
   "metadata": {},
   "outputs": [],
   "source": [
    "def LoR_find_Yhat(X, W):\n",
    "    Xb = LoR_create_Xb(X)\n",
    "    Z = np.dot(Xb, W)\n",
    "    Yhat = 1/(1 + np.exp(-Z)) #simoid\n",
    "    return Yhat"
   ]
  },
  {
   "cell_type": "code",
   "execution_count": 5,
   "metadata": {},
   "outputs": [],
   "source": [
    "def find_error_bin_class(Y, Yhat):\n",
    "    N = Y.shape[0]\n",
    "    error = 100*(Y != Yhat).sum()/N\n",
    "    return error"
   ]
  },
  {
   "cell_type": "markdown",
   "metadata": {},
   "source": [
    "# 3. Create Data"
   ]
  },
  {
   "cell_type": "code",
   "execution_count": 6,
   "metadata": {},
   "outputs": [],
   "source": [
    "N = 100\n",
    "D = 2\n",
    "X = np.random.randn(N, D)"
   ]
  },
  {
   "cell_type": "code",
   "execution_count": 7,
   "metadata": {},
   "outputs": [
    {
     "data": {
      "text/plain": [
       "array([[ 0.80647929,  2.28155318],\n",
       "       [-0.21697095, -1.37836936],\n",
       "       [-0.43712931,  1.10454825],\n",
       "       [ 0.34677477,  0.83549798],\n",
       "       [-0.53849425,  0.74451979],\n",
       "       [-0.72747397,  0.41183792],\n",
       "       [-0.56039191, -0.84206215],\n",
       "       [-0.03947853,  1.79866177],\n",
       "       [ 0.84443221,  0.50526346],\n",
       "       [ 0.64473093, -0.51516337],\n",
       "       [-1.34238877,  1.24230242],\n",
       "       [ 0.91731604,  1.18082801],\n",
       "       [ 0.84086517,  0.89354865],\n",
       "       [ 1.01032473,  0.06901387],\n",
       "       [-1.27815721, -0.59382279],\n",
       "       [ 1.9581522 , -0.10978494],\n",
       "       [ 0.43151268, -0.06334214],\n",
       "       [ 0.37168943,  0.73308103],\n",
       "       [-1.37272601, -0.68582908],\n",
       "       [ 0.12136595, -0.00391642],\n",
       "       [-0.2757755 ,  0.16207327],\n",
       "       [-1.23388808, -1.39237991],\n",
       "       [-1.66655408,  0.5942218 ],\n",
       "       [-0.28783381, -0.98064165],\n",
       "       [-0.51057889,  0.4580693 ],\n",
       "       [ 0.87521231, -1.41790207],\n",
       "       [-2.98491968, -0.31806957],\n",
       "       [ 1.33054794,  1.74225194],\n",
       "       [-1.09729983, -1.24817925],\n",
       "       [ 1.19428786,  1.60685276],\n",
       "       [ 0.29761251, -0.05523344],\n",
       "       [-0.61120982, -0.26758804],\n",
       "       [ 0.38586277,  0.23616999],\n",
       "       [ 1.08573749, -0.72258545],\n",
       "       [-1.16239334,  2.6884421 ],\n",
       "       [-2.69783822,  1.00266787],\n",
       "       [-0.01245821, -0.25269678],\n",
       "       [-0.25381225,  0.75090871],\n",
       "       [ 0.77407843,  1.74473569],\n",
       "       [ 0.35165985, -0.34772559],\n",
       "       [ 0.39944456,  1.05162178],\n",
       "       [ 0.86262919,  0.17087859],\n",
       "       [-0.76151097,  1.1470256 ],\n",
       "       [ 0.27061153, -1.1225682 ],\n",
       "       [-0.01673387, -0.36510271],\n",
       "       [ 0.57821528,  0.25301848],\n",
       "       [ 1.43962113,  1.130604  ],\n",
       "       [-1.8161525 ,  1.57981156],\n",
       "       [-0.31401016,  0.75864441],\n",
       "       [ 0.02941198,  0.2995652 ],\n",
       "       [ 1.16010612, -3.07767322],\n",
       "       [-0.74208966,  0.23644918],\n",
       "       [-0.89022851,  1.07761005],\n",
       "       [-0.19543281, -0.70065746],\n",
       "       [-2.22412   , -0.06696922],\n",
       "       [ 1.76785871,  0.31382269],\n",
       "       [-0.16640375, -1.8779961 ],\n",
       "       [-0.11863637, -0.98492088],\n",
       "       [-0.44229954,  0.08475943],\n",
       "       [ 0.52506361,  0.43395454],\n",
       "       [-0.64338358, -0.52521568],\n",
       "       [ 0.23840592,  0.0527002 ],\n",
       "       [-1.26554871,  0.83177816],\n",
       "       [ 0.34488578, -0.02535892],\n",
       "       [ 0.47195444,  0.08995134],\n",
       "       [-1.17519593, -1.93603794],\n",
       "       [-1.5059989 ,  1.07411254],\n",
       "       [-2.46166523, -1.40336376],\n",
       "       [ 1.24334195, -0.42121744],\n",
       "       [ 0.27560382,  1.40655336],\n",
       "       [-0.1173409 ,  0.63188973],\n",
       "       [ 0.63905949,  0.19978909],\n",
       "       [ 1.05914571,  0.20825246],\n",
       "       [-1.38156797,  1.00261248],\n",
       "       [ 1.21533319, -0.96129709],\n",
       "       [-0.09524044, -0.60819752],\n",
       "       [-1.4598668 , -1.86833336],\n",
       "       [-0.41711181, -2.18141126],\n",
       "       [ 0.47260469, -1.15075386],\n",
       "       [ 0.80804634, -1.20718401],\n",
       "       [ 0.9266542 ,  1.1403789 ],\n",
       "       [ 0.57673995,  1.55801341],\n",
       "       [ 1.22928976,  1.12093015],\n",
       "       [ 1.38141633, -0.04382916],\n",
       "       [ 0.10894115, -0.37081173],\n",
       "       [-0.04814714,  0.77148137],\n",
       "       [ 0.02023948,  1.88099268],\n",
       "       [ 0.2380077 ,  0.69890122],\n",
       "       [-0.2569262 , -1.15666397],\n",
       "       [-1.40155738,  1.48587432],\n",
       "       [-0.85969999, -0.12192106],\n",
       "       [ 0.3860618 , -0.74501628],\n",
       "       [ 0.32338999, -0.48949814],\n",
       "       [ 0.81099775,  0.96518486],\n",
       "       [-1.09103412, -0.9733729 ],\n",
       "       [-0.03576021,  1.10872622],\n",
       "       [ 1.52705722, -1.29047513],\n",
       "       [ 0.29215199, -0.0564187 ],\n",
       "       [-2.36493351,  0.25496742],\n",
       "       [ 0.97437909, -0.96495369]])"
      ]
     },
     "execution_count": 7,
     "metadata": {},
     "output_type": "execute_result"
    },
    {
     "data": {
      "image/png": "[encoded data removed]",
      "text/plain": [
       "<Figure size 432x288 with 1 Axes>"
      ]
     },
     "metadata": {
      "needs_background": "light"
     },
     "output_type": "display_data"
    }
   ],
   "source": [
    "plt.scatter(X[:, 0], X[:, 1])\n",
    "X"
   ]
  },
  {
   "cell_type": "code",
   "execution_count": 8,
   "metadata": {
    "scrolled": true
   },
   "outputs": [
    {
     "data": {
      "text/plain": [
       "array([[-3.19352071, -1.71844682],\n",
       "       [-4.21697095, -5.37836936],\n",
       "       [-4.43712931, -2.89545175],\n",
       "       [-3.65322523, -3.16450202],\n",
       "       [-4.53849425, -3.25548021],\n",
       "       [-4.72747397, -3.58816208],\n",
       "       [-4.56039191, -4.84206215],\n",
       "       [-4.03947853, -2.20133823],\n",
       "       [-3.15556779, -3.49473654],\n",
       "       [-3.35526907, -4.51516337],\n",
       "       [-5.34238877, -2.75769758],\n",
       "       [-3.08268396, -2.81917199],\n",
       "       [-3.15913483, -3.10645135],\n",
       "       [-2.98967527, -3.93098613],\n",
       "       [-5.27815721, -4.59382279],\n",
       "       [-2.0418478 , -4.10978494],\n",
       "       [-3.56848732, -4.06334214],\n",
       "       [-3.62831057, -3.26691897],\n",
       "       [-5.37272601, -4.68582908],\n",
       "       [-3.87863405, -4.00391642],\n",
       "       [-4.2757755 , -3.83792673],\n",
       "       [-5.23388808, -5.39237991],\n",
       "       [-5.66655408, -3.4057782 ],\n",
       "       [-4.28783381, -4.98064165],\n",
       "       [-4.51057889, -3.5419307 ],\n",
       "       [-3.12478769, -5.41790207],\n",
       "       [-6.98491968, -4.31806957],\n",
       "       [-2.66945206, -2.25774806],\n",
       "       [-5.09729983, -5.24817925],\n",
       "       [-2.80571214, -2.39314724],\n",
       "       [-3.70238749, -4.05523344],\n",
       "       [-4.61120982, -4.26758804],\n",
       "       [-3.61413723, -3.76383001],\n",
       "       [-2.91426251, -4.72258545],\n",
       "       [-5.16239334, -1.3115579 ],\n",
       "       [-6.69783822, -2.99733213],\n",
       "       [-4.01245821, -4.25269678],\n",
       "       [-4.25381225, -3.24909129],\n",
       "       [-3.22592157, -2.25526431],\n",
       "       [-3.64834015, -4.34772559],\n",
       "       [-3.60055544, -2.94837822],\n",
       "       [-3.13737081, -3.82912141],\n",
       "       [-4.76151097, -2.8529744 ],\n",
       "       [-3.72938847, -5.1225682 ],\n",
       "       [-4.01673387, -4.36510271],\n",
       "       [-3.42178472, -3.74698152],\n",
       "       [-2.56037887, -2.869396  ],\n",
       "       [-5.8161525 , -2.42018844],\n",
       "       [-4.31401016, -3.24135559],\n",
       "       [-3.97058802, -3.7004348 ],\n",
       "       [ 5.16010612,  0.92232678],\n",
       "       [ 3.25791034,  4.23644918],\n",
       "       [ 3.10977149,  5.07761005],\n",
       "       [ 3.80456719,  3.29934254],\n",
       "       [ 1.77588   ,  3.93303078],\n",
       "       [ 5.76785871,  4.31382269],\n",
       "       [ 3.83359625,  2.1220039 ],\n",
       "       [ 3.88136363,  3.01507912],\n",
       "       [ 3.55770046,  4.08475943],\n",
       "       [ 4.52506361,  4.43395454],\n",
       "       [ 3.35661642,  3.47478432],\n",
       "       [ 4.23840592,  4.0527002 ],\n",
       "       [ 2.73445129,  4.83177816],\n",
       "       [ 4.34488578,  3.97464108],\n",
       "       [ 4.47195444,  4.08995134],\n",
       "       [ 2.82480407,  2.06396206],\n",
       "       [ 2.4940011 ,  5.07411254],\n",
       "       [ 1.53833477,  2.59663624],\n",
       "       [ 5.24334195,  3.57878256],\n",
       "       [ 4.27560382,  5.40655336],\n",
       "       [ 3.8826591 ,  4.63188973],\n",
       "       [ 4.63905949,  4.19978909],\n",
       "       [ 5.05914571,  4.20825246],\n",
       "       [ 2.61843203,  5.00261248],\n",
       "       [ 5.21533319,  3.03870291],\n",
       "       [ 3.90475956,  3.39180248],\n",
       "       [ 2.5401332 ,  2.13166664],\n",
       "       [ 3.58288819,  1.81858874],\n",
       "       [ 4.47260469,  2.84924614],\n",
       "       [ 4.80804634,  2.79281599],\n",
       "       [ 4.9266542 ,  5.1403789 ],\n",
       "       [ 4.57673995,  5.55801341],\n",
       "       [ 5.22928976,  5.12093015],\n",
       "       [ 5.38141633,  3.95617084],\n",
       "       [ 4.10894115,  3.62918827],\n",
       "       [ 3.95185286,  4.77148137],\n",
       "       [ 4.02023948,  5.88099268],\n",
       "       [ 4.2380077 ,  4.69890122],\n",
       "       [ 3.7430738 ,  2.84333603],\n",
       "       [ 2.59844262,  5.48587432],\n",
       "       [ 3.14030001,  3.87807894],\n",
       "       [ 4.3860618 ,  3.25498372],\n",
       "       [ 4.32338999,  3.51050186],\n",
       "       [ 4.81099775,  4.96518486],\n",
       "       [ 2.90896588,  3.0266271 ],\n",
       "       [ 3.96423979,  5.10872622],\n",
       "       [ 5.52705722,  2.70952487],\n",
       "       [ 4.29215199,  3.9435813 ],\n",
       "       [ 1.63506649,  4.25496742],\n",
       "       [ 4.97437909,  3.03504631]])"
      ]
     },
     "execution_count": 8,
     "metadata": {},
     "output_type": "execute_result"
    }
   ],
   "source": [
    "X[:50, :] = X[:50, :] - 4*np.ones([50, D])\n",
    "X[50:, :] = X[50:, :] + 4*np.ones([50, D])\n",
    "X"
   ]
  },
  {
   "cell_type": "code",
   "execution_count": 9,
   "metadata": {},
   "outputs": [
    {
     "data": {
      "text/plain": [
       "(100, 2)"
      ]
     },
     "execution_count": 9,
     "metadata": {},
     "output_type": "execute_result"
    }
   ],
   "source": [
    "X.shape"
   ]
  },
  {
   "cell_type": "code",
   "execution_count": 10,
   "metadata": {
    "scrolled": true
   },
   "outputs": [
    {
     "data": {
      "text/plain": [
       "array([[0.],\n",
       "       [0.],\n",
       "       [0.],\n",
       "       [0.],\n",
       "       [0.],\n",
       "       [0.],\n",
       "       [0.],\n",
       "       [0.],\n",
       "       [0.],\n",
       "       [0.],\n",
       "       [0.],\n",
       "       [0.],\n",
       "       [0.],\n",
       "       [0.],\n",
       "       [0.],\n",
       "       [0.],\n",
       "       [0.],\n",
       "       [0.],\n",
       "       [0.],\n",
       "       [0.],\n",
       "       [0.],\n",
       "       [0.],\n",
       "       [0.],\n",
       "       [0.],\n",
       "       [0.],\n",
       "       [0.],\n",
       "       [0.],\n",
       "       [0.],\n",
       "       [0.],\n",
       "       [0.],\n",
       "       [0.],\n",
       "       [0.],\n",
       "       [0.],\n",
       "       [0.],\n",
       "       [0.],\n",
       "       [0.],\n",
       "       [0.],\n",
       "       [0.],\n",
       "       [0.],\n",
       "       [0.],\n",
       "       [0.],\n",
       "       [0.],\n",
       "       [0.],\n",
       "       [0.],\n",
       "       [0.],\n",
       "       [0.],\n",
       "       [0.],\n",
       "       [0.],\n",
       "       [0.],\n",
       "       [0.],\n",
       "       [1.],\n",
       "       [1.],\n",
       "       [1.],\n",
       "       [1.],\n",
       "       [1.],\n",
       "       [1.],\n",
       "       [1.],\n",
       "       [1.],\n",
       "       [1.],\n",
       "       [1.],\n",
       "       [1.],\n",
       "       [1.],\n",
       "       [1.],\n",
       "       [1.],\n",
       "       [1.],\n",
       "       [1.],\n",
       "       [1.],\n",
       "       [1.],\n",
       "       [1.],\n",
       "       [1.],\n",
       "       [1.],\n",
       "       [1.],\n",
       "       [1.],\n",
       "       [1.],\n",
       "       [1.],\n",
       "       [1.],\n",
       "       [1.],\n",
       "       [1.],\n",
       "       [1.],\n",
       "       [1.],\n",
       "       [1.],\n",
       "       [1.],\n",
       "       [1.],\n",
       "       [1.],\n",
       "       [1.],\n",
       "       [1.],\n",
       "       [1.],\n",
       "       [1.],\n",
       "       [1.],\n",
       "       [1.],\n",
       "       [1.],\n",
       "       [1.],\n",
       "       [1.],\n",
       "       [1.],\n",
       "       [1.],\n",
       "       [1.],\n",
       "       [1.],\n",
       "       [1.],\n",
       "       [1.],\n",
       "       [1.]])"
      ]
     },
     "execution_count": 10,
     "metadata": {},
     "output_type": "execute_result"
    }
   ],
   "source": [
    "Y = np.vstack([np.zeros([50, 1]), np.ones([50, 1])])\n",
    "Y"
   ]
  },
  {
   "cell_type": "code",
   "execution_count": 11,
   "metadata": {},
   "outputs": [
    {
     "data": {
      "text/plain": [
       "<matplotlib.collections.PathCollection at 0x2123b99c0f0>"
      ]
     },
     "execution_count": 11,
     "metadata": {},
     "output_type": "execute_result"
    },
    {
     "data": {
      "image/png": "[encoded data removed]",
      "text/plain": [
       "<Figure size 432x288 with 1 Axes>"
      ]
     },
     "metadata": {
      "needs_background": "light"
     },
     "output_type": "display_data"
    }
   ],
   "source": [
    "plt.scatter(X[:, 0], X[:, 1], s = 100, alpha = 0.5)"
   ]
  },
  {
   "cell_type": "code",
   "execution_count": 12,
   "metadata": {},
   "outputs": [
    {
     "data": {
      "text/plain": [
       "<matplotlib.legend.Legend at 0x2123b9cf3c8>"
      ]
     },
     "execution_count": 12,
     "metadata": {},
     "output_type": "execute_result"
    },
    {
     "data": {
      "image/png": "[encoded data removed]",
      "text/plain": [
       "<Figure size 432x288 with 1 Axes>"
      ]
     },
     "metadata": {
      "needs_background": "light"
     },
     "output_type": "display_data"
    }
   ],
   "source": [
    "plt.plot(Y, label = 'True Value')\n",
    "plt.legend()"
   ]
  },
  {
   "cell_type": "markdown",
   "metadata": {},
   "source": [
    "# 4. Predict"
   ]
  },
  {
   "cell_type": "code",
   "execution_count": 13,
   "metadata": {},
   "outputs": [],
   "source": [
    "W, error_list = LoR_find_W_local(X, Y)"
   ]
  },
  {
   "cell_type": "code",
   "execution_count": 14,
   "metadata": {},
   "outputs": [
    {
     "data": {
      "text/plain": [
       "[<matplotlib.lines.Line2D at 0x2123ba6ffd0>]"
      ]
     },
     "execution_count": 14,
     "metadata": {},
     "output_type": "execute_result"
    },
    {
     "data": {
      "image/png": "[encoded data removed]",
      "text/plain": [
       "<Figure size 432x288 with 1 Axes>"
      ]
     },
     "metadata": {
      "needs_background": "light"
     },
     "output_type": "display_data"
    }
   ],
   "source": [
    "plt.plot(error_list)"
   ]
  },
  {
   "cell_type": "code",
   "execution_count": 15,
   "metadata": {},
   "outputs": [],
   "source": [
    "Yhat = LoR_find_Yhat(X, W)"
   ]
  },
  {
   "cell_type": "code",
   "execution_count": 16,
   "metadata": {},
   "outputs": [
    {
     "data": {
      "text/plain": [
       "<matplotlib.legend.Legend at 0x2123b933f60>"
      ]
     },
     "execution_count": 16,
     "metadata": {},
     "output_type": "execute_result"
    },
    {
     "data": {
      "image/png": "[encoded data removed]",
      "text/plain": [
       "<Figure size 432x288 with 1 Axes>"
      ]
     },
     "metadata": {
      "needs_background": "light"
     },
     "output_type": "display_data"
    }
   ],
   "source": [
    "plt.plot(Yhat, label = 'Predicted Value')\n",
    "plt.plot(Y, label = 'True Value')\n",
    "plt.legend()"
   ]
  },
  {
   "cell_type": "code",
   "execution_count": 17,
   "metadata": {},
   "outputs": [],
   "source": [
    "error = find_error_bin_class(Y, np.round(Yhat, 0))"
   ]
  },
  {
   "cell_type": "code",
   "execution_count": 18,
   "metadata": {},
   "outputs": [
    {
     "data": {
      "text/plain": [
       "0.0"
      ]
     },
     "execution_count": 18,
     "metadata": {},
     "output_type": "execute_result"
    }
   ],
   "source": [
    "error"
   ]
  }
 ],
 "metadata": {
  "kernelspec": {
   "display_name": "Python 3",
   "language": "python",
   "name": "python3"
  },
  "language_info": {
   "codemirror_mode": {
    "name": "ipython",
    "version": 3
   },
   "file_extension": ".py",
   "mimetype": "text/x-python",
   "name": "python",
   "nbconvert_exporter": "python",
   "pygments_lexer": "ipython3",
   "version": "3.6.9"
  }
 },
 "nbformat": 4,
 "nbformat_minor": 2
}
