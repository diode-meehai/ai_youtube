{
 "cells": [
  {
   "cell_type": "markdown",
   "metadata": {},
   "source": [
    "# 1. Import Library"
   ]
  },
  {
   "cell_type": "code",
   "execution_count": 1,
   "metadata": {},
   "outputs": [],
   "source": [
    "import numpy as np\n",
    "from numpy.linalg import inv\n",
    "import pandas as pd\n",
    "import matplotlib.pyplot as plt\n",
    "%matplotlib inline"
   ]
  },
  {
   "cell_type": "markdown",
   "metadata": {},
   "source": [
    "# 2. Write Function"
   ]
  },
  {
   "cell_type": "code",
   "execution_count": 2,
   "metadata": {},
   "outputs": [],
   "source": [
    "def NN_create_WB(A0, HL):\n",
    "    W = []\n",
    "    B = []\n",
    "    for i in range(len(HL)):\n",
    "        if i == 0:\n",
    "            W_i = np.random.randn(A0.shape[1], HL[0])/np.sqrt(HL[0])\n",
    "        else:\n",
    "            W_i = np.random.randn(HL[i-1], HL[i])/np.sqrt(HL[i])\n",
    "        B_i = np.random.randn(1, HL[i])/np.sqrt(HL[i])\n",
    "        W.append(W_i)\n",
    "        B.append(B_i)\n",
    "    return W, B"
   ]
  },
  {
   "cell_type": "code",
   "execution_count": 3,
   "metadata": {},
   "outputs": [],
   "source": [
    "def NNR_find_WB(A0, T, HL, AF, epoch = 1000, lr = 0.01):\n",
    "    L = len(HL)\n",
    "    N = A0.shape[0]\n",
    "    W, B = NN_create_WB(A0, HL)\n",
    "    error_list = []\n",
    "    for i in range(epoch):\n",
    "        Z, A = NN_forward(A0, W, B, AF)\n",
    "        error = find_error(T, A[-1], 'SSE')\n",
    "        error_list.append(error)\n",
    "        SW, SB = NNR_backpropagation(A0, W, B, Z, A, T, AF)\n",
    "        for j in range(L):\n",
    "            W[j] = W[j] + (lr/N)*SW[j]\n",
    "            B[j] = B[j] + (lr/N)*SB[j]\n",
    "    return W, B, error_list"
   ]
  },
  {
   "cell_type": "code",
   "execution_count": 4,
   "metadata": {},
   "outputs": [],
   "source": [
    "def NNC_find_WB(A0, T, HL, AF, epoch = 1000, lr = 0.01):\n",
    "    L = len(HL)\n",
    "    N = A0.shape[0]\n",
    "    W, B = NN_create_WB(A0, HL)\n",
    "    error_list = []\n",
    "    for i in range(epoch):\n",
    "        Z, A = NN_forward(A0, W, B, AF)\n",
    "        error = find_error(T, A[-1], 'Entropy')\n",
    "        error_list.append(error)\n",
    "        SW, SB = NNC_backpropagation(A0, W, B, Z, A, T, AF)\n",
    "        for j in range(L):\n",
    "            W[j] = W[j] + (lr/N)*SW[j]\n",
    "            B[j] = B[j] + (lr/N)*SB[j]\n",
    "    return W, B, error_list"
   ]
  },
  {
   "cell_type": "code",
   "execution_count": 5,
   "metadata": {},
   "outputs": [],
   "source": [
    "def NN_forward(A0, W, B, AF):\n",
    "    Z = []\n",
    "    A = []\n",
    "    for i in range(len(AF)):\n",
    "        if i == 0:\n",
    "            Z_i = np.dot(A0, W[i]) + B[i]\n",
    "        else:\n",
    "            Z_i = np.dot(A[-1], W[i]) + B[i]\n",
    "        A_i = NN_compute_A(Z_i, AF[i])\n",
    "        Z.append(Z_i)\n",
    "        A.append(A_i)\n",
    "    return Z, A"
   ]
  },
  {
   "cell_type": "code",
   "execution_count": 6,
   "metadata": {},
   "outputs": [],
   "source": [
    "def NN_compute_A(Z_i, af):\n",
    "    if type(af) == str:\n",
    "        if af == 'sigmoid':\n",
    "            A_i = 1/(1 + np.exp(-Z_i))\n",
    "        elif af == 'tanh':\n",
    "            A_i = (np.exp(Z_i) - np.exp(-Z_i))/(np.exp(Z_i) + np.exp(-Z_i))\n",
    "        elif af == 'ReLU':\n",
    "            A_i = Z_i * (Z_i > 0)\n",
    "        elif af == 'softmax':\n",
    "            A_i = np.exp(Z_i)/np.exp(Z_i).sum(axis=1, keepdims = True)\n",
    "    elif type(af) == list:\n",
    "        if af[0] == 'PReLU':\n",
    "            A_i = Z_i * (Z_i > 0) + af[1] * Z_i * (Z_i <= 0)\n",
    "    return A_i"
   ]
  },
  {
   "cell_type": "code",
   "execution_count": 7,
   "metadata": {},
   "outputs": [],
   "source": [
    "def NNR_backpropagation(A0, W, B, Z, A, T, AF):\n",
    "    L = len(AF)\n",
    "    SW = []\n",
    "    SB = []\n",
    "    for i in range(L - 1, -1, -1):\n",
    "        if i == L - 1:\n",
    "            Delta_i = T - A[i]\n",
    "        else:\n",
    "            Delta_i = np.dot(Err_i, W[i+1].T)\n",
    "        Diff_i = NN_compute_Diff(Z[i], A[i], AF[i])\n",
    "        Err_i = NN_compute_Err(Delta_i, Diff_i)\n",
    "        if i != 0:\n",
    "            SW_i = np.dot(A[i-1].T, Err_i)\n",
    "        else:\n",
    "            SW_i = np.dot(A0.T, Err_i)\n",
    "        SB_i = Err_i.sum(axis=0)\n",
    "        SW.append(SW_i)\n",
    "        SB.append(SB_i)\n",
    "    return SW[::-1], SB[::-1]"
   ]
  },
  {
   "cell_type": "code",
   "execution_count": 8,
   "metadata": {},
   "outputs": [],
   "source": [
    "def NNC_backpropagation(A0, W, B, Z, A, T, AF):\n",
    "    L = len(AF)\n",
    "    SW = []\n",
    "    SB = []\n",
    "    for i in range(L - 1, -1, -1):\n",
    "        if i == L - 1:\n",
    "            Delta_i = T - A[i]\n",
    "            Diff_i = 1\n",
    "        else:\n",
    "            Delta_i = np.dot(Err_i, W[i+1].T)\n",
    "            Diff_i = NN_compute_Diff(Z[i], A[i], AF[i])\n",
    "        Err_i = NN_compute_Err(Delta_i, Diff_i)\n",
    "        if i != 0:\n",
    "            SW_i = np.dot(A[i-1].T, Err_i)\n",
    "        else:\n",
    "            SW_i = np.dot(A0.T, Err_i)\n",
    "        SB_i = Err_i.sum(axis=0)\n",
    "        print(\"SB_i >> \" + str(SB_i))\n",
    "        SW.append(SW_i)\n",
    "        SB.append(SB_i)\n",
    "    return SW[::-1], SB[::-1]"
   ]
  },
  {
   "cell_type": "code",
   "execution_count": 9,
   "metadata": {},
   "outputs": [],
   "source": [
    "def NN_compute_Diff(Z_i, A_i, af):\n",
    "    if type(af) == str:\n",
    "        if af == 'sigmoid':\n",
    "            Diff_i = A_i * (1 - A_i)\n",
    "        elif af == 'tanh':\n",
    "            Diff_i = 1 - A_i**2\n",
    "        elif af == 'ReLU':\n",
    "            Diff_i = (Z_i > 0)\n",
    "    elif type(af) == list:\n",
    "        if af[0] == 'PReLU':\n",
    "            Diff_i = (Z_i > 0) + af[1] * (Z_i <= 0)\n",
    "    return Diff_i"
   ]
  },
  {
   "cell_type": "code",
   "execution_count": 10,
   "metadata": {},
   "outputs": [],
   "source": [
    "def NN_compute_Err(Delta_i, Diff_i):\n",
    "    Err_i = Delta_i * Diff_i\n",
    "    return Err_i"
   ]
  },
  {
   "cell_type": "code",
   "execution_count": 11,
   "metadata": {},
   "outputs": [],
   "source": [
    "def find_error(Y, Yhat, TypeOfError):\n",
    "    if TypeOfError == 'SSE':\n",
    "        error = find_SSE(Y, Yhat)\n",
    "    elif TypeOfError == 'MSE':\n",
    "        error = find_MSE(Y, Yhat)\n",
    "    elif TypeOfError == 'MAE':\n",
    "        error = find_MAE(Y, Yhat)\n",
    "    elif TypeOfError == 'MAPE':\n",
    "        error = find_MAPE(Y, Yhat)\n",
    "    elif TypeOfError == 'Entropy':\n",
    "        error = find_Entropy(Y, Yhat)\n",
    "    elif TypeOfError == 'Binary':\n",
    "        error = find_error_bin_class(Y, Yhat)\n",
    "    elif TypeOfError == 'Multiclass':\n",
    "        error = find_error_mul_class(Y, Yhat)\n",
    "    return error"
   ]
  },
  {
   "cell_type": "code",
   "execution_count": 12,
   "metadata": {},
   "outputs": [],
   "source": [
    "def find_SSE(Y, Yhat):\n",
    "    SSE = ((Y - Yhat)**2).sum()\n",
    "    return SSE"
   ]
  },
  {
   "cell_type": "code",
   "execution_count": 13,
   "metadata": {},
   "outputs": [],
   "source": [
    "def find_MSE(Y, Yhat):\n",
    "    N = Y.shape[0]\n",
    "    SSE = ((Y - Yhat)**2).sum()\n",
    "    MSE = SSE/N\n",
    "    return MSE"
   ]
  },
  {
   "cell_type": "code",
   "execution_count": 14,
   "metadata": {},
   "outputs": [],
   "source": [
    "def find_MAE(Y, Yhat):\n",
    "    N = Y.shape[0]\n",
    "    MAE = (np.abs(Y - Yhat)).sum()/N\n",
    "    return MAE"
   ]
  },
  {
   "cell_type": "code",
   "execution_count": 15,
   "metadata": {},
   "outputs": [],
   "source": [
    "def find_MAPE(Y, Yhat):\n",
    "    N = Y.shape[0]\n",
    "    MAPE = np.abs((Y - Yhat)/Y).sum()*100/N\n",
    "    return MAPE"
   ]
  },
  {
   "cell_type": "code",
   "execution_count": 16,
   "metadata": {},
   "outputs": [],
   "source": [
    "def find_Entropy(Y, Yhat):\n",
    "    error = (-Y*np.log(Yhat)).sum()\n",
    "    return error"
   ]
  },
  {
   "cell_type": "code",
   "execution_count": 17,
   "metadata": {},
   "outputs": [],
   "source": [
    "def find_error_bin_class(Y, Yhat):\n",
    "    N = Y.shape[0]\n",
    "    _Y = np.round(Y, 0)\n",
    "    _Yhat = np.round(Yhat, 0)\n",
    "    error = 100*(_Y != _Yhat).sum()/N\n",
    "    return error"
   ]
  },
  {
   "cell_type": "code",
   "execution_count": 18,
   "metadata": {},
   "outputs": [],
   "source": [
    "def find_error_mul_class(Y, Yhat):\n",
    "    N = Y.shape[0]\n",
    "    Y_argmax = np.argmax(Y, axis=1)\n",
    "    Yhat_argmax = np.argmax(Yhat, axis=1)\n",
    "    error = 100*(Y_argmax != Yhat_argmax).sum()/N\n",
    "    return error"
   ]
  },
  {
   "cell_type": "markdown",
   "metadata": {},
   "source": [
    "# 3. Normalization"
   ]
  },
  {
   "cell_type": "code",
   "execution_count": 19,
   "metadata": {},
   "outputs": [],
   "source": [
    "def min4norm(Data):\n",
    "    _min = Data.min(axis=0)\n",
    "    return _min.reshape(1, -1)"
   ]
  },
  {
   "cell_type": "code",
   "execution_count": 20,
   "metadata": {},
   "outputs": [],
   "source": [
    "def max4norm(Data):\n",
    "    _max = Data.max(axis=0)\n",
    "    return _max.reshape(1, -1)"
   ]
  },
  {
   "cell_type": "code",
   "execution_count": 21,
   "metadata": {},
   "outputs": [],
   "source": [
    "def mean4norm(Data):\n",
    "    _mean = Data.mean(axis=0)\n",
    "    return _mean.reshape(1, -1)"
   ]
  },
  {
   "cell_type": "code",
   "execution_count": 22,
   "metadata": {},
   "outputs": [],
   "source": [
    "def std4norm(Data):\n",
    "    _std = Data.std(axis=0)\n",
    "    return _std.reshape(1, -1)"
   ]
  },
  {
   "cell_type": "code",
   "execution_count": 23,
   "metadata": {},
   "outputs": [],
   "source": [
    "def ed4norm(Data):\n",
    "    _ed = np.sqrt((Data**2).sum(axis=0))\n",
    "    return _ed.reshape(1, -1)"
   ]
  },
  {
   "cell_type": "code",
   "execution_count": 24,
   "metadata": {},
   "outputs": [],
   "source": [
    "def minmaxNorm(Data, min_norm, max_norm):\n",
    "    Data_Norm = (Data - min_norm)/(max_norm - min_norm)\n",
    "    return Data_Norm"
   ]
  },
  {
   "cell_type": "code",
   "execution_count": 25,
   "metadata": {},
   "outputs": [],
   "source": [
    "def meanNorm(Data, min_norm, max_norm, mean_norm):\n",
    "    Data_Norm = (Data - mean_norm)/(max_norm - min_norm)\n",
    "    return Data_Norm"
   ]
  },
  {
   "cell_type": "code",
   "execution_count": 26,
   "metadata": {},
   "outputs": [],
   "source": [
    "def standardization(Data, mean_norm, std_norm):\n",
    "    Data_Norm = (Data - mean_norm)/std_norm\n",
    "    return Data_Norm"
   ]
  },
  {
   "cell_type": "code",
   "execution_count": 27,
   "metadata": {},
   "outputs": [],
   "source": [
    "def SUL(Data, ed_norm):\n",
    "    Data_Norm = Data/ed_norm\n",
    "    return Data_Norm"
   ]
  },
  {
   "cell_type": "code",
   "execution_count": 28,
   "metadata": {},
   "outputs": [],
   "source": [
    "def de_minmaxNorm(Data_Norm, min_norm, max_norm):\n",
    "    Data = Data_Norm*(max_norm - min_norm) + min_norm\n",
    "    return Data"
   ]
  },
  {
   "cell_type": "code",
   "execution_count": 29,
   "metadata": {},
   "outputs": [],
   "source": [
    "def de_meanNorm(Data_Norm, min_norm, max_norm, mean_norm):\n",
    "    Data = Data_Norm*(max_norm - min_norm) + mean_norm\n",
    "    return Data"
   ]
  },
  {
   "cell_type": "code",
   "execution_count": 30,
   "metadata": {},
   "outputs": [],
   "source": [
    "def de_standardization(Data_Norm, mean_norm, std_norm):\n",
    "    Data = Data_Norm*std_norm + mean_norm\n",
    "    return Data"
   ]
  },
  {
   "cell_type": "code",
   "execution_count": 31,
   "metadata": {},
   "outputs": [],
   "source": [
    "def de_SUL(Data_Norm, ed_norm):\n",
    "    Data = Data_Norm*ed_norm\n",
    "    return Data"
   ]
  },
  {
   "cell_type": "markdown",
   "metadata": {},
   "source": [
    "# 4. Read Data & Prepare Data"
   ]
  },
  {
   "cell_type": "code",
   "execution_count": 104,
   "metadata": {},
   "outputs": [],
   "source": [
    "#Data = pd.read_excel('EURUSD Close.xlsx', usecols = 'H:AL', skiprows = range(1, 32))\n",
    "\n",
    "Data = pd.read_csv('THB_JPY_Close.csv', usecols=[\"ล่าสุด\", \"ราคาเปิด\", \"สูงสุด\", \"ต่ำสุด\", \"% เปลี่ยน\"],)"
   ]
  },
  {
   "cell_type": "code",
   "execution_count": 105,
   "metadata": {
    "scrolled": true
   },
   "outputs": [
    {
     "data": {
      "text/html": [
       "<div>\n",
       "<style scoped>\n",
       "    .dataframe tbody tr th:only-of-type {\n",
       "        vertical-align: middle;\n",
       "    }\n",
       "\n",
       "    .dataframe tbody tr th {\n",
       "        vertical-align: top;\n",
       "    }\n",
       "\n",
       "    .dataframe thead th {\n",
       "        text-align: right;\n",
       "    }\n",
       "</style>\n",
       "<table border=\"1\" class=\"dataframe\">\n",
       "  <thead>\n",
       "    <tr style=\"text-align: right;\">\n",
       "      <th></th>\n",
       "      <th>ล่าสุด</th>\n",
       "      <th>ราคาเปิด</th>\n",
       "      <th>สูงสุด</th>\n",
       "      <th>ต่ำสุด</th>\n",
       "      <th>% เปลี่ยน</th>\n",
       "    </tr>\n",
       "  </thead>\n",
       "  <tbody>\n",
       "    <tr>\n",
       "      <th>0</th>\n",
       "      <td>3.5291</td>\n",
       "      <td>3.5341</td>\n",
       "      <td>3.5373</td>\n",
       "      <td>3.5203</td>\n",
       "      <td>-0.0014</td>\n",
       "    </tr>\n",
       "    <tr>\n",
       "      <th>1</th>\n",
       "      <td>3.5341</td>\n",
       "      <td>3.5387</td>\n",
       "      <td>3.5529</td>\n",
       "      <td>3.5213</td>\n",
       "      <td>-0.0014</td>\n",
       "    </tr>\n",
       "    <tr>\n",
       "      <th>2</th>\n",
       "      <td>3.5391</td>\n",
       "      <td>3.5163</td>\n",
       "      <td>3.5391</td>\n",
       "      <td>3.5163</td>\n",
       "      <td>0.0067</td>\n",
       "    </tr>\n",
       "    <tr>\n",
       "      <th>3</th>\n",
       "      <td>3.5156</td>\n",
       "      <td>3.5011</td>\n",
       "      <td>3.5173</td>\n",
       "      <td>3.4947</td>\n",
       "      <td>0.0042</td>\n",
       "    </tr>\n",
       "    <tr>\n",
       "      <th>4</th>\n",
       "      <td>3.5010</td>\n",
       "      <td>3.5066</td>\n",
       "      <td>3.5156</td>\n",
       "      <td>3.4971</td>\n",
       "      <td>-0.0017</td>\n",
       "    </tr>\n",
       "    <tr>\n",
       "      <th>5</th>\n",
       "      <td>3.5069</td>\n",
       "      <td>3.4908</td>\n",
       "      <td>3.5092</td>\n",
       "      <td>3.4792</td>\n",
       "      <td>0.0048</td>\n",
       "    </tr>\n",
       "    <tr>\n",
       "      <th>6</th>\n",
       "      <td>3.4903</td>\n",
       "      <td>3.4998</td>\n",
       "      <td>3.5051</td>\n",
       "      <td>3.4781</td>\n",
       "      <td>-0.0025</td>\n",
       "    </tr>\n",
       "    <tr>\n",
       "      <th>7</th>\n",
       "      <td>3.4989</td>\n",
       "      <td>3.4867</td>\n",
       "      <td>3.5034</td>\n",
       "      <td>3.4817</td>\n",
       "      <td>0.0041</td>\n",
       "    </tr>\n",
       "    <tr>\n",
       "      <th>8</th>\n",
       "      <td>3.4845</td>\n",
       "      <td>3.4874</td>\n",
       "      <td>3.4876</td>\n",
       "      <td>3.4819</td>\n",
       "      <td>-0.0001</td>\n",
       "    </tr>\n",
       "    <tr>\n",
       "      <th>9</th>\n",
       "      <td>3.4848</td>\n",
       "      <td>3.4781</td>\n",
       "      <td>3.5027</td>\n",
       "      <td>3.4711</td>\n",
       "      <td>0.0024</td>\n",
       "    </tr>\n",
       "    <tr>\n",
       "      <th>10</th>\n",
       "      <td>3.4766</td>\n",
       "      <td>3.4600</td>\n",
       "      <td>3.4907</td>\n",
       "      <td>3.4550</td>\n",
       "      <td>0.0047</td>\n",
       "    </tr>\n",
       "    <tr>\n",
       "      <th>11</th>\n",
       "      <td>3.4605</td>\n",
       "      <td>3.4750</td>\n",
       "      <td>3.4806</td>\n",
       "      <td>3.4552</td>\n",
       "      <td>-0.0040</td>\n",
       "    </tr>\n",
       "    <tr>\n",
       "      <th>12</th>\n",
       "      <td>3.4745</td>\n",
       "      <td>3.4613</td>\n",
       "      <td>3.4785</td>\n",
       "      <td>3.4444</td>\n",
       "      <td>0.0038</td>\n",
       "    </tr>\n",
       "    <tr>\n",
       "      <th>13</th>\n",
       "      <td>3.4615</td>\n",
       "      <td>3.4733</td>\n",
       "      <td>3.4813</td>\n",
       "      <td>3.4600</td>\n",
       "      <td>-0.0032</td>\n",
       "    </tr>\n",
       "    <tr>\n",
       "      <th>14</th>\n",
       "      <td>3.4727</td>\n",
       "      <td>3.4780</td>\n",
       "      <td>3.4780</td>\n",
       "      <td>3.4711</td>\n",
       "      <td>-0.0015</td>\n",
       "    </tr>\n",
       "    <tr>\n",
       "      <th>15</th>\n",
       "      <td>3.4779</td>\n",
       "      <td>3.4720</td>\n",
       "      <td>3.4798</td>\n",
       "      <td>3.4644</td>\n",
       "      <td>0.0013</td>\n",
       "    </tr>\n",
       "    <tr>\n",
       "      <th>16</th>\n",
       "      <td>3.4733</td>\n",
       "      <td>3.4720</td>\n",
       "      <td>3.4806</td>\n",
       "      <td>3.4632</td>\n",
       "      <td>0.0008</td>\n",
       "    </tr>\n",
       "    <tr>\n",
       "      <th>17</th>\n",
       "      <td>3.4705</td>\n",
       "      <td>3.4663</td>\n",
       "      <td>3.4727</td>\n",
       "      <td>3.4644</td>\n",
       "      <td>0.0008</td>\n",
       "    </tr>\n",
       "    <tr>\n",
       "      <th>18</th>\n",
       "      <td>3.4676</td>\n",
       "      <td>3.4599</td>\n",
       "      <td>3.4807</td>\n",
       "      <td>3.4567</td>\n",
       "      <td>0.0026</td>\n",
       "    </tr>\n",
       "    <tr>\n",
       "      <th>19</th>\n",
       "      <td>3.4586</td>\n",
       "      <td>3.4721</td>\n",
       "      <td>3.4762</td>\n",
       "      <td>3.4548</td>\n",
       "      <td>-0.0023</td>\n",
       "    </tr>\n",
       "    <tr>\n",
       "      <th>20</th>\n",
       "      <td>3.4667</td>\n",
       "      <td>3.4615</td>\n",
       "      <td>3.4765</td>\n",
       "      <td>3.4615</td>\n",
       "      <td>0.0016</td>\n",
       "    </tr>\n",
       "    <tr>\n",
       "      <th>21</th>\n",
       "      <td>3.4611</td>\n",
       "      <td>3.4638</td>\n",
       "      <td>3.4681</td>\n",
       "      <td>3.4468</td>\n",
       "      <td>-0.0008</td>\n",
       "    </tr>\n",
       "    <tr>\n",
       "      <th>22</th>\n",
       "      <td>3.4638</td>\n",
       "      <td>3.4520</td>\n",
       "      <td>3.4684</td>\n",
       "      <td>3.4428</td>\n",
       "      <td>0.0034</td>\n",
       "    </tr>\n",
       "    <tr>\n",
       "      <th>23</th>\n",
       "      <td>3.4521</td>\n",
       "      <td>3.4529</td>\n",
       "      <td>3.4601</td>\n",
       "      <td>3.4300</td>\n",
       "      <td>-0.0002</td>\n",
       "    </tr>\n",
       "    <tr>\n",
       "      <th>24</th>\n",
       "      <td>3.4529</td>\n",
       "      <td>3.4518</td>\n",
       "      <td>3.4601</td>\n",
       "      <td>3.4352</td>\n",
       "      <td>0.0003</td>\n",
       "    </tr>\n",
       "    <tr>\n",
       "      <th>25</th>\n",
       "      <td>3.4518</td>\n",
       "      <td>3.4427</td>\n",
       "      <td>3.4617</td>\n",
       "      <td>3.4229</td>\n",
       "      <td>0.0066</td>\n",
       "    </tr>\n",
       "    <tr>\n",
       "      <th>26</th>\n",
       "      <td>3.4292</td>\n",
       "      <td>3.4471</td>\n",
       "      <td>3.4471</td>\n",
       "      <td>3.4228</td>\n",
       "      <td>-0.0014</td>\n",
       "    </tr>\n",
       "    <tr>\n",
       "      <th>27</th>\n",
       "      <td>3.4341</td>\n",
       "      <td>3.4495</td>\n",
       "      <td>3.4508</td>\n",
       "      <td>3.4261</td>\n",
       "      <td>-0.0045</td>\n",
       "    </tr>\n",
       "    <tr>\n",
       "      <th>28</th>\n",
       "      <td>3.4497</td>\n",
       "      <td>3.4429</td>\n",
       "      <td>3.4581</td>\n",
       "      <td>3.4393</td>\n",
       "      <td>0.0021</td>\n",
       "    </tr>\n",
       "    <tr>\n",
       "      <th>29</th>\n",
       "      <td>3.4426</td>\n",
       "      <td>3.4332</td>\n",
       "      <td>3.4481</td>\n",
       "      <td>3.4242</td>\n",
       "      <td>0.0028</td>\n",
       "    </tr>\n",
       "    <tr>\n",
       "      <th>...</th>\n",
       "      <td>...</td>\n",
       "      <td>...</td>\n",
       "      <td>...</td>\n",
       "      <td>...</td>\n",
       "      <td>...</td>\n",
       "    </tr>\n",
       "    <tr>\n",
       "      <th>127</th>\n",
       "      <td>3.5120</td>\n",
       "      <td>3.4996</td>\n",
       "      <td>3.5183</td>\n",
       "      <td>3.4931</td>\n",
       "      <td>0.0047</td>\n",
       "    </tr>\n",
       "    <tr>\n",
       "      <th>128</th>\n",
       "      <td>3.4955</td>\n",
       "      <td>3.4982</td>\n",
       "      <td>3.5014</td>\n",
       "      <td>3.4931</td>\n",
       "      <td>-0.0004</td>\n",
       "    </tr>\n",
       "    <tr>\n",
       "      <th>129</th>\n",
       "      <td>3.4971</td>\n",
       "      <td>3.4888</td>\n",
       "      <td>3.5050</td>\n",
       "      <td>3.4671</td>\n",
       "      <td>0.0024</td>\n",
       "    </tr>\n",
       "    <tr>\n",
       "      <th>130</th>\n",
       "      <td>3.4888</td>\n",
       "      <td>3.4872</td>\n",
       "      <td>3.4923</td>\n",
       "      <td>3.4712</td>\n",
       "      <td>0.0004</td>\n",
       "    </tr>\n",
       "    <tr>\n",
       "      <th>131</th>\n",
       "      <td>3.4874</td>\n",
       "      <td>3.4790</td>\n",
       "      <td>3.5000</td>\n",
       "      <td>3.4689</td>\n",
       "      <td>0.0024</td>\n",
       "    </tr>\n",
       "    <tr>\n",
       "      <th>132</th>\n",
       "      <td>3.4790</td>\n",
       "      <td>3.4689</td>\n",
       "      <td>3.4830</td>\n",
       "      <td>3.4554</td>\n",
       "      <td>0.0031</td>\n",
       "    </tr>\n",
       "    <tr>\n",
       "      <th>133</th>\n",
       "      <td>3.4681</td>\n",
       "      <td>3.4746</td>\n",
       "      <td>3.4799</td>\n",
       "      <td>3.4601</td>\n",
       "      <td>-0.0006</td>\n",
       "    </tr>\n",
       "    <tr>\n",
       "      <th>134</th>\n",
       "      <td>3.4702</td>\n",
       "      <td>3.4754</td>\n",
       "      <td>3.4771</td>\n",
       "      <td>3.4680</td>\n",
       "      <td>-0.0013</td>\n",
       "    </tr>\n",
       "    <tr>\n",
       "      <th>135</th>\n",
       "      <td>3.4747</td>\n",
       "      <td>3.4588</td>\n",
       "      <td>3.4861</td>\n",
       "      <td>3.4503</td>\n",
       "      <td>0.0046</td>\n",
       "    </tr>\n",
       "    <tr>\n",
       "      <th>136</th>\n",
       "      <td>3.4588</td>\n",
       "      <td>3.4581</td>\n",
       "      <td>3.4644</td>\n",
       "      <td>3.4489</td>\n",
       "      <td>0.0001</td>\n",
       "    </tr>\n",
       "    <tr>\n",
       "      <th>137</th>\n",
       "      <td>3.4585</td>\n",
       "      <td>3.4415</td>\n",
       "      <td>3.4628</td>\n",
       "      <td>3.4362</td>\n",
       "      <td>0.0049</td>\n",
       "    </tr>\n",
       "    <tr>\n",
       "      <th>138</th>\n",
       "      <td>3.4417</td>\n",
       "      <td>3.4474</td>\n",
       "      <td>3.4522</td>\n",
       "      <td>3.4322</td>\n",
       "      <td>-0.0017</td>\n",
       "    </tr>\n",
       "    <tr>\n",
       "      <th>139</th>\n",
       "      <td>3.4477</td>\n",
       "      <td>3.4567</td>\n",
       "      <td>3.4596</td>\n",
       "      <td>3.4423</td>\n",
       "      <td>-0.0018</td>\n",
       "    </tr>\n",
       "    <tr>\n",
       "      <th>140</th>\n",
       "      <td>3.4538</td>\n",
       "      <td>3.4574</td>\n",
       "      <td>3.4585</td>\n",
       "      <td>3.4506</td>\n",
       "      <td>-0.0011</td>\n",
       "    </tr>\n",
       "    <tr>\n",
       "      <th>141</th>\n",
       "      <td>3.4575</td>\n",
       "      <td>3.4404</td>\n",
       "      <td>3.4611</td>\n",
       "      <td>3.4348</td>\n",
       "      <td>0.0052</td>\n",
       "    </tr>\n",
       "    <tr>\n",
       "      <th>142</th>\n",
       "      <td>3.4395</td>\n",
       "      <td>3.4392</td>\n",
       "      <td>3.4521</td>\n",
       "      <td>3.4233</td>\n",
       "      <td>0.0000</td>\n",
       "    </tr>\n",
       "    <tr>\n",
       "      <th>143</th>\n",
       "      <td>3.4394</td>\n",
       "      <td>3.4059</td>\n",
       "      <td>3.4465</td>\n",
       "      <td>3.3935</td>\n",
       "      <td>0.0098</td>\n",
       "    </tr>\n",
       "    <tr>\n",
       "      <th>144</th>\n",
       "      <td>3.4061</td>\n",
       "      <td>3.3880</td>\n",
       "      <td>3.4133</td>\n",
       "      <td>3.3824</td>\n",
       "      <td>0.0055</td>\n",
       "    </tr>\n",
       "    <tr>\n",
       "      <th>145</th>\n",
       "      <td>3.3876</td>\n",
       "      <td>3.4034</td>\n",
       "      <td>3.4034</td>\n",
       "      <td>3.3782</td>\n",
       "      <td>-0.0024</td>\n",
       "    </tr>\n",
       "    <tr>\n",
       "      <th>146</th>\n",
       "      <td>3.3956</td>\n",
       "      <td>3.4028</td>\n",
       "      <td>3.4036</td>\n",
       "      <td>3.3918</td>\n",
       "      <td>-0.0021</td>\n",
       "    </tr>\n",
       "    <tr>\n",
       "      <th>147</th>\n",
       "      <td>3.4028</td>\n",
       "      <td>3.3959</td>\n",
       "      <td>3.4028</td>\n",
       "      <td>3.3843</td>\n",
       "      <td>0.0021</td>\n",
       "    </tr>\n",
       "    <tr>\n",
       "      <th>148</th>\n",
       "      <td>3.3957</td>\n",
       "      <td>3.3854</td>\n",
       "      <td>3.4013</td>\n",
       "      <td>3.3723</td>\n",
       "      <td>0.0030</td>\n",
       "    </tr>\n",
       "    <tr>\n",
       "      <th>149</th>\n",
       "      <td>3.3855</td>\n",
       "      <td>3.3941</td>\n",
       "      <td>3.4082</td>\n",
       "      <td>3.3767</td>\n",
       "      <td>-0.0025</td>\n",
       "    </tr>\n",
       "    <tr>\n",
       "      <th>150</th>\n",
       "      <td>3.3941</td>\n",
       "      <td>3.4030</td>\n",
       "      <td>3.4061</td>\n",
       "      <td>3.3830</td>\n",
       "      <td>-0.0025</td>\n",
       "    </tr>\n",
       "    <tr>\n",
       "      <th>151</th>\n",
       "      <td>3.4026</td>\n",
       "      <td>3.3963</td>\n",
       "      <td>3.4061</td>\n",
       "      <td>3.3775</td>\n",
       "      <td>0.0008</td>\n",
       "    </tr>\n",
       "    <tr>\n",
       "      <th>152</th>\n",
       "      <td>3.3997</td>\n",
       "      <td>3.3937</td>\n",
       "      <td>3.4039</td>\n",
       "      <td>3.3896</td>\n",
       "      <td>0.0021</td>\n",
       "    </tr>\n",
       "    <tr>\n",
       "      <th>153</th>\n",
       "      <td>3.3927</td>\n",
       "      <td>3.3418</td>\n",
       "      <td>3.3979</td>\n",
       "      <td>3.3382</td>\n",
       "      <td>0.0153</td>\n",
       "    </tr>\n",
       "    <tr>\n",
       "      <th>154</th>\n",
       "      <td>3.3416</td>\n",
       "      <td>3.3742</td>\n",
       "      <td>3.3762</td>\n",
       "      <td>3.2530</td>\n",
       "      <td>-0.0096</td>\n",
       "    </tr>\n",
       "    <tr>\n",
       "      <th>155</th>\n",
       "      <td>3.3740</td>\n",
       "      <td>3.4234</td>\n",
       "      <td>3.4236</td>\n",
       "      <td>3.3670</td>\n",
       "      <td>-0.0144</td>\n",
       "    </tr>\n",
       "    <tr>\n",
       "      <th>156</th>\n",
       "      <td>3.4234</td>\n",
       "      <td>3.3892</td>\n",
       "      <td>3.4278</td>\n",
       "      <td>3.3874</td>\n",
       "      <td>0.0104</td>\n",
       "    </tr>\n",
       "  </tbody>\n",
       "</table>\n",
       "<p>157 rows × 5 columns</p>\n",
       "</div>"
      ],
      "text/plain": [
       "     ล่าสุด  ราคาเปิด  สูงสุด  ต่ำสุด  % เปลี่ยน\n",
       "0    3.5291    3.5341  3.5373  3.5203    -0.0014\n",
       "1    3.5341    3.5387  3.5529  3.5213    -0.0014\n",
       "2    3.5391    3.5163  3.5391  3.5163     0.0067\n",
       "3    3.5156    3.5011  3.5173  3.4947     0.0042\n",
       "4    3.5010    3.5066  3.5156  3.4971    -0.0017\n",
       "5    3.5069    3.4908  3.5092  3.4792     0.0048\n",
       "6    3.4903    3.4998  3.5051  3.4781    -0.0025\n",
       "7    3.4989    3.4867  3.5034  3.4817     0.0041\n",
       "8    3.4845    3.4874  3.4876  3.4819    -0.0001\n",
       "9    3.4848    3.4781  3.5027  3.4711     0.0024\n",
       "10   3.4766    3.4600  3.4907  3.4550     0.0047\n",
       "11   3.4605    3.4750  3.4806  3.4552    -0.0040\n",
       "12   3.4745    3.4613  3.4785  3.4444     0.0038\n",
       "13   3.4615    3.4733  3.4813  3.4600    -0.0032\n",
       "14   3.4727    3.4780  3.4780  3.4711    -0.0015\n",
       "15   3.4779    3.4720  3.4798  3.4644     0.0013\n",
       "16   3.4733    3.4720  3.4806  3.4632     0.0008\n",
       "17   3.4705    3.4663  3.4727  3.4644     0.0008\n",
       "18   3.4676    3.4599  3.4807  3.4567     0.0026\n",
       "19   3.4586    3.4721  3.4762  3.4548    -0.0023\n",
       "20   3.4667    3.4615  3.4765  3.4615     0.0016\n",
       "21   3.4611    3.4638  3.4681  3.4468    -0.0008\n",
       "22   3.4638    3.4520  3.4684  3.4428     0.0034\n",
       "23   3.4521    3.4529  3.4601  3.4300    -0.0002\n",
       "24   3.4529    3.4518  3.4601  3.4352     0.0003\n",
       "25   3.4518    3.4427  3.4617  3.4229     0.0066\n",
       "26   3.4292    3.4471  3.4471  3.4228    -0.0014\n",
       "27   3.4341    3.4495  3.4508  3.4261    -0.0045\n",
       "28   3.4497    3.4429  3.4581  3.4393     0.0021\n",
       "29   3.4426    3.4332  3.4481  3.4242     0.0028\n",
       "..      ...       ...     ...     ...        ...\n",
       "127  3.5120    3.4996  3.5183  3.4931     0.0047\n",
       "128  3.4955    3.4982  3.5014  3.4931    -0.0004\n",
       "129  3.4971    3.4888  3.5050  3.4671     0.0024\n",
       "130  3.4888    3.4872  3.4923  3.4712     0.0004\n",
       "131  3.4874    3.4790  3.5000  3.4689     0.0024\n",
       "132  3.4790    3.4689  3.4830  3.4554     0.0031\n",
       "133  3.4681    3.4746  3.4799  3.4601    -0.0006\n",
       "134  3.4702    3.4754  3.4771  3.4680    -0.0013\n",
       "135  3.4747    3.4588  3.4861  3.4503     0.0046\n",
       "136  3.4588    3.4581  3.4644  3.4489     0.0001\n",
       "137  3.4585    3.4415  3.4628  3.4362     0.0049\n",
       "138  3.4417    3.4474  3.4522  3.4322    -0.0017\n",
       "139  3.4477    3.4567  3.4596  3.4423    -0.0018\n",
       "140  3.4538    3.4574  3.4585  3.4506    -0.0011\n",
       "141  3.4575    3.4404  3.4611  3.4348     0.0052\n",
       "142  3.4395    3.4392  3.4521  3.4233     0.0000\n",
       "143  3.4394    3.4059  3.4465  3.3935     0.0098\n",
       "144  3.4061    3.3880  3.4133  3.3824     0.0055\n",
       "145  3.3876    3.4034  3.4034  3.3782    -0.0024\n",
       "146  3.3956    3.4028  3.4036  3.3918    -0.0021\n",
       "147  3.4028    3.3959  3.4028  3.3843     0.0021\n",
       "148  3.3957    3.3854  3.4013  3.3723     0.0030\n",
       "149  3.3855    3.3941  3.4082  3.3767    -0.0025\n",
       "150  3.3941    3.4030  3.4061  3.3830    -0.0025\n",
       "151  3.4026    3.3963  3.4061  3.3775     0.0008\n",
       "152  3.3997    3.3937  3.4039  3.3896     0.0021\n",
       "153  3.3927    3.3418  3.3979  3.3382     0.0153\n",
       "154  3.3416    3.3742  3.3762  3.2530    -0.0096\n",
       "155  3.3740    3.4234  3.4236  3.3670    -0.0144\n",
       "156  3.4234    3.3892  3.4278  3.3874     0.0104\n",
       "\n",
       "[157 rows x 5 columns]"
      ]
     },
     "execution_count": 105,
     "metadata": {},
     "output_type": "execute_result"
    }
   ],
   "source": [
    "Data #Target Close ราคาปิดในวันที่เราสนใจ"
   ]
  },
  {
   "cell_type": "code",
   "execution_count": 106,
   "metadata": {},
   "outputs": [],
   "source": [
    "DataMatrix = Data.values"
   ]
  },
  {
   "cell_type": "code",
   "execution_count": 107,
   "metadata": {
    "scrolled": true
   },
   "outputs": [
    {
     "data": {
      "text/plain": [
       "(157, 5)"
      ]
     },
     "execution_count": 107,
     "metadata": {},
     "output_type": "execute_result"
    }
   ],
   "source": [
    "DataMatrix.shape"
   ]
  },
  {
   "cell_type": "code",
   "execution_count": 108,
   "metadata": {},
   "outputs": [
    {
     "data": {
      "text/plain": [
       "4"
      ]
     },
     "execution_count": 108,
     "metadata": {},
     "output_type": "execute_result"
    }
   ],
   "source": [
    "D = DataMatrix.shape[1] - 1 #.shape[1] colunm (-1 ตัด Target Close)\n",
    "D"
   ]
  },
  {
   "cell_type": "code",
   "execution_count": 109,
   "metadata": {},
   "outputs": [
    {
     "data": {
      "text/plain": [
       "array([[3.5291],\n",
       "       [3.5341],\n",
       "       [3.5391],\n",
       "       [3.5156],\n",
       "       [3.501 ],\n",
       "       [3.5069],\n",
       "       [3.4903],\n",
       "       [3.4989],\n",
       "       [3.4845],\n",
       "       [3.4848],\n",
       "       [3.4766],\n",
       "       [3.4605],\n",
       "       [3.4745],\n",
       "       [3.4615],\n",
       "       [3.4727],\n",
       "       [3.4779],\n",
       "       [3.4733],\n",
       "       [3.4705],\n",
       "       [3.4676],\n",
       "       [3.4586],\n",
       "       [3.4667],\n",
       "       [3.4611],\n",
       "       [3.4638],\n",
       "       [3.4521],\n",
       "       [3.4529],\n",
       "       [3.4518],\n",
       "       [3.4292],\n",
       "       [3.4341],\n",
       "       [3.4497],\n",
       "       [3.4426],\n",
       "       [3.4329],\n",
       "       [3.4396],\n",
       "       [3.4393],\n",
       "       [3.4329],\n",
       "       [3.4339],\n",
       "       [3.4562],\n",
       "       [3.4587],\n",
       "       [3.4535],\n",
       "       [3.4654],\n",
       "       [3.4562],\n",
       "       [3.4676],\n",
       "       [3.4748],\n",
       "       [3.4762],\n",
       "       [3.4552],\n",
       "       [3.4704],\n",
       "       [3.4859],\n",
       "       [3.4535],\n",
       "       [3.4613],\n",
       "       [3.4546],\n",
       "       [3.4726],\n",
       "       [3.4514],\n",
       "       [3.4819],\n",
       "       [3.4848],\n",
       "       [3.4851],\n",
       "       [3.4933],\n",
       "       [3.4977],\n",
       "       [3.4945],\n",
       "       [3.4939],\n",
       "       [3.4815],\n",
       "       [3.5004],\n",
       "       [3.4968],\n",
       "       [3.5078],\n",
       "       [3.5171],\n",
       "       [3.5156],\n",
       "       [3.5201],\n",
       "       [3.5252],\n",
       "       [3.5177],\n",
       "       [3.5242],\n",
       "       [3.5275],\n",
       "       [3.5284],\n",
       "       [3.5038],\n",
       "       [3.4987],\n",
       "       [3.4996],\n",
       "       [3.4971],\n",
       "       [3.4987],\n",
       "       [3.5038],\n",
       "       [3.5115],\n",
       "       [3.5114],\n",
       "       [3.5041],\n",
       "       [3.5139],\n",
       "       [3.4967],\n",
       "       [3.4937],\n",
       "       [3.4703],\n",
       "       [3.4634],\n",
       "       [3.4978],\n",
       "       [3.4854],\n",
       "       [3.4741],\n",
       "       [3.4622],\n",
       "       [3.4924],\n",
       "       [3.497 ],\n",
       "       [3.517 ],\n",
       "       [3.515 ],\n",
       "       [3.5219],\n",
       "       [3.5185],\n",
       "       [3.5164],\n",
       "       [3.5179],\n",
       "       [3.5187],\n",
       "       [3.5117],\n",
       "       [3.4987],\n",
       "       [3.5023],\n",
       "       [3.5027],\n",
       "       [3.5091],\n",
       "       [3.5242],\n",
       "       [3.5079],\n",
       "       [3.5245],\n",
       "       [3.5166],\n",
       "       [3.5271],\n",
       "       [3.5304],\n",
       "       [3.5342],\n",
       "       [3.5507],\n",
       "       [3.5391],\n",
       "       [3.5343],\n",
       "       [3.5473],\n",
       "       [3.565 ],\n",
       "       [3.5537],\n",
       "       [3.5444],\n",
       "       [3.5373],\n",
       "       [3.5323],\n",
       "       [3.5263],\n",
       "       [3.5347],\n",
       "       [3.5299],\n",
       "       [3.5095],\n",
       "       [3.5057],\n",
       "       [3.4848],\n",
       "       [3.5152],\n",
       "       [3.5179],\n",
       "       [3.5189],\n",
       "       [3.512 ],\n",
       "       [3.4955],\n",
       "       [3.4971],\n",
       "       [3.4888],\n",
       "       [3.4874],\n",
       "       [3.479 ],\n",
       "       [3.4681],\n",
       "       [3.4702],\n",
       "       [3.4747],\n",
       "       [3.4588],\n",
       "       [3.4585],\n",
       "       [3.4417],\n",
       "       [3.4477],\n",
       "       [3.4538],\n",
       "       [3.4575],\n",
       "       [3.4395],\n",
       "       [3.4394],\n",
       "       [3.4061],\n",
       "       [3.3876],\n",
       "       [3.3956],\n",
       "       [3.4028],\n",
       "       [3.3957],\n",
       "       [3.3855],\n",
       "       [3.3941],\n",
       "       [3.4026],\n",
       "       [3.3997],\n",
       "       [3.3927],\n",
       "       [3.3416],\n",
       "       [3.374 ],\n",
       "       [3.4234]])"
      ]
     },
     "execution_count": 109,
     "metadata": {},
     "output_type": "execute_result"
    }
   ],
   "source": [
    "#A0 = DataMatrix[:, :D]\n",
    "A0 = DataMatrix[:, :1]\n",
    "A0 "
   ]
  },
  {
   "cell_type": "code",
   "execution_count": 110,
   "metadata": {},
   "outputs": [],
   "source": [
    "T = DataMatrix[:, D:]"
   ]
  },
  {
   "cell_type": "code",
   "execution_count": 111,
   "metadata": {},
   "outputs": [
    {
     "data": {
      "text/plain": [
       "(157, 1)"
      ]
     },
     "execution_count": 111,
     "metadata": {},
     "output_type": "execute_result"
    }
   ],
   "source": [
    "A0.shape"
   ]
  },
  {
   "cell_type": "code",
   "execution_count": 112,
   "metadata": {},
   "outputs": [
    {
     "data": {
      "text/plain": [
       "array([[-0.0014],\n",
       "       [-0.0014],\n",
       "       [ 0.0067],\n",
       "       [ 0.0042],\n",
       "       [-0.0017],\n",
       "       [ 0.0048],\n",
       "       [-0.0025],\n",
       "       [ 0.0041],\n",
       "       [-0.0001],\n",
       "       [ 0.0024],\n",
       "       [ 0.0047],\n",
       "       [-0.004 ],\n",
       "       [ 0.0038],\n",
       "       [-0.0032],\n",
       "       [-0.0015],\n",
       "       [ 0.0013],\n",
       "       [ 0.0008],\n",
       "       [ 0.0008],\n",
       "       [ 0.0026],\n",
       "       [-0.0023],\n",
       "       [ 0.0016],\n",
       "       [-0.0008],\n",
       "       [ 0.0034],\n",
       "       [-0.0002],\n",
       "       [ 0.0003],\n",
       "       [ 0.0066],\n",
       "       [-0.0014],\n",
       "       [-0.0045],\n",
       "       [ 0.0021],\n",
       "       [ 0.0028],\n",
       "       [-0.0019],\n",
       "       [ 0.0001],\n",
       "       [ 0.0019],\n",
       "       [-0.0003],\n",
       "       [-0.0065],\n",
       "       [-0.0007],\n",
       "       [ 0.0015],\n",
       "       [-0.0034],\n",
       "       [ 0.0027],\n",
       "       [-0.0033],\n",
       "       [-0.0021],\n",
       "       [-0.0004],\n",
       "       [ 0.0061],\n",
       "       [-0.0044],\n",
       "       [-0.0045],\n",
       "       [ 0.0094],\n",
       "       [-0.0023],\n",
       "       [ 0.0019],\n",
       "       [-0.0052],\n",
       "       [ 0.0061],\n",
       "       [-0.0088],\n",
       "       [-0.0008],\n",
       "       [-0.0001],\n",
       "       [-0.0023],\n",
       "       [-0.0013],\n",
       "       [ 0.0009],\n",
       "       [ 0.0002],\n",
       "       [ 0.0036],\n",
       "       [-0.0054],\n",
       "       [ 0.001 ],\n",
       "       [-0.0031],\n",
       "       [-0.0027],\n",
       "       [ 0.0004],\n",
       "       [-0.0013],\n",
       "       [-0.0014],\n",
       "       [ 0.0021],\n",
       "       [-0.0018],\n",
       "       [-0.0009],\n",
       "       [-0.0002],\n",
       "       [ 0.007 ],\n",
       "       [ 0.0015],\n",
       "       [-0.0003],\n",
       "       [ 0.0007],\n",
       "       [-0.0005],\n",
       "       [-0.0014],\n",
       "       [-0.0022],\n",
       "       [ 0.    ],\n",
       "       [ 0.0021],\n",
       "       [-0.0028],\n",
       "       [ 0.0049],\n",
       "       [ 0.0009],\n",
       "       [ 0.0067],\n",
       "       [ 0.002 ],\n",
       "       [-0.0098],\n",
       "       [ 0.0036],\n",
       "       [ 0.0032],\n",
       "       [ 0.0035],\n",
       "       [-0.0086],\n",
       "       [-0.0013],\n",
       "       [-0.0057],\n",
       "       [ 0.0006],\n",
       "       [-0.0019],\n",
       "       [ 0.001 ],\n",
       "       [ 0.0006],\n",
       "       [-0.0004],\n",
       "       [-0.0002],\n",
       "       [ 0.002 ],\n",
       "       [ 0.0037],\n",
       "       [-0.001 ],\n",
       "       [-0.0001],\n",
       "       [-0.0018],\n",
       "       [-0.0043],\n",
       "       [ 0.0046],\n",
       "       [-0.0047],\n",
       "       [ 0.0023],\n",
       "       [-0.003 ],\n",
       "       [-0.0009],\n",
       "       [-0.0011],\n",
       "       [-0.0046],\n",
       "       [ 0.0033],\n",
       "       [ 0.0014],\n",
       "       [-0.0037],\n",
       "       [-0.005 ],\n",
       "       [ 0.0032],\n",
       "       [ 0.0026],\n",
       "       [ 0.002 ],\n",
       "       [ 0.0014],\n",
       "       [ 0.0017],\n",
       "       [-0.0024],\n",
       "       [ 0.0014],\n",
       "       [ 0.0058],\n",
       "       [ 0.0011],\n",
       "       [ 0.006 ],\n",
       "       [-0.0086],\n",
       "       [-0.0008],\n",
       "       [-0.0003],\n",
       "       [ 0.002 ],\n",
       "       [ 0.0047],\n",
       "       [-0.0004],\n",
       "       [ 0.0024],\n",
       "       [ 0.0004],\n",
       "       [ 0.0024],\n",
       "       [ 0.0031],\n",
       "       [-0.0006],\n",
       "       [-0.0013],\n",
       "       [ 0.0046],\n",
       "       [ 0.0001],\n",
       "       [ 0.0049],\n",
       "       [-0.0017],\n",
       "       [-0.0018],\n",
       "       [-0.0011],\n",
       "       [ 0.0052],\n",
       "       [ 0.    ],\n",
       "       [ 0.0098],\n",
       "       [ 0.0055],\n",
       "       [-0.0024],\n",
       "       [-0.0021],\n",
       "       [ 0.0021],\n",
       "       [ 0.003 ],\n",
       "       [-0.0025],\n",
       "       [-0.0025],\n",
       "       [ 0.0008],\n",
       "       [ 0.0021],\n",
       "       [ 0.0153],\n",
       "       [-0.0096],\n",
       "       [-0.0144],\n",
       "       [ 0.0104]])"
      ]
     },
     "execution_count": 112,
     "metadata": {},
     "output_type": "execute_result"
    }
   ],
   "source": [
    "T"
   ]
  },
  {
   "cell_type": "code",
   "execution_count": 113,
   "metadata": {},
   "outputs": [],
   "source": [
    "A0_Train = A0[:-56, :]\n",
    "T_Train = T[:-56, :]"
   ]
  },
  {
   "cell_type": "code",
   "execution_count": 114,
   "metadata": {},
   "outputs": [],
   "source": [
    "A0_Test = A0[-56:, :]\n",
    "T_Test = T[-56:, :]"
   ]
  },
  {
   "cell_type": "markdown",
   "metadata": {},
   "source": [
    "# 5. Create Model"
   ]
  },
  {
   "cell_type": "code",
   "execution_count": 116,
   "metadata": {},
   "outputs": [],
   "source": [
    "min_A0_Train = min4norm(A0_Train)\n",
    "max_A0_Train = max4norm(A0_Train)\n",
    "mean_A0_Train = mean4norm(A0_Train)\n",
    "std_A0_Train = std4norm(A0_Train)\n",
    "ed_A0_Train = ed4norm(A0_Train)\n",
    "\n",
    "min_T_Train = min4norm(T_Train)\n",
    "max_T_Train = max4norm(T_Train)\n",
    "mean_T_Train = mean4norm(T_Train)\n",
    "std_T_Train = std4norm(T_Train)\n",
    "ed_T_Train = ed4norm(T_Train)"
   ]
  },
  {
   "cell_type": "code",
   "execution_count": 117,
   "metadata": {},
   "outputs": [],
   "source": [
    "A0_Train_Norm = minmaxNorm(A0_Train, min_A0_Train, max_A0_Train)\n",
    "# A0_Train_Norm = meanNorm(A0_Train, min_A0_Train, max_A0_Train, mean_A0_Train)\n",
    "# A0_Train_Norm = standardization(A0_Train, mean_A0_Train, std_A0_Train)\n",
    "# A0_Train_Norm = SUL(A0_Train, ed_A0_Train)\n",
    "\n",
    "T_Train_Norm = minmaxNorm(T_Train, min_T_Train, max_T_Train)\n",
    "# T_Train_Norm = meanNorm(T_Train, min_T_Train, max_T_Train, mean_T_Train)\n",
    "# T_Train_Norm = standardization(T_Train, mean_T_Train, std_T_Train)\n",
    "# T_Train_Norm = SUL(T_Train, ed_T_Train)"
   ]
  },
  {
   "cell_type": "code",
   "execution_count": 118,
   "metadata": {},
   "outputs": [],
   "source": [
    "HL = [15, 15, 1]"
   ]
  },
  {
   "cell_type": "code",
   "execution_count": 119,
   "metadata": {},
   "outputs": [],
   "source": [
    "AF = [['PReLU', 0.5], ['PReLU', 0.5], ['PReLU', 0.5]]"
   ]
  },
  {
   "cell_type": "code",
   "execution_count": 120,
   "metadata": {},
   "outputs": [],
   "source": [
    "W, B, error_list = NNR_find_WB(A0_Train_Norm, T_Train_Norm, HL, AF, epoch = 40000, lr = 0.02)"
   ]
  },
  {
   "cell_type": "code",
   "execution_count": 121,
   "metadata": {},
   "outputs": [
    {
     "data": {
      "text/plain": [
       "[<matplotlib.lines.Line2D at 0x246ecb9cd30>]"
      ]
     },
     "execution_count": 121,
     "metadata": {},
     "output_type": "execute_result"
    },
    {
     "data": {
      "image/png": "[encoded data removed]",
      "text/plain": [
       "<Figure size 432x288 with 1 Axes>"
      ]
     },
     "metadata": {
      "needs_background": "light"
     },
     "output_type": "display_data"
    }
   ],
   "source": [
    "plt.plot(error_list)"
   ]
  },
  {
   "cell_type": "code",
   "execution_count": 122,
   "metadata": {},
   "outputs": [],
   "source": [
    "Z_Train_Norm, A_Train_Norm = NN_forward(A0_Train_Norm, W, B, AF)"
   ]
  },
  {
   "cell_type": "code",
   "execution_count": 123,
   "metadata": {},
   "outputs": [],
   "source": [
    "That_Train = de_minmaxNorm(A_Train_Norm[-1], min_T_Train, max_T_Train)\n",
    "# That_Train = de_meanNorm(A_Train_Norm[-1], min_T_Train, max_T_Train, mean_T_Train)\n",
    "# That_Train = de_standardization(A_Train_Norm[-1], mean_T_Train, std_T_Train)\n",
    "# That_Train = de_SUL(A_Train_Norm[-1], ed_T_Train)"
   ]
  },
  {
   "cell_type": "code",
   "execution_count": 124,
   "metadata": {},
   "outputs": [
    {
     "name": "stderr",
     "output_type": "stream",
     "text": [
      "C:\\Users\\Diode\\Anaconda3\\envs\\Ai_101_py3-7\\lib\\site-packages\\ipykernel_launcher.py:3: RuntimeWarning: divide by zero encountered in true_divide\n",
      "  This is separate from the ipykernel package so we can avoid doing imports until\n"
     ]
    }
   ],
   "source": [
    "error_Train = find_error(T_Train, That_Train, 'MAPE')"
   ]
  },
  {
   "cell_type": "code",
   "execution_count": 125,
   "metadata": {},
   "outputs": [
    {
     "data": {
      "text/plain": [
       "inf"
      ]
     },
     "execution_count": 125,
     "metadata": {},
     "output_type": "execute_result"
    }
   ],
   "source": [
    "error_Train"
   ]
  },
  {
   "cell_type": "code",
   "execution_count": 126,
   "metadata": {},
   "outputs": [
    {
     "data": {
      "text/plain": [
       "<matplotlib.legend.Legend at 0x246ecfef358>"
      ]
     },
     "execution_count": 126,
     "metadata": {},
     "output_type": "execute_result"
    },
    {
     "data": {
      "image/png": "[encoded data removed]",
      "text/plain": [
       "<Figure size 648x324 with 1 Axes>"
      ]
     },
     "metadata": {
      "needs_background": "light"
     },
     "output_type": "display_data"
    }
   ],
   "source": [
    "fig = plt.figure(figsize = (9, 4.5))\n",
    "plt.plot(T_Train, label = 'Real Train')\n",
    "plt.plot(That_Train, label = 'Predicted Train')\n",
    "plt.legend()"
   ]
  },
  {
   "cell_type": "code",
   "execution_count": 127,
   "metadata": {},
   "outputs": [
    {
     "data": {
      "text/plain": [
       "<matplotlib.collections.PathCollection at 0x246ed065630>"
      ]
     },
     "execution_count": 127,
     "metadata": {},
     "output_type": "execute_result"
    },
    {
     "data": {
      "image/png": "[encoded data removed]",
      "text/plain": [
       "<Figure size 432x288 with 1 Axes>"
      ]
     },
     "metadata": {
      "needs_background": "light"
     },
     "output_type": "display_data"
    }
   ],
   "source": [
    "plt.scatter(That_Train, T_Train)"
   ]
  },
  {
   "cell_type": "markdown",
   "metadata": {},
   "source": [
    "# 6. Make Prediction"
   ]
  },
  {
   "cell_type": "code",
   "execution_count": 128,
   "metadata": {},
   "outputs": [],
   "source": [
    "A0_Test_Norm = minmaxNorm(A0_Test, min_A0_Train, max_A0_Train)\n",
    "# A0_Test_Norm = meanNorm(A0_Test, min_A0_Train, max_A0_Train, mean_A0_Train)\n",
    "# A0_Test_Norm = standardization(A0_Test, mean_A0_Train, std_A0_Train)\n",
    "# A0_Test_Norm = SUL(A0_Test, ed_A0_Train)\n",
    "\n",
    "T_Test_Norm = minmaxNorm(T_Test, min_T_Train, max_T_Train)\n",
    "# T_Test_Norm = meanNorm(T_Test, min_T_Train, max_T_Train, mean_T_Train)\n",
    "# T_Test_Norm = standardization(T_Test, mean_T_Train, std_T_Train)\n",
    "# T_Test_Norm = SUL(T_Test, ed_T_Train)"
   ]
  },
  {
   "cell_type": "code",
   "execution_count": 129,
   "metadata": {},
   "outputs": [],
   "source": [
    "Z_Test_Norm, A_Test_Norm = NN_forward(A0_Test_Norm, W, B, AF)"
   ]
  },
  {
   "cell_type": "code",
   "execution_count": 130,
   "metadata": {},
   "outputs": [],
   "source": [
    "That_Test = de_minmaxNorm(A_Test_Norm[-1], min_T_Train, max_T_Train)\n",
    "# That_Test = de_meanNorm(A_Test_Norm[-1], min_T_Train, max_T_Train, mean_T_Train)\n",
    "# That_Test = de_standardization(A_Test_Norm[-1], mean_T_Train, std_T_Train)\n",
    "# That_Test = de_SUL(A_Test_Norm[-1], ed_T_Train)"
   ]
  },
  {
   "cell_type": "code",
   "execution_count": 131,
   "metadata": {},
   "outputs": [
    {
     "name": "stderr",
     "output_type": "stream",
     "text": [
      "C:\\Users\\Diode\\Anaconda3\\envs\\Ai_101_py3-7\\lib\\site-packages\\ipykernel_launcher.py:3: RuntimeWarning: divide by zero encountered in true_divide\n",
      "  This is separate from the ipykernel package so we can avoid doing imports until\n"
     ]
    }
   ],
   "source": [
    "error_Test = find_error(T_Test, That_Test, 'MAPE')"
   ]
  },
  {
   "cell_type": "code",
   "execution_count": 132,
   "metadata": {},
   "outputs": [
    {
     "data": {
      "text/plain": [
       "inf"
      ]
     },
     "execution_count": 132,
     "metadata": {},
     "output_type": "execute_result"
    }
   ],
   "source": [
    "error_Test"
   ]
  },
  {
   "cell_type": "code",
   "execution_count": 133,
   "metadata": {},
   "outputs": [
    {
     "data": {
      "text/plain": [
       "<matplotlib.legend.Legend at 0x246ee085d30>"
      ]
     },
     "execution_count": 133,
     "metadata": {},
     "output_type": "execute_result"
    },
    {
     "data": {
      "image/png": "[encoded data removed]",
      "text/plain": [
       "<Figure size 648x324 with 1 Axes>"
      ]
     },
     "metadata": {
      "needs_background": "light"
     },
     "output_type": "display_data"
    }
   ],
   "source": [
    "fig = plt.figure(figsize = (9, 4.5))\n",
    "plt.plot(T_Test, label = 'Real Test')\n",
    "plt.plot(That_Test, label = 'Predicted Test')\n",
    "plt.legend()"
   ]
  },
  {
   "cell_type": "code",
   "execution_count": 134,
   "metadata": {},
   "outputs": [
    {
     "data": {
      "text/plain": [
       "<matplotlib.collections.PathCollection at 0x246ee0e6710>"
      ]
     },
     "execution_count": 134,
     "metadata": {},
     "output_type": "execute_result"
    },
    {
     "data": {
      "image/png": "[encoded data removed]",
      "text/plain": [
       "<Figure size 432x288 with 1 Axes>"
      ]
     },
     "metadata": {
      "needs_background": "light"
     },
     "output_type": "display_data"
    }
   ],
   "source": [
    "plt.scatter(That_Test, T_Test)"
   ]
  },
  {
   "cell_type": "markdown",
   "metadata": {},
   "source": [
    "# 7. Zoom Result"
   ]
  },
  {
   "cell_type": "code",
   "execution_count": 135,
   "metadata": {},
   "outputs": [
    {
     "data": {
      "image/png": "[encoded data removed]",
      "text/plain": [
       "<Figure size 1296x2304 with 15 Axes>"
      ]
     },
     "metadata": {
      "needs_background": "light"
     },
     "output_type": "display_data"
    }
   ],
   "source": [
    "fig = plt.figure(figsize=(18, 32))\n",
    "\n",
    "for i in range(15):\n",
    "    plt.subplot(8, 2, i + 1)\n",
    "    plt.plot(T_Test[10*i: 10*i + 10], label = 'Real High ' + str(i*10 + 1) + '-'  + str(i*10 + 10))\n",
    "    plt.plot(That_Test[10*i: 10*i + 10], '*', label = 'Predicted High ' + str(i*10 + 1) + '-'  + str(i*10 + 10))\n",
    "    plt.legend()"
   ]
  },
  {
   "cell_type": "code",
   "execution_count": null,
   "metadata": {},
   "outputs": [],
   "source": []
  }
 ],
 "metadata": {
  "kernelspec": {
   "display_name": "Python 3",
   "language": "python",
   "name": "python3"
  },
  "language_info": {
   "codemirror_mode": {
    "name": "ipython",
    "version": 3
   },
   "file_extension": ".py",
   "mimetype": "text/x-python",
   "name": "python",
   "nbconvert_exporter": "python",
   "pygments_lexer": "ipython3",
   "version": "3.6.10"
  }
 },
 "nbformat": 4,
 "nbformat_minor": 2
}
