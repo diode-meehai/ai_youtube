{
 "cells": [
  {
   "cell_type": "markdown",
   "metadata": {},
   "source": [
    "# 1. Import Library"
   ]
  },
  {
   "cell_type": "code",
   "execution_count": 1,
   "metadata": {},
   "outputs": [],
   "source": [
    "import numpy as np\n",
    "import pandas as pd\n",
    "import matplotlib.pyplot as plt\n",
    "%matplotlib inline\n",
    "\n",
    "import operator\n",
    "\n",
    "import imageio\n",
    "import glob\n",
    "import random\n",
    "import time"
   ]
  },
  {
   "cell_type": "markdown",
   "metadata": {},
   "source": [
    "# 2. Write Function"
   ]
  },
  {
   "cell_type": "markdown",
   "metadata": {},
   "source": [
    "## 2.1 Linear Regression"
   ]
  },
  {
   "cell_type": "code",
   "execution_count": 2,
   "metadata": {},
   "outputs": [],
   "source": [
    "def LR_find_r(X, Y):\n",
    "    Xmean = X.mean()\n",
    "    Ymean = Y.mean()\n",
    "    fraction = ((X - Xmean)*(Y - Ymean)).sum()\n",
    "    denorminator = np.sqrt(((X - Xmean)**2).sum()*((Y - Ymean)**2).sum())\n",
    "    r = fraction/denorminator\n",
    "    return r"
   ]
  },
  {
   "cell_type": "code",
   "execution_count": 3,
   "metadata": {},
   "outputs": [],
   "source": [
    "def LR_find_ab(X, Y):\n",
    "    XY = X*Y\n",
    "    X2 = X**2\n",
    "    Xmean = X.mean()\n",
    "    Ymean = Y.mean()\n",
    "    XYmean = XY.mean()\n",
    "    X2mean = X2.mean()\n",
    "    denorminator = X2mean - Xmean**2\n",
    "    a = (XYmean - Xmean*Ymean)/denorminator\n",
    "    b = (X2mean*Ymean - Xmean*XYmean)/denorminator\n",
    "    return a, b"
   ]
  },
  {
   "cell_type": "code",
   "execution_count": 4,
   "metadata": {},
   "outputs": [],
   "source": [
    "def LR_find_Yhat(X, a, b):\n",
    "    Yhat = a*X + b\n",
    "    return Yhat"
   ]
  },
  {
   "cell_type": "markdown",
   "metadata": {},
   "source": [
    "## 2.2 Multiple Regression"
   ]
  },
  {
   "cell_type": "code",
   "execution_count": 5,
   "metadata": {},
   "outputs": [],
   "source": [
    "def MR_create_Xb(X):\n",
    "    N = X.shape[0]\n",
    "    ones = np.ones([N, 1])\n",
    "    Xb = np.hstack([ones, X])\n",
    "    return Xb"
   ]
  },
  {
   "cell_type": "code",
   "execution_count": 6,
   "metadata": {},
   "outputs": [],
   "source": [
    "def MR_find_W(X, Y):\n",
    "    Xb = MR_create_Xb(X)\n",
    "    front = inv(np.dot(Xb.T, Xb))\n",
    "    back = np.dot(X.T, Y)\n",
    "    W = np.dot(front, back)\n",
    "    return W"
   ]
  },
  {
   "cell_type": "code",
   "execution_count": 7,
   "metadata": {},
   "outputs": [],
   "source": [
    "def MR_find_Yhat(X, W):\n",
    "    Xb = MR_create_Xb(X)\n",
    "    Yhat = np.dot(Xb, W)\n",
    "    return Yhat"
   ]
  },
  {
   "cell_type": "code",
   "execution_count": 8,
   "metadata": {},
   "outputs": [],
   "source": [
    "def MR_find_W_local(X, Y, epoch = 1000, lr = 0.01, batch_size = 64, lambda1 = 0, lambda2 = 0):\n",
    "    Xb = MR_create_Xb(X)\n",
    "    N = Xb.shape[0]\n",
    "    D_1 = Xb.shape[1]\n",
    "    W = np.random.randn(D_1, 1)/np.sqrt(D_1)\n",
    "    error_list = []\n",
    "    for i in range(epoch):\n",
    "        if batch_size == N:\n",
    "            Yhat = MR_find_Yhat(X, W)\n",
    "            error = find_error(Y, Yhat, 'SSE')\n",
    "            error_list.append(error)\n",
    "            S = np.dot(Xb.T, Y - Yhat)\n",
    "        elif batch_size != N:\n",
    "            X_mb, Y_mb = shuffle(X, Y, N, batch_size)\n",
    "            Xb_mb = MR_create_Xb(X_mb)\n",
    "            Yhat_mb = MR_find_Yhat(X_mb, W)\n",
    "            error = find_error(Y_mb, Yhat_mb, 'SSE')\n",
    "            error_list.append(error)\n",
    "            S = np.dot(Xb_mb.T, Y_mb - Yhat_mb)\n",
    "        W = W + (lr/batch_size)*S - lambda1*np.sign(W) - lambda2*W\n",
    "    return W, error_list"
   ]
  },
  {
   "cell_type": "markdown",
   "metadata": {},
   "source": [
    "## 2.3 Logistic Regression"
   ]
  },
  {
   "cell_type": "code",
   "execution_count": 9,
   "metadata": {},
   "outputs": [],
   "source": [
    "def LoR_create_Xb(X):\n",
    "    N = X.shape[0]\n",
    "    ones = np.ones([N, 1])\n",
    "    Xb = np.hstack([ones, X])\n",
    "    return Xb"
   ]
  },
  {
   "cell_type": "code",
   "execution_count": 10,
   "metadata": {},
   "outputs": [],
   "source": [
    "def LoR_find_W_local(X, Y, epoch = 1000, lr = 1, batch_size = 64, lambda1 = 0, lambda2 = 0):\n",
    "    Xb = LoR_create_Xb(X)\n",
    "    N = Xb.shape[0]\n",
    "    D_1 = Xb.shape[1]\n",
    "    W = np.random.randn(D_1, 1)/np.sqrt(D_1)\n",
    "    error_list = []\n",
    "    for i in range(epoch):\n",
    "        if batch_size == N:\n",
    "            Yhat = LoR_find_Yhat(X, W)\n",
    "            error = find_error(Y, Yhat, 'Entropy')\n",
    "            error_list.append(error)\n",
    "            S = np.dot(Xb.T, Y - Yhat)\n",
    "        elif batch_size != N:\n",
    "            X_mb, Y_mb = shuffle(X, Y, N, batch_size)\n",
    "            Xb_mb = LoR_create_Xb(X_mb)\n",
    "            Yhat_mb = LoR_find_Yhat(Xb_mb, W)\n",
    "            error = find_error(Y_mb, Yhat_mb, 'Entropy')\n",
    "            error_list.append(error)\n",
    "            S = np.dot(Xb_mb.T, Y_mb - Yhat_mb)\n",
    "        W = W + (lr/batch_size)*S - lambda1*np.sign(W) - lambda2*W\n",
    "    return W, error_list"
   ]
  },
  {
   "cell_type": "code",
   "execution_count": 11,
   "metadata": {},
   "outputs": [],
   "source": [
    "def LoR_find_Yhat(X, W):\n",
    "    Xb = LoR_create_Xb(X)\n",
    "    Z = np.dot(Xb, W)\n",
    "    Yhat = 1/(1 + np.exp(-Z))\n",
    "    return Yhat"
   ]
  },
  {
   "cell_type": "code",
   "execution_count": 12,
   "metadata": {},
   "outputs": [],
   "source": [
    "def LoR_find_W_local_mul_class(X, Y, epoch = 1000, lr = 1, batch_size = 64, lambda1 = 0, lambda2 = 0):\n",
    "    Xb = LoR_create_Xb(X)\n",
    "    N = Xb.shape[0]\n",
    "    D_1 = Xb.shape[1]\n",
    "    K = Y.shape[1]\n",
    "    W = np.random.randn(D_1, K)/np.sqrt(D_1)\n",
    "    error_list = []\n",
    "    for i in range(epoch):\n",
    "        if batch_size == N:\n",
    "            Yhat = LoR_find_Yhat_mul_class(X, W)\n",
    "            error = find_error(Y, Yhat, 'Entropy')\n",
    "            error_list.append(error)\n",
    "            S = np.dot(Xb.T, Y-Yhat)\n",
    "        elif batch_size != N:\n",
    "            X_mb, Y_mb = shuffle(X, Y, N, batch_size)\n",
    "            Xb_mb = LoR_create_Xb(X_mb)\n",
    "            Yhat_mb = LoR_find_Yhat_mul_class(X_mb, W)\n",
    "            error = find_error(Y_mb, Yhat_mb, 'Entropy')\n",
    "            error_list.append(error)\n",
    "            S = np.dot(Xb_mb.T, Y-mb - Yhat_mb)\n",
    "        W = W + (lr/batch_size)*S - lambda1*np.sign(W) - lambda2*W\n",
    "    return W, error_list"
   ]
  },
  {
   "cell_type": "code",
   "execution_count": 13,
   "metadata": {},
   "outputs": [],
   "source": [
    "def LoR_find_Yhat_mul_class(X, W):\n",
    "    Xb = LoR_create_Xb(X)\n",
    "    Z = np.dot(Xb, W)\n",
    "    Yhat = np.exp(Z)/np.exp(Z).sum(axis=1, keepdims = True)\n",
    "    return Yhat"
   ]
  },
  {
   "cell_type": "markdown",
   "metadata": {},
   "source": [
    "## 2.4 Neural Network"
   ]
  },
  {
   "cell_type": "code",
   "execution_count": 14,
   "metadata": {},
   "outputs": [],
   "source": [
    "def NN_create_WB(A0, HL):\n",
    "    W = []\n",
    "    B = []\n",
    "    for i in range(len(HL)):\n",
    "        if i == 0:\n",
    "            W_i = np.random.randn(A0.shape[1], HL[0])/np.sqrt(HL[0])\n",
    "        else:\n",
    "            W_i = np.random.randn(HL[i-1], HL[i])/np.sqrt(HL[i])\n",
    "        B_i = np.random.randn(1, HL[i])/np.sqrt(HL[i])\n",
    "        W.append(W_i)\n",
    "        B.append(B_i)\n",
    "    return W, B"
   ]
  },
  {
   "cell_type": "code",
   "execution_count": 15,
   "metadata": {},
   "outputs": [],
   "source": [
    "def NNR_find_WB(A0, T, HL, AF, epoch = 1000, lr = 0.01, batch_size = 64, lambda1 = 0, lambda2 = 0, dropout = False, prob_drop = [0]):\n",
    "    L = len(HL)\n",
    "    N = A0.shape[0]\n",
    "    W, B = NN_create_WB(A0, HL)\n",
    "    error_list = []\n",
    "    for i in range(epoch):\n",
    "        if batch_size == N:\n",
    "            Z, A = NN_forward(A0, W, B, AF)\n",
    "            error = find_error(T, A[-1], 'SSE')\n",
    "            error_list.append(error)\n",
    "            SW, SB = NNR_backpropagation(A0, W, B, Z, A, T, AF, dropout, prob_drop)\n",
    "        elif batch_size != N:\n",
    "            A0_mb, T_mb = shuffle(A0, T, N, batch_size)\n",
    "            Z_mb, A_mb = NN_forward(A0_mb, W, B, AF)\n",
    "            error = find_error(T_mb, A_mb[-1], 'SSE')\n",
    "            error_list.append(error)\n",
    "            SW, SB = NNR_backpropagation(A0_mb, W, B, Z_mb, A_mb, T_mb, AF, dropout, prob_drop)\n",
    "        for j in range(L):\n",
    "            W[j] = W[j] + (lr/batch_size)*SW[j] - lambda1*np.sign(W[j]) - lambda2*W[j]\n",
    "            B[j] = B[j] + (lr/batch_size)*SB[j] - lambda1*np.sign(B[j]) - lambda2*B[j]\n",
    "    return W, B, error_list"
   ]
  },
  {
   "cell_type": "code",
   "execution_count": 16,
   "metadata": {},
   "outputs": [],
   "source": [
    "def NNC_find_WB(A0, T, HL, AF, epoch = 1000, lr = 0.01, batch_size = 64, lambda1 = 0, lambda2 = 0, dropout = False, prob_drop = [0]):\n",
    "    L = len(HL)\n",
    "    N = A0.shape[0]\n",
    "    W, B = NN_create_WB(A0, HL)\n",
    "    error_list = []\n",
    "    for i in range(epoch):\n",
    "        if batch_size == N:\n",
    "            Z, A = NN_forward(A0, W, B, AF)\n",
    "            error = find_error(T, A[-1], 'Entropy')\n",
    "            error_list.append(error)\n",
    "            SW, SB = NNC_backpropagation(A0, W, B, Z, A, T, AF, dropout, prob_drop)\n",
    "        elif batch_size != N:\n",
    "            A0_mb, T_mb = shuffle(A0, T, N, batch_size)\n",
    "            Z_mb, A_mb = NN_forward(A0_mb, W, B, AF)\n",
    "            error = find_error(T_mb, A_mb[-1], 'Entropy')\n",
    "            error_list.append(error)\n",
    "            SW, SB = NNC_backpropagation(A0_mb, W, B, Z_mb, A_mb, T_mb, AF, dropout, prob_drop)\n",
    "        for j in range(L):\n",
    "            W[j] = W[j] + (lr/batch_size)*SW[j] - lambda1*np.sign(W[j]) - lambda2*W[j]\n",
    "            B[j] = B[j] + (lr/batch_size)*SB[j] - lambda1*np.sign(B[j]) - lambda2*B[j]\n",
    "    return W, B, error_list"
   ]
  },
  {
   "cell_type": "code",
   "execution_count": 17,
   "metadata": {},
   "outputs": [],
   "source": [
    "def NN_forward(A0, W, B, AF):\n",
    "    Z = []\n",
    "    A = []\n",
    "    for i in range(len(AF)):\n",
    "        if i == 0:\n",
    "            Z_i = np.dot(A0, W[i]) + B[i]\n",
    "        else:\n",
    "            Z_i = np.dot(A[-1], W[i]) + B[i]\n",
    "        A_i = NN_compute_A(Z_i, AF[i])\n",
    "        Z.append(Z_i)\n",
    "        A.append(A_i)\n",
    "    return Z, A"
   ]
  },
  {
   "cell_type": "code",
   "execution_count": 18,
   "metadata": {},
   "outputs": [],
   "source": [
    "def NN_compute_A(Z_i, af):\n",
    "    if type(af) == str:\n",
    "        if af == 'sigmoid':\n",
    "            A_i = 1/(1 + np.exp(-Z_i))\n",
    "        elif af == 'tanh':\n",
    "            A_i = (np.exp(Z_i) - np.exp(-Z_i))/(np.exp(Z_i) + np.exp(-Z_i))\n",
    "        elif af == 'ReLU':\n",
    "            A_i = Z_i * (Z_i > 0)\n",
    "        elif af == 'softmax':\n",
    "            A_i = np.exp(Z_i)/np.exp(Z_i).sum(axis=1, keepdims = True)\n",
    "    elif type(af) == list:\n",
    "        if af[0] == 'PReLU':\n",
    "            A_i = Z_i * (Z_i > 0) + af[1] * Z_i * (Z_i <= 0)\n",
    "    return A_i"
   ]
  },
  {
   "cell_type": "code",
   "execution_count": 19,
   "metadata": {},
   "outputs": [],
   "source": [
    "def NNR_backpropagation(A0, W, B, Z, A, T, AF, dropout, prob_drop):\n",
    "    L = len(AF)\n",
    "    SW = []\n",
    "    SB = []\n",
    "    if dropout == True:\n",
    "        DN = NN_random_DN(HL, prob_drop)\n",
    "    for i in range(L - 1, -1, -1):\n",
    "        if i == L - 1:\n",
    "            Delta_i = T - A[-1]\n",
    "        else:\n",
    "            Delta_i = np.dot(Err_i, W[i+1].T)\n",
    "        Diff_i = NN_compute_Diff(Z[i], A[i], AF[i])\n",
    "        Err_i = NN_compute_Err(Delta_i, Diff_i)\n",
    "        \n",
    "        if dropout == False:\n",
    "            if i != 0:\n",
    "                SW_i = np.dot(A[i-1].T, Err_i)\n",
    "            else:\n",
    "                SW_i = np.dot(A0.T, Err_i)\n",
    "            SB_i = Err_i.sum(axis=0)\n",
    "        elif dropout == True:\n",
    "            if i != 0:\n",
    "                SW_i = np.dot((A[i-1]*DN[i-1]).T, Err_i)\n",
    "            else:\n",
    "                SW_i = np.dot(A0.T, Err_i)\n",
    "            if i == L - 1:\n",
    "                SB_i = Err_i.sum(axis=0)\n",
    "            else:\n",
    "                SB_i = (Err_i*DN[i]).sum(axis=0)\n",
    "                \n",
    "        SW.append(SW_i)\n",
    "        SB.append(SB_i)\n",
    "    return SW[::-1], SB[::-1]"
   ]
  },
  {
   "cell_type": "code",
   "execution_count": 20,
   "metadata": {},
   "outputs": [],
   "source": [
    "def NNC_backpropagation(A0, W, B, Z, A, T, AF, dropout, prob_drop):\n",
    "    L = len(AF)\n",
    "    SW = []\n",
    "    SB = []\n",
    "    if dropout == True:\n",
    "        DN = NN_random_DN(HL, prob_drop)\n",
    "    for i in range(L - 1, -1, -1):\n",
    "        if i == L - 1:\n",
    "            Delta_i = T - A[i]\n",
    "            Diff_i = 1\n",
    "        else:\n",
    "            Delta_i = np.dot(Err_i, W[i+1].T)\n",
    "            Diff_i = NN_compute_Diff(Z[i], A[i], AF[i])\n",
    "        Err_i = NN_compute_Err(Delta_i, Diff_i)\n",
    "        \n",
    "        if dropout == False:\n",
    "            if i != 0:\n",
    "                SW_i = np.dot(A[i-1].T, Err_i)\n",
    "            else:\n",
    "                SW_i = np.dot(A0.T, Err_i)\n",
    "            SB_i = Err_i.sum(axis=0)\n",
    "        elif dropout == True:\n",
    "            if i != 0:\n",
    "                SW_i = np.dot((A[i-1]*DN[i-1]).T, Err_i)\n",
    "            else:\n",
    "                SW_i = np.dot(A0.T, Err_i)\n",
    "            if i == L - 1:\n",
    "                SB_i = Err_i.sum(axis=0)\n",
    "            else:\n",
    "                SB_i = (Err_i*DN[i]).sum(axis=0)\n",
    "        \n",
    "        SW.append(SW_i)\n",
    "        SB.append(SB_i)\n",
    "    return SW[::-1], SB[::-1]"
   ]
  },
  {
   "cell_type": "code",
   "execution_count": 21,
   "metadata": {},
   "outputs": [],
   "source": [
    "def NN_random_DN(HL, prob_drop):\n",
    "    DN = []\n",
    "    for i in range(len(HL)):\n",
    "        Dropout_Node = np.random.choice([False, True], [1, HL[i]], p = [prob_drop[i], 1 - prob_drop[i]])\n",
    "        DN.append(Dropout_Node)\n",
    "    return DN"
   ]
  },
  {
   "cell_type": "code",
   "execution_count": 22,
   "metadata": {},
   "outputs": [],
   "source": [
    "def NN_compute_Diff(Z_i, A_i, af):\n",
    "    if type(af) == str:\n",
    "        if af == 'sigmoid':\n",
    "            Diff_i = A_i * (1 - A_i)\n",
    "        elif af == 'tanh':\n",
    "            Diff_i = 1 - A_i**2\n",
    "        elif af == 'ReLU':\n",
    "            Diff_i = (Z_i > 0)\n",
    "    elif type(af) == list:\n",
    "        if af[0] == 'PReLU':\n",
    "            Diff_i = (Z_i > 0) + af[1] * (Z_i <= 0)\n",
    "    return Diff_i"
   ]
  },
  {
   "cell_type": "code",
   "execution_count": 23,
   "metadata": {},
   "outputs": [],
   "source": [
    "def NN_compute_Err(Delta_i, Diff_i):\n",
    "    Err_i = Delta_i * Diff_i\n",
    "    return Err_i"
   ]
  },
  {
   "cell_type": "markdown",
   "metadata": {},
   "source": [
    "## 2.5 Error Function"
   ]
  },
  {
   "cell_type": "code",
   "execution_count": 24,
   "metadata": {},
   "outputs": [],
   "source": [
    "def find_error(Y, Yhat, TypeOfError):\n",
    "    if TypeOfError == 'SSE':\n",
    "        error = find_SSE(Y, Yhat)\n",
    "    elif TypeOfError == 'MSE':\n",
    "        error = find_MSE(Y, Yhat)\n",
    "    elif TypeOfError == 'MAE':\n",
    "        error = find_MAE(Y, Yhat)\n",
    "    elif TypeOfError == 'MAPE':\n",
    "        error = find_MAPE(Y, Yhat)\n",
    "    elif TypeOfError == 'Entropy':\n",
    "        error = find_Entropy(Y, Yhat)\n",
    "    elif TypeOfError == 'Binary':\n",
    "        error = find_error_bin_class(Y, Yhat)\n",
    "    elif TypeOfError == 'Multiclass':\n",
    "        error = find_error_mul_class(Y, Yhat)\n",
    "    return error"
   ]
  },
  {
   "cell_type": "code",
   "execution_count": 25,
   "metadata": {},
   "outputs": [],
   "source": [
    "def find_SSE(Y, Yhat):\n",
    "    SSE = ((Y - Yhat)**2).sum()\n",
    "    return SSE"
   ]
  },
  {
   "cell_type": "code",
   "execution_count": 26,
   "metadata": {},
   "outputs": [],
   "source": [
    "def find_MSE(Y, Yhat):\n",
    "    N = Y.shape[0]\n",
    "    SSE = ((Y - Yhat)**2).sum()\n",
    "    MSE = SSE/N\n",
    "    return MSE"
   ]
  },
  {
   "cell_type": "code",
   "execution_count": 27,
   "metadata": {},
   "outputs": [],
   "source": [
    "def find_MAE(Y, Yhat):\n",
    "    N = Y.shape[0]\n",
    "    MAE = (np.abs(Y - Yhat)).sum()/N\n",
    "    return MAE"
   ]
  },
  {
   "cell_type": "code",
   "execution_count": 28,
   "metadata": {},
   "outputs": [],
   "source": [
    "def find_MAPE(Y, Yhat):\n",
    "    N = Y.shape[0]\n",
    "    MAPE = np.abs((Y - Yhat)/Y).sum()*100/N\n",
    "    return MAPE"
   ]
  },
  {
   "cell_type": "code",
   "execution_count": 29,
   "metadata": {},
   "outputs": [],
   "source": [
    "def find_Entropy(Y, Yhat):\n",
    "    error = (-Y*np.log(Yhat)).sum()\n",
    "    return error"
   ]
  },
  {
   "cell_type": "code",
   "execution_count": 30,
   "metadata": {},
   "outputs": [],
   "source": [
    "def find_error_bin_class(Y, Yhat):\n",
    "    N = Y.shape[0]\n",
    "    _Y = np.round(Y, 0)\n",
    "    _Yhat = np.round(Yhat, 0)\n",
    "    error = 100*(_Y != _Yhat).sum()/N\n",
    "    return error"
   ]
  },
  {
   "cell_type": "code",
   "execution_count": 31,
   "metadata": {},
   "outputs": [],
   "source": [
    "def find_error_mul_class(Y, Yhat):\n",
    "    N = Y.shape[0]\n",
    "    Y_argmax = np.argmax(Y, axis=1)\n",
    "    Yhat_argmax = np.argmax(Yhat, axis=1)\n",
    "    error = 100*(Y_argmax != Yhat_argmax).sum()/N\n",
    "    return error"
   ]
  },
  {
   "cell_type": "markdown",
   "metadata": {},
   "source": [
    "## 2.6 Normalization"
   ]
  },
  {
   "cell_type": "markdown",
   "metadata": {},
   "source": [
    "### 2.6.1 Finding _min, _max, _mean, _std, _ed"
   ]
  },
  {
   "cell_type": "code",
   "execution_count": 32,
   "metadata": {},
   "outputs": [],
   "source": [
    "def min4norm(Data):\n",
    "    _min = Data.min(axis=0)\n",
    "    return _min.reshape(1, -1)"
   ]
  },
  {
   "cell_type": "code",
   "execution_count": 33,
   "metadata": {},
   "outputs": [],
   "source": [
    "def max4norm(Data):\n",
    "    _max = Data.max(axis=0)\n",
    "    return _max.reshape(1, -1)"
   ]
  },
  {
   "cell_type": "code",
   "execution_count": 34,
   "metadata": {},
   "outputs": [],
   "source": [
    "def mean4norm(Data):\n",
    "    _mean = Data.mean(axis=0)\n",
    "    return _mean.reshape(1, -1)"
   ]
  },
  {
   "cell_type": "code",
   "execution_count": 35,
   "metadata": {},
   "outputs": [],
   "source": [
    "def std4norm(Data):\n",
    "    _std = Data.std(axis=0)\n",
    "    return _std.reshape(1, -1)"
   ]
  },
  {
   "cell_type": "code",
   "execution_count": 36,
   "metadata": {},
   "outputs": [],
   "source": [
    "def ed4norm(Data):\n",
    "    _ed = np.sqrt((Data**2).sum(axis=0))\n",
    "    return _ed.reshape(1, -1)"
   ]
  },
  {
   "cell_type": "markdown",
   "metadata": {},
   "source": [
    "### 2.6.2 Normalization"
   ]
  },
  {
   "cell_type": "code",
   "execution_count": 37,
   "metadata": {},
   "outputs": [],
   "source": [
    "def minmaxNorm(Data, _min, _max):\n",
    "    Data_Norm = (Data - _min)/(_max - _min)\n",
    "    return Data_Norm"
   ]
  },
  {
   "cell_type": "code",
   "execution_count": 38,
   "metadata": {},
   "outputs": [],
   "source": [
    "def rescale(Data, _min, _max, min_norm, max_norm):\n",
    "    Data_Norm = (max_norm - min_norm)*((Data - _min)/(_max - _min)) + min_norm\n",
    "    return Data_Norm"
   ]
  },
  {
   "cell_type": "code",
   "execution_count": 39,
   "metadata": {},
   "outputs": [],
   "source": [
    "def meanNorm(Data, _min, _max, _mean):\n",
    "    Data_Norm = (Data - _mean)/(_max - _min)\n",
    "    return Data_Norm"
   ]
  },
  {
   "cell_type": "code",
   "execution_count": 40,
   "metadata": {},
   "outputs": [],
   "source": [
    "def standardization(Data, _mean, _std):\n",
    "    Data_Norm = (Data - _mean)/_std\n",
    "    return Data_Norm"
   ]
  },
  {
   "cell_type": "code",
   "execution_count": 41,
   "metadata": {},
   "outputs": [],
   "source": [
    "def SUL(Data, _ed):\n",
    "    Data_Norm = Data/_ed\n",
    "    return Data_Norm"
   ]
  },
  {
   "cell_type": "markdown",
   "metadata": {},
   "source": [
    "### 2.6.3 Denormalization"
   ]
  },
  {
   "cell_type": "code",
   "execution_count": 42,
   "metadata": {},
   "outputs": [],
   "source": [
    "def de_minmaxNorm(Data_Norm, _min, _max):\n",
    "    Data = Data_Norm*(_max - _min) + _min\n",
    "    return Data"
   ]
  },
  {
   "cell_type": "code",
   "execution_count": 43,
   "metadata": {},
   "outputs": [],
   "source": [
    "def de_rescale(Data_Norm, _min, _max, min_norm, max_norm):\n",
    "    Data = (_max - _min)*((Data_Norm - min_norm)/(max_norm - min_norm)) + _min\n",
    "    return Data"
   ]
  },
  {
   "cell_type": "code",
   "execution_count": 44,
   "metadata": {},
   "outputs": [],
   "source": [
    "def de_meanNorm(Data_Norm, _min, _max, _mean):\n",
    "    Data = Data_Norm*(_max - _min) + _mean\n",
    "    return Data"
   ]
  },
  {
   "cell_type": "code",
   "execution_count": 45,
   "metadata": {},
   "outputs": [],
   "source": [
    "def de_standardization(Data_Norm, _mean, _std):\n",
    "    Data = Data_Norm*_std + _mean\n",
    "    return Data"
   ]
  },
  {
   "cell_type": "code",
   "execution_count": 46,
   "metadata": {},
   "outputs": [],
   "source": [
    "def de_SUL(Data_Norm, _ed):\n",
    "    Data = Data_Norm*_ed\n",
    "    return Data"
   ]
  },
  {
   "cell_type": "markdown",
   "metadata": {},
   "source": [
    "## 2.7 ETC"
   ]
  },
  {
   "cell_type": "code",
   "execution_count": 47,
   "metadata": {},
   "outputs": [],
   "source": [
    "def create_onehot_target(label):\n",
    "    K = len(np.unique(label))\n",
    "    N = label.shape[0]\n",
    "    onehot = np.zeros([N, K])\n",
    "    for i in range(N):\n",
    "        onehot[i, label[i, 0]] = 1\n",
    "    return onehot"
   ]
  },
  {
   "cell_type": "code",
   "execution_count": 48,
   "metadata": {},
   "outputs": [],
   "source": [
    "def shuffle(X, Y, N, batch_size):\n",
    "    r = random.sample(range(N), batch_size)\n",
    "    X_mb = X[r]\n",
    "    Y_mb = Y[r]\n",
    "    return X_mb, Y_mb"
   ]
  },
  {
   "cell_type": "markdown",
   "metadata": {},
   "source": [
    "# 3. Normalization"
   ]
  },
  {
   "cell_type": "code",
   "execution_count": 49,
   "metadata": {},
   "outputs": [],
   "source": [
    "def min4norm(Data):\n",
    "    _min = Data.min(axis=0)\n",
    "    return _min.reshape(1, -1)"
   ]
  },
  {
   "cell_type": "code",
   "execution_count": 50,
   "metadata": {},
   "outputs": [],
   "source": [
    "def max4norm(Data):\n",
    "    _max = Data.max(axis=0)\n",
    "    return _max.reshape(1, -1)"
   ]
  },
  {
   "cell_type": "code",
   "execution_count": 51,
   "metadata": {},
   "outputs": [],
   "source": [
    "def mean4norm(Data):\n",
    "    _mean = Data.mean(axis=0)\n",
    "    return _mean.reshape(1, -1)"
   ]
  },
  {
   "cell_type": "code",
   "execution_count": 52,
   "metadata": {},
   "outputs": [],
   "source": [
    "def std4norm(Data):\n",
    "    _std = Data.std(axis=0)\n",
    "    return _std.reshape(1, -1)"
   ]
  },
  {
   "cell_type": "code",
   "execution_count": 53,
   "metadata": {},
   "outputs": [],
   "source": [
    "def ed4norm(Data):\n",
    "    _ed = np.sqrt((Data**2).sum(axis=0))\n",
    "    return _ed.reshape(1, -1)"
   ]
  },
  {
   "cell_type": "code",
   "execution_count": 54,
   "metadata": {},
   "outputs": [],
   "source": [
    "def minmaxNorm(Data, min_norm, max_norm):\n",
    "    Data_Norm = (Data - min_norm)/(max_norm - min_norm)\n",
    "    return Data_Norm"
   ]
  },
  {
   "cell_type": "code",
   "execution_count": 55,
   "metadata": {},
   "outputs": [],
   "source": [
    "def meanNorm(Data, min_norm, max_norm, mean_norm):\n",
    "    Data_Norm = (Data - mean_norm)/(max_norm - min_norm)\n",
    "    return Data_Norm"
   ]
  },
  {
   "cell_type": "code",
   "execution_count": 56,
   "metadata": {},
   "outputs": [],
   "source": [
    "def standardization(Data, mean_norm, std_norm):\n",
    "    Data_Norm = (Data - mean_norm)/std_norm\n",
    "    return Data_Norm"
   ]
  },
  {
   "cell_type": "code",
   "execution_count": 57,
   "metadata": {},
   "outputs": [],
   "source": [
    "def SUL(Data, ed_norm):\n",
    "    Data_Norm = Data/ed_norm\n",
    "    return Data_Norm"
   ]
  },
  {
   "cell_type": "code",
   "execution_count": 58,
   "metadata": {},
   "outputs": [],
   "source": [
    "def de_minmaxNorm(Data_Norm, min_norm, max_norm):\n",
    "    Data = Data_Norm*(max_norm - min_norm) + min_norm\n",
    "    return Data"
   ]
  },
  {
   "cell_type": "code",
   "execution_count": 59,
   "metadata": {},
   "outputs": [],
   "source": [
    "def de_meanNorm(Data_Norm, min_norm, max_norm, mean_norm):\n",
    "    Data = Data_Norm*(max_norm - min_norm) + mean_norm\n",
    "    return Data"
   ]
  },
  {
   "cell_type": "code",
   "execution_count": 60,
   "metadata": {},
   "outputs": [],
   "source": [
    "def de_standardization(Data_Norm, mean_norm, std_norm):\n",
    "    Data = Data_Norm*std_norm + mean_norm\n",
    "    return Data"
   ]
  },
  {
   "cell_type": "code",
   "execution_count": 61,
   "metadata": {},
   "outputs": [],
   "source": [
    "def de_SUL(Data_Norm, ed_norm):\n",
    "    Data = Data_Norm*ed_norm\n",
    "    return Data"
   ]
  },
  {
   "cell_type": "markdown",
   "metadata": {},
   "source": [
    "# 3. Read Data & Prepare Data"
   ]
  },
  {
   "cell_type": "code",
   "execution_count": 62,
   "metadata": {},
   "outputs": [
    {
     "name": "stdout",
     "output_type": "stream",
     "text": [
      "(4004, 784)\n",
      "(4004, 1)\n"
     ]
    }
   ],
   "source": [
    "image_train = np.empty((0,784), int)\n",
    "label_train = np.empty((0,1), int)\n",
    "\n",
    "for char_i in range(44):\n",
    "    path = \"Thai_Character/train/\" + str(char_i) + \"/*.png\"\n",
    "    for image_path in glob.glob(path):\n",
    "        image = imageio.imread(image_path)\n",
    "        image = np.array(image)\n",
    "        image = image.reshape(1, -1)\n",
    "        image_train = np.vstack((image_train, image))\n",
    "\n",
    "        label = char_i\n",
    "        label_train = np.vstack((label_train, label))\n",
    "\n",
    "print(image_train.shape)\n",
    "print(label_train.shape)"
   ]
  },
  {
   "cell_type": "code",
   "execution_count": 63,
   "metadata": {},
   "outputs": [],
   "source": [
    "X_Train = image_train/255\n",
    "Y_Train = create_onehot_target(label_train)"
   ]
  },
  {
   "cell_type": "code",
   "execution_count": 64,
   "metadata": {},
   "outputs": [
    {
     "name": "stdout",
     "output_type": "stream",
     "text": [
      "(396, 784)\n",
      "(396, 1)\n"
     ]
    }
   ],
   "source": [
    "image_test = np.empty((0,784), int)\n",
    "label_test = np.empty((0,1), int)\n",
    "\n",
    "for char_i in range(44):\n",
    "    path = \"Thai_Character/test/\" + str(char_i) + \"/*.png\"\n",
    "    for image_path in glob.glob(path):\n",
    "        image = imageio.imread(image_path)\n",
    "        image = np.array(image)\n",
    "        image = image.reshape(1, -1)\n",
    "        image_test = np.vstack((image_test, image))\n",
    "\n",
    "        label = char_i\n",
    "        label_test = np.vstack((label_test, label))\n",
    "\n",
    "print(image_test.shape)\n",
    "print(label_test.shape)"
   ]
  },
  {
   "cell_type": "code",
   "execution_count": 65,
   "metadata": {},
   "outputs": [],
   "source": [
    "X_Test = image_test/255\n",
    "Y_Test = create_onehot_target(label_test)"
   ]
  },
  {
   "cell_type": "markdown",
   "metadata": {},
   "source": [
    "# 4. Create Model"
   ]
  },
  {
   "cell_type": "code",
   "execution_count": 66,
   "metadata": {},
   "outputs": [],
   "source": [
    "HL = [10, 44]"
   ]
  },
  {
   "cell_type": "code",
   "execution_count": 67,
   "metadata": {},
   "outputs": [],
   "source": [
    "AF = ['ReLU', 'softmax']"
   ]
  },
  {
   "cell_type": "markdown",
   "metadata": {},
   "source": [
    "# ---------- Mini-Batch (Batch Size = 64) ----------"
   ]
  },
  {
   "cell_type": "code",
   "execution_count": 68,
   "metadata": {},
   "outputs": [],
   "source": [
    "start_minibatch = time.time()"
   ]
  },
  {
   "cell_type": "code",
   "execution_count": 69,
   "metadata": {},
   "outputs": [],
   "source": [
    "W, B, error_list = NNC_find_WB(X_Train, Y_Train, HL, AF, epoch = 10000, lr = 0.1)"
   ]
  },
  {
   "cell_type": "code",
   "execution_count": 70,
   "metadata": {},
   "outputs": [],
   "source": [
    "stop_minibatch = time.time()"
   ]
  },
  {
   "cell_type": "code",
   "execution_count": 71,
   "metadata": {},
   "outputs": [],
   "source": [
    "process_time_minibatch = stop_minibatch - start_minibatch"
   ]
  },
  {
   "cell_type": "code",
   "execution_count": 72,
   "metadata": {},
   "outputs": [
    {
     "data": {
      "text/plain": [
       "11.726293087005615"
      ]
     },
     "execution_count": 72,
     "metadata": {},
     "output_type": "execute_result"
    }
   ],
   "source": [
    "process_time_minibatch"
   ]
  },
  {
   "cell_type": "markdown",
   "metadata": {},
   "source": [
    "# ---------- Batch (Batch Size = N) ----------"
   ]
  },
  {
   "cell_type": "code",
   "execution_count": 73,
   "metadata": {},
   "outputs": [],
   "source": [
    "start_batch = time.time()"
   ]
  },
  {
   "cell_type": "code",
   "execution_count": 74,
   "metadata": {},
   "outputs": [],
   "source": [
    "W, B, error_list = NNC_find_WB(X_Train, Y_Train, HL, AF, epoch = 10000, lr = 0.1, batch_size = X_Train.shape[0])"
   ]
  },
  {
   "cell_type": "code",
   "execution_count": 75,
   "metadata": {},
   "outputs": [],
   "source": [
    "stop_batch = time.time()"
   ]
  },
  {
   "cell_type": "code",
   "execution_count": 76,
   "metadata": {},
   "outputs": [],
   "source": [
    "process_time_batch = stop_batch - start_batch"
   ]
  },
  {
   "cell_type": "code",
   "execution_count": 77,
   "metadata": {},
   "outputs": [
    {
     "data": {
      "text/plain": [
       "141.68794202804565"
      ]
     },
     "execution_count": 77,
     "metadata": {},
     "output_type": "execute_result"
    }
   ],
   "source": [
    "process_time_batch"
   ]
  },
  {
   "cell_type": "markdown",
   "metadata": {},
   "source": [
    "# ----- Mini-Batch is faster than Batch -----"
   ]
  },
  {
   "cell_type": "code",
   "execution_count": 78,
   "metadata": {},
   "outputs": [
    {
     "data": {
      "text/plain": [
       "12.082926887189597"
      ]
     },
     "execution_count": 78,
     "metadata": {},
     "output_type": "execute_result"
    }
   ],
   "source": [
    "process_time_batch/process_time_minibatch"
   ]
  },
  {
   "cell_type": "markdown",
   "metadata": {},
   "source": [
    "# ----------------------------------------"
   ]
  },
  {
   "cell_type": "code",
   "execution_count": 79,
   "metadata": {},
   "outputs": [
    {
     "data": {
      "text/plain": [
       "[<matplotlib.lines.Line2D at 0x1130b3ba8>]"
      ]
     },
     "execution_count": 79,
     "metadata": {},
     "output_type": "execute_result"
    },
    {
     "data": {
      "image/png": "[encoded data removed]",
      "text/plain": [
       "<Figure size 432x288 with 1 Axes>"
      ]
     },
     "metadata": {
      "needs_background": "light"
     },
     "output_type": "display_data"
    }
   ],
   "source": [
    "plt.plot(error_list)"
   ]
  },
  {
   "cell_type": "code",
   "execution_count": 80,
   "metadata": {},
   "outputs": [],
   "source": [
    "Zhat_Train, Yhat_Train = NN_forward(X_Train, W, B, AF)"
   ]
  },
  {
   "cell_type": "code",
   "execution_count": 81,
   "metadata": {},
   "outputs": [],
   "source": [
    "error_Train = find_error(Y_Train, Yhat_Train[-1], 'Multiclass')"
   ]
  },
  {
   "cell_type": "code",
   "execution_count": 82,
   "metadata": {
    "scrolled": true
   },
   "outputs": [
    {
     "data": {
      "text/plain": [
       "0.8491508491508492"
      ]
     },
     "execution_count": 82,
     "metadata": {},
     "output_type": "execute_result"
    }
   ],
   "source": [
    "error_Train"
   ]
  },
  {
   "cell_type": "markdown",
   "metadata": {},
   "source": [
    "# 5. Make Prediction"
   ]
  },
  {
   "cell_type": "code",
   "execution_count": 83,
   "metadata": {},
   "outputs": [],
   "source": [
    "Zhat_Test, Yhat_Test = NN_forward(X_Test, W, B, AF)"
   ]
  },
  {
   "cell_type": "code",
   "execution_count": 84,
   "metadata": {},
   "outputs": [],
   "source": [
    "error_Test = find_error(Y_Test, Yhat_Test[-1], 'Multiclass')"
   ]
  },
  {
   "cell_type": "code",
   "execution_count": 85,
   "metadata": {},
   "outputs": [
    {
     "data": {
      "text/plain": [
       "6.565656565656566"
      ]
     },
     "execution_count": 85,
     "metadata": {},
     "output_type": "execute_result"
    }
   ],
   "source": [
    "error_Test"
   ]
  },
  {
   "cell_type": "code",
   "execution_count": 86,
   "metadata": {
    "scrolled": false
   },
   "outputs": [
    {
     "name": "stdout",
     "output_type": "stream",
     "text": [
      "Predicted: ก, Actual: ก\n"
     ]
    },
    {
     "data": {
      "image/png": "[encoded data removed]",
      "text/plain": [
       "<Figure size 432x288 with 1 Axes>"
      ]
     },
     "metadata": {
      "needs_background": "light"
     },
     "output_type": "display_data"
    },
    {
     "name": "stdout",
     "output_type": "stream",
     "text": [
      "Predicted: ข, Actual: ข\n"
     ]
    },
    {
     "data": {
      "image/png": "[encoded data removed]",
      "text/plain": [
       "<Figure size 432x288 with 1 Axes>"
      ]
     },
     "metadata": {
      "needs_background": "light"
     },
     "output_type": "display_data"
    },
    {
     "name": "stdout",
     "output_type": "stream",
     "text": [
      "Predicted: ฃ, Actual: ฃ\n"
     ]
    },
    {
     "data": {
      "image/png": "[encoded data removed]",
      "text/plain": [
       "<Figure size 432x288 with 1 Axes>"
      ]
     },
     "metadata": {
      "needs_background": "light"
     },
     "output_type": "display_data"
    },
    {
     "name": "stdout",
     "output_type": "stream",
     "text": [
      "Predicted: ฅ, Actual: ค\n"
     ]
    },
    {
     "data": {
      "image/png": "[encoded data removed]",
      "text/plain": [
       "<Figure size 432x288 with 1 Axes>"
      ]
     },
     "metadata": {
      "needs_background": "light"
     },
     "output_type": "display_data"
    },
    {
     "name": "stdout",
     "output_type": "stream",
     "text": [
      "Predicted: ฅ, Actual: ฅ\n"
     ]
    },
    {
     "data": {
      "image/png": "[encoded data removed]",
      "text/plain": [
       "<Figure size 432x288 with 1 Axes>"
      ]
     },
     "metadata": {
      "needs_background": "light"
     },
     "output_type": "display_data"
    },
    {
     "name": "stdout",
     "output_type": "stream",
     "text": [
      "Predicted: ฆ, Actual: ฆ\n"
     ]
    },
    {
     "data": {
      "image/png": "[encoded data removed]",
      "text/plain": [
       "<Figure size 432x288 with 1 Axes>"
      ]
     },
     "metadata": {
      "needs_background": "light"
     },
     "output_type": "display_data"
    },
    {
     "name": "stdout",
     "output_type": "stream",
     "text": [
      "Predicted: ง, Actual: ง\n"
     ]
    },
    {
     "data": {
      "image/png": "[encoded data removed]",
      "text/plain": [
       "<Figure size 432x288 with 1 Axes>"
      ]
     },
     "metadata": {
      "needs_background": "light"
     },
     "output_type": "display_data"
    },
    {
     "name": "stdout",
     "output_type": "stream",
     "text": [
      "Predicted: จ, Actual: จ\n"
     ]
    },
    {
     "data": {
      "image/png": "[encoded data removed]",
      "text/plain": [
       "<Figure size 432x288 with 1 Axes>"
      ]
     },
     "metadata": {
      "needs_background": "light"
     },
     "output_type": "display_data"
    },
    {
     "name": "stdout",
     "output_type": "stream",
     "text": [
      "Predicted: ฉ, Actual: ฉ\n"
     ]
    },
    {
     "data": {
      "image/png": "[encoded data removed]",
      "text/plain": [
       "<Figure size 432x288 with 1 Axes>"
      ]
     },
     "metadata": {
      "needs_background": "light"
     },
     "output_type": "display_data"
    },
    {
     "name": "stdout",
     "output_type": "stream",
     "text": [
      "Predicted: ข, Actual: ช\n"
     ]
    },
    {
     "data": {
      "image/png": "[encoded data removed]",
      "text/plain": [
       "<Figure size 432x288 with 1 Axes>"
      ]
     },
     "metadata": {
      "needs_background": "light"
     },
     "output_type": "display_data"
    },
    {
     "name": "stdout",
     "output_type": "stream",
     "text": [
      "Predicted: ซ, Actual: ซ\n"
     ]
    },
    {
     "data": {
      "image/png": "[encoded data removed]",
      "text/plain": [
       "<Figure size 432x288 with 1 Axes>"
      ]
     },
     "metadata": {
      "needs_background": "light"
     },
     "output_type": "display_data"
    },
    {
     "name": "stdout",
     "output_type": "stream",
     "text": [
      "Predicted: ฌ, Actual: ฌ\n"
     ]
    },
    {
     "data": {
      "image/png": "[encoded data removed]",
      "text/plain": [
       "<Figure size 432x288 with 1 Axes>"
      ]
     },
     "metadata": {
      "needs_background": "light"
     },
     "output_type": "display_data"
    },
    {
     "name": "stdout",
     "output_type": "stream",
     "text": [
      "Predicted: ญ, Actual: ญ\n"
     ]
    },
    {
     "data": {
      "image/png": "[encoded data removed]",
      "text/plain": [
       "<Figure size 432x288 with 1 Axes>"
      ]
     },
     "metadata": {
      "needs_background": "light"
     },
     "output_type": "display_data"
    },
    {
     "name": "stdout",
     "output_type": "stream",
     "text": [
      "Predicted: ฎ, Actual: ฎ\n"
     ]
    },
    {
     "data": {
      "image/png": "[encoded data removed]",
      "text/plain": [
       "<Figure size 432x288 with 1 Axes>"
      ]
     },
     "metadata": {
      "needs_background": "light"
     },
     "output_type": "display_data"
    },
    {
     "name": "stdout",
     "output_type": "stream",
     "text": [
      "Predicted: ฏ, Actual: ฏ\n"
     ]
    },
    {
     "data": {
      "image/png": "[encoded data removed]",
      "text/plain": [
       "<Figure size 432x288 with 1 Axes>"
      ]
     },
     "metadata": {
      "needs_background": "light"
     },
     "output_type": "display_data"
    },
    {
     "name": "stdout",
     "output_type": "stream",
     "text": [
      "Predicted: ฐ, Actual: ฐ\n"
     ]
    },
    {
     "data": {
      "image/png": "[encoded data removed]",
      "text/plain": [
       "<Figure size 432x288 with 1 Axes>"
      ]
     },
     "metadata": {
      "needs_background": "light"
     },
     "output_type": "display_data"
    },
    {
     "name": "stdout",
     "output_type": "stream",
     "text": [
      "Predicted: ฑ, Actual: ฑ\n"
     ]
    },
    {
     "data": {
      "image/png": "[encoded data removed]",
      "text/plain": [
       "<Figure size 432x288 with 1 Axes>"
      ]
     },
     "metadata": {
      "needs_background": "light"
     },
     "output_type": "display_data"
    },
    {
     "name": "stdout",
     "output_type": "stream",
     "text": [
      "Predicted: ฒ, Actual: ฒ\n"
     ]
    },
    {
     "data": {
      "image/png": "[encoded data removed]",
      "text/plain": [
       "<Figure size 432x288 with 1 Axes>"
      ]
     },
     "metadata": {
      "needs_background": "light"
     },
     "output_type": "display_data"
    },
    {
     "name": "stdout",
     "output_type": "stream",
     "text": [
      "Predicted: ณ, Actual: ณ\n"
     ]
    },
    {
     "data": {
      "image/png": "[encoded data removed]",
      "text/plain": [
       "<Figure size 432x288 with 1 Axes>"
      ]
     },
     "metadata": {
      "needs_background": "light"
     },
     "output_type": "display_data"
    },
    {
     "name": "stdout",
     "output_type": "stream",
     "text": [
      "Predicted: ด, Actual: ด\n"
     ]
    },
    {
     "data": {
      "image/png": "[encoded data removed]",
      "text/plain": [
       "<Figure size 432x288 with 1 Axes>"
      ]
     },
     "metadata": {
      "needs_background": "light"
     },
     "output_type": "display_data"
    },
    {
     "name": "stdout",
     "output_type": "stream",
     "text": [
      "Predicted: ต, Actual: ต\n"
     ]
    },
    {
     "data": {
      "image/png": "[encoded data removed]",
      "text/plain": [
       "<Figure size 432x288 with 1 Axes>"
      ]
     },
     "metadata": {
      "needs_background": "light"
     },
     "output_type": "display_data"
    },
    {
     "name": "stdout",
     "output_type": "stream",
     "text": [
      "Predicted: ถ, Actual: ถ\n"
     ]
    },
    {
     "data": {
      "image/png": "[encoded data removed]",
      "text/plain": [
       "<Figure size 432x288 with 1 Axes>"
      ]
     },
     "metadata": {
      "needs_background": "light"
     },
     "output_type": "display_data"
    },
    {
     "name": "stdout",
     "output_type": "stream",
     "text": [
      "Predicted: ท, Actual: ท\n"
     ]
    },
    {
     "data": {
      "image/png": "[encoded data removed]",
      "text/plain": [
       "<Figure size 432x288 with 1 Axes>"
      ]
     },
     "metadata": {
      "needs_background": "light"
     },
     "output_type": "display_data"
    },
    {
     "name": "stdout",
     "output_type": "stream",
     "text": [
      "Predicted: ธ, Actual: ธ\n"
     ]
    },
    {
     "data": {
      "image/png": "[encoded data removed]",
      "text/plain": [
       "<Figure size 432x288 with 1 Axes>"
      ]
     },
     "metadata": {
      "needs_background": "light"
     },
     "output_type": "display_data"
    },
    {
     "name": "stdout",
     "output_type": "stream",
     "text": [
      "Predicted: น, Actual: น\n"
     ]
    },
    {
     "data": {
      "image/png": "[encoded data removed]",
      "text/plain": [
       "<Figure size 432x288 with 1 Axes>"
      ]
     },
     "metadata": {
      "needs_background": "light"
     },
     "output_type": "display_data"
    },
    {
     "name": "stdout",
     "output_type": "stream",
     "text": [
      "Predicted: บ, Actual: บ\n"
     ]
    },
    {
     "data": {
      "image/png": "[encoded data removed]",
      "text/plain": [
       "<Figure size 432x288 with 1 Axes>"
      ]
     },
     "metadata": {
      "needs_background": "light"
     },
     "output_type": "display_data"
    },
    {
     "name": "stdout",
     "output_type": "stream",
     "text": [
      "Predicted: ป, Actual: ป\n"
     ]
    },
    {
     "data": {
      "image/png": "[encoded data removed]",
      "text/plain": [
       "<Figure size 432x288 with 1 Axes>"
      ]
     },
     "metadata": {
      "needs_background": "light"
     },
     "output_type": "display_data"
    },
    {
     "name": "stdout",
     "output_type": "stream",
     "text": [
      "Predicted: ผ, Actual: ผ\n"
     ]
    },
    {
     "data": {
      "image/png": "[encoded data removed]",
      "text/plain": [
       "<Figure size 432x288 with 1 Axes>"
      ]
     },
     "metadata": {
      "needs_background": "light"
     },
     "output_type": "display_data"
    },
    {
     "name": "stdout",
     "output_type": "stream",
     "text": [
      "Predicted: ฝ, Actual: ฝ\n"
     ]
    },
    {
     "data": {
      "image/png": "[encoded data removed]",
      "text/plain": [
       "<Figure size 432x288 with 1 Axes>"
      ]
     },
     "metadata": {
      "needs_background": "light"
     },
     "output_type": "display_data"
    },
    {
     "name": "stdout",
     "output_type": "stream",
     "text": [
      "Predicted: พ, Actual: พ\n"
     ]
    },
    {
     "data": {
      "image/png": "[encoded data removed]",
      "text/plain": [
       "<Figure size 432x288 with 1 Axes>"
      ]
     },
     "metadata": {
      "needs_background": "light"
     },
     "output_type": "display_data"
    },
    {
     "name": "stdout",
     "output_type": "stream",
     "text": [
      "Predicted: ฟ, Actual: ฟ\n"
     ]
    },
    {
     "data": {
      "image/png": "[encoded data removed]",
      "text/plain": [
       "<Figure size 432x288 with 1 Axes>"
      ]
     },
     "metadata": {
      "needs_background": "light"
     },
     "output_type": "display_data"
    },
    {
     "name": "stdout",
     "output_type": "stream",
     "text": [
      "Predicted: ภ, Actual: ภ\n"
     ]
    },
    {
     "data": {
      "image/png": "[encoded data removed]",
      "text/plain": [
       "<Figure size 432x288 with 1 Axes>"
      ]
     },
     "metadata": {
      "needs_background": "light"
     },
     "output_type": "display_data"
    },
    {
     "name": "stdout",
     "output_type": "stream",
     "text": [
      "Predicted: ม, Actual: ม\n"
     ]
    },
    {
     "data": {
      "image/png": "[encoded data removed]",
      "text/plain": [
       "<Figure size 432x288 with 1 Axes>"
      ]
     },
     "metadata": {
      "needs_background": "light"
     },
     "output_type": "display_data"
    },
    {
     "name": "stdout",
     "output_type": "stream",
     "text": [
      "Predicted: ย, Actual: ย\n"
     ]
    },
    {
     "data": {
      "image/png": "[encoded data removed]",
      "text/plain": [
       "<Figure size 432x288 with 1 Axes>"
      ]
     },
     "metadata": {
      "needs_background": "light"
     },
     "output_type": "display_data"
    },
    {
     "name": "stdout",
     "output_type": "stream",
     "text": [
      "Predicted: ร, Actual: ร\n"
     ]
    },
    {
     "data": {
      "image/png": "[encoded data removed]",
      "text/plain": [
       "<Figure size 432x288 with 1 Axes>"
      ]
     },
     "metadata": {
      "needs_background": "light"
     },
     "output_type": "display_data"
    },
    {
     "name": "stdout",
     "output_type": "stream",
     "text": [
      "Predicted: ล, Actual: ล\n"
     ]
    },
    {
     "data": {
      "image/png": "[encoded data removed]",
      "text/plain": [
       "<Figure size 432x288 with 1 Axes>"
      ]
     },
     "metadata": {
      "needs_background": "light"
     },
     "output_type": "display_data"
    },
    {
     "name": "stdout",
     "output_type": "stream",
     "text": [
      "Predicted: ว, Actual: ว\n"
     ]
    },
    {
     "data": {
      "image/png": "[encoded data removed]",
      "text/plain": [
       "<Figure size 432x288 with 1 Axes>"
      ]
     },
     "metadata": {
      "needs_background": "light"
     },
     "output_type": "display_data"
    },
    {
     "name": "stdout",
     "output_type": "stream",
     "text": [
      "Predicted: ศ, Actual: ศ\n"
     ]
    },
    {
     "data": {
      "image/png": "[encoded data removed]",
      "text/plain": [
       "<Figure size 432x288 with 1 Axes>"
      ]
     },
     "metadata": {
      "needs_background": "light"
     },
     "output_type": "display_data"
    },
    {
     "name": "stdout",
     "output_type": "stream",
     "text": [
      "Predicted: ษ, Actual: ษ\n"
     ]
    },
    {
     "data": {
      "image/png": "[encoded data removed]",
      "text/plain": [
       "<Figure size 432x288 with 1 Axes>"
      ]
     },
     "metadata": {
      "needs_background": "light"
     },
     "output_type": "display_data"
    },
    {
     "name": "stdout",
     "output_type": "stream",
     "text": [
      "Predicted: ส, Actual: ส\n"
     ]
    },
    {
     "data": {
      "image/png": "[encoded data removed]",
      "text/plain": [
       "<Figure size 432x288 with 1 Axes>"
      ]
     },
     "metadata": {
      "needs_background": "light"
     },
     "output_type": "display_data"
    },
    {
     "name": "stdout",
     "output_type": "stream",
     "text": [
      "Predicted: ห, Actual: ห\n"
     ]
    },
    {
     "data": {
      "image/png": "[encoded data removed]",
      "text/plain": [
       "<Figure size 432x288 with 1 Axes>"
      ]
     },
     "metadata": {
      "needs_background": "light"
     },
     "output_type": "display_data"
    },
    {
     "name": "stdout",
     "output_type": "stream",
     "text": [
      "Predicted: ฬ, Actual: ฬ\n"
     ]
    },
    {
     "data": {
      "image/png": "[encoded data removed]",
      "text/plain": [
       "<Figure size 432x288 with 1 Axes>"
      ]
     },
     "metadata": {
      "needs_background": "light"
     },
     "output_type": "display_data"
    },
    {
     "name": "stdout",
     "output_type": "stream",
     "text": [
      "Predicted: จ, Actual: อ\n"
     ]
    },
    {
     "data": {
      "image/png": "[encoded data removed]",
      "text/plain": [
       "<Figure size 432x288 with 1 Axes>"
      ]
     },
     "metadata": {
      "needs_background": "light"
     },
     "output_type": "display_data"
    },
    {
     "name": "stdout",
     "output_type": "stream",
     "text": [
      "Predicted: ฮ, Actual: ฮ\n"
     ]
    },
    {
     "data": {
      "image/png": "[encoded data removed]",
      "text/plain": [
       "<Figure size 432x288 with 1 Axes>"
      ]
     },
     "metadata": {
      "needs_background": "light"
     },
     "output_type": "display_data"
    }
   ],
   "source": [
    "thai_char = ['ก','ข','ฃ','ค','ฅ','ฆ','ง','จ','ฉ','ช','ซ','ฌ','ญ','ฎ','ฏ','ฐ','ฑ','ฒ','ณ','ด','ต','ถ','ท','ธ','น','บ','ป','ผ','ฝ','พ','ฟ','ภ','ม','ย','ร','ล','ว','ศ','ษ','ส','ห','ฬ','อ','ฮ']\n",
    "\n",
    "for i in range(0, 396, 9):\n",
    "    image = image_test[i]\n",
    "    label = label_test[i]\n",
    "    \n",
    "    predicted = np.argmax(Yhat_Test[-1], axis=1)[i]\n",
    "    \n",
    "    # plt.title('Predicted: {}, Actual: {}'.format(thai_char[int(predicted)], thai_char[int(label)]))\n",
    "    print('Predicted: {}, Actual: {}'.format(thai_char[int(predicted)], thai_char[int(label)]))\n",
    "    plt.imshow(image.reshape(28,28), cmap='gray')\n",
    "    plt.show()"
   ]
  }
 ],
 "metadata": {
  "kernelspec": {
   "display_name": "Python 3",
   "language": "python",
   "name": "python3"
  },
  "language_info": {
   "codemirror_mode": {
    "name": "ipython",
    "version": 3
   },
   "file_extension": ".py",
   "mimetype": "text/x-python",
   "name": "python",
   "nbconvert_exporter": "python",
   "pygments_lexer": "ipython3",
   "version": "3.5.0"
  }
 },
 "nbformat": 4,
 "nbformat_minor": 2
}
