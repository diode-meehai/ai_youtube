{
 "cells": [
  {
   "cell_type": "markdown",
   "metadata": {},
   "source": [
    "# 1. Import Library"
   ]
  },
  {
   "cell_type": "code",
   "execution_count": 1,
   "metadata": {},
   "outputs": [],
   "source": [
    "import numpy as np\n",
    "import pandas as pd\n",
    "import matplotlib.pyplot as plt\n",
    "%matplotlib inline"
   ]
  },
  {
   "cell_type": "markdown",
   "metadata": {},
   "source": [
    "# 2. Write Function"
   ]
  },
  {
   "cell_type": "markdown",
   "metadata": {},
   "source": [
    "### 2.1 Normalization"
   ]
  },
  {
   "cell_type": "code",
   "execution_count": 2,
   "metadata": {},
   "outputs": [],
   "source": [
    "def minmaxNorm(Data, _min, _max):\n",
    "    Data_Norm = (Data - _min)/(_max - _min)\n",
    "    return Data_Norm"
   ]
  },
  {
   "cell_type": "code",
   "execution_count": 3,
   "metadata": {},
   "outputs": [],
   "source": [
    "def min4norm(Data):\n",
    "    _min = Data.min(axis=0, keepdims = True)\n",
    "    return _min"
   ]
  },
  {
   "cell_type": "code",
   "execution_count": 4,
   "metadata": {},
   "outputs": [],
   "source": [
    "def max4norm(Data):\n",
    "    _max = Data.max(axis=0, keepdims = True)\n",
    "    return _max"
   ]
  },
  {
   "cell_type": "markdown",
   "metadata": {},
   "source": [
    "### 2.2 วัดระยะห่างระหว่างข้อมูลแต่ละตัวใน Validation Set กับข้อมูลทุกตัวใน Training Set"
   ]
  },
  {
   "cell_type": "code",
   "execution_count": 5,
   "metadata": {},
   "outputs": [],
   "source": [
    "def KNN_find_distance_each_data(X_Train, X_Valid):\n",
    "    all_distance = []\n",
    "    for x_valid in X_Valid:\n",
    "        distance = KNN_find_distance(X_Train, x_valid)\n",
    "        all_distance.append(distance)\n",
    "    return all_distance"
   ]
  },
  {
   "cell_type": "code",
   "execution_count": 6,
   "metadata": {},
   "outputs": [],
   "source": [
    "def KNN_find_distance(X_Train, x_valid):\n",
    "    distance2 = ((X_Train - x_valid)**2).sum(axis=1)\n",
    "    distance = np.sqrt(distance2)\n",
    "    return distance"
   ]
  },
  {
   "cell_type": "markdown",
   "metadata": {},
   "source": [
    "### 2.3 เรียงลำดับ Target ตามระยะห่าง"
   ]
  },
  {
   "cell_type": "code",
   "execution_count": 7,
   "metadata": {},
   "outputs": [],
   "source": [
    "def KNN_find_sorted_target_each_data(Y_Train, all_distance):\n",
    "    all_sorted_target = []\n",
    "    for distance in all_distance:\n",
    "        sorted_target = KNN_sort_target_by_distance(Y_Train, distance)\n",
    "        all_sorted_target.append(sorted_target)\n",
    "    return all_sorted_target"
   ]
  },
  {
   "cell_type": "code",
   "execution_count": 8,
   "metadata": {},
   "outputs": [],
   "source": [
    "def KNN_sort_target_by_distance(Y_Train, distance):\n",
    "    sorted_target = Y_Train[distance.argsort()]\n",
    "    return sorted_target"
   ]
  },
  {
   "cell_type": "markdown",
   "metadata": {},
   "source": [
    "### 2.4 หาผลลัพธ์จากเพื่อนบ้านที่ใกล้ที่สุด K ตัว"
   ]
  },
  {
   "cell_type": "markdown",
   "metadata": {},
   "source": [
    "#### 2.4.1 KNN-C"
   ]
  },
  {
   "cell_type": "code",
   "execution_count": 9,
   "metadata": {},
   "outputs": [],
   "source": [
    "def KNNC_find_class_each_data(all_sorted_target, K):\n",
    "    all_class = []\n",
    "    for sorted_target in all_sorted_target:\n",
    "        _class = KNNC_find_class(sorted_target, K)\n",
    "        all_class.append(_class)\n",
    "    all_class = np.array(all_class).reshape(-1, 1)\n",
    "    return all_class"
   ]
  },
  {
   "cell_type": "code",
   "execution_count": 10,
   "metadata": {},
   "outputs": [],
   "source": [
    "def KNNC_find_class(sorted_target, K):\n",
    "    unique, count_unique = np.unique(sorted_target[:K, :], return_counts = True)\n",
    "    _class = unique[count_unique.argmax()]\n",
    "    return _class"
   ]
  },
  {
   "cell_type": "markdown",
   "metadata": {},
   "source": [
    "#### 2.4.2 KNN-R"
   ]
  },
  {
   "cell_type": "code",
   "execution_count": 11,
   "metadata": {},
   "outputs": [],
   "source": [
    "def KNNR_find_value_each_data(all_sorted_target, K):\n",
    "    all_value = []\n",
    "    for sorted_target in all_sorted_target:\n",
    "        value = KNNR_find_value(sorted_target, K)\n",
    "        all_value.append(value)\n",
    "    all_value = np.array(all_value).reshape(-1, 1)\n",
    "    return all_value"
   ]
  },
  {
   "cell_type": "code",
   "execution_count": 12,
   "metadata": {},
   "outputs": [],
   "source": [
    "def KNNR_find_value(sorted_target, K):\n",
    "    value = sorted_target[:K, :].mean()\n",
    "    return value"
   ]
  },
  {
   "cell_type": "markdown",
   "metadata": {},
   "source": [
    "### 2.5 หา error ของ K แต่ละค่า และ หา K ที่ทำให้ error บน Validation Set ต่ำที่สุด"
   ]
  },
  {
   "cell_type": "markdown",
   "metadata": {},
   "source": [
    "#### 2.5.1 KNN-C"
   ]
  },
  {
   "cell_type": "code",
   "execution_count": 13,
   "metadata": {},
   "outputs": [],
   "source": [
    "def KNNC_find_error_each_K(Y_Valid, all_sorted_target, min_K, max_K):\n",
    "    K_list = [K for K in range(min_K, max_K + 1)]\n",
    "    error_list = []\n",
    "    for K in K_list:\n",
    "        K_all_class = KNNC_find_class_each_data(all_sorted_target, K)\n",
    "        K_error = find_error_classification(Y_Valid, K_all_class)\n",
    "        error_list.append(K_error)\n",
    "    return K_list, error_list"
   ]
  },
  {
   "cell_type": "code",
   "execution_count": 14,
   "metadata": {},
   "outputs": [],
   "source": [
    "def find_error_classification(Y, Yhat):\n",
    "    N = Y.shape[0]\n",
    "    error = (100/N)*(Y != Yhat).sum()\n",
    "    return error"
   ]
  },
  {
   "cell_type": "markdown",
   "metadata": {},
   "source": [
    "#### 2.5.2 KNN-R"
   ]
  },
  {
   "cell_type": "code",
   "execution_count": 15,
   "metadata": {},
   "outputs": [],
   "source": [
    "def KNNR_find_error_each_K(Y_Valid, all_sorted_target, min_K, max_K):\n",
    "    K_list = [K for K in range(min_K, max_K + 1)]\n",
    "    error_list = []\n",
    "    for K in K_list:\n",
    "        K_all_value = KNNR_find_value_each_data(all_sorted_target, K)\n",
    "        K_error = find_MAE(Y_Valid, K_all_value)\n",
    "        error_list.append(K_error)\n",
    "    return K_list, error_list"
   ]
  },
  {
   "cell_type": "code",
   "execution_count": 16,
   "metadata": {},
   "outputs": [],
   "source": [
    "def find_MAE(Y, Yhat):\n",
    "    N = Y.shape[0]\n",
    "    MAE = (np.abs(Y - Yhat)).sum()/N\n",
    "    return MAE"
   ]
  },
  {
   "cell_type": "code",
   "execution_count": 17,
   "metadata": {},
   "outputs": [],
   "source": [
    "def KNN_find_best_K(K_list, error_list):\n",
    "    K_list = np.array(K_list)\n",
    "    error_list = np.array(error_list)\n",
    "    plt.plot(K_list, error_list)\n",
    "    plt.xlabel('K')\n",
    "    plt.ylabel('Error')\n",
    "    sorted_K = K_list[error_list.argsort()]\n",
    "    error_list.sort()\n",
    "    best_K = sorted_K[0]\n",
    "    print(best_K)\n",
    "    print()\n",
    "    L = len(K_list)\n",
    "    for l in range(L):\n",
    "        print('K :', sorted_K[l], ', error :', error_list[l])\n",
    "    return best_K"
   ]
  },
  {
   "cell_type": "markdown",
   "metadata": {},
   "source": [
    "### 2.6 เรียนรู้"
   ]
  },
  {
   "cell_type": "markdown",
   "metadata": {},
   "source": [
    "#### 2.6.1 KNN-C"
   ]
  },
  {
   "cell_type": "code",
   "execution_count": 18,
   "metadata": {},
   "outputs": [],
   "source": [
    "def KNNC_fit(X_Train, Y_Train, X_Valid, Y_Valid, min_K, max_K):\n",
    "    _min = min4norm(X_Train)\n",
    "    _max = max4norm(X_Train)\n",
    "    X_Train_Norm = minmaxNorm(X_Train, _min, _max)\n",
    "    X_Valid_Norm = minmaxNorm(X_Valid, _min, _max)\n",
    "    all_distance = KNN_find_distance_each_data(X_Train_Norm, X_Valid_Norm)\n",
    "    all_sorted_target = KNN_find_sorted_target_each_data(Y_Train, all_distance)\n",
    "    K_list, error_list = KNNC_find_error_each_K(Y_Valid, all_sorted_target, min_K, max_K)\n",
    "    best_K = KNN_find_best_K(K_list, error_list)\n",
    "    return best_K"
   ]
  },
  {
   "cell_type": "markdown",
   "metadata": {},
   "source": [
    "#### 2.6.2 KNN-R"
   ]
  },
  {
   "cell_type": "code",
   "execution_count": 19,
   "metadata": {},
   "outputs": [],
   "source": [
    "def KNNR_fit(X_Train, Y_Train, X_Valid, Y_Valid, min_K, max_K):\n",
    "    _min = min4norm(X_Train)\n",
    "    _max = max4norm(X_Train)\n",
    "    X_Train_Norm = minmaxNorm(X_Train, _min, _max)\n",
    "    X_Valid_Norm = minmaxNorm(X_Valid, _min, _max)\n",
    "    all_distance = KNN_find_distance_each_data(X_Train_Norm, X_Valid_Norm)\n",
    "    all_sorted_target = KNN_find_sorted_target_each_data(Y_Train, all_distance)\n",
    "    K_list, error_list = KNNR_find_error_each_K(Y_Valid, all_sorted_target, min_K, max_K)\n",
    "    best_K = KNN_find_best_K(K_list, error_list)\n",
    "    return best_K"
   ]
  },
  {
   "cell_type": "markdown",
   "metadata": {},
   "source": [
    "### 2.7 พยากรณ์"
   ]
  },
  {
   "cell_type": "markdown",
   "metadata": {},
   "source": [
    "#### 2.7.1 KNN-C"
   ]
  },
  {
   "cell_type": "code",
   "execution_count": 20,
   "metadata": {},
   "outputs": [],
   "source": [
    "def KNNC_predict(X_Train, Y_Train, X_Test, best_K):\n",
    "    _min = min4norm(X_Train)\n",
    "    _max = max4norm(X_Train)\n",
    "    X_Train_Norm = minmaxNorm(X_Train, _min, _max)\n",
    "    X_Test_Norm = minmaxNorm(X_Test, _min, _max)\n",
    "    #all_distance = KNN_find_distance_each_data(X_Train, X_Test)\n",
    "    all_distance = KNN_find_distance_each_data(X_Train_Norm, X_Test_Norm)\n",
    "    all_sorted_target = KNN_find_sorted_target_each_data(Y_Train, all_distance)\n",
    "    Yhat_Test = KNNC_find_class_each_data(all_sorted_target, best_K)\n",
    "    return Yhat_Test"
   ]
  },
  {
   "cell_type": "markdown",
   "metadata": {},
   "source": [
    "#### 2.7.2 KNN-R"
   ]
  },
  {
   "cell_type": "code",
   "execution_count": 21,
   "metadata": {},
   "outputs": [],
   "source": [
    "def KNNR_predict(X_Train, Y_Train, X_Test, best_K):\n",
    "    _min = min4norm(X_Train)\n",
    "    _max = max4norm(X_Train)\n",
    "    X_Train_Norm = minmaxNorm(X_Train, _min, _max)\n",
    "    X_Test_Norm = minmaxNorm(X_Test, _min, _max)\n",
    "    #all_distance = KNN_find_distance_each_data(X_Train, X_Test)\n",
    "    all_distance = KNN_find_distance_each_data(X_Train_Norm, X_Test_Norm)\n",
    "    all_sorted_target = KNN_find_sorted_target_each_data(Y_Train, all_distance)\n",
    "    Yhat_Test = KNNR_find_value_each_data(all_sorted_target, best_K)\n",
    "    return Yhat_Test"
   ]
  },
  {
   "cell_type": "markdown",
   "metadata": {},
   "source": [
    "# 3. Read Data & Prepare Data"
   ]
  },
  {
   "cell_type": "code",
   "execution_count": 3,
   "metadata": {},
   "outputs": [],
   "source": [
    "#conda install -c anaconda xlrd\n",
    "Data = pd.read_excel('BMI_Dataset_Classification.xlsx', usecols = 'A:C')"
   ]
  },
  {
   "cell_type": "code",
   "execution_count": 4,
   "metadata": {
    "scrolled": true
   },
   "outputs": [
    {
     "data": {
      "text/html": [
       "<div>\n",
       "<style scoped>\n",
       "    .dataframe tbody tr th:only-of-type {\n",
       "        vertical-align: middle;\n",
       "    }\n",
       "\n",
       "    .dataframe tbody tr th {\n",
       "        vertical-align: top;\n",
       "    }\n",
       "\n",
       "    .dataframe thead th {\n",
       "        text-align: right;\n",
       "    }\n",
       "</style>\n",
       "<table border=\"1\" class=\"dataframe\">\n",
       "  <thead>\n",
       "    <tr style=\"text-align: right;\">\n",
       "      <th></th>\n",
       "      <th>Weight</th>\n",
       "      <th>Height</th>\n",
       "      <th>Target</th>\n",
       "    </tr>\n",
       "  </thead>\n",
       "  <tbody>\n",
       "    <tr>\n",
       "      <th>0</th>\n",
       "      <td>66.17</td>\n",
       "      <td>185.21</td>\n",
       "      <td>normal</td>\n",
       "    </tr>\n",
       "    <tr>\n",
       "      <th>1</th>\n",
       "      <td>71.27</td>\n",
       "      <td>168.91</td>\n",
       "      <td>fat lv3</td>\n",
       "    </tr>\n",
       "    <tr>\n",
       "      <th>2</th>\n",
       "      <td>73.17</td>\n",
       "      <td>179.83</td>\n",
       "      <td>normal</td>\n",
       "    </tr>\n",
       "    <tr>\n",
       "      <th>3</th>\n",
       "      <td>81.74</td>\n",
       "      <td>171.76</td>\n",
       "      <td>fat lv2</td>\n",
       "    </tr>\n",
       "    <tr>\n",
       "      <th>4</th>\n",
       "      <td>92.97</td>\n",
       "      <td>172.89</td>\n",
       "      <td>fat lv3</td>\n",
       "    </tr>\n",
       "    <tr>\n",
       "      <th>...</th>\n",
       "      <td>...</td>\n",
       "      <td>...</td>\n",
       "      <td>...</td>\n",
       "    </tr>\n",
       "    <tr>\n",
       "      <th>995</th>\n",
       "      <td>63.24</td>\n",
       "      <td>141.45</td>\n",
       "      <td>fat lv3</td>\n",
       "    </tr>\n",
       "    <tr>\n",
       "      <th>996</th>\n",
       "      <td>47.55</td>\n",
       "      <td>166.64</td>\n",
       "      <td>thin</td>\n",
       "    </tr>\n",
       "    <tr>\n",
       "      <th>997</th>\n",
       "      <td>68.10</td>\n",
       "      <td>168.52</td>\n",
       "      <td>fat lv1</td>\n",
       "    </tr>\n",
       "    <tr>\n",
       "      <th>998</th>\n",
       "      <td>74.39</td>\n",
       "      <td>169.24</td>\n",
       "      <td>fat lv2</td>\n",
       "    </tr>\n",
       "    <tr>\n",
       "      <th>999</th>\n",
       "      <td>65.95</td>\n",
       "      <td>174.37</td>\n",
       "      <td>normal</td>\n",
       "    </tr>\n",
       "  </tbody>\n",
       "</table>\n",
       "<p>1000 rows × 3 columns</p>\n",
       "</div>"
      ],
      "text/plain": [
       "     Weight  Height   Target\n",
       "0     66.17  185.21   normal\n",
       "1     71.27  168.91  fat lv3\n",
       "2     73.17  179.83   normal\n",
       "3     81.74  171.76  fat lv2\n",
       "4     92.97  172.89  fat lv3\n",
       "..      ...     ...      ...\n",
       "995   63.24  141.45  fat lv3\n",
       "996   47.55  166.64     thin\n",
       "997   68.10  168.52  fat lv1\n",
       "998   74.39  169.24  fat lv2\n",
       "999   65.95  174.37   normal\n",
       "\n",
       "[1000 rows x 3 columns]"
      ]
     },
     "execution_count": 4,
     "metadata": {},
     "output_type": "execute_result"
    }
   ],
   "source": [
    "Data"
   ]
  },
  {
   "cell_type": "code",
   "execution_count": 5,
   "metadata": {},
   "outputs": [],
   "source": [
    "DataMatrix = Data.values"
   ]
  },
  {
   "cell_type": "code",
   "execution_count": 6,
   "metadata": {
    "scrolled": true
   },
   "outputs": [
    {
     "data": {
      "text/plain": [
       "(1000, 3)"
      ]
     },
     "execution_count": 6,
     "metadata": {},
     "output_type": "execute_result"
    }
   ],
   "source": [
    "DataMatrix.shape"
   ]
  },
  {
   "cell_type": "code",
   "execution_count": 7,
   "metadata": {},
   "outputs": [],
   "source": [
    "D = DataMatrix.shape[1] - 1"
   ]
  },
  {
   "cell_type": "code",
   "execution_count": 8,
   "metadata": {},
   "outputs": [
    {
     "data": {
      "text/plain": [
       "array([[ 66.17, 185.21],\n",
       "       [ 71.27, 168.91],\n",
       "       [ 73.17, 179.83],\n",
       "       ...,\n",
       "       [ 68.1 , 168.52],\n",
       "       [ 74.39, 169.24],\n",
       "       [ 65.95, 174.37]], dtype=float32)"
      ]
     },
     "execution_count": 8,
     "metadata": {},
     "output_type": "execute_result"
    }
   ],
   "source": [
    "X = DataMatrix[:, :D]\n",
    "X = np.array(X, dtype=np.float32)\n",
    "X "
   ]
  },
  {
   "cell_type": "code",
   "execution_count": 9,
   "metadata": {},
   "outputs": [],
   "source": [
    "Y = DataMatrix[:, D:]"
   ]
  },
  {
   "cell_type": "code",
   "execution_count": 10,
   "metadata": {},
   "outputs": [],
   "source": [
    "start_train = 0\n",
    "end_train = -300\n",
    "end_valid = -150\n",
    "# end_test = -1"
   ]
  },
  {
   "cell_type": "code",
   "execution_count": 11,
   "metadata": {},
   "outputs": [],
   "source": [
    "X_Train = X[start_train:end_train, :]\n",
    "Y_Train = Y[start_train:end_train, :]\n",
    "\n",
    "X_Valid = X[end_train:end_valid, :]\n",
    "Y_Valid = Y[end_train:end_valid, :]\n",
    "\n",
    "X_Test = X[end_valid:, :]\n",
    "Y_Test = Y[end_valid:, :]"
   ]
  },
  {
   "cell_type": "code",
   "execution_count": 14,
   "metadata": {},
   "outputs": [
    {
     "data": {
      "text/plain": [
       "(700, 2)"
      ]
     },
     "execution_count": 14,
     "metadata": {},
     "output_type": "execute_result"
    }
   ],
   "source": [
    "X_Train.shape"
   ]
  },
  {
   "cell_type": "code",
   "execution_count": 13,
   "metadata": {},
   "outputs": [
    {
     "data": {
      "text/plain": [
       "(150, 2)"
      ]
     },
     "execution_count": 13,
     "metadata": {},
     "output_type": "execute_result"
    }
   ],
   "source": [
    "X_Valid.shape"
   ]
  },
  {
   "cell_type": "code",
   "execution_count": 12,
   "metadata": {},
   "outputs": [
    {
     "data": {
      "text/plain": [
       "(150, 1)"
      ]
     },
     "execution_count": 12,
     "metadata": {},
     "output_type": "execute_result"
    }
   ],
   "source": [
    "Y_Test.shape"
   ]
  },
  {
   "cell_type": "markdown",
   "metadata": {},
   "source": [
    "# 4. Create Model"
   ]
  },
  {
   "cell_type": "code",
   "execution_count": 32,
   "metadata": {},
   "outputs": [
    {
     "name": "stdout",
     "output_type": "stream",
     "text": [
      "7\n",
      "\n",
      "K : 7 , error : 5.333333333333333\n",
      "K : 1 , error : 6.0\n",
      "K : 3 , error : 6.666666666666666\n",
      "K : 2 , error : 7.333333333333333\n",
      "K : 4 , error : 7.333333333333333\n",
      "K : 6 , error : 7.333333333333333\n",
      "K : 9 , error : 7.333333333333333\n",
      "K : 11 , error : 8.0\n",
      "K : 10 , error : 8.0\n",
      "K : 15 , error : 8.0\n",
      "K : 5 , error : 8.0\n",
      "K : 8 , error : 8.0\n",
      "K : 13 , error : 8.666666666666666\n",
      "K : 14 , error : 8.666666666666666\n",
      "K : 16 , error : 8.666666666666666\n",
      "K : 12 , error : 9.333333333333332\n",
      "K : 21 , error : 9.333333333333332\n",
      "K : 25 , error : 10.0\n",
      "K : 24 , error : 10.0\n",
      "K : 22 , error : 10.0\n",
      "K : 20 , error : 10.0\n",
      "K : 17 , error : 10.0\n",
      "K : 19 , error : 10.0\n",
      "K : 18 , error : 10.666666666666666\n",
      "K : 23 , error : 10.666666666666666\n",
      "K : 27 , error : 10.666666666666666\n",
      "K : 29 , error : 11.333333333333332\n",
      "K : 26 , error : 11.333333333333332\n",
      "K : 30 , error : 12.0\n",
      "K : 28 , error : 12.666666666666666\n"
     ]
    },
    {
     "data": {
      "image/png": "[encoded data removed]",
      "text/plain": [
       "<Figure size 432x288 with 1 Axes>"
      ]
     },
     "metadata": {
      "needs_background": "light"
     },
     "output_type": "display_data"
    }
   ],
   "source": [
    "best_K = KNNC_fit(X_Train, Y_Train, X_Valid, Y_Valid, 1, 30)"
   ]
  },
  {
   "cell_type": "markdown",
   "metadata": {},
   "source": [
    "# 5. Make Prediction"
   ]
  },
  {
   "cell_type": "code",
   "execution_count": 33,
   "metadata": {},
   "outputs": [
    {
     "data": {
      "text/plain": [
       "(150, 2)"
      ]
     },
     "execution_count": 33,
     "metadata": {},
     "output_type": "execute_result"
    }
   ],
   "source": [
    "X_Test.shape"
   ]
  },
  {
   "cell_type": "code",
   "execution_count": 34,
   "metadata": {},
   "outputs": [
    {
     "data": {
      "text/plain": [
       "(150, 1)"
      ]
     },
     "execution_count": 34,
     "metadata": {},
     "output_type": "execute_result"
    }
   ],
   "source": [
    "Yhat_Test = KNNC_predict(X_Train, Y_Train, X_Test, best_K)\n",
    "Y_Test.shape"
   ]
  },
  {
   "cell_type": "code",
   "execution_count": 35,
   "metadata": {},
   "outputs": [
    {
     "data": {
      "text/plain": [
       "(150, 1)"
      ]
     },
     "execution_count": 35,
     "metadata": {},
     "output_type": "execute_result"
    }
   ],
   "source": [
    "Yhat_Test.shape"
   ]
  },
  {
   "cell_type": "code",
   "execution_count": 36,
   "metadata": {},
   "outputs": [],
   "source": [
    "error_Test = find_error_classification(Y_Test, Yhat_Test)"
   ]
  },
  {
   "cell_type": "code",
   "execution_count": 37,
   "metadata": {},
   "outputs": [
    {
     "data": {
      "text/plain": [
       "10.0"
      ]
     },
     "execution_count": 37,
     "metadata": {},
     "output_type": "execute_result"
    }
   ],
   "source": [
    "error_Test"
   ]
  },
  {
   "cell_type": "code",
   "execution_count": 38,
   "metadata": {},
   "outputs": [
    {
     "data": {
      "text/plain": [
       "array([['fat lv2', 'fat lv2'],\n",
       "       ['fat lv2', 'fat lv2'],\n",
       "       ['fat lv3', 'fat lv3'],\n",
       "       ['fat lv2', 'fat lv2'],\n",
       "       ['fat lv2', 'fat lv2'],\n",
       "       ['normal', 'normal'],\n",
       "       ['normal', 'normal'],\n",
       "       ['fat lv1', 'fat lv3'],\n",
       "       ['fat lv1', 'fat lv1'],\n",
       "       ['fat lv1', 'fat lv1'],\n",
       "       ['normal', 'normal'],\n",
       "       ['normal', 'normal'],\n",
       "       ['normal', 'normal'],\n",
       "       ['fat lv2', 'fat lv2'],\n",
       "       ['normal', 'normal'],\n",
       "       ['fat lv3', 'fat lv3'],\n",
       "       ['fat lv1', 'fat lv1'],\n",
       "       ['normal', 'normal'],\n",
       "       ['fat lv3', 'fat lv3'],\n",
       "       ['normal', 'normal'],\n",
       "       ['fat lv1', 'fat lv1'],\n",
       "       ['fat lv2', 'fat lv2'],\n",
       "       ['fat lv1', 'fat lv1'],\n",
       "       ['normal', 'normal'],\n",
       "       ['fat lv1', 'fat lv1'],\n",
       "       ['fat lv1', 'fat lv1'],\n",
       "       ['fat lv1', 'fat lv1'],\n",
       "       ['normal', 'normal'],\n",
       "       ['fat lv2', 'fat lv2'],\n",
       "       ['normal', 'normal'],\n",
       "       ['normal', 'normal'],\n",
       "       ['fat lv1', 'fat lv1'],\n",
       "       ['fat lv2', 'fat lv2'],\n",
       "       ['fat lv3', 'fat lv3'],\n",
       "       ['normal', 'normal'],\n",
       "       ['normal', 'normal'],\n",
       "       ['fat lv2', 'fat lv2'],\n",
       "       ['fat lv2', 'fat lv2'],\n",
       "       ['normal', 'normal'],\n",
       "       ['normal', 'normal'],\n",
       "       ['fat lv2', 'fat lv2'],\n",
       "       ['fat lv2', 'fat lv3'],\n",
       "       ['thin', 'thin'],\n",
       "       ['normal', 'normal'],\n",
       "       ['fat lv2', 'fat lv2'],\n",
       "       ['fat lv1', 'fat lv1'],\n",
       "       ['fat lv1', 'fat lv1'],\n",
       "       ['thin', 'thin'],\n",
       "       ['fat lv2', 'fat lv2'],\n",
       "       ['normal', 'normal'],\n",
       "       ['fat lv1', 'fat lv1'],\n",
       "       ['normal', 'normal'],\n",
       "       ['normal', 'normal'],\n",
       "       ['normal', 'normal'],\n",
       "       ['normal', 'normal'],\n",
       "       ['normal', 'normal'],\n",
       "       ['normal', 'normal'],\n",
       "       ['fat lv3', 'fat lv3'],\n",
       "       ['fat lv2', 'fat lv2'],\n",
       "       ['normal', 'normal'],\n",
       "       ['normal', 'thin'],\n",
       "       ['fat lv2', 'fat lv2'],\n",
       "       ['normal', 'normal'],\n",
       "       ['normal', 'normal'],\n",
       "       ['fat lv2', 'fat lv2'],\n",
       "       ['normal', 'normal'],\n",
       "       ['fat lv2', 'fat lv2'],\n",
       "       ['fat lv2', 'fat lv2'],\n",
       "       ['normal', 'normal'],\n",
       "       ['fat lv3', 'fat lv3'],\n",
       "       ['fat lv3', 'fat lv3'],\n",
       "       ['normal', 'normal'],\n",
       "       ['fat lv2', 'fat lv3'],\n",
       "       ['fat lv1', 'normal'],\n",
       "       ['fat lv1', 'fat lv3'],\n",
       "       ['normal', 'normal'],\n",
       "       ['fat lv3', 'fat lv3'],\n",
       "       ['fat lv1', 'fat lv1'],\n",
       "       ['fat lv3', 'fat lv3'],\n",
       "       ['normal', 'normal'],\n",
       "       ['fat lv3', 'fat lv3'],\n",
       "       ['thin', 'thin'],\n",
       "       ['fat lv1', 'fat lv1'],\n",
       "       ['fat lv1', 'fat lv1'],\n",
       "       ['fat lv1', 'fat lv3'],\n",
       "       ['normal', 'normal'],\n",
       "       ['fat lv2', 'fat lv2'],\n",
       "       ['fat lv2', 'fat lv2'],\n",
       "       ['fat lv2', 'fat lv2'],\n",
       "       ['normal', 'normal'],\n",
       "       ['fat lv2', 'fat lv2'],\n",
       "       ['fat lv3', 'fat lv3'],\n",
       "       ['fat lv2', 'fat lv2'],\n",
       "       ['normal', 'normal'],\n",
       "       ['fat lv3', 'fat lv3'],\n",
       "       ['fat lv2', 'fat lv2'],\n",
       "       ['normal', 'normal'],\n",
       "       ['fat lv2', 'fat lv2'],\n",
       "       ['fat lv3', 'fat lv2'],\n",
       "       ['normal', 'normal'],\n",
       "       ['fat lv3', 'fat lv3'],\n",
       "       ['fat lv2', 'fat lv2'],\n",
       "       ['fat lv2', 'fat lv2'],\n",
       "       ['normal', 'normal'],\n",
       "       ['fat lv2', 'fat lv3'],\n",
       "       ['normal', 'normal'],\n",
       "       ['fat lv1', 'fat lv1'],\n",
       "       ['fat lv1', 'fat lv1'],\n",
       "       ['normal', 'fat lv1'],\n",
       "       ['normal', 'normal'],\n",
       "       ['fat lv3', 'fat lv3'],\n",
       "       ['fat lv3', 'fat lv3'],\n",
       "       ['fat lv2', 'fat lv2'],\n",
       "       ['fat lv1', 'fat lv1'],\n",
       "       ['normal', 'thin'],\n",
       "       ['fat lv2', 'fat lv2'],\n",
       "       ['normal', 'normal'],\n",
       "       ['normal', 'normal'],\n",
       "       ['fat lv3', 'fat lv3'],\n",
       "       ['fat lv1', 'fat lv1'],\n",
       "       ['fat lv1', 'fat lv1'],\n",
       "       ['normal', 'normal'],\n",
       "       ['fat lv3', 'fat lv3'],\n",
       "       ['fat lv1', 'fat lv1'],\n",
       "       ['fat lv2', 'fat lv2'],\n",
       "       ['fat lv2', 'fat lv2'],\n",
       "       ['fat lv3', 'fat lv2'],\n",
       "       ['normal', 'thin'],\n",
       "       ['fat lv1', 'fat lv1'],\n",
       "       ['fat lv2', 'fat lv2'],\n",
       "       ['normal', 'normal'],\n",
       "       ['fat lv2', 'fat lv2'],\n",
       "       ['normal', 'normal'],\n",
       "       ['fat lv2', 'fat lv2'],\n",
       "       ['fat lv3', 'fat lv3'],\n",
       "       ['fat lv2', 'fat lv2'],\n",
       "       ['normal', 'normal'],\n",
       "       ['normal', 'normal'],\n",
       "       ['normal', 'normal'],\n",
       "       ['normal', 'normal'],\n",
       "       ['fat lv3', 'fat lv3'],\n",
       "       ['fat lv3', 'fat lv3'],\n",
       "       ['fat lv1', 'fat lv1'],\n",
       "       ['normal', 'normal'],\n",
       "       ['fat lv2', 'fat lv3'],\n",
       "       ['fat lv2', 'fat lv3'],\n",
       "       ['thin', 'thin'],\n",
       "       ['fat lv1', 'fat lv1'],\n",
       "       ['fat lv2', 'fat lv2'],\n",
       "       ['normal', 'normal']], dtype=object)"
      ]
     },
     "execution_count": 38,
     "metadata": {},
     "output_type": "execute_result"
    }
   ],
   "source": [
    "np.hstack([Yhat_Test, Y_Test])"
   ]
  },
  {
   "cell_type": "code",
   "execution_count": 39,
   "metadata": {},
   "outputs": [
    {
     "name": "stdout",
     "output_type": "stream",
     "text": [
      "1\n",
      "\n",
      "K : 1 , error : 8.666666666666666\n",
      "K : 4 , error : 9.333333333333332\n",
      "K : 5 , error : 9.333333333333332\n",
      "K : 3 , error : 10.0\n",
      "K : 6 , error : 10.0\n",
      "K : 7 , error : 10.0\n",
      "K : 8 , error : 10.0\n",
      "K : 9 , error : 10.0\n",
      "K : 10 , error : 10.0\n",
      "K : 11 , error : 10.666666666666666\n",
      "K : 13 , error : 10.666666666666666\n",
      "K : 2 , error : 11.333333333333332\n",
      "K : 12 , error : 11.333333333333332\n",
      "K : 20 , error : 11.333333333333332\n",
      "K : 17 , error : 12.0\n",
      "K : 15 , error : 12.0\n",
      "K : 14 , error : 12.0\n",
      "K : 21 , error : 12.666666666666666\n",
      "K : 24 , error : 12.666666666666666\n",
      "K : 25 , error : 12.666666666666666\n",
      "K : 16 , error : 12.666666666666666\n",
      "K : 19 , error : 13.333333333333332\n",
      "K : 22 , error : 13.333333333333332\n",
      "K : 23 , error : 13.333333333333332\n",
      "K : 18 , error : 14.0\n",
      "K : 26 , error : 14.666666666666666\n",
      "K : 27 , error : 14.666666666666666\n",
      "K : 29 , error : 15.333333333333332\n",
      "K : 28 , error : 16.0\n",
      "K : 30 , error : 16.666666666666664\n"
     ]
    },
    {
     "data": {
      "image/png": "[encoded data removed]",
      "text/plain": [
       "<Figure size 432x288 with 1 Axes>"
      ]
     },
     "metadata": {
      "needs_background": "light"
     },
     "output_type": "display_data"
    }
   ],
   "source": [
    "best_K = KNNC_fit(X_Train, Y_Train, X_Test, Y_Test, 1, 30)"
   ]
  }
 ],
 "metadata": {
  "kernelspec": {
   "display_name": "Python 3",
   "language": "python",
   "name": "python3"
  },
  "language_info": {
   "codemirror_mode": {
    "name": "ipython",
    "version": 3
   },
   "file_extension": ".py",
   "mimetype": "text/x-python",
   "name": "python",
   "nbconvert_exporter": "python",
   "pygments_lexer": "ipython3",
   "version": "3.7.6"
  }
 },
 "nbformat": 4,
 "nbformat_minor": 2
}
