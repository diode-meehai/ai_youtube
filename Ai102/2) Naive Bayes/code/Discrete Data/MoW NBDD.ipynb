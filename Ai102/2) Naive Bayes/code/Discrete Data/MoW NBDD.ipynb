{
 "cells": [
  {
   "cell_type": "markdown",
   "metadata": {},
   "source": [
    "# 1. Import Library"
   ]
  },
  {
   "cell_type": "code",
   "execution_count": 1,
   "metadata": {},
   "outputs": [],
   "source": [
    "import numpy as np\n",
    "import pandas as pd\n",
    "import matplotlib.pyplot as plt\n",
    "%matplotlib inline"
   ]
  },
  {
   "cell_type": "markdown",
   "metadata": {},
   "source": [
    "# 2. Write Function"
   ]
  },
  {
   "cell_type": "markdown",
   "metadata": {},
   "source": [
    "### 2.1 สร้าง Dictionary สำหรับนับจำนวนสมาชิก และ เก็บความน่าจะเป็น"
   ]
  },
  {
   "cell_type": "code",
   "execution_count": 2,
   "metadata": {},
   "outputs": [],
   "source": [
    "def NB_create_DictStorage(Feature_Name, Feature_Value, All_Class):\n",
    "    DictStorage = {}\n",
    "    n_class = len(All_Class)\n",
    "    n_columns = n_class + 1\n",
    "    D = len(Feature_Name)\n",
    "    for d in range(D):\n",
    "        fn = Feature_Name[d]\n",
    "        n_value = len(Feature_Value[d])\n",
    "        n_rows = n_value + 1\n",
    "        MatrixStorage = np.zeros([n_rows, n_columns], dtype='object')\n",
    "        for c in range(n_class):\n",
    "            MatrixStorage[0, c+1] = All_Class[c]\n",
    "        for r in range(n_value):\n",
    "            MatrixStorage[r+1, 0] = Feature_Value[d][r]\n",
    "        DictStorage[fn] = MatrixStorage\n",
    "    return DictStorage"
   ]
  },
  {
   "cell_type": "code",
   "execution_count": 3,
   "metadata": {},
   "outputs": [],
   "source": [
    "def NB_find_Feature_Value(X_Train, Feature_Name):\n",
    "    Feature_Value = []\n",
    "    D = len(Feature_Name)\n",
    "    for d in range(D):\n",
    "        Value = np.unique(X_Train[:, d])\n",
    "        Feature_Value.append(Value)\n",
    "    return Feature_Value"
   ]
  },
  {
   "cell_type": "markdown",
   "metadata": {},
   "source": [
    "### 2.2 นับจำนวนสมาชิกจาก Training Set เพื่อใส่ใน Count_Matrix"
   ]
  },
  {
   "cell_type": "code",
   "execution_count": 4,
   "metadata": {},
   "outputs": [],
   "source": [
    "def NB_count_element(X_Train, Y_Train, Feature_Name, empty_Count):\n",
    "    D = len(Feature_Name)\n",
    "    for d in range(D):\n",
    "        fn = Feature_Name[d]\n",
    "        n_rows, n_columns = empty_Count[fn].shape\n",
    "        for c in range(1, n_columns):\n",
    "            filter_class = (Y_Train[:, 0] == empty_Count[fn][0, c])\n",
    "            for r in range(1, n_rows):\n",
    "                filter_feature = (X_Train[:, d] == empty_Count[fn][r, 0])\n",
    "                empty_Count[fn][r, c] = (filter_feature & filter_class).sum()\n",
    "    return empty_Count"
   ]
  },
  {
   "cell_type": "markdown",
   "metadata": {},
   "source": [
    "### 2.3 คำนวณความน่าจะเป็นจาก Count_Matrix เพื่อใส่ใน Prob_Matrix"
   ]
  },
  {
   "cell_type": "code",
   "execution_count": 5,
   "metadata": {},
   "outputs": [],
   "source": [
    "def NB_calculate_prob(empty_Prob, Count_Matrix, Count_All_Class, Feature_Name):\n",
    "    D = len(Feature_Name)\n",
    "    for d in range(D):\n",
    "        fn = Feature_Name[d]\n",
    "        empty_Prob[fn][1:,1:] = Count_Matrix[fn][1:,1:]/Count_All_Class\n",
    "    return empty_Prob"
   ]
  },
  {
   "cell_type": "markdown",
   "metadata": {},
   "source": [
    "### 2.4 เรียนรู้"
   ]
  },
  {
   "cell_type": "code",
   "execution_count": 6,
   "metadata": {},
   "outputs": [],
   "source": [
    "def NBDD_fit(X_Train, Y_Train, Feature_Name, Feature_Value, All_Class, Count_All_Class):\n",
    "    empty_Count = NB_create_DictStorage(Feature_Name, Feature_Value, All_Class)\n",
    "    Count_Matrix = NB_count_element(X_Train, Y_Train, Feature_Name, empty_Count)\n",
    "    empty_Prob = NB_create_DictStorage(Feature_Name, Feature_Value, All_Class)\n",
    "    Prob_Matrix = NB_calculate_prob(empty_Prob, Count_Matrix, Count_All_Class, Feature_Name)\n",
    "    return Count_Matrix, Prob_Matrix"
   ]
  },
  {
   "cell_type": "markdown",
   "metadata": {},
   "source": [
    "### 2.5 พยากรณ์"
   ]
  },
  {
   "cell_type": "code",
   "execution_count": 7,
   "metadata": {},
   "outputs": [],
   "source": [
    "def NBDD_predict(X_Test, Prob_Matrix, Feature_Name, Feature_Value, All_Class, Count_All_Class, top = 1):\n",
    "    prob_class = Count_All_Class/(Count_All_Class.sum())\n",
    "    Yhat = []\n",
    "    D = len(Feature_Name)\n",
    "    C = len(All_Class)\n",
    "    for x_test in X_Test:\n",
    "        prob_fgc = np.zeros([D, C])\n",
    "        for d in range(D):\n",
    "            fn = Feature_Name[d]\n",
    "            r = np.argwhere(Feature_Value[d] == x_test[d]).ravel()[0]\n",
    "            prob_fgc[d, :] = Prob_Matrix[fn][r+1, 1:]\n",
    "        prob_afgc = prob_fgc.prod(axis=0)\n",
    "        prob_nb = prob_class*prob_afgc\n",
    "        sorted_class = All_Class[prob_nb.argsort()[::-1]]\n",
    "        Yhat.append(sorted_class)\n",
    "    return np.array(Yhat)[:, :top]"
   ]
  },
  {
   "cell_type": "code",
   "execution_count": 8,
   "metadata": {},
   "outputs": [],
   "source": [
    "def find_error_classification(Y, Yhat):\n",
    "    N = Y.shape[0]\n",
    "    error = (100/N)*(Y != Yhat).sum()\n",
    "    return error"
   ]
  },
  {
   "cell_type": "markdown",
   "metadata": {},
   "source": [
    "# 3. Read Data & Prepare Data"
   ]
  },
  {
   "cell_type": "code",
   "execution_count": 9,
   "metadata": {},
   "outputs": [],
   "source": [
    "Data = pd.read_excel('Men_or_Women.xlsx')"
   ]
  },
  {
   "cell_type": "code",
   "execution_count": 10,
   "metadata": {},
   "outputs": [
    {
     "data": {
      "text/html": [
       "<div>\n",
       "<style scoped>\n",
       "    .dataframe tbody tr th:only-of-type {\n",
       "        vertical-align: middle;\n",
       "    }\n",
       "\n",
       "    .dataframe tbody tr th {\n",
       "        vertical-align: top;\n",
       "    }\n",
       "\n",
       "    .dataframe thead th {\n",
       "        text-align: right;\n",
       "    }\n",
       "</style>\n",
       "<table border=\"1\" class=\"dataframe\">\n",
       "  <thead>\n",
       "    <tr style=\"text-align: right;\">\n",
       "      <th></th>\n",
       "      <th>hair_style</th>\n",
       "      <th>sound_style</th>\n",
       "      <th>has_earring</th>\n",
       "      <th>Class</th>\n",
       "    </tr>\n",
       "  </thead>\n",
       "  <tbody>\n",
       "    <tr>\n",
       "      <td>0</td>\n",
       "      <td>short</td>\n",
       "      <td>low-pitched</td>\n",
       "      <td>yes</td>\n",
       "      <td>men</td>\n",
       "    </tr>\n",
       "    <tr>\n",
       "      <td>1</td>\n",
       "      <td>long</td>\n",
       "      <td>high-pitched</td>\n",
       "      <td>yes</td>\n",
       "      <td>women</td>\n",
       "    </tr>\n",
       "    <tr>\n",
       "      <td>2</td>\n",
       "      <td>long</td>\n",
       "      <td>low-pitched</td>\n",
       "      <td>yes</td>\n",
       "      <td>women</td>\n",
       "    </tr>\n",
       "    <tr>\n",
       "      <td>3</td>\n",
       "      <td>long</td>\n",
       "      <td>low-pitched</td>\n",
       "      <td>no</td>\n",
       "      <td>men</td>\n",
       "    </tr>\n",
       "    <tr>\n",
       "      <td>4</td>\n",
       "      <td>long</td>\n",
       "      <td>high-pitched</td>\n",
       "      <td>yes</td>\n",
       "      <td>women</td>\n",
       "    </tr>\n",
       "    <tr>\n",
       "      <td>...</td>\n",
       "      <td>...</td>\n",
       "      <td>...</td>\n",
       "      <td>...</td>\n",
       "      <td>...</td>\n",
       "    </tr>\n",
       "    <tr>\n",
       "      <td>2032</td>\n",
       "      <td>long</td>\n",
       "      <td>high-pitched</td>\n",
       "      <td>yes</td>\n",
       "      <td>women</td>\n",
       "    </tr>\n",
       "    <tr>\n",
       "      <td>2033</td>\n",
       "      <td>long</td>\n",
       "      <td>high-pitched</td>\n",
       "      <td>yes</td>\n",
       "      <td>women</td>\n",
       "    </tr>\n",
       "    <tr>\n",
       "      <td>2034</td>\n",
       "      <td>long</td>\n",
       "      <td>low-pitched</td>\n",
       "      <td>yes</td>\n",
       "      <td>women</td>\n",
       "    </tr>\n",
       "    <tr>\n",
       "      <td>2035</td>\n",
       "      <td>short</td>\n",
       "      <td>low-pitched</td>\n",
       "      <td>no</td>\n",
       "      <td>men</td>\n",
       "    </tr>\n",
       "    <tr>\n",
       "      <td>2036</td>\n",
       "      <td>long</td>\n",
       "      <td>high-pitched</td>\n",
       "      <td>yes</td>\n",
       "      <td>women</td>\n",
       "    </tr>\n",
       "  </tbody>\n",
       "</table>\n",
       "<p>2037 rows × 4 columns</p>\n",
       "</div>"
      ],
      "text/plain": [
       "     hair_style   sound_style has_earring  Class\n",
       "0         short   low-pitched         yes    men\n",
       "1          long  high-pitched         yes  women\n",
       "2          long   low-pitched         yes  women\n",
       "3          long   low-pitched          no    men\n",
       "4          long  high-pitched         yes  women\n",
       "...         ...           ...         ...    ...\n",
       "2032       long  high-pitched         yes  women\n",
       "2033       long  high-pitched         yes  women\n",
       "2034       long   low-pitched         yes  women\n",
       "2035      short   low-pitched          no    men\n",
       "2036       long  high-pitched         yes  women\n",
       "\n",
       "[2037 rows x 4 columns]"
      ]
     },
     "execution_count": 10,
     "metadata": {},
     "output_type": "execute_result"
    }
   ],
   "source": [
    "Data"
   ]
  },
  {
   "cell_type": "code",
   "execution_count": 11,
   "metadata": {},
   "outputs": [],
   "source": [
    "DataMatrix = Data.values"
   ]
  },
  {
   "cell_type": "code",
   "execution_count": 12,
   "metadata": {},
   "outputs": [
    {
     "data": {
      "text/plain": [
       "(2037, 4)"
      ]
     },
     "execution_count": 12,
     "metadata": {},
     "output_type": "execute_result"
    }
   ],
   "source": [
    "DataMatrix.shape"
   ]
  },
  {
   "cell_type": "code",
   "execution_count": 13,
   "metadata": {},
   "outputs": [],
   "source": [
    "D = DataMatrix.shape[1] - 1"
   ]
  },
  {
   "cell_type": "code",
   "execution_count": 14,
   "metadata": {},
   "outputs": [],
   "source": [
    "X = DataMatrix[:, :D]\n",
    "Y = DataMatrix[:, D:]"
   ]
  },
  {
   "cell_type": "code",
   "execution_count": 15,
   "metadata": {},
   "outputs": [],
   "source": [
    "start_train = 0\n",
    "end_train = -150\n",
    "# end_valid = -50\n",
    "# end_test = -1"
   ]
  },
  {
   "cell_type": "code",
   "execution_count": 16,
   "metadata": {},
   "outputs": [],
   "source": [
    "X_Train = X[start_train:end_train, :]\n",
    "Y_Train = Y[start_train:end_train, :]\n",
    "\n",
    "# X_Valid = X[end_train:end_valid, :]\n",
    "# Y_Valid = Y[end_train:end_valid, :]\n",
    "\n",
    "X_Test = X[end_train:, :]\n",
    "Y_Test = Y[end_train:, :]"
   ]
  },
  {
   "cell_type": "code",
   "execution_count": 25,
   "metadata": {},
   "outputs": [
    {
     "data": {
      "text/plain": [
       "array(['short', 'low-pitched', 'yes'], dtype=object)"
      ]
     },
     "execution_count": 25,
     "metadata": {},
     "output_type": "execute_result"
    }
   ],
   "source": [
    "X_Train[0]"
   ]
  },
  {
   "cell_type": "code",
   "execution_count": 26,
   "metadata": {},
   "outputs": [
    {
     "data": {
      "text/plain": [
       "array(['long', 'high-pitched', 'yes'], dtype=object)"
      ]
     },
     "execution_count": 26,
     "metadata": {},
     "output_type": "execute_result"
    }
   ],
   "source": [
    "X_Test[0]"
   ]
  },
  {
   "cell_type": "markdown",
   "metadata": {},
   "source": [
    "# 4. Create Model"
   ]
  },
  {
   "cell_type": "code",
   "execution_count": 18,
   "metadata": {},
   "outputs": [],
   "source": [
    "Feature_Name = np.array(Data.columns[:-1])\n",
    "Feature_Value = NB_find_Feature_Value(X_Train, Feature_Name)\n",
    "All_Class, Count_All_Class = np.unique(Y_Train[:, :], return_counts = True)"
   ]
  },
  {
   "cell_type": "code",
   "execution_count": 27,
   "metadata": {},
   "outputs": [
    {
     "name": "stdout",
     "output_type": "stream",
     "text": [
      "['hair_style' 'sound_style' 'has_earring']\n"
     ]
    }
   ],
   "source": [
    "print(Feature_Name)"
   ]
  },
  {
   "cell_type": "code",
   "execution_count": 28,
   "metadata": {},
   "outputs": [
    {
     "name": "stdout",
     "output_type": "stream",
     "text": [
      "[array(['long', 'short'], dtype=object), array(['high-pitched', 'low-pitched'], dtype=object), array(['no', 'yes'], dtype=object)]\n"
     ]
    }
   ],
   "source": [
    "print(Feature_Value)"
   ]
  },
  {
   "cell_type": "code",
   "execution_count": 29,
   "metadata": {},
   "outputs": [
    {
     "name": "stdout",
     "output_type": "stream",
     "text": [
      "['men' 'women']\n"
     ]
    }
   ],
   "source": [
    "print(All_Class)"
   ]
  },
  {
   "cell_type": "code",
   "execution_count": 30,
   "metadata": {},
   "outputs": [
    {
     "name": "stdout",
     "output_type": "stream",
     "text": [
      "[897 990]\n"
     ]
    }
   ],
   "source": [
    "print(Count_All_Class)"
   ]
  },
  {
   "cell_type": "code",
   "execution_count": 19,
   "metadata": {},
   "outputs": [],
   "source": [
    "Count_Matrix, Prob_Matrix = NBDD_fit(X_Train, Y_Train, Feature_Name, Feature_Value, All_Class, Count_All_Class)"
   ]
  },
  {
   "cell_type": "markdown",
   "metadata": {},
   "source": [
    "# 5. Making Prediction"
   ]
  },
  {
   "cell_type": "code",
   "execution_count": 20,
   "metadata": {},
   "outputs": [],
   "source": [
    "Yhat_Test = NBDD_predict(X_Test, Prob_Matrix, Feature_Name, Feature_Value, All_Class, Count_All_Class, top=1)"
   ]
  },
  {
   "cell_type": "code",
   "execution_count": 31,
   "metadata": {},
   "outputs": [
    {
     "data": {
      "text/plain": [
       "array([['women'],\n",
       "       ['men'],\n",
       "       ['women'],\n",
       "       ['men'],\n",
       "       ['women'],\n",
       "       ['men'],\n",
       "       ['men'],\n",
       "       ['men'],\n",
       "       ['men'],\n",
       "       ['women'],\n",
       "       ['men'],\n",
       "       ['women'],\n",
       "       ['men'],\n",
       "       ['women'],\n",
       "       ['men'],\n",
       "       ['women'],\n",
       "       ['women'],\n",
       "       ['women'],\n",
       "       ['men'],\n",
       "       ['men'],\n",
       "       ['men'],\n",
       "       ['men'],\n",
       "       ['women'],\n",
       "       ['men'],\n",
       "       ['men'],\n",
       "       ['men'],\n",
       "       ['men'],\n",
       "       ['women'],\n",
       "       ['men'],\n",
       "       ['women'],\n",
       "       ['men'],\n",
       "       ['men'],\n",
       "       ['women'],\n",
       "       ['men'],\n",
       "       ['men'],\n",
       "       ['men'],\n",
       "       ['women'],\n",
       "       ['men'],\n",
       "       ['women'],\n",
       "       ['men'],\n",
       "       ['men'],\n",
       "       ['women'],\n",
       "       ['women'],\n",
       "       ['women'],\n",
       "       ['men'],\n",
       "       ['men'],\n",
       "       ['women'],\n",
       "       ['men'],\n",
       "       ['women'],\n",
       "       ['women'],\n",
       "       ['men'],\n",
       "       ['women'],\n",
       "       ['women'],\n",
       "       ['men'],\n",
       "       ['men'],\n",
       "       ['women'],\n",
       "       ['men'],\n",
       "       ['men'],\n",
       "       ['men'],\n",
       "       ['men'],\n",
       "       ['women'],\n",
       "       ['women'],\n",
       "       ['women'],\n",
       "       ['women'],\n",
       "       ['men'],\n",
       "       ['men'],\n",
       "       ['men'],\n",
       "       ['men'],\n",
       "       ['men'],\n",
       "       ['men'],\n",
       "       ['women'],\n",
       "       ['women'],\n",
       "       ['women'],\n",
       "       ['women'],\n",
       "       ['women'],\n",
       "       ['men'],\n",
       "       ['men'],\n",
       "       ['women'],\n",
       "       ['men'],\n",
       "       ['men'],\n",
       "       ['women'],\n",
       "       ['women'],\n",
       "       ['women'],\n",
       "       ['men'],\n",
       "       ['women'],\n",
       "       ['men'],\n",
       "       ['women'],\n",
       "       ['men'],\n",
       "       ['men'],\n",
       "       ['women'],\n",
       "       ['men'],\n",
       "       ['women'],\n",
       "       ['women'],\n",
       "       ['men'],\n",
       "       ['women'],\n",
       "       ['women'],\n",
       "       ['men'],\n",
       "       ['women'],\n",
       "       ['women'],\n",
       "       ['women'],\n",
       "       ['women'],\n",
       "       ['women'],\n",
       "       ['men'],\n",
       "       ['men'],\n",
       "       ['men'],\n",
       "       ['men'],\n",
       "       ['women'],\n",
       "       ['men'],\n",
       "       ['women'],\n",
       "       ['men'],\n",
       "       ['men'],\n",
       "       ['men'],\n",
       "       ['men'],\n",
       "       ['women'],\n",
       "       ['women'],\n",
       "       ['women'],\n",
       "       ['women'],\n",
       "       ['men'],\n",
       "       ['women'],\n",
       "       ['men'],\n",
       "       ['women'],\n",
       "       ['men'],\n",
       "       ['women'],\n",
       "       ['men'],\n",
       "       ['women'],\n",
       "       ['women'],\n",
       "       ['men'],\n",
       "       ['men'],\n",
       "       ['men'],\n",
       "       ['women'],\n",
       "       ['women'],\n",
       "       ['men'],\n",
       "       ['men'],\n",
       "       ['men'],\n",
       "       ['men'],\n",
       "       ['women'],\n",
       "       ['women'],\n",
       "       ['men'],\n",
       "       ['men'],\n",
       "       ['men'],\n",
       "       ['men'],\n",
       "       ['women'],\n",
       "       ['men'],\n",
       "       ['men'],\n",
       "       ['women'],\n",
       "       ['women'],\n",
       "       ['women'],\n",
       "       ['women'],\n",
       "       ['men'],\n",
       "       ['women']], dtype=object)"
      ]
     },
     "execution_count": 31,
     "metadata": {},
     "output_type": "execute_result"
    }
   ],
   "source": [
    "Y_Test"
   ]
  },
  {
   "cell_type": "code",
   "execution_count": 23,
   "metadata": {},
   "outputs": [
    {
     "data": {
      "text/plain": [
       "array([['women'],\n",
       "       ['men'],\n",
       "       ['women'],\n",
       "       ['men'],\n",
       "       ['women'],\n",
       "       ['men'],\n",
       "       ['men'],\n",
       "       ['men'],\n",
       "       ['men'],\n",
       "       ['women'],\n",
       "       ['men'],\n",
       "       ['women'],\n",
       "       ['men'],\n",
       "       ['women'],\n",
       "       ['men'],\n",
       "       ['women'],\n",
       "       ['women'],\n",
       "       ['women'],\n",
       "       ['men'],\n",
       "       ['men'],\n",
       "       ['men'],\n",
       "       ['men'],\n",
       "       ['women'],\n",
       "       ['men'],\n",
       "       ['men'],\n",
       "       ['men'],\n",
       "       ['men'],\n",
       "       ['women'],\n",
       "       ['men'],\n",
       "       ['women'],\n",
       "       ['men'],\n",
       "       ['men'],\n",
       "       ['women'],\n",
       "       ['men'],\n",
       "       ['men'],\n",
       "       ['men'],\n",
       "       ['women'],\n",
       "       ['men'],\n",
       "       ['women'],\n",
       "       ['men'],\n",
       "       ['men'],\n",
       "       ['women'],\n",
       "       ['women'],\n",
       "       ['women'],\n",
       "       ['men'],\n",
       "       ['men'],\n",
       "       ['women'],\n",
       "       ['men'],\n",
       "       ['women'],\n",
       "       ['women'],\n",
       "       ['women'],\n",
       "       ['women'],\n",
       "       ['women'],\n",
       "       ['men'],\n",
       "       ['men'],\n",
       "       ['women'],\n",
       "       ['men'],\n",
       "       ['men'],\n",
       "       ['men'],\n",
       "       ['men'],\n",
       "       ['women'],\n",
       "       ['women'],\n",
       "       ['women'],\n",
       "       ['women'],\n",
       "       ['men'],\n",
       "       ['men'],\n",
       "       ['men'],\n",
       "       ['men'],\n",
       "       ['men'],\n",
       "       ['men'],\n",
       "       ['women'],\n",
       "       ['women'],\n",
       "       ['women'],\n",
       "       ['women'],\n",
       "       ['women'],\n",
       "       ['men'],\n",
       "       ['men'],\n",
       "       ['women'],\n",
       "       ['men'],\n",
       "       ['men'],\n",
       "       ['women'],\n",
       "       ['women'],\n",
       "       ['women'],\n",
       "       ['men'],\n",
       "       ['women'],\n",
       "       ['men'],\n",
       "       ['women'],\n",
       "       ['men'],\n",
       "       ['men'],\n",
       "       ['women'],\n",
       "       ['men'],\n",
       "       ['women'],\n",
       "       ['women'],\n",
       "       ['men'],\n",
       "       ['women'],\n",
       "       ['women'],\n",
       "       ['men'],\n",
       "       ['women'],\n",
       "       ['women'],\n",
       "       ['women'],\n",
       "       ['women'],\n",
       "       ['women'],\n",
       "       ['men'],\n",
       "       ['men'],\n",
       "       ['men'],\n",
       "       ['men'],\n",
       "       ['men'],\n",
       "       ['men'],\n",
       "       ['women'],\n",
       "       ['men'],\n",
       "       ['men'],\n",
       "       ['men'],\n",
       "       ['men'],\n",
       "       ['women'],\n",
       "       ['women'],\n",
       "       ['women'],\n",
       "       ['women'],\n",
       "       ['men'],\n",
       "       ['women'],\n",
       "       ['men'],\n",
       "       ['men'],\n",
       "       ['men'],\n",
       "       ['women'],\n",
       "       ['men'],\n",
       "       ['women'],\n",
       "       ['men'],\n",
       "       ['men'],\n",
       "       ['men'],\n",
       "       ['men'],\n",
       "       ['women'],\n",
       "       ['women'],\n",
       "       ['men'],\n",
       "       ['men'],\n",
       "       ['men'],\n",
       "       ['men'],\n",
       "       ['women'],\n",
       "       ['women'],\n",
       "       ['men'],\n",
       "       ['men'],\n",
       "       ['men'],\n",
       "       ['men'],\n",
       "       ['women'],\n",
       "       ['men'],\n",
       "       ['men'],\n",
       "       ['women'],\n",
       "       ['women'],\n",
       "       ['women'],\n",
       "       ['women'],\n",
       "       ['men'],\n",
       "       ['women']], dtype=object)"
      ]
     },
     "execution_count": 23,
     "metadata": {},
     "output_type": "execute_result"
    }
   ],
   "source": [
    "Yhat_Test"
   ]
  },
  {
   "cell_type": "code",
   "execution_count": 21,
   "metadata": {},
   "outputs": [],
   "source": [
    "error = find_error_classification(Y_Test, Yhat_Test)"
   ]
  },
  {
   "cell_type": "code",
   "execution_count": 22,
   "metadata": {},
   "outputs": [
    {
     "data": {
      "text/plain": [
       "2.6666666666666665"
      ]
     },
     "execution_count": 22,
     "metadata": {},
     "output_type": "execute_result"
    }
   ],
   "source": [
    "error"
   ]
  },
  {
   "cell_type": "code",
   "execution_count": null,
   "metadata": {},
   "outputs": [],
   "source": []
  }
 ],
 "metadata": {
  "kernelspec": {
   "display_name": "Python 3",
   "language": "python",
   "name": "python3"
  },
  "language_info": {
   "codemirror_mode": {
    "name": "ipython",
    "version": 3
   },
   "file_extension": ".py",
   "mimetype": "text/x-python",
   "name": "python",
   "nbconvert_exporter": "python",
   "pygments_lexer": "ipython3",
   "version": "3.7.4"
  }
 },
 "nbformat": 4,
 "nbformat_minor": 2
}
