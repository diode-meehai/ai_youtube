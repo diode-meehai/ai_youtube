{
 "cells": [
  {
   "cell_type": "code",
   "execution_count": 1,
   "metadata": {},
   "outputs": [],
   "source": [
    "#!pip uninstall graphviz\n",
    "#pip install graphviz\n",
    "import os\n",
    "os.environ[\"PATH\"] += os.pathsep + 'C:/Users/Diode/Anaconda3/envs/TF2_GPU/Library/bin/graphviz/'"
   ]
  },
  {
   "cell_type": "code",
   "execution_count": 2,
   "metadata": {},
   "outputs": [
    {
     "name": "stderr",
     "output_type": "stream",
     "text": [
      "\n",
      "Bad key \"text.kerning_factor\" on line 4 in\n",
      "C:\\Users\\Diode\\Anaconda3\\envs\\TF2_GPU\\lib\\site-packages\\matplotlib\\mpl-data\\stylelib\\_classic_test_patch.mplstyle.\n",
      "You probably need to get an updated matplotlibrc file from\n",
      "https://github.com/matplotlib/matplotlib/blob/v3.1.2/matplotlibrc.template\n",
      "or from the matplotlib source distribution\n"
     ]
    }
   ],
   "source": [
    "import numpy as np\n",
    "import pandas as pd\n",
    "import matplotlib.pyplot as plt\n",
    "%matplotlib inline\n",
    "\n",
    "from graphviz import Graph"
   ]
  },
  {
   "cell_type": "markdown",
   "metadata": {},
   "source": [
    "### 1 หาคำถามที่แบ่งต้นไม้ได้ดีที่สุด"
   ]
  },
  {
   "cell_type": "code",
   "execution_count": 3,
   "metadata": {},
   "outputs": [],
   "source": [
    "def DT_find_best_question(X, Y, Feature_Name, All_Class):\n",
    "    max_Gain = -np.inf\n",
    "    isComplete = False\n",
    "    Gini_Parent = DT_compute_Gini(Y, All_Class)\n",
    "    Question_Dict = DT_create_Question(X, Feature_Name)\n",
    "    for d, fn in enumerate(Feature_Name):\n",
    "        N = X.shape[0]\n",
    "        if fn in Question_Dict:\n",
    "            unique_value = Question_Dict[fn]['unique_value']\n",
    "            check_type = Question_Dict[fn]['type_of_feature']\n",
    "            for i, uv in enumerate(unique_value):                \n",
    "                filter_true, filter_false = DT_find_filter(X, check_type, d, uv)\n",
    "                X_True = X[filter_true]; Y_True = Y[filter_true];\n",
    "                X_False = X[filter_false]; Y_False = Y[filter_false];\n",
    "                weight_true, weight_false = DT_compute_weight_true_false(filter_true, filter_false, N)\n",
    "                Gini_True, Gini_False = DT_compute_Gini_True_False(Y_True, Y_False, All_Class)\n",
    "                Gini_Children = DT_compute_Gini_Children(weight_true, Gini_True, weight_false, Gini_False)\n",
    "                Gain = DT_compute_Gain(Gini_Parent, Gini_Children)\n",
    "                if Gain >= max_Gain:\n",
    "                    max_Gain = Gain\n",
    "                    best = {}\n",
    "                    best['fn'] = fn\n",
    "                    best['findex'] = d\n",
    "                    best['uv'] = uv\n",
    "                    best['X_True'] = X_True\n",
    "                    best['Y_True'] = Y_True\n",
    "                    best['X_False'] = X_False\n",
    "                    best['Y_False'] = Y_False\n",
    "                if max_Gain == Gini_Parent:\n",
    "                    isComplete = True\n",
    "                    return best, isComplete\n",
    "    return best, isComplete"
   ]
  },
  {
   "cell_type": "code",
   "execution_count": 4,
   "metadata": {},
   "outputs": [],
   "source": [
    "def DT_create_Question(X, Feature_Name):\n",
    "    Question_Dict = {}\n",
    "    for d, fn in enumerate(Feature_Name):\n",
    "        unique_value = np.unique(X[:, d])\n",
    "        check_type = type(unique_value[0])\n",
    "        if check_type == str:\n",
    "            if len(unique_value) >= 2:\n",
    "                if len(unique_value) == 2:\n",
    "                    unique_value = unique_value[:1]\n",
    "                q = {}\n",
    "                q['type_of_feature'] = 'discrete'\n",
    "                q['unique_value'] = unique_value\n",
    "                Question_Dict[fn] = q\n",
    "        if (check_type == int) or (check_type == float):\n",
    "            unique_value = unique_value[1:-1]\n",
    "            if len(unique_value) != 0:            \n",
    "                q = {}\n",
    "                q['type_of_feature'] = 'continuous'\n",
    "                q['unique_value'] = unique_value\n",
    "                Question_Dict[fn] = q\n",
    "    return Question_Dict"
   ]
  },
  {
   "cell_type": "code",
   "execution_count": 5,
   "metadata": {},
   "outputs": [],
   "source": [
    "def DT_compute_Gini(Y, All_Class):\n",
    "    n_class = len(All_Class)\n",
    "    N = Y.shape[0]\n",
    "    if N == 0:\n",
    "        Gini = 0\n",
    "    elif N != 0 :\n",
    "        p = np.zeros([1, n_class])\n",
    "        for c, _class in enumerate(All_Class):\n",
    "            p[0, c] = (Y == _class).sum()/N\n",
    "        Gini = 1 - (p**2).sum()\n",
    "    return Gini"
   ]
  },
  {
   "cell_type": "code",
   "execution_count": 6,
   "metadata": {},
   "outputs": [],
   "source": [
    "def DT_find_filter(X, check_type, d, uv):\n",
    "    if check_type == 'discrete':\n",
    "        filter_true = np.argwhere(X[:, d] == uv).ravel()\n",
    "        filter_false = np.argwhere(X[:, d] != uv).ravel()\n",
    "    elif check_type == 'continuous':\n",
    "        filter_true = np.argwhere(X[:, d] >= uv).ravel()\n",
    "        filter_false = np.argwhere(X[:, d] < uv).ravel()\n",
    "    return filter_true, filter_false"
   ]
  },
  {
   "cell_type": "code",
   "execution_count": 7,
   "metadata": {},
   "outputs": [],
   "source": [
    "def DT_compute_weight_true_false(filter_true, filter_false, N):\n",
    "    count_true = len(filter_true)\n",
    "    count_false = N - count_true\n",
    "    weight_true = count_true/N\n",
    "    weight_false = count_false/N\n",
    "    return weight_true, weight_false"
   ]
  },
  {
   "cell_type": "code",
   "execution_count": 8,
   "metadata": {},
   "outputs": [],
   "source": [
    "def DT_compute_Gini_True_False(Y_True, Y_False, All_Class):\n",
    "    Gini_True = DT_compute_Gini(Y_True, All_Class)\n",
    "    Gini_False = DT_compute_Gini(Y_False, All_Class)\n",
    "    return Gini_True, Gini_False"
   ]
  },
  {
   "cell_type": "code",
   "execution_count": 9,
   "metadata": {},
   "outputs": [],
   "source": [
    "def DT_compute_Gini_Children(weight_true, Gini_True, weight_false, Gini_False):\n",
    "    Gini_Children = weight_true*Gini_True + weight_false*Gini_False\n",
    "    return Gini_Children"
   ]
  },
  {
   "cell_type": "code",
   "execution_count": 10,
   "metadata": {},
   "outputs": [],
   "source": [
    "def DT_compute_Gain(Gini_Parent, Gini_Children):\n",
    "    Gain = Gini_Parent - Gini_Children\n",
    "    return Gain"
   ]
  },
  {
   "cell_type": "markdown",
   "metadata": {},
   "source": [
    "### 2 ปลูกต้นไม้"
   ]
  },
  {
   "cell_type": "code",
   "execution_count": 11,
   "metadata": {},
   "outputs": [],
   "source": [
    "def DT_grow_tree(best, Y_True, Y_False, All_Class):\n",
    "    fn = best['fn']\n",
    "    findex = best['findex']\n",
    "    uv = best['uv']\n",
    "    if type(uv) == str:\n",
    "        type_of_feature = 'discrete'\n",
    "    elif (type(uv) == float) or (type(uv) == int):\n",
    "        type_of_feature = 'continuous'\n",
    "    \n",
    "    Question = {} \n",
    "    Question['fn'] = fn\n",
    "    Question['findex'] = findex; Question['uv'] = uv\n",
    "    Question['type_of_feature'] = type_of_feature\n",
    "\n",
    "    Leaf_Node_True, Vote_True, Max_Vote_True, Max_Class_True = DT_Leaf(Y_True, All_Class)\n",
    "    True_Branch = {}\n",
    "    True_Branch['Leaf_Node'] = Leaf_Node_True\n",
    "    True_Branch['Vote'] = Vote_True\n",
    "    True_Branch['Predict'] = Max_Class_True\n",
    "    True_Branch['Percent'] = Max_Vote_True\n",
    "\n",
    "    Leaf_Node_False, Vote_False, Max_Vote_False, Max_Class_False = DT_Leaf(Y_False, All_Class)\n",
    "    False_Branch = {} \n",
    "    False_Branch['Leaf_Node'] = Leaf_Node_False\n",
    "    False_Branch['Vote'] = Vote_False\n",
    "    False_Branch['Predict'] = Max_Class_False\n",
    "    False_Branch['Percent'] = Max_Vote_False\n",
    "    \n",
    "    Decision_Node = {}\n",
    "    Decision_Node['Question'] = Question\n",
    "    Decision_Node['True_Branch'] = True_Branch\n",
    "    Decision_Node['False_Branch'] = False_Branch\n",
    "    \n",
    "    return Decision_Node, Max_Vote_True, Max_Vote_False"
   ]
  },
  {
   "cell_type": "code",
   "execution_count": 12,
   "metadata": {},
   "outputs": [],
   "source": [
    "def DT_Leaf(Y, All_Class):\n",
    "    N = Y.shape[0]\n",
    "    leaf_node = {}\n",
    "    vote = {}\n",
    "    max_vote = -np.inf\n",
    "    for c, _class in enumerate(All_Class):\n",
    "        length = (Y == _class).sum()\n",
    "        percent_vote = 100*length/N\n",
    "        if max_vote < percent_vote:\n",
    "            max_vote = percent_vote\n",
    "            max_class = _class\n",
    "        leaf_node[_class] = length\n",
    "        vote[_class] = percent_vote\n",
    "    return leaf_node, vote, max_vote, max_class"
   ]
  },
  {
   "cell_type": "markdown",
   "metadata": {},
   "source": [
    "### 3 เรียนรู้"
   ]
  },
  {
   "cell_type": "code",
   "execution_count": 13,
   "metadata": {},
   "outputs": [],
   "source": [
    "def DT_fit(X_Train, Y_Train, Feature_Name, All_Class, max_depth=np.inf, depth=1, max_majority=np.inf, min_leaf=-np.inf):\n",
    "    best, isComplete = DT_find_best_question(X_Train, Y_Train, Feature_Name, All_Class)\n",
    "    Y_True = best['Y_True']\n",
    "    Y_False = best['Y_False']\n",
    "    Decision_Node, Max_Vote_True, Max_Vote_False = DT_grow_tree(best, Y_True, Y_False, All_Class)\n",
    "\n",
    "    if max_depth == depth:\n",
    "        return Decision_Node\n",
    "    if isComplete == True:\n",
    "        return Decision_Node\n",
    "    \n",
    "    if Max_Vote_True < max_majority:\n",
    "        if len(Y_True) > min_leaf:\n",
    "            X_True = best['X_True']\n",
    "            Decision_Node['True_Branch']['Decision_Node']  = DT_fit(X_True, Y_True, Feature_Name, All_Class, max_depth=max_depth, depth=depth+1, max_majority=max_majority, min_leaf=min_leaf)\n",
    "    if Max_Vote_False < max_majority:\n",
    "        if len(Y_False) > min_leaf:\n",
    "            X_False = best['X_False']\n",
    "            Decision_Node['False_Branch']['Decision_Node'] = DT_fit(X_False ,Y_False, Feature_Name, All_Class, max_depth=max_depth, depth=depth+1, max_majority=max_majority, min_leaf=min_leaf)\n",
    "    return Decision_Node"
   ]
  },
  {
   "cell_type": "markdown",
   "metadata": {},
   "source": [
    "### 4 พยากรณ์"
   ]
  },
  {
   "cell_type": "code",
   "execution_count": 14,
   "metadata": {},
   "outputs": [],
   "source": [
    "def DT_recursive_predict(x_test, tree):\n",
    "    fn = tree['Question']['fn']\n",
    "    findex = tree['Question']['findex']\n",
    "    value = tree['Question']['uv']\n",
    "    type_of_feature = tree['Question']['type_of_feature']\n",
    "\n",
    "    if type_of_feature == 'discrete':\n",
    "        if x_test[findex] == value:\n",
    "            if 'Decision_Node' not in tree['True_Branch']:\n",
    "                predict = tree['True_Branch']['Predict']\n",
    "                percent = tree['True_Branch']['Percent']\n",
    "                yhat = np.array([predict, percent])\n",
    "                return yhat\n",
    "            elif 'Decision_Node' in tree['True_Branch']:\n",
    "                tree = tree['True_Branch']['Decision_Node']\n",
    "                yhat = DT_recursive_predict(x_test, tree)\n",
    "                return yhat\n",
    "        elif x_test[findex] != value:\n",
    "            if 'Decision_Node' not in tree['False_Branch']:\n",
    "                predict = tree['False_Branch']['Predict']\n",
    "                percent = tree['False_Branch']['Percent']\n",
    "                yhat = np.array([predict, percent])\n",
    "                return yhat\n",
    "            elif 'Decision_Node' in tree['False_Branch']:\n",
    "                tree = tree['False_Branch']['Decision_Node']\n",
    "                yhat = DT_recursive_predict(x_test, tree)\n",
    "                return yhat\n",
    "                \n",
    "    if type_of_feature == 'continuous':\n",
    "        if x_test[findex] >= value:\n",
    "            if 'Decision_Node' not in tree['True_Branch']:\n",
    "                predict = tree['True_Branch']['Predict']\n",
    "                percent = tree['True_Branch']['Percent']\n",
    "                yhat = np.array([predict, percent])\n",
    "                return yhat\n",
    "            elif 'Decision_Node' in tree['True_Branch']:\n",
    "                tree = tree['True_Branch']['Decision_Node']\n",
    "                yhat = DT_recursive_predict(x_test, tree)\n",
    "                return yhat\n",
    "        elif x_test[findex] < value:\n",
    "            if 'Decision_Node' not in tree['False_Branch']:\n",
    "                predict = tree['False_Branch']['Predict']\n",
    "                percent = tree['False_Branch']['Percent']\n",
    "                yhat = np.array([predict, percent])\n",
    "                return yhat\n",
    "            elif 'Decision_Node' in tree['False_Branch']:\n",
    "                tree = tree['False_Branch']['Decision_Node']\n",
    "                yhat = DT_recursive_predict(x_test, tree)\n",
    "                return yhat"
   ]
  },
  {
   "cell_type": "code",
   "execution_count": 15,
   "metadata": {},
   "outputs": [],
   "source": [
    "def DT_predict(X_Test, tree):\n",
    "    Yhat = []\n",
    "    for x_test in X_Test:\n",
    "        yhat = DT_recursive_predict(x_test, tree)\n",
    "        Yhat.append(yhat)\n",
    "    return np.array(Yhat)"
   ]
  },
  {
   "cell_type": "code",
   "execution_count": 16,
   "metadata": {},
   "outputs": [],
   "source": [
    "def find_error_classification(Y, Yhat):\n",
    "    N = Y.shape[0]\n",
    "    error = (100/N)*(Y != Yhat).sum()\n",
    "    return error"
   ]
  },
  {
   "cell_type": "markdown",
   "metadata": {},
   "source": [
    "### 5 วาดต้นไม้"
   ]
  },
  {
   "cell_type": "code",
   "execution_count": 17,
   "metadata": {},
   "outputs": [],
   "source": [
    "def DT_print_tree(node, prev_id, spacing=\"\"):\n",
    "    global curr_id  \n",
    "    curr_id += 1\n",
    "    \n",
    "    if 'Question' not in node:\n",
    "        node_predictions = \"{} : {}\".format(node['Predict'], round(node['Percent'], 2))\n",
    "        g.node(str(prev_id), label=str(node_predictions))\n",
    "        return\n",
    "    \n",
    "    node_question = \"{} {} {}\".format(node['Question']['fn'], '=' if isinstance(node['Question']['uv'], str) else '>=', node['Question']['uv'] if isinstance(node['Question']['uv'], str) else round(node['Question']['uv'], 6))\n",
    "    g.node(str(prev_id), label=str(node_question))\n",
    "\n",
    "    true_node = node['True_Branch']['Decision_Node'] if 'Decision_Node' in node['True_Branch'] else node['True_Branch']\n",
    "    V.append((prev_id, curr_id))\n",
    "    DT_print_tree(true_node, curr_id, spacing + \"  \")\n",
    "    \n",
    "    false_node = node['False_Branch']['Decision_Node'] if 'Decision_Node' in node['False_Branch'] else node['False_Branch']\n",
    "    V.append((prev_id, curr_id))\n",
    "    DT_print_tree(false_node, curr_id, spacing + \"  \")"
   ]
  }
 ],
 "metadata": {
  "kernelspec": {
   "display_name": "Python 3",
   "language": "python",
   "name": "python3"
  },
  "language_info": {
   "codemirror_mode": {
    "name": "ipython",
    "version": 3
   },
   "file_extension": ".py",
   "mimetype": "text/x-python",
   "name": "python",
   "nbconvert_exporter": "python",
   "pygments_lexer": "ipython3",
   "version": "3.6.10"
  }
 },
 "nbformat": 4,
 "nbformat_minor": 2
}
