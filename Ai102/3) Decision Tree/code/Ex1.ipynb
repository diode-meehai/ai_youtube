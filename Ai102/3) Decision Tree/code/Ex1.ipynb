{
 "cells": [
  {
   "cell_type": "markdown",
   "metadata": {},
   "source": [
    "# 1. Import Library"
   ]
  },
  {
   "cell_type": "code",
   "execution_count": 1,
   "metadata": {},
   "outputs": [],
   "source": [
    "#!pip uninstall graphviz\n",
    "#pip install graphviz\n",
    "import os\n",
    "os.environ[\"PATH\"] += os.pathsep + 'C:/Users/Diode/Anaconda3/envs/TF2_GPU/Library/bin/graphviz/'"
   ]
  },
  {
   "cell_type": "code",
   "execution_count": 2,
   "metadata": {},
   "outputs": [
    {
     "name": "stderr",
     "output_type": "stream",
     "text": [
      "\n",
      "Bad key \"text.kerning_factor\" on line 4 in\n",
      "C:\\Users\\Diode\\Anaconda3\\envs\\TF2_GPU\\lib\\site-packages\\matplotlib\\mpl-data\\stylelib\\_classic_test_patch.mplstyle.\n",
      "You probably need to get an updated matplotlibrc file from\n",
      "https://github.com/matplotlib/matplotlib/blob/v3.1.2/matplotlibrc.template\n",
      "or from the matplotlib source distribution\n"
     ]
    }
   ],
   "source": [
    "import numpy as np\n",
    "import pandas as pd\n",
    "import matplotlib.pyplot as plt\n",
    "%matplotlib inline\n",
    "\n",
    "from graphviz import Graph"
   ]
  },
  {
   "cell_type": "markdown",
   "metadata": {},
   "source": [
    "# 2. Write Function"
   ]
  },
  {
   "cell_type": "markdown",
   "metadata": {},
   "source": [
    "### 2.1 หาคำถามที่แบ่งต้นไม้ได้ดีที่สุด"
   ]
  },
  {
   "cell_type": "code",
   "execution_count": 3,
   "metadata": {},
   "outputs": [],
   "source": [
    "def DT_find_best_question(X, Y, Feature_Name, All_Class):\n",
    "    max_Gain = -np.inf\n",
    "    isComplete = False\n",
    "    Gini_Parent = DT_compute_Gini(Y, All_Class)\n",
    "    Question_Dict = DT_create_Question(X, Feature_Name)\n",
    "    for d, fn in enumerate(Feature_Name):\n",
    "        N = X.shape[0]\n",
    "        if fn in Question_Dict:\n",
    "            unique_value = Question_Dict[fn]['unique_value']\n",
    "            check_type = Question_Dict[fn]['type_of_feature']\n",
    "            for i, uv in enumerate(unique_value):                \n",
    "                filter_true, filter_false = DT_find_filter(X, check_type, d, uv)\n",
    "                X_True = X[filter_true]; Y_True = Y[filter_true];\n",
    "                X_False = X[filter_false]; Y_False = Y[filter_false];\n",
    "                weight_true, weight_false = DT_compute_weight_true_false(filter_true, filter_false, N)\n",
    "                Gini_True, Gini_False = DT_compute_Gini_True_False(Y_True, Y_False, All_Class)\n",
    "                Gini_Children = DT_compute_Gini_Children(weight_true, Gini_True, weight_false, Gini_False)\n",
    "                Gain = DT_compute_Gain(Gini_Parent, Gini_Children)\n",
    "                if Gain >= max_Gain:\n",
    "                    max_Gain = Gain\n",
    "                    best = {}\n",
    "                    best['fn'] = fn\n",
    "                    best['findex'] = d\n",
    "                    best['uv'] = uv\n",
    "                    best['X_True'] = X_True\n",
    "                    best['Y_True'] = Y_True\n",
    "                    best['X_False'] = X_False\n",
    "                    best['Y_False'] = Y_False\n",
    "                if max_Gain == Gini_Parent:\n",
    "                    isComplete = True\n",
    "                    return best, isComplete\n",
    "    return best, isComplete"
   ]
  },
  {
   "cell_type": "code",
   "execution_count": 4,
   "metadata": {},
   "outputs": [],
   "source": [
    "def DT_create_Question(X, Feature_Name):\n",
    "    Question_Dict = {}\n",
    "    for d, fn in enumerate(Feature_Name):\n",
    "        unique_value = np.unique(X[:, d])\n",
    "        check_type = type(unique_value[0])\n",
    "        if check_type == str:\n",
    "            if len(unique_value) >= 2:\n",
    "                if len(unique_value) == 2:\n",
    "                    unique_value = unique_value[:1]\n",
    "                q = {}\n",
    "                q['type_of_feature'] = 'discrete'\n",
    "                q['unique_value'] = unique_value\n",
    "                Question_Dict[fn] = q\n",
    "        if (check_type == int) or (check_type == float):\n",
    "            unique_value = unique_value[1:-1]\n",
    "            if len(unique_value) != 0:            \n",
    "                q = {}\n",
    "                q['type_of_feature'] = 'continuous'\n",
    "                q['unique_value'] = unique_value\n",
    "                Question_Dict[fn] = q\n",
    "    return Question_Dict"
   ]
  },
  {
   "cell_type": "code",
   "execution_count": 5,
   "metadata": {},
   "outputs": [],
   "source": [
    "def DT_compute_Gini(Y, All_Class):\n",
    "    n_class = len(All_Class)\n",
    "    N = Y.shape[0]\n",
    "    if N == 0:\n",
    "        Gini = 0\n",
    "    elif N != 0 :\n",
    "        p = np.zeros([1, n_class])\n",
    "        for c, _class in enumerate(All_Class):\n",
    "            p[0, c] = (Y == _class).sum()/N\n",
    "        Gini = 1 - (p**2).sum()\n",
    "    return Gini"
   ]
  },
  {
   "cell_type": "code",
   "execution_count": 6,
   "metadata": {},
   "outputs": [],
   "source": [
    "def DT_find_filter(X, check_type, d, uv):\n",
    "    if check_type == 'discrete':\n",
    "        filter_true = np.argwhere(X[:, d] == uv).ravel()\n",
    "        filter_false = np.argwhere(X[:, d] != uv).ravel()\n",
    "    elif check_type == 'continuous':\n",
    "        filter_true = np.argwhere(X[:, d] >= uv).ravel()\n",
    "        filter_false = np.argwhere(X[:, d] < uv).ravel()\n",
    "    return filter_true, filter_false"
   ]
  },
  {
   "cell_type": "code",
   "execution_count": 7,
   "metadata": {},
   "outputs": [],
   "source": [
    "def DT_compute_weight_true_false(filter_true, filter_false, N):\n",
    "    count_true = len(filter_true)\n",
    "    count_false = N - count_true\n",
    "    weight_true = count_true/N\n",
    "    weight_false = count_false/N\n",
    "    return weight_true, weight_false"
   ]
  },
  {
   "cell_type": "code",
   "execution_count": 8,
   "metadata": {},
   "outputs": [],
   "source": [
    "def DT_compute_Gini_True_False(Y_True, Y_False, All_Class):\n",
    "    Gini_True = DT_compute_Gini(Y_True, All_Class)\n",
    "    Gini_False = DT_compute_Gini(Y_False, All_Class)\n",
    "    return Gini_True, Gini_False"
   ]
  },
  {
   "cell_type": "code",
   "execution_count": 9,
   "metadata": {},
   "outputs": [],
   "source": [
    "def DT_compute_Gini_Children(weight_true, Gini_True, weight_false, Gini_False):\n",
    "    Gini_Children = weight_true*Gini_True + weight_false*Gini_False\n",
    "    return Gini_Children"
   ]
  },
  {
   "cell_type": "code",
   "execution_count": 10,
   "metadata": {},
   "outputs": [],
   "source": [
    "def DT_compute_Gain(Gini_Parent, Gini_Children):\n",
    "    Gain = Gini_Parent - Gini_Children\n",
    "    return Gain"
   ]
  },
  {
   "cell_type": "markdown",
   "metadata": {},
   "source": [
    "### 2.2 ปลูกต้นไม้"
   ]
  },
  {
   "cell_type": "code",
   "execution_count": 11,
   "metadata": {},
   "outputs": [],
   "source": [
    "def DT_grow_tree(best, Y_True, Y_False, All_Class):\n",
    "    fn = best['fn']\n",
    "    findex = best['findex']\n",
    "    uv = best['uv']\n",
    "    if type(uv) == str:\n",
    "        type_of_feature = 'discrete'\n",
    "    elif (type(uv) == float) or (type(uv) == int):\n",
    "        type_of_feature = 'continuous'\n",
    "    \n",
    "    Question = {} \n",
    "    Question['fn'] = fn\n",
    "    Question['findex'] = findex; Question['uv'] = uv\n",
    "    Question['type_of_feature'] = type_of_feature\n",
    "    Leaf_Node_True, Vote_True, Max_Vote_True, Max_Class_True = DT_Leaf(Y_True, All_Class)\n",
    "    \n",
    "    True_Branch = {}\n",
    "    True_Branch['Leaf_Node'] = Leaf_Node_True\n",
    "    True_Branch['Vote'] = Vote_True\n",
    "    True_Branch['Predict'] = Max_Class_True\n",
    "    True_Branch['Percent'] = Max_Vote_True\n",
    "    Leaf_Node_False, Vote_False, Max_Vote_False, Max_Class_False = DT_Leaf(Y_False, All_Class)\n",
    "    \n",
    "    False_Branch = {} \n",
    "    False_Branch['Leaf_Node'] = Leaf_Node_False\n",
    "    False_Branch['Vote'] = Vote_False\n",
    "    False_Branch['Predict'] = Max_Class_False\n",
    "    False_Branch['Percent'] = Max_Vote_False\n",
    "    \n",
    "    Decision_Node = {}\n",
    "    Decision_Node['Question'] = Question\n",
    "    Decision_Node['True_Branch'] = True_Branch\n",
    "    Decision_Node['False_Branch'] = False_Branch\n",
    "    \n",
    "    return Decision_Node, Max_Vote_True, Max_Vote_False"
   ]
  },
  {
   "cell_type": "code",
   "execution_count": 12,
   "metadata": {},
   "outputs": [],
   "source": [
    "def DT_Leaf(Y, All_Class):\n",
    "    N = Y.shape[0]\n",
    "    leaf_node = {}\n",
    "    vote = {}\n",
    "    max_vote = -np.inf\n",
    "    for c, _class in enumerate(All_Class):\n",
    "        length = (Y == _class).sum()\n",
    "        percent_vote = 100*length/N\n",
    "        if max_vote < percent_vote:\n",
    "            max_vote = percent_vote\n",
    "            max_class = _class\n",
    "        leaf_node[_class] = length\n",
    "        vote[_class] = percent_vote\n",
    "    return leaf_node, vote, max_vote, max_class"
   ]
  },
  {
   "cell_type": "markdown",
   "metadata": {},
   "source": [
    "### 2.3 เรียนรู้"
   ]
  },
  {
   "cell_type": "code",
   "execution_count": 13,
   "metadata": {},
   "outputs": [],
   "source": [
    "def DT_fit(X_Train, Y_Train, Feature_Name, All_Class, max_depth=np.inf, depth=1, max_majority=np.inf, min_leaf=-np.inf):\n",
    "    best, isComplete = DT_find_best_question(X_Train, Y_Train, Feature_Name, All_Class)\n",
    "    Y_True = best['Y_True']\n",
    "    Y_False = best['Y_False']\n",
    "    Decision_Node, Max_Vote_True, Max_Vote_False = DT_grow_tree(best, Y_True, Y_False, All_Class)\n",
    "\n",
    "    if max_depth == depth:\n",
    "        return Decision_Node\n",
    "    if isComplete == True:\n",
    "        return Decision_Node\n",
    "    \n",
    "    if Max_Vote_True < max_majority:\n",
    "        if len(Y_True) > min_leaf:\n",
    "            X_True = best['X_True']\n",
    "            Decision_Node['True_Branch']['Decision_Node']  = DT_fit(X_True, Y_True, Feature_Name, All_Class, max_depth=max_depth, depth=depth+1, max_majority=max_majority, min_leaf=min_leaf)\n",
    "    if Max_Vote_False < max_majority:\n",
    "        if len(Y_False) > min_leaf:\n",
    "            X_False = best['X_False']\n",
    "            Decision_Node['False_Branch']['Decision_Node'] = DT_fit(X_False ,Y_False, Feature_Name, All_Class, max_depth=max_depth, depth=depth+1, max_majority=max_majority, min_leaf=min_leaf)\n",
    "    return Decision_Node"
   ]
  },
  {
   "cell_type": "markdown",
   "metadata": {},
   "source": [
    "### 2.4 พยากรณ์"
   ]
  },
  {
   "cell_type": "code",
   "execution_count": 14,
   "metadata": {},
   "outputs": [],
   "source": [
    "def DT_recursive_predict(x_test, tree):\n",
    "    fn = tree['Question']['fn']\n",
    "    findex = tree['Question']['findex']\n",
    "    value = tree['Question']['uv']\n",
    "    type_of_feature = tree['Question']['type_of_feature']\n",
    "\n",
    "    if type_of_feature == 'discrete':\n",
    "        if x_test[findex] == value:\n",
    "            if 'Decision_Node' not in tree['True_Branch']:\n",
    "                predict = tree['True_Branch']['Predict']\n",
    "                percent = tree['True_Branch']['Percent']\n",
    "                yhat = np.array([predict, percent])\n",
    "                return yhat\n",
    "            elif 'Decision_Node' in tree['True_Branch']:\n",
    "                tree = tree['True_Branch']['Decision_Node']\n",
    "                yhat = DT_recursive_predict(x_test, tree)\n",
    "                return yhat\n",
    "        elif x_test[findex] != value:\n",
    "            if 'Decision_Node' not in tree['False_Branch']:\n",
    "                predict = tree['False_Branch']['Predict']\n",
    "                percent = tree['False_Branch']['Percent']\n",
    "                yhat = np.array([predict, percent])\n",
    "                return yhat\n",
    "            elif 'Decision_Node' in tree['False_Branch']:\n",
    "                tree = tree['False_Branch']['Decision_Node']\n",
    "                yhat = DT_recursive_predict(x_test, tree)\n",
    "                return yhat\n",
    "                \n",
    "    if type_of_feature == 'continuous':\n",
    "        if x_test[findex] >= value:\n",
    "            if 'Decision_Node' not in tree['True_Branch']:\n",
    "                predict = tree['True_Branch']['Predict']\n",
    "                percent = tree['True_Branch']['Percent']\n",
    "                yhat = np.array([predict, percent])\n",
    "                return yhat\n",
    "            elif 'Decision_Node' in tree['True_Branch']:\n",
    "                tree = tree['True_Branch']['Decision_Node']\n",
    "                yhat = DT_recursive_predict(x_test, tree)\n",
    "                return yhat\n",
    "        elif x_test[findex] < value:\n",
    "            if 'Decision_Node' not in tree['False_Branch']:\n",
    "                predict = tree['False_Branch']['Predict']\n",
    "                percent = tree['False_Branch']['Percent']\n",
    "                yhat = np.array([predict, percent])\n",
    "                return yhat\n",
    "            elif 'Decision_Node' in tree['False_Branch']:\n",
    "                tree = tree['False_Branch']['Decision_Node']\n",
    "                yhat = DT_recursive_predict(x_test, tree)\n",
    "                return yhat"
   ]
  },
  {
   "cell_type": "code",
   "execution_count": 15,
   "metadata": {},
   "outputs": [],
   "source": [
    "def DT_predict(X_Test, tree):\n",
    "    Yhat = []\n",
    "    for x_test in X_Test:\n",
    "        yhat = DT_recursive_predict(x_test, tree)\n",
    "        Yhat.append(yhat)\n",
    "    return np.array(Yhat)"
   ]
  },
  {
   "cell_type": "code",
   "execution_count": 16,
   "metadata": {},
   "outputs": [],
   "source": [
    "def find_error_classification(Y, Yhat):\n",
    "    N = Y.shape[0]\n",
    "    error = (100/N)*(Y != Yhat).sum()\n",
    "    return error"
   ]
  },
  {
   "cell_type": "markdown",
   "metadata": {},
   "source": [
    "### 2.5 วาดต้นไม้"
   ]
  },
  {
   "cell_type": "code",
   "execution_count": 17,
   "metadata": {},
   "outputs": [],
   "source": [
    "def DT_print_tree(node, prev_id, spacing=\"\"):\n",
    "    global curr_id  \n",
    "    curr_id += 1\n",
    "    \n",
    "    if 'Question' not in node:\n",
    "        node_predictions = \"{} : {}\".format(node['Predict'], round(node['Percent'], 2))\n",
    "        g.node(str(prev_id), label=str(node_predictions))\n",
    "        return\n",
    "    \n",
    "    node_question = \"{} {} {}\".format(node['Question']['fn'], '=' if isinstance(node['Question']['uv'], str) else '>=', node['Question']['uv'] if isinstance(node['Question']['uv'], str) else round(node['Question']['uv'], 6))\n",
    "    g.node(str(prev_id), label=str(node_question))\n",
    "\n",
    "    true_node = node['True_Branch']['Decision_Node'] if 'Decision_Node' in node['True_Branch'] else node['True_Branch']\n",
    "    V.append((prev_id, curr_id))\n",
    "    DT_print_tree(true_node, curr_id, spacing + \"  \")\n",
    "    \n",
    "    false_node = node['False_Branch']['Decision_Node'] if 'Decision_Node' in node['False_Branch'] else node['False_Branch']\n",
    "    V.append((prev_id, curr_id))\n",
    "    DT_print_tree(false_node, curr_id, spacing + \"  \")"
   ]
  },
  {
   "cell_type": "markdown",
   "metadata": {},
   "source": [
    "# 3. Read Data & Prepare Data"
   ]
  },
  {
   "cell_type": "code",
   "execution_count": 18,
   "metadata": {},
   "outputs": [],
   "source": [
    "X_Train = np.array([['ชาย',  12000],\n",
    "        ['ชาย',  25000],\n",
    "        ['ชาย',  55000],\n",
    "        ['ชาย',  75000],\n",
    "        ['หญิง', 15000],\n",
    "        ['หญิง', 20000],\n",
    "        ['หญิง', 52000],\n",
    "        ['หญิง', 75000]], dtype='object')"
   ]
  },
  {
   "cell_type": "code",
   "execution_count": 19,
   "metadata": {},
   "outputs": [],
   "source": [
    "Y_Train = np.array([['โสด'],\n",
    "                   ['แต่งงาน'],\n",
    "                   ['แต่งงาน'],\n",
    "                   ['แต่งงาน'],\n",
    "                   ['แต่งงาน'],\n",
    "                   ['โสด'],\n",
    "                   ['โสด'],\n",
    "                   ['โสด']])"
   ]
  },
  {
   "cell_type": "markdown",
   "metadata": {},
   "source": [
    "# 4. Create Model"
   ]
  },
  {
   "cell_type": "code",
   "execution_count": 20,
   "metadata": {},
   "outputs": [],
   "source": [
    "Feature_Name = np.array(['เพศ', 'เงินเดือน'], dtype='object')\n",
    "All_Class, Count_All_Class = np.unique(Y_Train[:, :], return_counts = True)"
   ]
  },
  {
   "cell_type": "code",
   "execution_count": 21,
   "metadata": {},
   "outputs": [],
   "source": [
    "tree = DT_fit(X_Train, Y_Train, Feature_Name, All_Class)"
   ]
  },
  {
   "cell_type": "code",
   "execution_count": 22,
   "metadata": {
    "scrolled": false
   },
   "outputs": [
    {
     "data": {
      "image/svg+xml": [
       "<?xml version=\"1.0\" encoding=\"UTF-8\" standalone=\"no\"?>\r\n",
       "<!DOCTYPE svg PUBLIC \"-//W3C//DTD SVG 1.1//EN\"\r\n",
       " \"http://www.w3.org/Graphics/SVG/1.1/DTD/svg11.dtd\">\r\n",
       "<!-- Generated by graphviz version 2.38.0 (20140413.2041)\r\n",
       " -->\r\n",
       "<!-- Title: G Pages: 1 -->\r\n",
       "<svg width=\"572pt\" height=\"218pt\"\r\n",
       " viewBox=\"0.00 0.00 572.00 218.00\" xmlns=\"http://www.w3.org/2000/svg\" xmlns:xlink=\"http://www.w3.org/1999/xlink\">\r\n",
       "<g id=\"graph0\" class=\"graph\" transform=\"scale(1 1) rotate(0) translate(4 214)\">\r\n",
       "<title>G</title>\r\n",
       "<polygon fill=\"white\" stroke=\"none\" points=\"-4,4 -4,-214 568,-214 568,4 -4,4\"/>\r\n",
       "<!-- 1 -->\r\n",
       "<g id=\"node1\" class=\"node\"><title>1</title>\r\n",
       "<polygon fill=\"#c1ffc1\" stroke=\"#c1ffc1\" points=\"344,-210 235,-210 235,-174 344,-174 344,-210\"/>\r\n",
       "<text text-anchor=\"middle\" x=\"289.5\" y=\"-188.3\" font-family=\"Times New Roman,serif\" font-size=\"14.00\">เพศ = ชาย</text>\r\n",
       "</g>\r\n",
       "<!-- 2 -->\r\n",
       "<g id=\"node2\" class=\"node\"><title>2</title>\r\n",
       "<polygon fill=\"#c1ffc1\" stroke=\"#c1ffc1\" points=\"262,-123 73,-123 73,-87 262,-87 262,-123\"/>\r\n",
       "<text text-anchor=\"middle\" x=\"167.5\" y=\"-101.3\" font-family=\"Times New Roman,serif\" font-size=\"14.00\">เงินเดือน &gt;= 25000</text>\r\n",
       "</g>\r\n",
       "<!-- 1&#45;&#45;2 -->\r\n",
       "<g id=\"edge1\" class=\"edge\"><title>1&#45;&#45;2</title>\r\n",
       "<path fill=\"none\" stroke=\"black\" d=\"M264.811,-173.799C243.645,-159.052 213.308,-137.915 192.152,-123.175\"/>\r\n",
       "<text text-anchor=\"middle\" x=\"250\" y=\"-144.8\" font-family=\"Times New Roman,serif\" font-size=\"14.00\">True</text>\r\n",
       "</g>\r\n",
       "<!-- 5 -->\r\n",
       "<g id=\"node5\" class=\"node\"><title>5</title>\r\n",
       "<polygon fill=\"#c1ffc1\" stroke=\"#c1ffc1\" points=\"469,-123 280,-123 280,-87 469,-87 469,-123\"/>\r\n",
       "<text text-anchor=\"middle\" x=\"374.5\" y=\"-101.3\" font-family=\"Times New Roman,serif\" font-size=\"14.00\">เงินเดือน &gt;= 20000</text>\r\n",
       "</g>\r\n",
       "<!-- 1&#45;&#45;5 -->\r\n",
       "<g id=\"edge4\" class=\"edge\"><title>1&#45;&#45;5</title>\r\n",
       "<path fill=\"none\" stroke=\"black\" d=\"M306.701,-173.799C321.448,-159.052 342.585,-137.915 357.325,-123.175\"/>\r\n",
       "<text text-anchor=\"middle\" x=\"352.5\" y=\"-144.8\" font-family=\"Times New Roman,serif\" font-size=\"14.00\">False</text>\r\n",
       "</g>\r\n",
       "<!-- 3 -->\r\n",
       "<g id=\"node3\" class=\"node\"><title>3</title>\r\n",
       "<polygon fill=\"#c1ffc1\" stroke=\"#c1ffc1\" points=\"147,-36 0,-36 0,-0 147,-0 147,-36\"/>\r\n",
       "<text text-anchor=\"middle\" x=\"73.5\" y=\"-14.3\" font-family=\"Times New Roman,serif\" font-size=\"14.00\">แต่งงาน : 100.0</text>\r\n",
       "</g>\r\n",
       "<!-- 2&#45;&#45;3 -->\r\n",
       "<g id=\"edge2\" class=\"edge\"><title>2&#45;&#45;3</title>\r\n",
       "<path fill=\"none\" stroke=\"black\" d=\"M148.478,-86.799C132.169,-72.0519 108.794,-50.9152 92.494,-36.1754\"/>\r\n",
       "<text text-anchor=\"middle\" x=\"140\" y=\"-57.8\" font-family=\"Times New Roman,serif\" font-size=\"14.00\">True</text>\r\n",
       "</g>\r\n",
       "<!-- 4 -->\r\n",
       "<g id=\"node4\" class=\"node\"><title>4</title>\r\n",
       "<polygon fill=\"#c1ffc1\" stroke=\"#c1ffc1\" points=\"261.5,-36 165.5,-36 165.5,-0 261.5,-0 261.5,-36\"/>\r\n",
       "<text text-anchor=\"middle\" x=\"213.5\" y=\"-14.3\" font-family=\"Times New Roman,serif\" font-size=\"14.00\">โสด : 100.0</text>\r\n",
       "</g>\r\n",
       "<!-- 2&#45;&#45;4 -->\r\n",
       "<g id=\"edge3\" class=\"edge\"><title>2&#45;&#45;4</title>\r\n",
       "<path fill=\"none\" stroke=\"black\" d=\"M176.809,-86.799C184.79,-72.0519 196.228,-50.9152 204.205,-36.1754\"/>\r\n",
       "<text text-anchor=\"middle\" x=\"208.5\" y=\"-57.8\" font-family=\"Times New Roman,serif\" font-size=\"14.00\">False</text>\r\n",
       "</g>\r\n",
       "<!-- 6 -->\r\n",
       "<g id=\"node6\" class=\"node\"><title>6</title>\r\n",
       "<polygon fill=\"#c1ffc1\" stroke=\"#c1ffc1\" points=\"398.5,-36 302.5,-36 302.5,-0 398.5,-0 398.5,-36\"/>\r\n",
       "<text text-anchor=\"middle\" x=\"350.5\" y=\"-14.3\" font-family=\"Times New Roman,serif\" font-size=\"14.00\">โสด : 100.0</text>\r\n",
       "</g>\r\n",
       "<!-- 5&#45;&#45;6 -->\r\n",
       "<g id=\"edge5\" class=\"edge\"><title>5&#45;&#45;6</title>\r\n",
       "<path fill=\"none\" stroke=\"black\" d=\"M369.643,-86.799C365.479,-72.0519 359.511,-50.9152 355.35,-36.1754\"/>\r\n",
       "<text text-anchor=\"middle\" x=\"378\" y=\"-57.8\" font-family=\"Times New Roman,serif\" font-size=\"14.00\">True</text>\r\n",
       "</g>\r\n",
       "<!-- 7 -->\r\n",
       "<g id=\"node7\" class=\"node\"><title>7</title>\r\n",
       "<polygon fill=\"#c1ffc1\" stroke=\"#c1ffc1\" points=\"564,-36 417,-36 417,-0 564,-0 564,-36\"/>\r\n",
       "<text text-anchor=\"middle\" x=\"490.5\" y=\"-14.3\" font-family=\"Times New Roman,serif\" font-size=\"14.00\">แต่งงาน : 100.0</text>\r\n",
       "</g>\r\n",
       "<!-- 5&#45;&#45;7 -->\r\n",
       "<g id=\"edge6\" class=\"edge\"><title>5&#45;&#45;7</title>\r\n",
       "<path fill=\"none\" stroke=\"black\" d=\"M397.974,-86.799C418.1,-72.0519 446.945,-50.9152 467.061,-36.1754\"/>\r\n",
       "<text text-anchor=\"middle\" x=\"454.5\" y=\"-57.8\" font-family=\"Times New Roman,serif\" font-size=\"14.00\">False</text>\r\n",
       "</g>\r\n",
       "</g>\r\n",
       "</svg>\r\n"
      ],
      "text/plain": [
       "<graphviz.dot.Graph at 0x2450bed1550>"
      ]
     },
     "execution_count": 22,
     "metadata": {},
     "output_type": "execute_result"
    }
   ],
   "source": [
    "g = Graph('G')\n",
    "g.attr('node', shape='box', style='filled', color='darkseagreen1')\n",
    "curr_id = 1   \n",
    "V = []\n",
    "DT_print_tree(tree, curr_id)\n",
    "\n",
    "for v in V:\n",
    "    g.edge(str(v[0]), str(v[1]), 'True' if v[1] - v[0] == 1 else 'False')\n",
    "g"
   ]
  }
 ],
 "metadata": {
  "kernelspec": {
   "display_name": "Python 3",
   "language": "python",
   "name": "python3"
  },
  "language_info": {
   "codemirror_mode": {
    "name": "ipython",
    "version": 3
   },
   "file_extension": ".py",
   "mimetype": "text/x-python",
   "name": "python",
   "nbconvert_exporter": "python",
   "pygments_lexer": "ipython3",
   "version": "3.6.10"
  }
 },
 "nbformat": 4,
 "nbformat_minor": 2
}
