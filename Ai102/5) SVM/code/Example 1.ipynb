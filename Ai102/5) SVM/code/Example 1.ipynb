{
 "cells": [
  {
   "cell_type": "markdown",
   "metadata": {},
   "source": [
    "# 1. Import Library"
   ]
  },
  {
   "cell_type": "code",
   "execution_count": 1,
   "metadata": {},
   "outputs": [],
   "source": [
    "import numpy as np\n",
    "import matplotlib.pyplot as plt\n",
    "%matplotlib inline\n",
    "\n",
    "import random"
   ]
  },
  {
   "cell_type": "markdown",
   "metadata": {},
   "source": [
    "# 2. Write Function"
   ]
  },
  {
   "cell_type": "code",
   "execution_count": 2,
   "metadata": {},
   "outputs": [],
   "source": [
    "def SVM_compute_E(W, x_train, b, y):\n",
    "    E = np.dot(x_train, W) + b - y\n",
    "    return E"
   ]
  },
  {
   "cell_type": "code",
   "execution_count": 3,
   "metadata": {},
   "outputs": [],
   "source": [
    "def SVM_compute_eta(xi, xj, kf):\n",
    "    eta = 2*kernel(xi, xj, kf) - kernel(xi, xi, kf) - kernel(xj, xj, kf)\n",
    "    return eta"
   ]
  },
  {
   "cell_type": "code",
   "execution_count": 4,
   "metadata": {},
   "outputs": [],
   "source": [
    "def SVM_compute_L(yi, yj, C, alpha_i, alpha_j):\n",
    "    if yi == yj:\n",
    "        L = max([0, alpha_i + alpha_j - C])\n",
    "    elif yi != yj:\n",
    "        L = max([0, alpha_j - alpha_i])\n",
    "    return L"
   ]
  },
  {
   "cell_type": "code",
   "execution_count": 5,
   "metadata": {},
   "outputs": [],
   "source": [
    "def SVM_compute_H(yi, yj, C, alpha_i, alpha_j):\n",
    "    if yi == yj:\n",
    "        H = min([C, alpha_i + alpha_j])\n",
    "    elif yi != yj:\n",
    "        H = min([C, C + alpha_j - alpha_i])\n",
    "    return H"
   ]
  },
  {
   "cell_type": "code",
   "execution_count": 6,
   "metadata": {},
   "outputs": [],
   "source": [
    "def SVM_compute_alpha_j(alpha_j, yj, Ei, Ej, eta, L, H):\n",
    "    new_alpha_j = alpha_j - yj*(Ei - Ej)/eta\n",
    "    if new_alpha_j < L:\n",
    "        new_alpha_j = L\n",
    "    elif new_alpha_j > H:\n",
    "        new_alpha_j = H\n",
    "    return new_alpha_j"
   ]
  },
  {
   "cell_type": "code",
   "execution_count": 7,
   "metadata": {},
   "outputs": [],
   "source": [
    "def SVM_compute_b(b, Ei, Ej, new_alpha_i, old_alpha_i, new_alpha_j, old_alpha_j, yi, xi, yj, xj, C, kf):\n",
    "    bi = b - Ei - (new_alpha_i - old_alpha_i)*yi*kernel(xi, xi, kf) - (new_alpha_j - old_alpha_j)*yj*kernel(xi, xj, kf)\n",
    "    bj = b - Ej - (new_alpha_j - old_alpha_j)*yj*kernel(xj, xj, kf) - (new_alpha_i - old_alpha_i)*yi*kernel(xi, xj, kf)\n",
    "    is_sv_i = (new_alpha_i > 0) and (new_alpha_i < C)\n",
    "    is_sv_j = (new_alpha_j > 0) and (new_alpha_j < C)\n",
    "    if is_sv_i and not is_sv_j:\n",
    "        new_b = bi\n",
    "    elif not is_sv_i and  is_sv_j:\n",
    "        new_b = bj\n",
    "    else:\n",
    "        new_b = (bi + bj)/2\n",
    "    return new_b"
   ]
  },
  {
   "cell_type": "code",
   "execution_count": 8,
   "metadata": {},
   "outputs": [],
   "source": [
    "def kernel(xi, xj, kf):\n",
    "    if kf[0] == 'Dot':\n",
    "        return np.dot(xi, xj)\n",
    "    elif kf[0] == 'Polynomial':\n",
    "        p = kf[1]\n",
    "        return (np.dot(xi, xj) + 1)**p\n",
    "    elif kf[1] == 'RBF':\n",
    "        gamma = kf[1]\n",
    "        degree = np.sum((xi - xj)**2)\n",
    "        return np.e**(-gamma*degree)"
   ]
  },
  {
   "cell_type": "code",
   "execution_count": 9,
   "metadata": {},
   "outputs": [],
   "source": [
    "def SVM_fit(X_Train, Y_Train, C, kf, max_iteration = 1000):\n",
    "    N = X_Train.shape[0]\n",
    "    D = X_Train.shape[1]\n",
    "    alpha = np.zeros(N)\n",
    "    W = np.zeros(D)\n",
    "    b = 0\n",
    "    for e in range(max_iteration):\n",
    "        two_dots_index = random.sample(range(N), 2)\n",
    "        i = two_dots_index[0]\n",
    "        xi = X_Train[i, :]\n",
    "        yi = Y_Train[i, 0]\n",
    "        j = two_dots_index[1]\n",
    "        xj = X_Train[j, :]\n",
    "        yj = Y_Train[j, 0]\n",
    "        Ei = SVM_compute_E(W, xi, b, yi)\n",
    "        Ej = SVM_compute_E(W, xj, b, yj)\n",
    "        eta = SVM_compute_eta(xi, xj, kf)\n",
    "        if eta >= 0:\n",
    "            continue\n",
    "        L = SVM_compute_L(yi, yj, C, alpha[i], alpha[j])\n",
    "        H = SVM_compute_H(yi, yj, C, alpha[i], alpha[j])\n",
    "        new_alpha_j = SVM_compute_alpha_j(alpha[j], yj, Ei, Ej, eta, L, H)\n",
    "        new_alpha_i = alpha[i] + yi*yj*(alpha[j] - new_alpha_j)\n",
    "        b = SVM_compute_b(b, Ei, Ej, new_alpha_i, alpha[i], new_alpha_j, alpha[j], yi, xi, yj, xj, C, kf)\n",
    "        W = W + (new_alpha_i - alpha[i])*yi*xi + (new_alpha_j - alpha[j])*yj*xj\n",
    "        alpha[i] = new_alpha_i\n",
    "        alpha[j] = new_alpha_j\n",
    "    return W, b, alpha"
   ]
  },
  {
   "cell_type": "markdown",
   "metadata": {},
   "source": [
    "# 3. Read Data & Prepare Data"
   ]
  },
  {
   "cell_type": "code",
   "execution_count": 10,
   "metadata": {},
   "outputs": [],
   "source": [
    "N = 100\n",
    "D = 2"
   ]
  },
  {
   "cell_type": "code",
   "execution_count": 11,
   "metadata": {},
   "outputs": [],
   "source": [
    "X_Train_minus = np.random.randn(50, 2)\n",
    "X_Train_plus = np.random.randn(50, 2) + 4\n",
    "\n",
    "Y_Train_minus = -np.ones([50, 1])\n",
    "Y_Train_plus = np.ones([50, 1])"
   ]
  },
  {
   "cell_type": "code",
   "execution_count": 12,
   "metadata": {},
   "outputs": [],
   "source": [
    "X_Train = np.vstack([X_Train_minus, X_Train_plus])\n",
    "Y_Train = np.vstack([Y_Train_minus, Y_Train_plus])"
   ]
  },
  {
   "cell_type": "code",
   "execution_count": 13,
   "metadata": {},
   "outputs": [
    {
     "data": {
      "text/plain": [
       "<matplotlib.collections.PathCollection at 0x12833028c88>"
      ]
     },
     "execution_count": 13,
     "metadata": {},
     "output_type": "execute_result"
    },
    {
     "data": {
      "image/png": "[encoded data removed]",
      "text/plain": [
       "<Figure size 432x288 with 1 Axes>"
      ]
     },
     "metadata": {
      "needs_background": "light"
     },
     "output_type": "display_data"
    }
   ],
   "source": [
    "plt.scatter(X_Train[:50, 0], X_Train[:50, 1])\n",
    "plt.scatter(X_Train[50:, 0], X_Train[50:, 1])"
   ]
  },
  {
   "cell_type": "markdown",
   "metadata": {},
   "source": [
    "# 4. Create Model"
   ]
  },
  {
   "cell_type": "code",
   "execution_count": 20,
   "metadata": {},
   "outputs": [],
   "source": [
    "W, b, alpha = SVM_fit(X_Train, Y_Train, 1, ['Dot'])"
   ]
  },
  {
   "cell_type": "code",
   "execution_count": 21,
   "metadata": {},
   "outputs": [
    {
     "data": {
      "text/plain": [
       "array([0.72293729, 0.38580668])"
      ]
     },
     "execution_count": 21,
     "metadata": {},
     "output_type": "execute_result"
    }
   ],
   "source": [
    "W"
   ]
  },
  {
   "cell_type": "code",
   "execution_count": 22,
   "metadata": {},
   "outputs": [
    {
     "data": {
      "text/plain": [
       "-1.373423121733806"
      ]
     },
     "execution_count": 22,
     "metadata": {},
     "output_type": "execute_result"
    }
   ],
   "source": [
    "b"
   ]
  },
  {
   "cell_type": "code",
   "execution_count": 23,
   "metadata": {},
   "outputs": [],
   "source": [
    "xxx = np.linspace(-3, 7, 100)\n",
    "yyy = (-W[0]/W[1])*xxx + (-b/W[1])"
   ]
  },
  {
   "cell_type": "code",
   "execution_count": 24,
   "metadata": {},
   "outputs": [
    {
     "data": {
      "text/plain": [
       "[<matplotlib.lines.Line2D at 0x1283314ebe0>]"
      ]
     },
     "execution_count": 24,
     "metadata": {},
     "output_type": "execute_result"
    },
    {
     "data": {
      "image/png": "[encoded data removed]",
      "text/plain": [
       "<Figure size 432x288 with 1 Axes>"
      ]
     },
     "metadata": {
      "needs_background": "light"
     },
     "output_type": "display_data"
    }
   ],
   "source": [
    "plt.scatter(X_Train[:50, 0], X_Train[:50, 1])\n",
    "plt.scatter(X_Train[50:, 0], X_Train[50:, 1])\n",
    "plt.plot(xxx, yyy, color = 'red')"
   ]
  },
  {
   "cell_type": "code",
   "execution_count": 25,
   "metadata": {},
   "outputs": [
    {
     "data": {
      "text/plain": [
       "array([0.        , 0.        , 0.00098776, 0.        , 0.        ,\n",
       "       0.18702491, 0.03780889, 0.        , 0.        , 0.        ,\n",
       "       0.04723672, 0.        , 0.        , 0.        , 0.        ,\n",
       "       0.        , 0.        , 0.        , 0.        , 0.        ,\n",
       "       0.        , 0.04550468, 0.        , 0.        , 0.        ,\n",
       "       0.        , 0.        , 0.01666353, 0.        , 0.        ,\n",
       "       0.        , 0.        , 0.        , 0.        , 0.        ,\n",
       "       0.        , 0.        , 0.        , 0.        , 0.        ,\n",
       "       0.        , 0.        , 0.        , 0.        , 0.        ,\n",
       "       0.        , 0.        , 0.        , 0.        , 0.        ,\n",
       "       0.        , 0.        , 0.        , 0.        , 0.        ,\n",
       "       0.        , 0.        , 0.        , 0.        , 0.        ,\n",
       "       0.        , 0.        , 0.        , 0.        , 0.18133445,\n",
       "       0.        , 0.01192868, 0.        , 0.        , 0.        ,\n",
       "       0.        , 0.        , 0.        , 0.        , 0.        ,\n",
       "       0.        , 0.        , 0.        , 0.        , 0.        ,\n",
       "       0.        , 0.        , 0.        , 0.        , 0.13717357,\n",
       "       0.        , 0.        , 0.        , 0.        , 0.        ,\n",
       "       0.        , 0.        , 0.        , 0.        , 0.        ,\n",
       "       0.        , 0.        , 0.00478978, 0.        , 0.        ])"
      ]
     },
     "execution_count": 25,
     "metadata": {},
     "output_type": "execute_result"
    }
   ],
   "source": [
    "alpha"
   ]
  },
  {
   "cell_type": "code",
   "execution_count": null,
   "metadata": {},
   "outputs": [],
   "source": []
  }
 ],
 "metadata": {
  "kernelspec": {
   "display_name": "Python 3",
   "language": "python",
   "name": "python3"
  },
  "language_info": {
   "codemirror_mode": {
    "name": "ipython",
    "version": 3
   },
   "file_extension": ".py",
   "mimetype": "text/x-python",
   "name": "python",
   "nbconvert_exporter": "python",
   "pygments_lexer": "ipython3",
   "version": "3.6.10"
  }
 },
 "nbformat": 4,
 "nbformat_minor": 2
}
