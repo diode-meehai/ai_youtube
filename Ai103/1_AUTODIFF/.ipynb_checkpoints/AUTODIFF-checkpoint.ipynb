{
 "cells": [
  {
   "cell_type": "code",
   "execution_count": 2,
   "metadata": {},
   "outputs": [],
   "source": [
    "import numpy as np"
   ]
  },
  {
   "cell_type": "code",
   "execution_count": null,
   "metadata": {},
   "outputs": [],
   "source": [
    "class tensor:\n",
    "    adj = [] #adjacency matrix\n",
    "    total_id = 0\n",
    "    \n",
    "    def __init__(self, data):\n",
    "        _dict = {}"
   ]
  },
  {
   "cell_type": "code",
   "execution_count": 4,
   "metadata": {},
   "outputs": [],
   "source": [
    "        _dict['id'] = tensor.total_id\n",
    "        _dict['data'] = data\n",
    "        _dict['created_from'] = 'assigned'\n",
    "        _dict['send_to'] = []  #ส่งให้กี่ตัวก็ได้\n",
    "        _dict['diff'] = [] #Diff ให้กี่ตัวก็ได้\n",
    "        _dict['destination'] = 'wait' #จุดหมายปลายทาง ต่อๆไป\n",
    "        \n",
    "        tensor.adj.append(_dict)\n",
    "        \n",
    "        self.id = tensor.total_id\n",
    "        tensor.total_id = tensor.total_id + 1\n",
    "        self.data = data\n",
    "    \n",
    "    @classmethod\n",
    "    def clear_adj(self):\n",
    "        tensor.adj = []\n",
    "        tensor.total_id = 0\n",
    "    \n",
    "    #update -> operation, self_id, other_id,new_var_id\n",
    "    #----------------------------------------#\n",
    "    def update_so(self, self_id, other_id, new_var_id, operation):\n",
    "        tensor.adj[self_id]['send_to'].append(new_var_id)\n",
    "        tensor.adj[other_id]['send_to'].append(new_var_id)\n",
    "        tensor.adj[new_var_id]['created_from'] = operation\n",
    "    \n",
    "    #not-tensor ไม่อ้างอิง other_id\n",
    "    def update_s(self, self_id, new_var_id, operation):\n",
    "        tensor.adj[self_id]['send_to'].append(new_var_id)\n",
    "        tensor.adj[new_var_id]['created_from'] = operation\n",
    "    #----------------------------------------#\n",
    "    \n",
    "    def __add__(self, other): #start tensor\n",
    "        if isinstance(other, tensor): #tensor(int) and tensor(int) [tensor(int) + tensor(int)]\n",
    "            new_var = tensor(self.data + other.data)\n",
    "            operation = ('+', self.id, other.id)\n",
    "            self.update_so(self.id, other.id, new_var.id, operation) # update dic\n",
    "            tensor.adj[self.id]['diff'].append(1)\n",
    "            tensor.adj[other.id]['diff'].append(1)\n",
    "        else: #tensor(int) + int [not-tensor]\n",
    "            new_var = tensor(self.data + other)\n",
    "            operation = ('+', self.id, str(other))\n",
    "            self.update_s(self.id, new_var.id, operation) # update dic\n",
    "            tensor.adj[self.id]['diff'].append(1)\n",
    "        return new_var\n",
    "    \n",
    "    def __radd__(self, other): #start not-tensor and tensor(int) # other เป็นตัวเลขไม่ใช่  tensor\n",
    "        new_var = tensor(other + self.data)\n",
    "        operation = ('+', str(other), self.id)\n",
    "        self.update_s(self.id, new_var.id, operation) # update dic\n",
    "        tensor.adj[self.id]['diff'].append(1)\n",
    "        return new_var\n",
    "    \n",
    "    def __sub__(self, other):\n",
    "        if isinstance(other, tensor):\n",
    "            new_var = tensor(self.data - other.data)\n",
    "            operation = ('-', self.id, other.id)\n",
    "            self.update_so(self.id, other.id, new_var.id, operation)\n",
    "            tensor.adj[self.id]['diff'].append(1)\n",
    "            tensor.adj[other.id]['diff'].append(-1)\n",
    "        else:\n",
    "            new_var = tensor(self.data + other)\n",
    "            operation = ('-', self.id, str(other))\n",
    "            self.update_s(self.id, new_var.id, operation)\n",
    "            tensor.adj[self.id]['diff'].append(1)\n",
    "        return new_var\n",
    "    \n",
    "    def __rsub__(self, other):\n",
    "        new_var = tensor(other - self.data)\n",
    "        operation = ('-', str(other), self.id)\n",
    "        self.update_s(self.id, new_var.id, operation)\n",
    "        tensor.adj[self.id]['diff'].append(-1)\n",
    "        return new_var\n",
    "    \n",
    "    def __mul__(self, other):\n",
    "        if isinstance(other, tensor):\n",
    "            new_var = tensor(self.data * other.data)\n",
    "            operation = ('*', self.id, other.id)\n",
    "            self.update_so(self.id, other.id, new_var.id, operation)\n",
    "            tensor.adj[self.id]['diff'].append(other.data)\n",
    "            tensor.adj[other.id]['diff'].append(self.data)\n",
    "        else:\n",
    "            new_var = tensor(self.data * other)\n",
    "            operation = ('*', self.id, str(other))\n",
    "            self.update_s(self.id, new_var.id, operation)\n",
    "            tensor.adj[self.id]['diff'].append(other)\n",
    "        return new_var\n",
    "    \n",
    "    def __rmul__(self, other):\n",
    "        new_var = tensor(other * self.data)\n",
    "        operation = ('*', str(other), self.id)\n",
    "        self.update_s(self.id, new_var.id, operation)\n",
    "        tensor.adj[self.id]['diff'].append(other)\n",
    "        return new_var\n",
    "    \n",
    "    def __truediv__(self, other):\n",
    "        if isinstance(other, tensor):\n",
    "            new_var = tensor(self.data / other.data)\n",
    "            operation = ('/', self.id, other.id)\n",
    "            self.update_so(self.id, other.id, new_var.id, operation)\n",
    "            tensor.adj[self.id]['diff'].append(1/other.data)\n",
    "            tensor.adj[other.id]['diff'].append(-self.data/(other.data**2))\n",
    "        else:\n",
    "            new_var = tensor(self.data / other)\n",
    "            operation = ('/', self.id, str(other))\n",
    "            self.update_s(self.id, new_var.id, operation)\n",
    "            tensor.adj[self.id]['diff'].append(1/other)\n",
    "        return new_var\n",
    "    \n",
    "    def __rtruediv__(self, other):\n",
    "        new_var = tensor(other / self.data)\n",
    "        operation = ('/', str(other), self.id)\n",
    "        self.update_s(self.id, new_var.id, operation)\n",
    "        tensor.adj[self.id]['diff'].append(-other/(self.data**2))\n",
    "        return new_var\n",
    "    \n",
    "    def __pow__(self, other):\n",
    "        if isinstance(other, tensor):\n",
    "            new_var = tensor(self.data ** other.data)\n",
    "            operation = ('**', self.id, other.id)\n",
    "            self.update_so(self.id, other.id, new_var.id, operation)\n",
    "            tensor.adj[self.id]['diff'].append(other.data*self.data**(other.data-1))\n",
    "            tensor.adj[other.id]['diff'].append((self.data**other.data)*np.log(self.data))\n",
    "        else:\n",
    "            new_var = tensor(self.data ** other)\n",
    "            operation = ('**', self.id, str(other))\n",
    "            self.update_s(self.id, new_var.id, operation)\n",
    "            tensor.adj[self.id]['diff'].append(other*self.data**(other-1))\n",
    "        return new_var\n",
    "    \n",
    "    def __rpow__(self, other):\n",
    "        new_var = tensor(other ** self.data)\n",
    "        operation = ('**', str(other), self.id)\n",
    "        self.update_s(self.id, new_var.id, operation)\n",
    "        tensor.adj[self.id]['diff'].append((other**self.data)*np.log(other))\n",
    "        return new_var\n",
    "    \n",
    "    def __abs__(self):\n",
    "        new_var = tensor(abs(self.data))\n",
    "        operation = ('abs', self.id)\n",
    "        self.update_s(self.id, new_var.id, operation)\n",
    "        if self.data > 0:\n",
    "            diff_abs = 1\n",
    "        elif self.data < 0:\n",
    "            diff_abs = -1\n",
    "        else:\n",
    "            diff_abs = 0\n",
    "        tensor.adj[self.id]['diff'].append(diff_abs)\n",
    "        return new_var\n",
    "    \n",
    "    def __neg__(self):\n",
    "        new_var = tensor(-self.data)\n",
    "        operation = ('-1*', self.id)\n",
    "        self.update_s(self.id, new_var.id, operation)\n",
    "        tensor.adj[self.id]['diff'].append(-1)\n",
    "        return new_var\n",
    "    \n",
    "    def log(self):\n",
    "        new_var = tensor(np.log(self.data))\n",
    "        operation = ('log', self.id)\n",
    "        self.update_s(self.id, new_var.id, operation)\n",
    "        tensor.adj[self.id]['diff'].append(1/self.data)\n",
    "        return new_var\n",
    "        \n",
    "    def sin(self):\n",
    "        new_var = tensor(np.sin(self.data))\n",
    "        operation = ('sin', self.id)\n",
    "        self.update_s(self.id, new_var.id, operation)\n",
    "        tensor.adj[self.id]['diff'].append(np.cos(self.data))\n",
    "        return new_var\n",
    "    \n",
    "    def cos(self):\n",
    "        new_var = tensor(np.cos(self.data))\n",
    "        operation = ('cos', self.id)\n",
    "        self.update_s(self.id, new_var.id, operation)\n",
    "        tensor.adj[self.id]['diff'].append(-np.sin(self.data))\n",
    "        return new_var\n",
    "    \n",
    "    def backward_with_id(self, component_id, destination_id):\n",
    "        tensor.adj[component_id]['destination'] = destination_id\n",
    "        created_from = tensor.adj[component_id]['created_from']\n",
    "        if created_from != 'assigned':\n",
    "            n_created = len(created_from)\n",
    "            if n_created == 3:\n",
    "                component1_id = tensor.adj[component_id]['created_from'][1]\n",
    "                component2_id = tensor.adj[component_id]['created_from'][2]\n",
    "                if isinstance(component1_id, int):\n",
    "                    self.backward_with_id(component1_id, destination_id)\n",
    "                if isinstance(component2_id, int):\n",
    "                    self.backward_with_id(component2_id, destination_id)\n",
    "            elif n_created == 2:\n",
    "                component1_id = tensor.adj[component_id]['created_from'][1]\n",
    "                if isinstance(component1_id, int):\n",
    "                    self.backward_with_id(component1_id, destination_id)\n",
    "    \n",
    "    #เริ่ม Check จาก Y, ว่าตัวไหนบ้างที่ Diff แล้วปลายทางเป็น Y (ลด scopeในการ diff)\n",
    "    def backward(self): \n",
    "        destination_id = self.id\n",
    "        tensor.adj[destination_id]['destination'] = destination_id #id ของ Y (ตัวสุดท้าย)\n",
    "        created_from = tensor.adj[destination_id]['created_from']\n",
    "        if created_from != 'assigned': #created_from == assigned จบสายแล้ว\n",
    "            n_created = len(created_from)\n",
    "            if n_created == 3: #ถูกสร้างจาก 2 ตัว เช่น y = x+b\n",
    "                component1_id = tensor.adj[destination_id]['created_from'][1]\n",
    "                component2_id = tensor.adj[destination_id]['created_from'][2]\n",
    "                if isinstance(component1_id, int):\n",
    "                    self.backward_with_id(component1_id, destination_id)\n",
    "                if isinstance(component2_id, int):\n",
    "                    self.backward_with_id(component2_id, destination_id)\n",
    "            elif n_created == 2: #ถูกสร้างจาก 1 ตัวเช่น y = abs(x)\n",
    "                component1_id = tensor.adj[destination_id]['created_from'][1]\n",
    "                if isinstance(component1_id, int):\n",
    "                    self.backward_with_id(component1_id, destination_id)\n",
    "                \n",
    "    def grad_with_id(self, next_node_id, destination_id):\n",
    "        if next_node_id == destination_id:\n",
    "            return 1\n",
    "        else:\n",
    "            send_to = tensor.adj[next_node_id]['send_to']\n",
    "            n_send = len(send_to)\n",
    "            if n_send == 1:\n",
    "                dy_dx = tensor.adj[next_node_id]['diff'][0]*self.grad_with_id(send_to[0], destination_id)\n",
    "                return dy_dx\n",
    "            elif n_send > 1:\n",
    "                dy_dx = 0\n",
    "                for i in range(n_send):\n",
    "                    if tensor.adj[send_to[i]]['destination'] == destination_id:\n",
    "                        dy_dx = dy_dx + tensor.adj[next_node_id]['diff'][i]*self.grad_with_id(send_to[i], destination_id)\n",
    "                return dy_dx\n",
    "    \n",
    "    #หา slop หาเส้นของ grad ChainRule # diff เทียบ destination\n",
    "    def grad(self):\n",
    "        destination_id = tensor.adj[self.id]['destination']\n",
    "        if destination_id == 'wait':\n",
    "            return 0\n",
    "        if destination_id == self.id:\n",
    "            return 1\n",
    "        else:\n",
    "            send_to = tensor.adj[self.id]['send_to']\n",
    "            n_send = len(send_to)\n",
    "            if n_send == 1:\n",
    "                dy_dx = tensor.adj[self.id]['diff'][0]*self.grad_with_id(send_to[0], destination_id)\n",
    "                return dy_dx\n",
    "            elif n_send > 1:\n",
    "                dy_dx = 0\n",
    "                for i in range(n_send):\n",
    "                    if tensor.adj[send_to[i]]['destination'] == destination_id:\n",
    "                        dy_dx = dy_dx + tensor.adj[self.id]['diff'][i]*self.grad_with_id(send_to[i], destination_id)\n",
    "                return dy_dx"
   ]
  },
  {
   "cell_type": "markdown",
   "metadata": {},
   "source": [
    "## 1. add"
   ]
  },
  {
   "cell_type": "code",
   "execution_count": 5,
   "metadata": {},
   "outputs": [],
   "source": [
    "a = tensor(3)\n",
    "b = tensor(5)"
   ]
  },
  {
   "cell_type": "code",
   "execution_count": 6,
   "metadata": {},
   "outputs": [
    {
     "data": {
      "text/plain": [
       "[{'id': 0,\n",
       "  'data': 3,\n",
       "  'created_from': 'assigned',\n",
       "  'send_to': [],\n",
       "  'diff': [],\n",
       "  'destination': 'wait'},\n",
       " {'id': 1,\n",
       "  'data': 5,\n",
       "  'created_from': 'assigned',\n",
       "  'send_to': [],\n",
       "  'diff': [],\n",
       "  'destination': 'wait'}]"
      ]
     },
     "execution_count": 6,
     "metadata": {},
     "output_type": "execute_result"
    }
   ],
   "source": [
    "tensor.adj"
   ]
  },
  {
   "cell_type": "code",
   "execution_count": 7,
   "metadata": {},
   "outputs": [
    {
     "name": "stdout",
     "output_type": "stream",
     "text": [
      "3\n",
      "5\n"
     ]
    }
   ],
   "source": [
    "print(a.data)\n",
    "print(b.data)"
   ]
  },
  {
   "cell_type": "markdown",
   "metadata": {},
   "source": [
    "### 1.1 tensor vs tensor"
   ]
  },
  {
   "cell_type": "code",
   "execution_count": 4,
   "metadata": {},
   "outputs": [],
   "source": [
    "c = a + b"
   ]
  },
  {
   "cell_type": "code",
   "execution_count": 5,
   "metadata": {},
   "outputs": [
    {
     "data": {
      "text/plain": [
       "[{'id': 0,\n",
       "  'data': 3,\n",
       "  'created_from': 'assigned',\n",
       "  'send_to': [2],\n",
       "  'diff': [1],\n",
       "  'destination': 'wait'},\n",
       " {'id': 1,\n",
       "  'data': 5,\n",
       "  'created_from': 'assigned',\n",
       "  'send_to': [2],\n",
       "  'diff': [1],\n",
       "  'destination': 'wait'},\n",
       " {'id': 2,\n",
       "  'data': 8,\n",
       "  'created_from': ('+', 0, 1),\n",
       "  'send_to': [],\n",
       "  'diff': [],\n",
       "  'destination': 'wait'}]"
      ]
     },
     "execution_count": 5,
     "metadata": {},
     "output_type": "execute_result"
    }
   ],
   "source": [
    "tensor.adj"
   ]
  },
  {
   "cell_type": "markdown",
   "metadata": {},
   "source": [
    "### xxx --- initial --- xxx"
   ]
  },
  {
   "cell_type": "code",
   "execution_count": 6,
   "metadata": {},
   "outputs": [],
   "source": [
    "tensor.clear_adj()"
   ]
  },
  {
   "cell_type": "code",
   "execution_count": 7,
   "metadata": {},
   "outputs": [],
   "source": [
    "a = tensor(3)"
   ]
  },
  {
   "cell_type": "markdown",
   "metadata": {},
   "source": [
    "### 1.2 tensor vs numeric"
   ]
  },
  {
   "cell_type": "code",
   "execution_count": 8,
   "metadata": {},
   "outputs": [],
   "source": [
    "c = a + 2"
   ]
  },
  {
   "cell_type": "code",
   "execution_count": 9,
   "metadata": {},
   "outputs": [
    {
     "data": {
      "text/plain": [
       "[{'id': 0,\n",
       "  'data': 3,\n",
       "  'created_from': 'assigned',\n",
       "  'send_to': [1],\n",
       "  'diff': [1],\n",
       "  'destination': 'wait'},\n",
       " {'id': 1,\n",
       "  'data': 5,\n",
       "  'created_from': ('+', 0, '2'),\n",
       "  'send_to': [],\n",
       "  'diff': [],\n",
       "  'destination': 'wait'}]"
      ]
     },
     "execution_count": 9,
     "metadata": {},
     "output_type": "execute_result"
    }
   ],
   "source": [
    "tensor.adj"
   ]
  },
  {
   "cell_type": "markdown",
   "metadata": {},
   "source": [
    "### xxx --- initial --- xxx"
   ]
  },
  {
   "cell_type": "code",
   "execution_count": 10,
   "metadata": {},
   "outputs": [],
   "source": [
    "tensor.clear_adj()"
   ]
  },
  {
   "cell_type": "code",
   "execution_count": 11,
   "metadata": {},
   "outputs": [],
   "source": [
    "a = tensor(3)"
   ]
  },
  {
   "cell_type": "markdown",
   "metadata": {},
   "source": [
    "### 1.3 numeric vs tensor"
   ]
  },
  {
   "cell_type": "code",
   "execution_count": 12,
   "metadata": {},
   "outputs": [],
   "source": [
    "c = 2 + a"
   ]
  },
  {
   "cell_type": "code",
   "execution_count": 13,
   "metadata": {},
   "outputs": [
    {
     "data": {
      "text/plain": [
       "[{'id': 0,\n",
       "  'data': 3,\n",
       "  'created_from': 'assigned',\n",
       "  'send_to': [1],\n",
       "  'diff': [1],\n",
       "  'destination': 'wait'},\n",
       " {'id': 1,\n",
       "  'data': 5,\n",
       "  'created_from': ('+', '2', 0),\n",
       "  'send_to': [],\n",
       "  'diff': [],\n",
       "  'destination': 'wait'}]"
      ]
     },
     "execution_count": 13,
     "metadata": {},
     "output_type": "execute_result"
    }
   ],
   "source": [
    "tensor.adj"
   ]
  },
  {
   "cell_type": "markdown",
   "metadata": {},
   "source": [
    "### xxx --- initial --- xxx"
   ]
  },
  {
   "cell_type": "code",
   "execution_count": 14,
   "metadata": {},
   "outputs": [],
   "source": [
    "tensor.clear_adj()"
   ]
  },
  {
   "cell_type": "markdown",
   "metadata": {},
   "source": [
    "## 2. sub"
   ]
  },
  {
   "cell_type": "code",
   "execution_count": 15,
   "metadata": {},
   "outputs": [],
   "source": [
    "a = tensor(3)\n",
    "b = tensor(5)"
   ]
  },
  {
   "cell_type": "markdown",
   "metadata": {},
   "source": [
    "### 2.1 tensor vs tensor"
   ]
  },
  {
   "cell_type": "code",
   "execution_count": 16,
   "metadata": {},
   "outputs": [],
   "source": [
    "c = a - b"
   ]
  },
  {
   "cell_type": "code",
   "execution_count": 17,
   "metadata": {},
   "outputs": [
    {
     "data": {
      "text/plain": [
       "[{'id': 0,\n",
       "  'data': 3,\n",
       "  'created_from': 'assigned',\n",
       "  'send_to': [2],\n",
       "  'diff': [1],\n",
       "  'destination': 'wait'},\n",
       " {'id': 1,\n",
       "  'data': 5,\n",
       "  'created_from': 'assigned',\n",
       "  'send_to': [2],\n",
       "  'diff': [-1],\n",
       "  'destination': 'wait'},\n",
       " {'id': 2,\n",
       "  'data': -2,\n",
       "  'created_from': ('-', 0, 1),\n",
       "  'send_to': [],\n",
       "  'diff': [],\n",
       "  'destination': 'wait'}]"
      ]
     },
     "execution_count": 17,
     "metadata": {},
     "output_type": "execute_result"
    }
   ],
   "source": [
    "tensor.adj"
   ]
  },
  {
   "cell_type": "markdown",
   "metadata": {},
   "source": [
    "### xxx --- initial --- xxx"
   ]
  },
  {
   "cell_type": "code",
   "execution_count": 18,
   "metadata": {},
   "outputs": [],
   "source": [
    "tensor.clear_adj()"
   ]
  },
  {
   "cell_type": "code",
   "execution_count": 19,
   "metadata": {},
   "outputs": [],
   "source": [
    "a = tensor(3)"
   ]
  },
  {
   "cell_type": "markdown",
   "metadata": {},
   "source": [
    "### 2.2 tensor vs numeric"
   ]
  },
  {
   "cell_type": "code",
   "execution_count": 20,
   "metadata": {},
   "outputs": [],
   "source": [
    "c = a - 2"
   ]
  },
  {
   "cell_type": "code",
   "execution_count": 21,
   "metadata": {},
   "outputs": [
    {
     "data": {
      "text/plain": [
       "[{'id': 0,\n",
       "  'data': 3,\n",
       "  'created_from': 'assigned',\n",
       "  'send_to': [1],\n",
       "  'diff': [1],\n",
       "  'destination': 'wait'},\n",
       " {'id': 1,\n",
       "  'data': 5,\n",
       "  'created_from': ('-', 0, '2'),\n",
       "  'send_to': [],\n",
       "  'diff': [],\n",
       "  'destination': 'wait'}]"
      ]
     },
     "execution_count": 21,
     "metadata": {},
     "output_type": "execute_result"
    }
   ],
   "source": [
    "tensor.adj"
   ]
  },
  {
   "cell_type": "markdown",
   "metadata": {},
   "source": [
    "### xxx --- initial --- xxx"
   ]
  },
  {
   "cell_type": "code",
   "execution_count": 22,
   "metadata": {},
   "outputs": [],
   "source": [
    "tensor.clear_adj()"
   ]
  },
  {
   "cell_type": "code",
   "execution_count": 23,
   "metadata": {},
   "outputs": [],
   "source": [
    "a = tensor(3)"
   ]
  },
  {
   "cell_type": "markdown",
   "metadata": {},
   "source": [
    "### 2.3 numeric vs tensor"
   ]
  },
  {
   "cell_type": "code",
   "execution_count": 24,
   "metadata": {},
   "outputs": [],
   "source": [
    "c = 2 - a"
   ]
  },
  {
   "cell_type": "code",
   "execution_count": 25,
   "metadata": {},
   "outputs": [
    {
     "data": {
      "text/plain": [
       "[{'id': 0,\n",
       "  'data': 3,\n",
       "  'created_from': 'assigned',\n",
       "  'send_to': [1],\n",
       "  'diff': [-1],\n",
       "  'destination': 'wait'},\n",
       " {'id': 1,\n",
       "  'data': -1,\n",
       "  'created_from': ('-', '2', 0),\n",
       "  'send_to': [],\n",
       "  'diff': [],\n",
       "  'destination': 'wait'}]"
      ]
     },
     "execution_count": 25,
     "metadata": {},
     "output_type": "execute_result"
    }
   ],
   "source": [
    "tensor.adj"
   ]
  },
  {
   "cell_type": "markdown",
   "metadata": {},
   "source": [
    "### xxx --- initial --- xxx"
   ]
  },
  {
   "cell_type": "code",
   "execution_count": 26,
   "metadata": {},
   "outputs": [],
   "source": [
    "tensor.clear_adj()"
   ]
  },
  {
   "cell_type": "markdown",
   "metadata": {},
   "source": [
    "## 3. mul"
   ]
  },
  {
   "cell_type": "code",
   "execution_count": 27,
   "metadata": {},
   "outputs": [],
   "source": [
    "a = tensor(3)\n",
    "b = tensor(5)"
   ]
  },
  {
   "cell_type": "markdown",
   "metadata": {},
   "source": [
    "### 3.1 tensor vs tensor"
   ]
  },
  {
   "cell_type": "code",
   "execution_count": 28,
   "metadata": {},
   "outputs": [],
   "source": [
    "c = a * b"
   ]
  },
  {
   "cell_type": "code",
   "execution_count": 29,
   "metadata": {},
   "outputs": [
    {
     "data": {
      "text/plain": [
       "[{'id': 0,\n",
       "  'data': 3,\n",
       "  'created_from': 'assigned',\n",
       "  'send_to': [2],\n",
       "  'diff': [5],\n",
       "  'destination': 'wait'},\n",
       " {'id': 1,\n",
       "  'data': 5,\n",
       "  'created_from': 'assigned',\n",
       "  'send_to': [2],\n",
       "  'diff': [3],\n",
       "  'destination': 'wait'},\n",
       " {'id': 2,\n",
       "  'data': 15,\n",
       "  'created_from': ('*', 0, 1),\n",
       "  'send_to': [],\n",
       "  'diff': [],\n",
       "  'destination': 'wait'}]"
      ]
     },
     "execution_count": 29,
     "metadata": {},
     "output_type": "execute_result"
    }
   ],
   "source": [
    "tensor.adj"
   ]
  },
  {
   "cell_type": "markdown",
   "metadata": {},
   "source": [
    "### xxx --- initial --- xxx"
   ]
  },
  {
   "cell_type": "code",
   "execution_count": 30,
   "metadata": {},
   "outputs": [],
   "source": [
    "tensor.clear_adj()"
   ]
  },
  {
   "cell_type": "code",
   "execution_count": 31,
   "metadata": {},
   "outputs": [],
   "source": [
    "a = tensor(3)"
   ]
  },
  {
   "cell_type": "markdown",
   "metadata": {},
   "source": [
    "### 3.2 tensor vs numeric"
   ]
  },
  {
   "cell_type": "code",
   "execution_count": 32,
   "metadata": {},
   "outputs": [],
   "source": [
    "c = a * 2"
   ]
  },
  {
   "cell_type": "code",
   "execution_count": 33,
   "metadata": {},
   "outputs": [
    {
     "data": {
      "text/plain": [
       "[{'id': 0,\n",
       "  'data': 3,\n",
       "  'created_from': 'assigned',\n",
       "  'send_to': [1],\n",
       "  'diff': [2],\n",
       "  'destination': 'wait'},\n",
       " {'id': 1,\n",
       "  'data': 6,\n",
       "  'created_from': ('*', 0, '2'),\n",
       "  'send_to': [],\n",
       "  'diff': [],\n",
       "  'destination': 'wait'}]"
      ]
     },
     "execution_count": 33,
     "metadata": {},
     "output_type": "execute_result"
    }
   ],
   "source": [
    "tensor.adj"
   ]
  },
  {
   "cell_type": "markdown",
   "metadata": {},
   "source": [
    "### xxx --- initial --- xxx"
   ]
  },
  {
   "cell_type": "code",
   "execution_count": 34,
   "metadata": {},
   "outputs": [],
   "source": [
    "tensor.clear_adj()"
   ]
  },
  {
   "cell_type": "code",
   "execution_count": 35,
   "metadata": {},
   "outputs": [],
   "source": [
    "a = tensor(3)"
   ]
  },
  {
   "cell_type": "markdown",
   "metadata": {},
   "source": [
    "### 3.3 numeric vs tensor"
   ]
  },
  {
   "cell_type": "code",
   "execution_count": 36,
   "metadata": {},
   "outputs": [],
   "source": [
    "c = 2 * a"
   ]
  },
  {
   "cell_type": "code",
   "execution_count": 37,
   "metadata": {},
   "outputs": [
    {
     "data": {
      "text/plain": [
       "[{'id': 0,\n",
       "  'data': 3,\n",
       "  'created_from': 'assigned',\n",
       "  'send_to': [1],\n",
       "  'diff': [2],\n",
       "  'destination': 'wait'},\n",
       " {'id': 1,\n",
       "  'data': 6,\n",
       "  'created_from': ('*', '2', 0),\n",
       "  'send_to': [],\n",
       "  'diff': [],\n",
       "  'destination': 'wait'}]"
      ]
     },
     "execution_count": 37,
     "metadata": {},
     "output_type": "execute_result"
    }
   ],
   "source": [
    "tensor.adj"
   ]
  },
  {
   "cell_type": "markdown",
   "metadata": {},
   "source": [
    "### xxx --- initial --- xxx"
   ]
  },
  {
   "cell_type": "code",
   "execution_count": 38,
   "metadata": {},
   "outputs": [],
   "source": [
    "tensor.clear_adj()"
   ]
  },
  {
   "cell_type": "markdown",
   "metadata": {},
   "source": [
    "## 4. truediv"
   ]
  },
  {
   "cell_type": "code",
   "execution_count": 39,
   "metadata": {},
   "outputs": [],
   "source": [
    "a = tensor(3)\n",
    "b = tensor(5)"
   ]
  },
  {
   "cell_type": "markdown",
   "metadata": {},
   "source": [
    "### 4.1 tensor vs tensor"
   ]
  },
  {
   "cell_type": "code",
   "execution_count": 40,
   "metadata": {},
   "outputs": [],
   "source": [
    "c = a / b"
   ]
  },
  {
   "cell_type": "code",
   "execution_count": 41,
   "metadata": {},
   "outputs": [
    {
     "data": {
      "text/plain": [
       "[{'id': 0,\n",
       "  'data': 3,\n",
       "  'created_from': 'assigned',\n",
       "  'send_to': [2],\n",
       "  'diff': [0.2],\n",
       "  'destination': 'wait'},\n",
       " {'id': 1,\n",
       "  'data': 5,\n",
       "  'created_from': 'assigned',\n",
       "  'send_to': [2],\n",
       "  'diff': [-0.12],\n",
       "  'destination': 'wait'},\n",
       " {'id': 2,\n",
       "  'data': 0.6,\n",
       "  'created_from': ('/', 0, 1),\n",
       "  'send_to': [],\n",
       "  'diff': [],\n",
       "  'destination': 'wait'}]"
      ]
     },
     "execution_count": 41,
     "metadata": {},
     "output_type": "execute_result"
    }
   ],
   "source": [
    "tensor.adj"
   ]
  },
  {
   "cell_type": "markdown",
   "metadata": {},
   "source": [
    "### xxx --- initial --- xxx"
   ]
  },
  {
   "cell_type": "code",
   "execution_count": 42,
   "metadata": {},
   "outputs": [],
   "source": [
    "tensor.clear_adj()"
   ]
  },
  {
   "cell_type": "code",
   "execution_count": 43,
   "metadata": {},
   "outputs": [],
   "source": [
    "a = tensor(3)"
   ]
  },
  {
   "cell_type": "markdown",
   "metadata": {},
   "source": [
    "### 4.2 tensor vs numeric"
   ]
  },
  {
   "cell_type": "code",
   "execution_count": 44,
   "metadata": {},
   "outputs": [],
   "source": [
    "c = a / 2"
   ]
  },
  {
   "cell_type": "code",
   "execution_count": 45,
   "metadata": {},
   "outputs": [
    {
     "data": {
      "text/plain": [
       "[{'id': 0,\n",
       "  'data': 3,\n",
       "  'created_from': 'assigned',\n",
       "  'send_to': [1],\n",
       "  'diff': [0.5],\n",
       "  'destination': 'wait'},\n",
       " {'id': 1,\n",
       "  'data': 1.5,\n",
       "  'created_from': ('/', 0, '2'),\n",
       "  'send_to': [],\n",
       "  'diff': [],\n",
       "  'destination': 'wait'}]"
      ]
     },
     "execution_count": 45,
     "metadata": {},
     "output_type": "execute_result"
    }
   ],
   "source": [
    "tensor.adj"
   ]
  },
  {
   "cell_type": "markdown",
   "metadata": {},
   "source": [
    "### xxx --- initial --- xxx"
   ]
  },
  {
   "cell_type": "code",
   "execution_count": 46,
   "metadata": {},
   "outputs": [],
   "source": [
    "tensor.clear_adj()"
   ]
  },
  {
   "cell_type": "code",
   "execution_count": 47,
   "metadata": {},
   "outputs": [],
   "source": [
    "a = tensor(3)"
   ]
  },
  {
   "cell_type": "markdown",
   "metadata": {},
   "source": [
    "### 4.3 numeric vs tensor"
   ]
  },
  {
   "cell_type": "code",
   "execution_count": 48,
   "metadata": {},
   "outputs": [],
   "source": [
    "c = 2 / a"
   ]
  },
  {
   "cell_type": "code",
   "execution_count": 49,
   "metadata": {},
   "outputs": [
    {
     "data": {
      "text/plain": [
       "[{'id': 0,\n",
       "  'data': 3,\n",
       "  'created_from': 'assigned',\n",
       "  'send_to': [1],\n",
       "  'diff': [-0.2222222222222222],\n",
       "  'destination': 'wait'},\n",
       " {'id': 1,\n",
       "  'data': 0.6666666666666666,\n",
       "  'created_from': ('/', '2', 0),\n",
       "  'send_to': [],\n",
       "  'diff': [],\n",
       "  'destination': 'wait'}]"
      ]
     },
     "execution_count": 49,
     "metadata": {},
     "output_type": "execute_result"
    }
   ],
   "source": [
    "tensor.adj"
   ]
  },
  {
   "cell_type": "markdown",
   "metadata": {},
   "source": [
    "### xxx --- initial --- xxx"
   ]
  },
  {
   "cell_type": "code",
   "execution_count": 50,
   "metadata": {},
   "outputs": [],
   "source": [
    "tensor.clear_adj()"
   ]
  },
  {
   "cell_type": "markdown",
   "metadata": {},
   "source": [
    "## 5. pow"
   ]
  },
  {
   "cell_type": "code",
   "execution_count": 51,
   "metadata": {},
   "outputs": [],
   "source": [
    "a = tensor(3)\n",
    "b = tensor(5)"
   ]
  },
  {
   "cell_type": "markdown",
   "metadata": {},
   "source": [
    "### 5.1 tensor vs tensor"
   ]
  },
  {
   "cell_type": "code",
   "execution_count": 52,
   "metadata": {},
   "outputs": [],
   "source": [
    "c = a ** b"
   ]
  },
  {
   "cell_type": "code",
   "execution_count": 53,
   "metadata": {
    "scrolled": true
   },
   "outputs": [
    {
     "data": {
      "text/plain": [
       "[{'id': 0,\n",
       "  'data': 3,\n",
       "  'created_from': 'assigned',\n",
       "  'send_to': [2],\n",
       "  'diff': [405],\n",
       "  'destination': 'wait'},\n",
       " {'id': 1,\n",
       "  'data': 5,\n",
       "  'created_from': 'assigned',\n",
       "  'send_to': [2],\n",
       "  'diff': [266.96278614635065],\n",
       "  'destination': 'wait'},\n",
       " {'id': 2,\n",
       "  'data': 243,\n",
       "  'created_from': ('**', 0, 1),\n",
       "  'send_to': [],\n",
       "  'diff': [],\n",
       "  'destination': 'wait'}]"
      ]
     },
     "execution_count": 53,
     "metadata": {},
     "output_type": "execute_result"
    }
   ],
   "source": [
    "tensor.adj"
   ]
  },
  {
   "cell_type": "markdown",
   "metadata": {},
   "source": [
    "### xxx --- initial --- xxx"
   ]
  },
  {
   "cell_type": "code",
   "execution_count": 54,
   "metadata": {},
   "outputs": [],
   "source": [
    "tensor.clear_adj()"
   ]
  },
  {
   "cell_type": "code",
   "execution_count": 55,
   "metadata": {},
   "outputs": [],
   "source": [
    "a = tensor(3)"
   ]
  },
  {
   "cell_type": "markdown",
   "metadata": {},
   "source": [
    "### 5.2 tensor vs numeric"
   ]
  },
  {
   "cell_type": "code",
   "execution_count": 56,
   "metadata": {},
   "outputs": [],
   "source": [
    "c = a ** 2"
   ]
  },
  {
   "cell_type": "code",
   "execution_count": 57,
   "metadata": {},
   "outputs": [
    {
     "data": {
      "text/plain": [
       "[{'id': 0,\n",
       "  'data': 3,\n",
       "  'created_from': 'assigned',\n",
       "  'send_to': [1],\n",
       "  'diff': [6],\n",
       "  'destination': 'wait'},\n",
       " {'id': 1,\n",
       "  'data': 9,\n",
       "  'created_from': ('**', 0, '2'),\n",
       "  'send_to': [],\n",
       "  'diff': [],\n",
       "  'destination': 'wait'}]"
      ]
     },
     "execution_count": 57,
     "metadata": {},
     "output_type": "execute_result"
    }
   ],
   "source": [
    "tensor.adj"
   ]
  },
  {
   "cell_type": "markdown",
   "metadata": {},
   "source": [
    "### xxx --- initial --- xxx"
   ]
  },
  {
   "cell_type": "code",
   "execution_count": 58,
   "metadata": {},
   "outputs": [],
   "source": [
    "tensor.clear_adj()"
   ]
  },
  {
   "cell_type": "code",
   "execution_count": 59,
   "metadata": {},
   "outputs": [],
   "source": [
    "a = tensor(3)"
   ]
  },
  {
   "cell_type": "markdown",
   "metadata": {},
   "source": [
    "### 5.3 numeric vs tensor"
   ]
  },
  {
   "cell_type": "code",
   "execution_count": 60,
   "metadata": {},
   "outputs": [],
   "source": [
    "c = 2 ** a"
   ]
  },
  {
   "cell_type": "code",
   "execution_count": 61,
   "metadata": {},
   "outputs": [
    {
     "data": {
      "text/plain": [
       "[{'id': 0,\n",
       "  'data': 3,\n",
       "  'created_from': 'assigned',\n",
       "  'send_to': [1],\n",
       "  'diff': [5.545177444479562],\n",
       "  'destination': 'wait'},\n",
       " {'id': 1,\n",
       "  'data': 8,\n",
       "  'created_from': ('**', '2', 0),\n",
       "  'send_to': [],\n",
       "  'diff': [],\n",
       "  'destination': 'wait'}]"
      ]
     },
     "execution_count": 61,
     "metadata": {},
     "output_type": "execute_result"
    }
   ],
   "source": [
    "tensor.adj"
   ]
  },
  {
   "cell_type": "markdown",
   "metadata": {},
   "source": [
    "### xxx --- initial --- xxx"
   ]
  },
  {
   "cell_type": "code",
   "execution_count": 62,
   "metadata": {},
   "outputs": [],
   "source": [
    "tensor.clear_adj()"
   ]
  },
  {
   "cell_type": "markdown",
   "metadata": {},
   "source": [
    "## 6. abs"
   ]
  },
  {
   "cell_type": "code",
   "execution_count": 63,
   "metadata": {},
   "outputs": [],
   "source": [
    "a = tensor(-3)"
   ]
  },
  {
   "cell_type": "markdown",
   "metadata": {},
   "source": [
    "### 6.1 tensor"
   ]
  },
  {
   "cell_type": "code",
   "execution_count": 64,
   "metadata": {},
   "outputs": [],
   "source": [
    "c = abs(a)"
   ]
  },
  {
   "cell_type": "code",
   "execution_count": 65,
   "metadata": {},
   "outputs": [
    {
     "data": {
      "text/plain": [
       "[{'id': 0,\n",
       "  'data': -3,\n",
       "  'created_from': 'assigned',\n",
       "  'send_to': [1],\n",
       "  'diff': [-1],\n",
       "  'destination': 'wait'},\n",
       " {'id': 1,\n",
       "  'data': 3,\n",
       "  'created_from': ('abs', 0),\n",
       "  'send_to': [],\n",
       "  'diff': [],\n",
       "  'destination': 'wait'}]"
      ]
     },
     "execution_count": 65,
     "metadata": {},
     "output_type": "execute_result"
    }
   ],
   "source": [
    "tensor.adj"
   ]
  },
  {
   "cell_type": "markdown",
   "metadata": {},
   "source": [
    "### xxx --- initial --- xxx"
   ]
  },
  {
   "cell_type": "code",
   "execution_count": 66,
   "metadata": {},
   "outputs": [],
   "source": [
    "tensor.clear_adj()"
   ]
  },
  {
   "cell_type": "markdown",
   "metadata": {},
   "source": [
    "## 7. neg"
   ]
  },
  {
   "cell_type": "code",
   "execution_count": 67,
   "metadata": {},
   "outputs": [],
   "source": [
    "a = tensor(3)"
   ]
  },
  {
   "cell_type": "markdown",
   "metadata": {},
   "source": [
    "### 7.1 tensor"
   ]
  },
  {
   "cell_type": "code",
   "execution_count": 68,
   "metadata": {},
   "outputs": [],
   "source": [
    "c = -a"
   ]
  },
  {
   "cell_type": "code",
   "execution_count": 69,
   "metadata": {},
   "outputs": [
    {
     "data": {
      "text/plain": [
       "[{'id': 0,\n",
       "  'data': 3,\n",
       "  'created_from': 'assigned',\n",
       "  'send_to': [1],\n",
       "  'diff': [-1],\n",
       "  'destination': 'wait'},\n",
       " {'id': 1,\n",
       "  'data': -3,\n",
       "  'created_from': ('-1*', 0),\n",
       "  'send_to': [],\n",
       "  'diff': [],\n",
       "  'destination': 'wait'}]"
      ]
     },
     "execution_count": 69,
     "metadata": {},
     "output_type": "execute_result"
    }
   ],
   "source": [
    "tensor.adj"
   ]
  },
  {
   "cell_type": "markdown",
   "metadata": {},
   "source": [
    "### xxx --- initial --- xxx"
   ]
  },
  {
   "cell_type": "code",
   "execution_count": 70,
   "metadata": {},
   "outputs": [],
   "source": [
    "tensor.clear_adj()"
   ]
  },
  {
   "cell_type": "markdown",
   "metadata": {},
   "source": [
    "## 8. log"
   ]
  },
  {
   "cell_type": "code",
   "execution_count": 71,
   "metadata": {},
   "outputs": [],
   "source": [
    "a = tensor(3)"
   ]
  },
  {
   "cell_type": "markdown",
   "metadata": {},
   "source": [
    "### 8.1 tensor"
   ]
  },
  {
   "cell_type": "code",
   "execution_count": 72,
   "metadata": {},
   "outputs": [],
   "source": [
    "c = tensor.log(a)"
   ]
  },
  {
   "cell_type": "code",
   "execution_count": 73,
   "metadata": {},
   "outputs": [
    {
     "data": {
      "text/plain": [
       "[{'id': 0,\n",
       "  'data': 3,\n",
       "  'created_from': 'assigned',\n",
       "  'send_to': [1],\n",
       "  'diff': [0.3333333333333333],\n",
       "  'destination': 'wait'},\n",
       " {'id': 1,\n",
       "  'data': 1.0986122886681098,\n",
       "  'created_from': ('log', 0),\n",
       "  'send_to': [],\n",
       "  'diff': [],\n",
       "  'destination': 'wait'}]"
      ]
     },
     "execution_count": 73,
     "metadata": {},
     "output_type": "execute_result"
    }
   ],
   "source": [
    "tensor.adj"
   ]
  },
  {
   "cell_type": "markdown",
   "metadata": {},
   "source": [
    "### xxx --- initial --- xxx"
   ]
  },
  {
   "cell_type": "code",
   "execution_count": 74,
   "metadata": {},
   "outputs": [],
   "source": [
    "tensor.clear_adj()"
   ]
  },
  {
   "cell_type": "markdown",
   "metadata": {},
   "source": [
    "## 9. sin"
   ]
  },
  {
   "cell_type": "code",
   "execution_count": 75,
   "metadata": {},
   "outputs": [],
   "source": [
    "a = tensor(3)"
   ]
  },
  {
   "cell_type": "markdown",
   "metadata": {},
   "source": [
    "### 9.1 tensor"
   ]
  },
  {
   "cell_type": "code",
   "execution_count": 76,
   "metadata": {},
   "outputs": [],
   "source": [
    "c = tensor.sin(a)"
   ]
  },
  {
   "cell_type": "code",
   "execution_count": 77,
   "metadata": {},
   "outputs": [
    {
     "data": {
      "text/plain": [
       "[{'id': 0,\n",
       "  'data': 3,\n",
       "  'created_from': 'assigned',\n",
       "  'send_to': [1],\n",
       "  'diff': [-0.9899924966004454],\n",
       "  'destination': 'wait'},\n",
       " {'id': 1,\n",
       "  'data': 0.1411200080598672,\n",
       "  'created_from': ('sin', 0),\n",
       "  'send_to': [],\n",
       "  'diff': [],\n",
       "  'destination': 'wait'}]"
      ]
     },
     "execution_count": 77,
     "metadata": {},
     "output_type": "execute_result"
    }
   ],
   "source": [
    "tensor.adj"
   ]
  },
  {
   "cell_type": "markdown",
   "metadata": {},
   "source": [
    "### xxx --- initial --- xxx"
   ]
  },
  {
   "cell_type": "code",
   "execution_count": 78,
   "metadata": {},
   "outputs": [],
   "source": [
    "tensor.clear_adj()"
   ]
  },
  {
   "cell_type": "markdown",
   "metadata": {},
   "source": [
    "## 10. cos"
   ]
  },
  {
   "cell_type": "code",
   "execution_count": 79,
   "metadata": {},
   "outputs": [],
   "source": [
    "a = tensor(3)"
   ]
  },
  {
   "cell_type": "markdown",
   "metadata": {},
   "source": [
    "### 10.1 tensor"
   ]
  },
  {
   "cell_type": "code",
   "execution_count": 80,
   "metadata": {},
   "outputs": [],
   "source": [
    "c = tensor.cos(a)"
   ]
  },
  {
   "cell_type": "code",
   "execution_count": 81,
   "metadata": {},
   "outputs": [
    {
     "data": {
      "text/plain": [
       "[{'id': 0,\n",
       "  'data': 3,\n",
       "  'created_from': 'assigned',\n",
       "  'send_to': [1],\n",
       "  'diff': [-0.1411200080598672],\n",
       "  'destination': 'wait'},\n",
       " {'id': 1,\n",
       "  'data': -0.9899924966004454,\n",
       "  'created_from': ('cos', 0),\n",
       "  'send_to': [],\n",
       "  'diff': [],\n",
       "  'destination': 'wait'}]"
      ]
     },
     "execution_count": 81,
     "metadata": {},
     "output_type": "execute_result"
    }
   ],
   "source": [
    "tensor.adj"
   ]
  },
  {
   "cell_type": "markdown",
   "metadata": {},
   "source": [
    "### xxx --- initial --- xxx"
   ]
  },
  {
   "cell_type": "code",
   "execution_count": 20,
   "metadata": {},
   "outputs": [],
   "source": [
    "tensor.clear_adj()"
   ]
  },
  {
   "cell_type": "markdown",
   "metadata": {},
   "source": [
    "## 11. backward"
   ]
  },
  {
   "cell_type": "code",
   "execution_count": 21,
   "metadata": {},
   "outputs": [],
   "source": [
    "a = tensor(1)\n",
    "b = tensor(2)\n",
    "c = tensor(3)\n",
    "\n",
    "ก = tensor(10)"
   ]
  },
  {
   "cell_type": "code",
   "execution_count": 22,
   "metadata": {},
   "outputs": [],
   "source": [
    "y = (a + b)*c"
   ]
  },
  {
   "cell_type": "code",
   "execution_count": 24,
   "metadata": {},
   "outputs": [
    {
     "data": {
      "text/plain": [
       "[{'id': 0,\n",
       "  'data': 1,\n",
       "  'created_from': 'assigned',\n",
       "  'send_to': [4],\n",
       "  'diff': [1],\n",
       "  'destination': 'wait'},\n",
       " {'id': 1,\n",
       "  'data': 2,\n",
       "  'created_from': 'assigned',\n",
       "  'send_to': [4],\n",
       "  'diff': [1],\n",
       "  'destination': 'wait'},\n",
       " {'id': 2,\n",
       "  'data': 3,\n",
       "  'created_from': 'assigned',\n",
       "  'send_to': [5],\n",
       "  'diff': [3],\n",
       "  'destination': 'wait'},\n",
       " {'id': 3,\n",
       "  'data': 10,\n",
       "  'created_from': 'assigned',\n",
       "  'send_to': [],\n",
       "  'diff': [],\n",
       "  'destination': 'wait'},\n",
       " {'id': 4,\n",
       "  'data': 3,\n",
       "  'created_from': ('+', 0, 1),\n",
       "  'send_to': [5],\n",
       "  'diff': [3],\n",
       "  'destination': 'wait'},\n",
       " {'id': 5,\n",
       "  'data': 9,\n",
       "  'created_from': ('*', 4, 2),\n",
       "  'send_to': [],\n",
       "  'diff': [],\n",
       "  'destination': 'wait'}]"
      ]
     },
     "execution_count": 24,
     "metadata": {},
     "output_type": "execute_result"
    }
   ],
   "source": [
    "tensor.adj"
   ]
  },
  {
   "cell_type": "code",
   "execution_count": 25,
   "metadata": {},
   "outputs": [],
   "source": [
    "tensor.backward(y)"
   ]
  },
  {
   "cell_type": "code",
   "execution_count": 26,
   "metadata": {},
   "outputs": [
    {
     "data": {
      "text/plain": [
       "[{'id': 0,\n",
       "  'data': 1,\n",
       "  'created_from': 'assigned',\n",
       "  'send_to': [4],\n",
       "  'diff': [1],\n",
       "  'destination': 5},\n",
       " {'id': 1,\n",
       "  'data': 2,\n",
       "  'created_from': 'assigned',\n",
       "  'send_to': [4],\n",
       "  'diff': [1],\n",
       "  'destination': 5},\n",
       " {'id': 2,\n",
       "  'data': 3,\n",
       "  'created_from': 'assigned',\n",
       "  'send_to': [5],\n",
       "  'diff': [3],\n",
       "  'destination': 5},\n",
       " {'id': 3,\n",
       "  'data': 10,\n",
       "  'created_from': 'assigned',\n",
       "  'send_to': [],\n",
       "  'diff': [],\n",
       "  'destination': 'wait'},\n",
       " {'id': 4,\n",
       "  'data': 3,\n",
       "  'created_from': ('+', 0, 1),\n",
       "  'send_to': [5],\n",
       "  'diff': [3],\n",
       "  'destination': 5},\n",
       " {'id': 5,\n",
       "  'data': 9,\n",
       "  'created_from': ('*', 4, 2),\n",
       "  'send_to': [],\n",
       "  'diff': [],\n",
       "  'destination': 5}]"
      ]
     },
     "execution_count": 26,
     "metadata": {},
     "output_type": "execute_result"
    }
   ],
   "source": [
    "tensor.adj #id': 4 = y"
   ]
  },
  {
   "cell_type": "markdown",
   "metadata": {},
   "source": [
    "## 12. grad"
   ]
  },
  {
   "cell_type": "code",
   "execution_count": 88,
   "metadata": {
    "scrolled": true
   },
   "outputs": [
    {
     "data": {
      "text/plain": [
       "3"
      ]
     },
     "execution_count": 88,
     "metadata": {},
     "output_type": "execute_result"
    }
   ],
   "source": [
    "tensor.grad(a) #เส้นของ grad ChainRule        "
   ]
  }
 ],
 "metadata": {
  "kernelspec": {
   "display_name": "Python 3",
   "language": "python",
   "name": "python3"
  },
  "language_info": {
   "codemirror_mode": {
    "name": "ipython",
    "version": 3
   },
   "file_extension": ".py",
   "mimetype": "text/x-python",
   "name": "python",
   "nbconvert_exporter": "python",
   "pygments_lexer": "ipython3",
   "version": "3.7.8"
  }
 },
 "nbformat": 4,
 "nbformat_minor": 2
}
