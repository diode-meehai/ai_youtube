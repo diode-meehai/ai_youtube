{
 "cells": [
  {
   "cell_type": "code",
   "execution_count": 1,
   "metadata": {},
   "outputs": [],
   "source": [
    "import nbimporter\n",
    "import myai as ai\n",
    "\n",
    "import numpy as np\n",
    "import pandas as pd\n",
    "import matplotlib.pyplot as plt\n",
    "%matplotlib inline"
   ]
  },
  {
   "cell_type": "code",
   "execution_count": 2,
   "metadata": {},
   "outputs": [],
   "source": [
    "Data = pd.read_excel('price feature 5 timestep target 1 timestep.xlsx')"
   ]
  },
  {
   "cell_type": "code",
   "execution_count": 3,
   "metadata": {},
   "outputs": [
    {
     "data": {
      "text/html": [
       "<div>\n",
       "<style scoped>\n",
       "    .dataframe tbody tr th:only-of-type {\n",
       "        vertical-align: middle;\n",
       "    }\n",
       "\n",
       "    .dataframe tbody tr th {\n",
       "        vertical-align: top;\n",
       "    }\n",
       "\n",
       "    .dataframe thead th {\n",
       "        text-align: right;\n",
       "    }\n",
       "</style>\n",
       "<table border=\"1\" class=\"dataframe\">\n",
       "  <thead>\n",
       "    <tr style=\"text-align: right;\">\n",
       "      <th></th>\n",
       "      <th>h5</th>\n",
       "      <th>l5</th>\n",
       "      <th>h4</th>\n",
       "      <th>l4</th>\n",
       "      <th>h3</th>\n",
       "      <th>l3</th>\n",
       "      <th>h2</th>\n",
       "      <th>l2</th>\n",
       "      <th>h1</th>\n",
       "      <th>l1</th>\n",
       "      <th>target</th>\n",
       "    </tr>\n",
       "  </thead>\n",
       "  <tbody>\n",
       "    <tr>\n",
       "      <th>0</th>\n",
       "      <td>1.146279</td>\n",
       "      <td>1.146059</td>\n",
       "      <td>1.146062</td>\n",
       "      <td>1.145776</td>\n",
       "      <td>1.146468</td>\n",
       "      <td>1.146288</td>\n",
       "      <td>1.146666</td>\n",
       "      <td>1.146576</td>\n",
       "      <td>1.146509</td>\n",
       "      <td>1.146392</td>\n",
       "      <td>1.146159</td>\n",
       "    </tr>\n",
       "    <tr>\n",
       "      <th>1</th>\n",
       "      <td>1.146062</td>\n",
       "      <td>1.145776</td>\n",
       "      <td>1.146468</td>\n",
       "      <td>1.146288</td>\n",
       "      <td>1.146666</td>\n",
       "      <td>1.146576</td>\n",
       "      <td>1.146509</td>\n",
       "      <td>1.146392</td>\n",
       "      <td>1.146159</td>\n",
       "      <td>1.145967</td>\n",
       "      <td>1.145842</td>\n",
       "    </tr>\n",
       "    <tr>\n",
       "      <th>2</th>\n",
       "      <td>1.146468</td>\n",
       "      <td>1.146288</td>\n",
       "      <td>1.146666</td>\n",
       "      <td>1.146576</td>\n",
       "      <td>1.146509</td>\n",
       "      <td>1.146392</td>\n",
       "      <td>1.146159</td>\n",
       "      <td>1.145967</td>\n",
       "      <td>1.145842</td>\n",
       "      <td>1.145704</td>\n",
       "      <td>1.145568</td>\n",
       "    </tr>\n",
       "    <tr>\n",
       "      <th>3</th>\n",
       "      <td>1.146666</td>\n",
       "      <td>1.146576</td>\n",
       "      <td>1.146509</td>\n",
       "      <td>1.146392</td>\n",
       "      <td>1.146159</td>\n",
       "      <td>1.145967</td>\n",
       "      <td>1.145842</td>\n",
       "      <td>1.145704</td>\n",
       "      <td>1.145568</td>\n",
       "      <td>1.145446</td>\n",
       "      <td>1.145330</td>\n",
       "    </tr>\n",
       "    <tr>\n",
       "      <th>4</th>\n",
       "      <td>1.146509</td>\n",
       "      <td>1.146392</td>\n",
       "      <td>1.146159</td>\n",
       "      <td>1.145967</td>\n",
       "      <td>1.145842</td>\n",
       "      <td>1.145704</td>\n",
       "      <td>1.145568</td>\n",
       "      <td>1.145446</td>\n",
       "      <td>1.145330</td>\n",
       "      <td>1.145190</td>\n",
       "      <td>1.145338</td>\n",
       "    </tr>\n",
       "    <tr>\n",
       "      <th>...</th>\n",
       "      <td>...</td>\n",
       "      <td>...</td>\n",
       "      <td>...</td>\n",
       "      <td>...</td>\n",
       "      <td>...</td>\n",
       "      <td>...</td>\n",
       "      <td>...</td>\n",
       "      <td>...</td>\n",
       "      <td>...</td>\n",
       "      <td>...</td>\n",
       "      <td>...</td>\n",
       "    </tr>\n",
       "    <tr>\n",
       "      <th>32182</th>\n",
       "      <td>1.105398</td>\n",
       "      <td>1.105328</td>\n",
       "      <td>1.105536</td>\n",
       "      <td>1.105455</td>\n",
       "      <td>1.105527</td>\n",
       "      <td>1.105431</td>\n",
       "      <td>1.105530</td>\n",
       "      <td>1.105465</td>\n",
       "      <td>1.105427</td>\n",
       "      <td>1.105365</td>\n",
       "      <td>1.105384</td>\n",
       "    </tr>\n",
       "    <tr>\n",
       "      <th>32183</th>\n",
       "      <td>1.105536</td>\n",
       "      <td>1.105455</td>\n",
       "      <td>1.105527</td>\n",
       "      <td>1.105431</td>\n",
       "      <td>1.105530</td>\n",
       "      <td>1.105465</td>\n",
       "      <td>1.105427</td>\n",
       "      <td>1.105365</td>\n",
       "      <td>1.105384</td>\n",
       "      <td>1.105288</td>\n",
       "      <td>1.105475</td>\n",
       "    </tr>\n",
       "    <tr>\n",
       "      <th>32184</th>\n",
       "      <td>1.105527</td>\n",
       "      <td>1.105431</td>\n",
       "      <td>1.105530</td>\n",
       "      <td>1.105465</td>\n",
       "      <td>1.105427</td>\n",
       "      <td>1.105365</td>\n",
       "      <td>1.105384</td>\n",
       "      <td>1.105288</td>\n",
       "      <td>1.105475</td>\n",
       "      <td>1.105418</td>\n",
       "      <td>1.105417</td>\n",
       "    </tr>\n",
       "    <tr>\n",
       "      <th>32185</th>\n",
       "      <td>1.105530</td>\n",
       "      <td>1.105465</td>\n",
       "      <td>1.105427</td>\n",
       "      <td>1.105365</td>\n",
       "      <td>1.105384</td>\n",
       "      <td>1.105288</td>\n",
       "      <td>1.105475</td>\n",
       "      <td>1.105418</td>\n",
       "      <td>1.105417</td>\n",
       "      <td>1.105367</td>\n",
       "      <td>1.105335</td>\n",
       "    </tr>\n",
       "    <tr>\n",
       "      <th>32186</th>\n",
       "      <td>1.105427</td>\n",
       "      <td>1.105365</td>\n",
       "      <td>1.105384</td>\n",
       "      <td>1.105288</td>\n",
       "      <td>1.105475</td>\n",
       "      <td>1.105418</td>\n",
       "      <td>1.105417</td>\n",
       "      <td>1.105367</td>\n",
       "      <td>1.105335</td>\n",
       "      <td>1.105268</td>\n",
       "      <td>1.105422</td>\n",
       "    </tr>\n",
       "  </tbody>\n",
       "</table>\n",
       "<p>32187 rows × 11 columns</p>\n",
       "</div>"
      ],
      "text/plain": [
       "             h5        l5        h4        l4        h3        l3        h2  \\\n",
       "0      1.146279  1.146059  1.146062  1.145776  1.146468  1.146288  1.146666   \n",
       "1      1.146062  1.145776  1.146468  1.146288  1.146666  1.146576  1.146509   \n",
       "2      1.146468  1.146288  1.146666  1.146576  1.146509  1.146392  1.146159   \n",
       "3      1.146666  1.146576  1.146509  1.146392  1.146159  1.145967  1.145842   \n",
       "4      1.146509  1.146392  1.146159  1.145967  1.145842  1.145704  1.145568   \n",
       "...         ...       ...       ...       ...       ...       ...       ...   \n",
       "32182  1.105398  1.105328  1.105536  1.105455  1.105527  1.105431  1.105530   \n",
       "32183  1.105536  1.105455  1.105527  1.105431  1.105530  1.105465  1.105427   \n",
       "32184  1.105527  1.105431  1.105530  1.105465  1.105427  1.105365  1.105384   \n",
       "32185  1.105530  1.105465  1.105427  1.105365  1.105384  1.105288  1.105475   \n",
       "32186  1.105427  1.105365  1.105384  1.105288  1.105475  1.105418  1.105417   \n",
       "\n",
       "             l2        h1        l1    target  \n",
       "0      1.146576  1.146509  1.146392  1.146159  \n",
       "1      1.146392  1.146159  1.145967  1.145842  \n",
       "2      1.145967  1.145842  1.145704  1.145568  \n",
       "3      1.145704  1.145568  1.145446  1.145330  \n",
       "4      1.145446  1.145330  1.145190  1.145338  \n",
       "...         ...       ...       ...       ...  \n",
       "32182  1.105465  1.105427  1.105365  1.105384  \n",
       "32183  1.105365  1.105384  1.105288  1.105475  \n",
       "32184  1.105288  1.105475  1.105418  1.105417  \n",
       "32185  1.105418  1.105417  1.105367  1.105335  \n",
       "32186  1.105367  1.105335  1.105268  1.105422  \n",
       "\n",
       "[32187 rows x 11 columns]"
      ]
     },
     "execution_count": 3,
     "metadata": {},
     "output_type": "execute_result"
    }
   ],
   "source": [
    "Data"
   ]
  },
  {
   "cell_type": "markdown",
   "metadata": {},
   "source": [
    "### 1.1 change dataframe to matrix"
   ]
  },
  {
   "cell_type": "code",
   "execution_count": 4,
   "metadata": {},
   "outputs": [],
   "source": [
    "DataMatrix = Data.values"
   ]
  },
  {
   "cell_type": "code",
   "execution_count": 5,
   "metadata": {},
   "outputs": [],
   "source": [
    "np.random.shuffle(DataMatrix)"
   ]
  },
  {
   "cell_type": "markdown",
   "metadata": {},
   "source": [
    "### 1.2 split matrix to X and Y"
   ]
  },
  {
   "cell_type": "code",
   "execution_count": 6,
   "metadata": {},
   "outputs": [],
   "source": [
    "N = DataMatrix.shape[0]"
   ]
  },
  {
   "cell_type": "code",
   "execution_count": 7,
   "metadata": {},
   "outputs": [],
   "source": [
    "D = DataMatrix.shape[1] - 1"
   ]
  },
  {
   "cell_type": "code",
   "execution_count": 8,
   "metadata": {},
   "outputs": [],
   "source": [
    "X = DataMatrix[:, :D]\n",
    "Y = DataMatrix[:, D:]"
   ]
  },
  {
   "cell_type": "markdown",
   "metadata": {},
   "source": [
    "### 1.3 split data to training set and test set"
   ]
  },
  {
   "cell_type": "code",
   "execution_count": 9,
   "metadata": {},
   "outputs": [],
   "source": [
    "start = 0\n",
    "end = int(0.8*N)"
   ]
  },
  {
   "cell_type": "code",
   "execution_count": 10,
   "metadata": {},
   "outputs": [],
   "source": [
    "X_train = np.array(X[start:end, :], dtype='float32')\n",
    "Y_train = np.array(Y[start:end, :], dtype='float32')\n",
    "\n",
    "X_test = np.array(X[end:, :], dtype='float32')\n",
    "Y_test = np.array(Y[end:, :], dtype='float32')"
   ]
  },
  {
   "cell_type": "markdown",
   "metadata": {},
   "source": [
    "### 1.4 normalize X and Y"
   ]
  },
  {
   "cell_type": "code",
   "execution_count": 11,
   "metadata": {},
   "outputs": [],
   "source": [
    "norm_X = ai.Normalize(X_train, norm_type='minmaxNorm')\n",
    "norm_Y = ai.Normalize(Y_train, norm_type='minmaxNorm')"
   ]
  },
  {
   "cell_type": "code",
   "execution_count": 12,
   "metadata": {},
   "outputs": [],
   "source": [
    "X_train_norm = norm_X.fit(X_train)\n",
    "Y_train_norm = norm_Y.fit(Y_train)"
   ]
  },
  {
   "cell_type": "code",
   "execution_count": 13,
   "metadata": {},
   "outputs": [],
   "source": [
    "X_test_norm = norm_X.fit(X_test)\n",
    "Y_test_norm = norm_Y.fit(Y_test)"
   ]
  },
  {
   "cell_type": "markdown",
   "metadata": {},
   "source": [
    "## 2. Create Model"
   ]
  },
  {
   "cell_type": "markdown",
   "metadata": {},
   "source": [
    "### 2.1 learn"
   ]
  },
  {
   "cell_type": "code",
   "execution_count": 15,
   "metadata": {},
   "outputs": [],
   "source": [
    "regr = ai.LSTM(n_ts_feature=5, n_ts_target=1, RNN_HL=[3], ANN_HL=[2, 1], ANN_AF=['sigmoid', ['prelu', 0.5]])"
   ]
  },
  {
   "cell_type": "code",
   "execution_count": 16,
   "metadata": {},
   "outputs": [],
   "source": [
    "regr.fit(X_train_norm, Y_train_norm, 'mse', epoch=200, learning_rate=0.05)"
   ]
  },
  {
   "cell_type": "code",
   "execution_count": 17,
   "metadata": {},
   "outputs": [
    {
     "data": {
      "text/plain": [
       "[<matplotlib.lines.Line2D at 0x236ead6d488>]"
      ]
     },
     "execution_count": 17,
     "metadata": {},
     "output_type": "execute_result"
    },
    {
     "data": {
      "image/png": "[encoded data removed]",
      "text/plain": [
       "<Figure size 432x288 with 1 Axes>"
      ]
     },
     "metadata": {
      "needs_background": "light"
     },
     "output_type": "display_data"
    }
   ],
   "source": [
    "plt.plot(regr.loss_list)"
   ]
  },
  {
   "cell_type": "markdown",
   "metadata": {},
   "source": [
    "### 2.2 model evaluation for training set"
   ]
  },
  {
   "cell_type": "code",
   "execution_count": 18,
   "metadata": {},
   "outputs": [],
   "source": [
    "Yhat_train_norm = regr.predict(X_train_norm)"
   ]
  },
  {
   "cell_type": "code",
   "execution_count": 19,
   "metadata": {},
   "outputs": [
    {
     "data": {
      "text/plain": [
       "[<myai.torch at 0x236e9e7b888>]"
      ]
     },
     "execution_count": 19,
     "metadata": {},
     "output_type": "execute_result"
    }
   ],
   "source": [
    "Yhat_train_norm"
   ]
  },
  {
   "cell_type": "code",
   "execution_count": 20,
   "metadata": {},
   "outputs": [],
   "source": [
    "n_rows_yhat_train = Yhat_train_norm[0].data.shape[0]\n",
    "_Yhat_train_norm = np.empty([n_rows_yhat_train, 0], dtype=float)\n",
    "for i in range(regr.n_ts_target):\n",
    "    _Yhat_train_norm = np.hstack([_Yhat_train_norm, Yhat_train_norm[i].data])"
   ]
  },
  {
   "cell_type": "code",
   "execution_count": 21,
   "metadata": {},
   "outputs": [],
   "source": [
    "Yhat_train = norm_Y.transform(_Yhat_train_norm)"
   ]
  },
  {
   "cell_type": "code",
   "execution_count": 22,
   "metadata": {},
   "outputs": [],
   "source": [
    "Yhat_train_TS = ai.RNN.seperate_timestep(Yhat_train, regr.n_ts_target)"
   ]
  },
  {
   "cell_type": "code",
   "execution_count": 23,
   "metadata": {},
   "outputs": [
    {
     "data": {
      "text/plain": [
       "[array([[1.11692462],\n",
       "        [1.11998697],\n",
       "        [1.12213995],\n",
       "        ...,\n",
       "        [1.12200769],\n",
       "        [1.12171558],\n",
       "        [1.10877577]])]"
      ]
     },
     "execution_count": 23,
     "metadata": {},
     "output_type": "execute_result"
    }
   ],
   "source": [
    "Yhat_train_TS"
   ]
  },
  {
   "cell_type": "code",
   "execution_count": 24,
   "metadata": {},
   "outputs": [],
   "source": [
    "Y_train_TS = ai.RNN.seperate_timestep(Y_train, regr.n_ts_target)"
   ]
  },
  {
   "cell_type": "code",
   "execution_count": 25,
   "metadata": {},
   "outputs": [
    {
     "data": {
      "text/plain": [
       "[array([[1.108083],\n",
       "        [1.119959],\n",
       "        [1.139595],\n",
       "        ...,\n",
       "        [1.137795],\n",
       "        [1.134687],\n",
       "        [1.093868]], dtype=float32)]"
      ]
     },
     "execution_count": 25,
     "metadata": {},
     "output_type": "execute_result"
    }
   ],
   "source": [
    "Y_train_TS"
   ]
  },
  {
   "cell_type": "code",
   "execution_count": 26,
   "metadata": {},
   "outputs": [
    {
     "name": "stdout",
     "output_type": "stream",
     "text": [
      "timestep : 1\n",
      "0.00011726047012616192\n"
     ]
    }
   ],
   "source": [
    "for i in range(regr.n_ts_target):\n",
    "    print('timestep :', i+1)\n",
    "    print(ai.ErrorScore.find_error(Y_train_TS[i], Yhat_train_TS[i], 'MSE'))"
   ]
  },
  {
   "cell_type": "code",
   "execution_count": 27,
   "metadata": {},
   "outputs": [
    {
     "name": "stdout",
     "output_type": "stream",
     "text": [
      "timestep : 1\n"
     ]
    },
    {
     "data": {
      "image/png": "[encoded data removed]",
      "text/plain": [
       "<Figure size 432x288 with 1 Axes>"
      ]
     },
     "metadata": {
      "needs_background": "light"
     },
     "output_type": "display_data"
    }
   ],
   "source": [
    "for i in range(regr.n_ts_target):\n",
    "    print('timestep :', i+1)\n",
    "    plt.scatter(Yhat_train_TS[i], Y_train_TS[i])\n",
    "    plt.plot()"
   ]
  },
  {
   "cell_type": "markdown",
   "metadata": {},
   "source": [
    "## 3. Making Prediction"
   ]
  },
  {
   "cell_type": "markdown",
   "metadata": {},
   "source": [
    "### 3.1 Predict"
   ]
  },
  {
   "cell_type": "code",
   "execution_count": 28,
   "metadata": {},
   "outputs": [],
   "source": [
    "Yhat_test_norm = regr.predict(X_test_norm)"
   ]
  },
  {
   "cell_type": "code",
   "execution_count": 29,
   "metadata": {},
   "outputs": [],
   "source": [
    "n_rows_yhat_test = Yhat_test_norm[0].data.shape[0]\n",
    "_Yhat_test_norm = np.empty([n_rows_yhat_test, 0], dtype=float)\n",
    "for i in range(regr.n_ts_target):\n",
    "    _Yhat_test_norm = np.hstack([_Yhat_test_norm, Yhat_test_norm[i].data])"
   ]
  },
  {
   "cell_type": "code",
   "execution_count": 30,
   "metadata": {},
   "outputs": [],
   "source": [
    "Yhat_test = norm_Y.transform(_Yhat_test_norm)"
   ]
  },
  {
   "cell_type": "code",
   "execution_count": 31,
   "metadata": {},
   "outputs": [],
   "source": [
    "Yhat_test_TS = ai.RNN.seperate_timestep(Yhat_test, regr.n_ts_target)"
   ]
  },
  {
   "cell_type": "markdown",
   "metadata": {},
   "source": [
    "### 3.2 model evaluation for test set"
   ]
  },
  {
   "cell_type": "code",
   "execution_count": 32,
   "metadata": {},
   "outputs": [],
   "source": [
    "Y_test_TS = ai.RNN.seperate_timestep(Y_test, regr.n_ts_target)"
   ]
  },
  {
   "cell_type": "code",
   "execution_count": 33,
   "metadata": {},
   "outputs": [
    {
     "name": "stdout",
     "output_type": "stream",
     "text": [
      "timestep : 1\n",
      "0.00011892923283074165\n"
     ]
    }
   ],
   "source": [
    "for i in range(regr.n_ts_target):\n",
    "    print('timestep :', i+1)\n",
    "    print(ai.ErrorScore.find_error(Y_test_TS[i], Yhat_test_TS[i], 'MSE'))"
   ]
  },
  {
   "cell_type": "code",
   "execution_count": 34,
   "metadata": {},
   "outputs": [
    {
     "name": "stdout",
     "output_type": "stream",
     "text": [
      "timestep : 1\n"
     ]
    },
    {
     "data": {
      "image/png": "[encoded data removed]",
      "text/plain": [
       "<Figure size 432x288 with 1 Axes>"
      ]
     },
     "metadata": {
      "needs_background": "light"
     },
     "output_type": "display_data"
    }
   ],
   "source": [
    "for i in range(regr.n_ts_target):\n",
    "    print('timestep :', i+1)\n",
    "    plt.scatter(Yhat_test_TS[i], Y_test_TS[i])\n",
    "    plt.plot()"
   ]
  },
  {
   "cell_type": "code",
   "execution_count": null,
   "metadata": {},
   "outputs": [],
   "source": []
  }
 ],
 "metadata": {
  "kernelspec": {
   "display_name": "Python 3",
   "language": "python",
   "name": "python3"
  },
  "language_info": {
   "codemirror_mode": {
    "name": "ipython",
    "version": 3
   },
   "file_extension": ".py",
   "mimetype": "text/x-python",
   "name": "python",
   "nbconvert_exporter": "python",
   "pygments_lexer": "ipython3",
   "version": "3.7.8"
  }
 },
 "nbformat": 4,
 "nbformat_minor": 2
}
