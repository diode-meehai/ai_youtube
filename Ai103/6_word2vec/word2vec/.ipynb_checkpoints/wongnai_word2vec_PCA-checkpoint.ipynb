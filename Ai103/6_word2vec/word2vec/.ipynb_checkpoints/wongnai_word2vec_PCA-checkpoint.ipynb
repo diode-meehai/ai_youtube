{
 "cells": [
  {
   "cell_type": "code",
   "execution_count": 1,
   "metadata": {},
   "outputs": [],
   "source": [
    "import pandas as pd\n",
    "import numpy as np\n",
    "from sklearn.decomposition import PCA"
   ]
  },
  {
   "cell_type": "code",
   "execution_count": 2,
   "metadata": {},
   "outputs": [],
   "source": [
    "df = pd.read_csv('../../wongnai_padding_word2vec_dataset.csv')\n",
    "data = df.to_numpy()"
   ]
  },
  {
   "cell_type": "code",
   "execution_count": 3,
   "metadata": {},
   "outputs": [],
   "source": [
    "X = data[:, :-1]\n",
    "y = data[:, -1:]"
   ]
  },
  {
   "cell_type": "code",
   "execution_count": 4,
   "metadata": {},
   "outputs": [],
   "source": [
    "n_components = 2\n",
    "pca = PCA(n_components=n_components)\n",
    "pca.fit(X)\n",
    "X_tran = pca.transform(X)"
   ]
  },
  {
   "cell_type": "code",
   "execution_count": 5,
   "metadata": {},
   "outputs": [
    {
     "name": "stdout",
     "output_type": "stream",
     "text": [
      "(97000, 2)\n",
      "(97000, 1)\n"
     ]
    }
   ],
   "source": [
    "print(X_tran.shape)\n",
    "print(y.shape)"
   ]
  },
  {
   "cell_type": "code",
   "execution_count": 6,
   "metadata": {},
   "outputs": [],
   "source": [
    "words_per_example =  97\n",
    "X_sentence = np.empty((0, n_components * words_per_example))\n",
    "for i in range(0, len(X_tran), words_per_example):\n",
    "    X_sentence = np.vstack((X_sentence, X_tran[i: i + words_per_example].reshape(1, -1)))"
   ]
  },
  {
   "cell_type": "code",
   "execution_count": 7,
   "metadata": {},
   "outputs": [],
   "source": [
    "y_sentence = np.empty((0, 1))\n",
    "for i in range(0, len(y), words_per_example):\n",
    "    y_sentence = np.vstack((y_sentence, y[i]))"
   ]
  },
  {
   "cell_type": "code",
   "execution_count": 8,
   "metadata": {},
   "outputs": [
    {
     "name": "stdout",
     "output_type": "stream",
     "text": [
      "(1000, 194)\n",
      "(1000, 1)\n"
     ]
    }
   ],
   "source": [
    "print(X_sentence.shape)\n",
    "print(y_sentence.shape)"
   ]
  },
  {
   "cell_type": "code",
   "execution_count": 10,
   "metadata": {},
   "outputs": [],
   "source": [
    "out = np.hstack((X_sentence, y_sentence))\n",
    "df_out = pd.DataFrame(out, columns=[i for i in range(n_components * words_per_example)] + ['target'])\n",
    "df_out.to_csv('wongnai_word2vec_pca_1sen1row.csv', index=False)"
   ]
  },
  {
   "cell_type": "code",
   "execution_count": null,
   "metadata": {},
   "outputs": [],
   "source": [
    "y.shape"
   ]
  },
  {
   "cell_type": "code",
   "execution_count": null,
   "metadata": {},
   "outputs": [],
   "source": []
  }
 ],
 "metadata": {
  "kernelspec": {
   "display_name": "Python 3",
   "language": "python",
   "name": "python3"
  },
  "language_info": {
   "codemirror_mode": {
    "name": "ipython",
    "version": 3
   },
   "file_extension": ".py",
   "mimetype": "text/x-python",
   "name": "python",
   "nbconvert_exporter": "python",
   "pygments_lexer": "ipython3",
   "version": "3.7.3"
  }
 },
 "nbformat": 4,
 "nbformat_minor": 2
}
