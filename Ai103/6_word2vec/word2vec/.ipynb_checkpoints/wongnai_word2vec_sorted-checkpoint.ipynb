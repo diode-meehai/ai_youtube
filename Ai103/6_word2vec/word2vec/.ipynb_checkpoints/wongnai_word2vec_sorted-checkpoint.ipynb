{
 "cells": [
  {
   "cell_type": "code",
   "execution_count": null,
   "metadata": {
    "colab": {
     "base_uri": "https://localhost:8080/",
     "height": 210
    },
    "colab_type": "code",
    "id": "ZkdP8krAy0uM",
    "outputId": "d5c5b695-7a26-4ce3-8455-b715fa054266"
   },
   "outputs": [],
   "source": [
    "# !pip install pythainlp"
   ]
  },
  {
   "cell_type": "code",
   "execution_count": null,
   "metadata": {
    "colab": {
     "base_uri": "https://localhost:8080/",
     "height": 34
    },
    "colab_type": "code",
    "id": "99-hXqibYdAJ",
    "outputId": "40ea608f-7dc3-4eb3-f4ad-a45c806f044e"
   },
   "outputs": [],
   "source": [
    "# from google.colab import drive\n",
    "# drive.mount('/content/drive')"
   ]
  },
  {
   "cell_type": "code",
   "execution_count": 1,
   "metadata": {
    "colab": {},
    "colab_type": "code",
    "id": "pP5_Fzj5YtUz"
   },
   "outputs": [],
   "source": [
    "import numpy as np\n",
    "import pandas as pd\n",
    "from sklearn.feature_extraction.text import CountVectorizer\n",
    "from nltk.tokenize import word_tokenize\n",
    "from tqdm import tqdm\n",
    "from pythainlp.tokenize import word_tokenize\n",
    "import matplotlib.pyplot as plt"
   ]
  },
  {
   "cell_type": "code",
   "execution_count": 2,
   "metadata": {
    "colab": {},
    "colab_type": "code",
    "id": "ZTuZPczmZJmi"
   },
   "outputs": [],
   "source": [
    "base = '../../'\n",
    "# base = 'drive/My Drive/Kaggle/Wongnai Challenge Review Rating Prediction/'"
   ]
  },
  {
   "cell_type": "code",
   "execution_count": 3,
   "metadata": {
    "colab": {
     "base_uri": "https://localhost:8080/",
     "height": 136
    },
    "colab_type": "code",
    "id": "B1sUEiXjY_s4",
    "outputId": "f16ae0f4-7eb0-4e8b-af3e-cffc419ef9dd"
   },
   "outputs": [
    {
     "data": {
      "text/html": [
       "<div>\n",
       "<style scoped>\n",
       "    .dataframe tbody tr th:only-of-type {\n",
       "        vertical-align: middle;\n",
       "    }\n",
       "\n",
       "    .dataframe tbody tr th {\n",
       "        vertical-align: top;\n",
       "    }\n",
       "\n",
       "    .dataframe thead th {\n",
       "        text-align: right;\n",
       "    }\n",
       "</style>\n",
       "<table border=\"1\" class=\"dataframe\">\n",
       "  <thead>\n",
       "    <tr style=\"text-align: right;\">\n",
       "      <th></th>\n",
       "      <th>review</th>\n",
       "      <th>rating</th>\n",
       "    </tr>\n",
       "  </thead>\n",
       "  <tbody>\n",
       "    <tr>\n",
       "      <th>0</th>\n",
       "      <td>ร้านอาหารใหญ่มากกกกกกก \\nเลี้ยวเข้ามาเจอห้องน้...</td>\n",
       "      <td>3</td>\n",
       "    </tr>\n",
       "    <tr>\n",
       "      <th>1</th>\n",
       "      <td>อาหารที่นี่เป็นอาหารจีนแคะที่หากินยากในบ้านเรา...</td>\n",
       "      <td>4</td>\n",
       "    </tr>\n",
       "    <tr>\n",
       "      <th>2</th>\n",
       "      <td>ปอเปี๊ยะสด ทุกวันนี้รู้สึกว่าหากินยาก (ร้านที่...</td>\n",
       "      <td>3</td>\n",
       "    </tr>\n",
       "  </tbody>\n",
       "</table>\n",
       "</div>"
      ],
      "text/plain": [
       "                                              review  rating\n",
       "0  ร้านอาหารใหญ่มากกกกกกก \\nเลี้ยวเข้ามาเจอห้องน้...       3\n",
       "1  อาหารที่นี่เป็นอาหารจีนแคะที่หากินยากในบ้านเรา...       4\n",
       "2  ปอเปี๊ยะสด ทุกวันนี้รู้สึกว่าหากินยาก (ร้านที่...       3"
      ]
     },
     "execution_count": 3,
     "metadata": {},
     "output_type": "execute_result"
    }
   ],
   "source": [
    "df = pd.read_excel(base + 'data.xlsx')\n",
    "df.head(3)"
   ]
  },
  {
   "cell_type": "code",
   "execution_count": 4,
   "metadata": {},
   "outputs": [
    {
     "data": {
      "text/html": [
       "<div>\n",
       "<style scoped>\n",
       "    .dataframe tbody tr th:only-of-type {\n",
       "        vertical-align: middle;\n",
       "    }\n",
       "\n",
       "    .dataframe tbody tr th {\n",
       "        vertical-align: top;\n",
       "    }\n",
       "\n",
       "    .dataframe thead th {\n",
       "        text-align: right;\n",
       "    }\n",
       "</style>\n",
       "<table border=\"1\" class=\"dataframe\">\n",
       "  <thead>\n",
       "    <tr style=\"text-align: right;\">\n",
       "      <th></th>\n",
       "      <th>review</th>\n",
       "    </tr>\n",
       "    <tr>\n",
       "      <th>rating</th>\n",
       "      <th></th>\n",
       "    </tr>\n",
       "  </thead>\n",
       "  <tbody>\n",
       "    <tr>\n",
       "      <th>1</th>\n",
       "      <td>415</td>\n",
       "    </tr>\n",
       "    <tr>\n",
       "      <th>2</th>\n",
       "      <td>1845</td>\n",
       "    </tr>\n",
       "    <tr>\n",
       "      <th>3</th>\n",
       "      <td>12171</td>\n",
       "    </tr>\n",
       "    <tr>\n",
       "      <th>4</th>\n",
       "      <td>18768</td>\n",
       "    </tr>\n",
       "    <tr>\n",
       "      <th>5</th>\n",
       "      <td>6794</td>\n",
       "    </tr>\n",
       "  </tbody>\n",
       "</table>\n",
       "</div>"
      ],
      "text/plain": [
       "        review\n",
       "rating        \n",
       "1          415\n",
       "2         1845\n",
       "3        12171\n",
       "4        18768\n",
       "5         6794"
      ]
     },
     "execution_count": 4,
     "metadata": {},
     "output_type": "execute_result"
    }
   ],
   "source": [
    "df.groupby('rating').count()"
   ]
  },
  {
   "cell_type": "code",
   "execution_count": 5,
   "metadata": {},
   "outputs": [
    {
     "name": "stderr",
     "output_type": "stream",
     "text": [
      "39993it [00:55, 718.54it/s]\n"
     ]
    }
   ],
   "source": [
    "corpus = df['review'].to_numpy()\n",
    "arr = df.to_numpy()\n",
    "# zeros = np.zeros((arr.shape[0], 1))\n",
    "# arr = np.hstack((zeros, arr))\n",
    "\n",
    "arr_list = []\n",
    "\n",
    "for i, sentence in tqdm(enumerate(corpus)):\n",
    "    tokens = word_tokenize(sentence)\n",
    "    curr_len = len(tokens)\n",
    "    \n",
    "    arr_list.append((curr_len, arr[i][0], arr[i][1]))\n",
    "    \n",
    "    arr[i][0] = curr_len\n"
   ]
  },
  {
   "cell_type": "code",
   "execution_count": null,
   "metadata": {},
   "outputs": [],
   "source": [
    "# plt.hist(arr[:, 2], bins=1000, range=(0, 500))"
   ]
  },
  {
   "cell_type": "code",
   "execution_count": 6,
   "metadata": {},
   "outputs": [
    {
     "name": "stdout",
     "output_type": "stream",
     "text": [
      "(8, 'อร่อย สะอาด ปลอดภัยแน่นอนค่า                                                                                                                                                                               ', 4)\n"
     ]
    }
   ],
   "source": [
    "for i in arr_list:\n",
    "    if i[0] == 8:\n",
    "        print(i)\n",
    "        break"
   ]
  },
  {
   "cell_type": "code",
   "execution_count": 7,
   "metadata": {},
   "outputs": [
    {
     "data": {
      "text/plain": [
       "39993"
      ]
     },
     "execution_count": 7,
     "metadata": {},
     "output_type": "execute_result"
    }
   ],
   "source": [
    "arr_sorted = sorted(arr_list)\n",
    "len(arr_sorted)"
   ]
  },
  {
   "cell_type": "code",
   "execution_count": 9,
   "metadata": {},
   "outputs": [],
   "source": [
    "max_n_sentence_each_targets = 199\n",
    "cnt = [0] * 7\n",
    "out_list = []\n",
    "for a in arr_sorted:\n",
    "    len_sentence = a[0]\n",
    "    sentence = a[1]\n",
    "    target = int(a[2])\n",
    "    \n",
    "    if cnt[target] <= max_n_sentence_each_targets:\n",
    "        out_list.append([sentence, int(target), int(len_sentence)])\n",
    "        \n",
    "        cnt[target] += 1\n",
    "    \n",
    "    if sum(cnt) == 1000:\n",
    "        break"
   ]
  },
  {
   "cell_type": "code",
   "execution_count": 10,
   "metadata": {},
   "outputs": [
    {
     "data": {
      "text/plain": [
       "1000"
      ]
     },
     "execution_count": 10,
     "metadata": {},
     "output_type": "execute_result"
    }
   ],
   "source": [
    "len(out_list)"
   ]
  },
  {
   "cell_type": "code",
   "execution_count": 11,
   "metadata": {},
   "outputs": [
    {
     "data": {
      "text/plain": [
       "114"
      ]
     },
     "execution_count": 11,
     "metadata": {},
     "output_type": "execute_result"
    }
   ],
   "source": [
    "out = np.array(out_list)\n",
    "np.max(out[:, 2].astype(int))"
   ]
  },
  {
   "cell_type": "code",
   "execution_count": 12,
   "metadata": {},
   "outputs": [
    {
     "data": {
      "text/plain": [
       "(1000, 3)"
      ]
     },
     "execution_count": 12,
     "metadata": {},
     "output_type": "execute_result"
    }
   ],
   "source": [
    "out.shape"
   ]
  },
  {
   "cell_type": "code",
   "execution_count": 13,
   "metadata": {},
   "outputs": [
    {
     "data": {
      "text/plain": [
       "array([['อร่อย สะอาด ปลอดภัยแน่นอนค่า                                                                                                                                                                               ',\n",
       "        '4', '8'],\n",
       "       ['คืออาหารอร่อยมาก คือชอบ ❤️❤️❤️❤️❤️❤️❤️❤️????❤️❤️❤️❤️❤️❤️❤️❤️❤️❤️❤️❤️❤️❤️❤️❤️❤️❤️❤️❤️❤️❤️❤️❤️❤️❤️❤️❤️❤️❤️❤️❤️❤️❤️❤️❤️❤️❤️❤️❤️❤️❤️❤️❤️❤️❤️❤️❤️❤️❤️❤️❤️❤️❤️❤️❤️❤️❤️❤️❤️❤️❤️❤️❤️❤️❤️❤️❤️❤️❤️❤️❤️❤️❤️❤️❤️❤️❤️❤️❤️❤️❤️❤️❤️❤️❤️❤️',\n",
       "        '5', '9'],\n",
       "       ['ปลาสด อาหารอร่อยแบบบ้าน ๆ ที่จอดรถสะดวก                                                                                                                                                                         ',\n",
       "        '3', '13'],\n",
       "       ...,\n",
       "       ['จุดเด่นของร้านนี้คือเบียร์ถูก ช้าง export buffet หัวละ 159 บาทเติมทั้งคืน\\nส่วนอาหารค่อนข้างธรรมดาราคาไม่แพง\\nแต่ปัญหาคืออาหารสั่งแล้วได้ผิดหลายเมนู บางอย่างก็ไม่มา หายไปเลย\\nเจอข้าวผัดปูโหดร้ายมาก สั่งมา2จานเล็ก ได้เนื้อปูชิ้นเล็กๆจานละ2ชิ้น เท่ากันเป๊ะเลย\\nรออาหารนานมาก เช็คบิลนานมาก ถ้าอาหารทั้งเก็บเงินคือถ้าไม่ทวงก็ต้องรอไม่รู้เมื่อไร แต่พอทวงปุ๊ปได้ปั๊ปเลย แปลกจริงๆ',\n",
       "        '1', '114'],\n",
       "       ['ตั้งใจมาซื้อชีสทาร์ตชื่อดังซึ่งจริงๆแล้วไม่ต้องรอคิว สามารถซื้อแล้วรับขนมได้เลย(ถ้าเป็นเครปต้องรอคิวค่ะ) แต่พนักงานกลับโบ้ยไปมาให้ออเดอร์ด้านข้างบ้างด้านหน้าบ้าง พอรับออเดอร์ไปก็ลืม เราก็คิดว่าชีสทาร์ตเค้าอาจจะต้องอบใหม่ร้อนๆก่อนขายเลยยืนรอเกือบ 30 นาที พอท้วงไปพนง.กลับบอกว่าไม่มีออเดอร์เข้ามา เช็คอีกทีคือกระดาษออเดอร์แปะอยู่ข้างหน้าแต่ลืม ไม่มีแม้แต่คำขอโทษหรือขอบคุณ ขาดหัวใจของการบริการมาก เสียความรู้สึกค่ะ',\n",
       "        '1', '114'],\n",
       "       ['วันนั้นที่เลือกทานเพราะเป็นวันเกิดอยากกินอะไรเบาๆ จะไปทานขนมต่อได้ สุดท้ายมาเลือกร้านนี้ทานผักไม่ยุ่งยาก สั่งจานแรกเฝอ แค่ชิมน้ำก็ไม่ผ่านแล้วคะ ไม่ปลื้มมากขนาดปรุงเพิ่ม จานที่สองก็สั่งของแฟนก็ไม่โอเคคะ มองตากันปริบๆ ว่าพลาดแล้วเรา เสียดายเสียใจมากคะ บริการก็ไม่ได้ดีมากด้วย สั่งอะไรไป พนง ดูมึนๆ กว่าจะรับออเดอร์เสร็จ ไม่ประทับใจเลยคะ ราคาไม่ได้ถูกด้วยจ้า ????',\n",
       "        '1', '114']], dtype='<U432')"
      ]
     },
     "execution_count": 13,
     "metadata": {},
     "output_type": "execute_result"
    }
   ],
   "source": [
    "out"
   ]
  },
  {
   "cell_type": "code",
   "execution_count": 14,
   "metadata": {},
   "outputs": [],
   "source": [
    "df_sort = pd.DataFrame(out[:, 0: 2], columns=['review', 'rating'])"
   ]
  },
  {
   "cell_type": "code",
   "execution_count": 15,
   "metadata": {
    "colab": {
     "base_uri": "https://localhost:8080/",
     "height": 136
    },
    "colab_type": "code",
    "id": "hkfbtbU6ZE7T",
    "outputId": "9f0c8f8f-274d-4214-b124-9a6152b09e09"
   },
   "outputs": [
    {
     "data": {
      "text/html": [
       "<div>\n",
       "<style scoped>\n",
       "    .dataframe tbody tr th:only-of-type {\n",
       "        vertical-align: middle;\n",
       "    }\n",
       "\n",
       "    .dataframe tbody tr th {\n",
       "        vertical-align: top;\n",
       "    }\n",
       "\n",
       "    .dataframe thead th {\n",
       "        text-align: right;\n",
       "    }\n",
       "</style>\n",
       "<table border=\"1\" class=\"dataframe\">\n",
       "  <thead>\n",
       "    <tr style=\"text-align: right;\">\n",
       "      <th></th>\n",
       "      <th>review</th>\n",
       "      <th>rating</th>\n",
       "    </tr>\n",
       "  </thead>\n",
       "  <tbody>\n",
       "    <tr>\n",
       "      <th>0</th>\n",
       "      <td>อร่อย สะอาด ปลอดภัยแน่นอนค่า                  ...</td>\n",
       "      <td>4</td>\n",
       "    </tr>\n",
       "    <tr>\n",
       "      <th>1</th>\n",
       "      <td>คืออาหารอร่อยมาก คือชอบ ❤️❤️❤️❤️❤️❤️❤️❤️????❤️...</td>\n",
       "      <td>5</td>\n",
       "    </tr>\n",
       "    <tr>\n",
       "      <th>2</th>\n",
       "      <td>ปลาสด อาหารอร่อยแบบบ้าน ๆ ที่จอดรถสะดวก       ...</td>\n",
       "      <td>3</td>\n",
       "    </tr>\n",
       "  </tbody>\n",
       "</table>\n",
       "</div>"
      ],
      "text/plain": [
       "                                              review rating\n",
       "0  อร่อย สะอาด ปลอดภัยแน่นอนค่า                  ...      4\n",
       "1  คืออาหารอร่อยมาก คือชอบ ❤️❤️❤️❤️❤️❤️❤️❤️????❤️...      5\n",
       "2  ปลาสด อาหารอร่อยแบบบ้าน ๆ ที่จอดรถสะดวก       ...      3"
      ]
     },
     "execution_count": 15,
     "metadata": {},
     "output_type": "execute_result"
    }
   ],
   "source": [
    "# df_sort = df.sample(frac=1, random_state=1).reset_index(drop=True)\n",
    "df_sort.head(3)"
   ]
  },
  {
   "cell_type": "code",
   "execution_count": 16,
   "metadata": {},
   "outputs": [],
   "source": [
    "df_clean = df_sort"
   ]
  },
  {
   "cell_type": "code",
   "execution_count": 17,
   "metadata": {
    "colab": {},
    "colab_type": "code",
    "id": "ILg69RCuZccn"
   },
   "outputs": [],
   "source": [
    "# df_clean = pd.concat([df_sort[:1000], df_sort[-1000:]])"
   ]
  },
  {
   "cell_type": "code",
   "execution_count": 18,
   "metadata": {
    "colab": {
     "base_uri": "https://localhost:8080/",
     "height": 225
    },
    "colab_type": "code",
    "id": "njZ4IySctwTf",
    "outputId": "d68bca33-ff6e-447e-e80b-0bf399bdf2b9"
   },
   "outputs": [
    {
     "data": {
      "text/html": [
       "<div>\n",
       "<style scoped>\n",
       "    .dataframe tbody tr th:only-of-type {\n",
       "        vertical-align: middle;\n",
       "    }\n",
       "\n",
       "    .dataframe tbody tr th {\n",
       "        vertical-align: top;\n",
       "    }\n",
       "\n",
       "    .dataframe thead th {\n",
       "        text-align: right;\n",
       "    }\n",
       "</style>\n",
       "<table border=\"1\" class=\"dataframe\">\n",
       "  <thead>\n",
       "    <tr style=\"text-align: right;\">\n",
       "      <th></th>\n",
       "      <th>review</th>\n",
       "    </tr>\n",
       "    <tr>\n",
       "      <th>rating</th>\n",
       "      <th></th>\n",
       "    </tr>\n",
       "  </thead>\n",
       "  <tbody>\n",
       "    <tr>\n",
       "      <th>1</th>\n",
       "      <td>200</td>\n",
       "    </tr>\n",
       "    <tr>\n",
       "      <th>2</th>\n",
       "      <td>200</td>\n",
       "    </tr>\n",
       "    <tr>\n",
       "      <th>3</th>\n",
       "      <td>200</td>\n",
       "    </tr>\n",
       "    <tr>\n",
       "      <th>4</th>\n",
       "      <td>200</td>\n",
       "    </tr>\n",
       "    <tr>\n",
       "      <th>5</th>\n",
       "      <td>200</td>\n",
       "    </tr>\n",
       "  </tbody>\n",
       "</table>\n",
       "</div>"
      ],
      "text/plain": [
       "        review\n",
       "rating        \n",
       "1          200\n",
       "2          200\n",
       "3          200\n",
       "4          200\n",
       "5          200"
      ]
     },
     "execution_count": 18,
     "metadata": {},
     "output_type": "execute_result"
    }
   ],
   "source": [
    "df_clean.groupby('rating').count()"
   ]
  },
  {
   "cell_type": "code",
   "execution_count": 19,
   "metadata": {
    "colab": {},
    "colab_type": "code",
    "id": "LuVHaB3pZeSr"
   },
   "outputs": [],
   "source": [
    "corpus = df_clean['review'].to_numpy()\n",
    "\n",
    "# vectorizer = CountVectorizer()\n",
    "# X = vectorizer.fit_transform(corpus)\n",
    "# X"
   ]
  },
  {
   "cell_type": "code",
   "execution_count": 20,
   "metadata": {
    "colab": {
     "base_uri": "https://localhost:8080/",
     "height": 34
    },
    "colab_type": "code",
    "id": "8ff_wM2VZfws",
    "outputId": "00af3ef0-54cb-4125-96cd-0e1fbcb88c71"
   },
   "outputs": [],
   "source": [
    "# import io\n",
    "\n",
    "# def load_vectors(fname):\n",
    "#     fin = io.open(fname, 'r', encoding='utf-8', newline='\\n', errors='ignore')\n",
    "#     n, d = map(int, fin.readline().split())\n",
    "#     data = {}\n",
    "#     it = 0\n",
    "#     for line in tqdm(fin):\n",
    "#         tokens = line.rstrip().split(' ')\n",
    "#         data[tokens[0]] = list(map(float, tokens[1:]))\n",
    "\n",
    "#         if it < 10:\n",
    "#             break\n",
    "#         it += 1\n",
    "#     return data\n",
    "# word_vectors = load_vectors(base + 'cc.th.300/cc.th.300.vec') "
   ]
  },
  {
   "cell_type": "code",
   "execution_count": 21,
   "metadata": {
    "colab": {
     "base_uri": "https://localhost:8080/",
     "height": 34
    },
    "colab_type": "code",
    "id": "NTZBIRM5v7Zm",
    "outputId": "3f351e21-e918-4730-964e-a7ee6efec16f"
   },
   "outputs": [],
   "source": [
    "# len(word_vectors['ที่'])"
   ]
  },
  {
   "cell_type": "code",
   "execution_count": 22,
   "metadata": {
    "colab": {
     "base_uri": "https://localhost:8080/",
     "height": 70
    },
    "colab_type": "code",
    "id": "WKCrkQj_gBE4",
    "outputId": "68d93f1f-743b-41f0-e7d4-63cfc16f91c6"
   },
   "outputs": [
    {
     "name": "stderr",
     "output_type": "stream",
     "text": [
      "[nltk_data] Downloading package punkt to\n",
      "[nltk_data]     C:\\Users\\user\\AppData\\Roaming\\nltk_data...\n",
      "[nltk_data]   Package punkt is already up-to-date!\n"
     ]
    },
    {
     "data": {
      "text/plain": [
       "True"
      ]
     },
     "execution_count": 22,
     "metadata": {},
     "output_type": "execute_result"
    }
   ],
   "source": [
    "import nltk\n",
    "nltk.download('punkt')"
   ]
  },
  {
   "cell_type": "code",
   "execution_count": 23,
   "metadata": {
    "colab": {
     "base_uri": "https://localhost:8080/",
     "height": 34
    },
    "colab_type": "code",
    "id": "NeKZxsfxZkL_",
    "outputId": "2897b4ec-0d75-4afb-9ca3-4894aeb24ff7"
   },
   "outputs": [
    {
     "name": "stderr",
     "output_type": "stream",
     "text": [
      "100%|████████████████████████████████████████████████████████████████████████████| 1000/1000 [00:00<00:00, 1465.52it/s]\n"
     ]
    }
   ],
   "source": [
    "word_set = set()\n",
    "max_len = 0\n",
    "curr_id = 0\n",
    "\n",
    "for sentence in tqdm(corpus):\n",
    "    # sentence_vector = []\n",
    "    tokens = word_tokenize(sentence)\n",
    "    curr_len = len(tokens)\n",
    "    max_len = max(max_len, curr_len)\n",
    "\n",
    "    for token in tokens:\n",
    "        word_set.add(token)"
   ]
  },
  {
   "cell_type": "code",
   "execution_count": 24,
   "metadata": {
    "colab": {
     "base_uri": "https://localhost:8080/",
     "height": 34
    },
    "colab_type": "code",
    "id": "xICEdzRl0y8s",
    "outputId": "dc5e7e17-c5bd-4715-b9c7-a53442566d76"
   },
   "outputs": [
    {
     "data": {
      "text/plain": [
       "114"
      ]
     },
     "execution_count": 24,
     "metadata": {},
     "output_type": "execute_result"
    }
   ],
   "source": [
    "max_len"
   ]
  },
  {
   "cell_type": "code",
   "execution_count": 25,
   "metadata": {
    "colab": {
     "base_uri": "https://localhost:8080/",
     "height": 34
    },
    "colab_type": "code",
    "id": "b3k1IEC31iY9",
    "outputId": "cc1ccfcf-c8fb-48d5-d942-4b41efa23a30"
   },
   "outputs": [
    {
     "data": {
      "text/plain": [
       "5329"
      ]
     },
     "execution_count": 25,
     "metadata": {},
     "output_type": "execute_result"
    }
   ],
   "source": [
    "len(word_set)"
   ]
  },
  {
   "cell_type": "code",
   "execution_count": 26,
   "metadata": {
    "colab": {
     "base_uri": "https://localhost:8080/",
     "height": 34
    },
    "colab_type": "code",
    "id": "nOaqGRey1Uap",
    "outputId": "bcb0a192-0195-4a17-891a-2b2c1e29fdc6"
   },
   "outputs": [
    {
     "name": "stderr",
     "output_type": "stream",
     "text": [
      "2000000it [00:44, 45364.77it/s]\n"
     ]
    }
   ],
   "source": [
    "import io\n",
    "\n",
    "def load_vectors(fname):\n",
    "    fin = io.open(fname, 'r', encoding='utf-8', newline='\\n', errors='ignore')\n",
    "    n, d = map(int, fin.readline().split())\n",
    "    data = {}\n",
    "    for line in tqdm(fin):\n",
    "        tokens = line.rstrip().split(' ')\n",
    "        if tokens[0] in word_set:\n",
    "            data[tokens[0]] = list(map(float, tokens[1:]))\n",
    "    return data\n",
    "word_vectors = load_vectors(base + 'cc.th.300/cc.th.300.vec') "
   ]
  },
  {
   "cell_type": "code",
   "execution_count": 27,
   "metadata": {
    "colab": {
     "base_uri": "https://localhost:8080/",
     "height": 34
    },
    "colab_type": "code",
    "id": "J_iOfdVt2DMK",
    "outputId": "184758b6-3b35-4fbf-b214-d942cb9c6d56"
   },
   "outputs": [
    {
     "data": {
      "text/plain": [
       "3344"
      ]
     },
     "execution_count": 27,
     "metadata": {},
     "output_type": "execute_result"
    }
   ],
   "source": [
    "len(word_vectors)"
   ]
  },
  {
   "cell_type": "code",
   "execution_count": 28,
   "metadata": {
    "colab": {
     "base_uri": "https://localhost:8080/",
     "height": 34
    },
    "colab_type": "code",
    "id": "y8-PO7KvxxR8",
    "outputId": "05e3fb5e-5ed3-48b3-d052-420e36c0f6b8"
   },
   "outputs": [
    {
     "name": "stderr",
     "output_type": "stream",
     "text": [
      "100%|████████████████████████████████████████████████████████████████████████████| 1000/1000 [00:00<00:00, 1906.00it/s]\n"
     ]
    }
   ],
   "source": [
    "max_len = 0\n",
    "curr_id = 0\n",
    "id_list = []\n",
    "feature_list = []\n",
    "\n",
    "for sentence in tqdm(corpus):\n",
    "    sentence_vector = []\n",
    "    tokens = word_tokenize(sentence)\n",
    "    for word in tokens:\n",
    "        try:\n",
    "            vec = word_vectors[word]\n",
    "        except KeyError:\n",
    "            continue\n",
    "        sentence_vector.append(vec)\n",
    "        \n",
    "    feature_list.append(sentence_vector)\n",
    "    curr_len = len(sentence_vector)\n",
    "    curr_id += curr_len\n",
    "    id_list.append(curr_id)\n",
    "    \n",
    "    max_len = max(max_len, curr_len)\n",
    "    "
   ]
  },
  {
   "cell_type": "code",
   "execution_count": 29,
   "metadata": {
    "colab": {
     "base_uri": "https://localhost:8080/",
     "height": 34
    },
    "colab_type": "code",
    "id": "wqjAE83f0THt",
    "outputId": "bf4d16fd-d294-4177-d3d1-c45cfdd4a8b9"
   },
   "outputs": [
    {
     "data": {
      "text/plain": [
       "97"
      ]
     },
     "execution_count": 29,
     "metadata": {},
     "output_type": "execute_result"
    }
   ],
   "source": [
    "max_len"
   ]
  },
  {
   "cell_type": "code",
   "execution_count": 30,
   "metadata": {
    "colab": {},
    "colab_type": "code",
    "id": "bwpi6tvujjqG"
   },
   "outputs": [],
   "source": [
    "target = df_clean['rating'].to_numpy()"
   ]
  },
  {
   "cell_type": "code",
   "execution_count": 31,
   "metadata": {
    "colab": {
     "base_uri": "https://localhost:8080/",
     "height": 367
    },
    "colab_type": "code",
    "id": "i6sSlLm8f00Z",
    "outputId": "2012ab44-1962-4636-99f3-22f895e54265"
   },
   "outputs": [
    {
     "name": "stderr",
     "output_type": "stream",
     "text": [
      "100%|██████████████████████████████████████████████████████████████████████████████| 1000/1000 [00:28<00:00, 35.26it/s]\n"
     ]
    }
   ],
   "source": [
    "# from google.colab import files\n",
    "\n",
    "# f = open(base + \"wongnai_word2vec_dataset.csv\", \"a\")\n",
    "\n",
    "with open(base + \"wongnai_padding_word2vec_dataset.csv\", 'w') as f:\n",
    "    # header\n",
    "    for i in range(300):\n",
    "        f.write('{},'.format(i))\n",
    "    f.write('target\\n')\n",
    "\n",
    "    # a sentence vector\n",
    "    target_id = 0\n",
    "    for sentence in tqdm(feature_list):\n",
    "        length = len(sentence)\n",
    "        \n",
    "        # padding\n",
    "        for i in range(max_len - length):\n",
    "            for j in range(300):\n",
    "                f.write('{},'.format(0))\n",
    "            f.write('{}\\n'.format(target[target_id]))\n",
    "        \n",
    "        for word in sentence:\n",
    "            for val in word:\n",
    "                f.write('{},'.format(val))\n",
    "            f.write('{}\\n'.format(target[target_id]))\n",
    "\n",
    "        # increase index of target\n",
    "        target_id += 1\n",
    "    \n",
    "f.close()\n",
    "# files.download(base + \"wongnai_word2vec_dataset.csv\")\n",
    "# !cat /content/drive/My\\ Drive/Kaggle/Wongnai\\ Challenge\\ Review\\ Rating\\ Prediction/wongnai_word2vec_dataset.csv"
   ]
  },
  {
   "cell_type": "code",
   "execution_count": null,
   "metadata": {
    "colab": {},
    "colab_type": "code",
    "id": "xzvRyrzK-HiA"
   },
   "outputs": [],
   "source": [
    "# import pandas as pd\n",
    "# import numpy as np\n",
    "\n",
    "# df = pd.read_csv('wongnai_word2vec_dataset.csv')\n",
    "# df.shape"
   ]
  },
  {
   "cell_type": "code",
   "execution_count": null,
   "metadata": {},
   "outputs": [],
   "source": []
  }
 ],
 "metadata": {
  "colab": {
   "collapsed_sections": [],
   "name": "wongnai_word2vec.ipynb",
   "provenance": []
  },
  "kernelspec": {
   "display_name": "Python 3",
   "language": "python",
   "name": "python3"
  },
  "language_info": {
   "codemirror_mode": {
    "name": "ipython",
    "version": 3
   },
   "file_extension": ".py",
   "mimetype": "text/x-python",
   "name": "python",
   "nbconvert_exporter": "python",
   "pygments_lexer": "ipython3",
   "version": "3.7.3"
  }
 },
 "nbformat": 4,
 "nbformat_minor": 1
}
