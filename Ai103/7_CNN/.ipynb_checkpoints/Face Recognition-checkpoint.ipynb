{
 "cells": [
  {
   "cell_type": "code",
   "execution_count": 0,
   "metadata": {
    "colab": {},
    "colab_type": "code",
    "id": "Nb5wPJKJD-Pt"
   },
   "outputs": [],
   "source": [
    "import numpy as np\n",
    "from numpy.random import RandomState\n",
    "\n",
    "from sklearn.datasets import fetch_olivetti_faces\n",
    "from sklearn.model_selection import train_test_split\n",
    "\n",
    "from tqdm import tqdm\n",
    "import matplotlib.pyplot as plt"
   ]
  },
  {
   "cell_type": "code",
   "execution_count": 2,
   "metadata": {
    "colab": {
     "base_uri": "https://localhost:8080/",
     "height": 34
    },
    "colab_type": "code",
    "executionInfo": {
     "elapsed": 19563,
     "status": "ok",
     "timestamp": 1579873697603,
     "user": {
      "displayName": "krin chinprasatsak",
      "photoUrl": "",
      "userId": "04529029956798069439"
     },
     "user_tz": -420
    },
    "id": "ipfUgoZbETM_",
    "outputId": "1d00ca84-8002-4ec2-abe9-d82ce3a55cf1"
   },
   "outputs": [
    {
     "name": "stdout",
     "output_type": "stream",
     "text": [
      "downloading Olivetti faces from https://ndownloader.figshare.com/files/5976027 to /root/scikit_learn_data\n"
     ]
    }
   ],
   "source": [
    "# Load faces data\n",
    "faces, target = fetch_olivetti_faces(return_X_y=True)\n",
    "n_samples, n_features = faces.shape\n",
    "num_classes = 40"
   ]
  },
  {
   "cell_type": "code",
   "execution_count": 3,
   "metadata": {
    "colab": {
     "base_uri": "https://localhost:8080/",
     "height": 51
    },
    "colab_type": "code",
    "executionInfo": {
     "elapsed": 19554,
     "status": "ok",
     "timestamp": 1579873697606,
     "user": {
      "displayName": "krin chinprasatsak",
      "photoUrl": "",
      "userId": "04529029956798069439"
     },
     "user_tz": -420
    },
    "id": "6S0O1CIiNXV2",
    "outputId": "c3ab5a77-19ea-4c00-cf52-af952c56dc45"
   },
   "outputs": [
    {
     "name": "stdout",
     "output_type": "stream",
     "text": [
      "(280, 1, 64, 64)\n",
      "(120, 1, 64, 64)\n"
     ]
    }
   ],
   "source": [
    "X_train = np.empty((0, n_features), dtype='float32') \n",
    "y_train = np.empty((0,), dtype='int64')\n",
    "X_test  = np.empty((0, n_features), dtype='float32') \n",
    "y_test  = np.empty((0,), dtype='int64')\n",
    "\n",
    "for i in range(0, n_samples, 10):\n",
    "    X_train = np.vstack((X_train, faces[i: i + 7]))\n",
    "    y_train = np.hstack((y_train, target[i: i + 7]))\n",
    "    X_test  = np.vstack((X_test,  faces[i + 7: i + 10]))\n",
    "    y_test  = np.hstack((y_test,  target[i + 7: i + 10]))\n",
    "\n",
    "X_train = X_train.reshape(X_train.shape[0], 1, 64, 64)\n",
    "X_test  = X_test.reshape(X_test.shape[0], 1, 64, 64)\n",
    "print(X_train.shape)\n",
    "print(X_test.shape)"
   ]
  },
  {
   "cell_type": "code",
   "execution_count": 4,
   "metadata": {
    "colab": {
     "base_uri": "https://localhost:8080/",
     "height": 204
    },
    "colab_type": "code",
    "executionInfo": {
     "elapsed": 32846,
     "status": "ok",
     "timestamp": 1579873710909,
     "user": {
      "displayName": "krin chinprasatsak",
      "photoUrl": "",
      "userId": "04529029956798069439"
     },
     "user_tz": -420
    },
    "id": "p-3sKx-p79yp",
    "outputId": "edfec4d5-d473-4a85-a360-ee1dafe2ff4f"
   },
   "outputs": [
    {
     "data": {
      "text/plain": [
       "Sequential(\n",
       "  (0): Conv2d(1, 12, kernel_size=(3, 3), stride=(1, 1), padding=(1, 1))\n",
       "  (1): ReLU()\n",
       "  (2): MaxPool2d(kernel_size=2, stride=2, padding=0, dilation=1, ceil_mode=False)\n",
       "  (3): Conv2d(12, 24, kernel_size=(3, 3), stride=(1, 1), padding=(1, 1))\n",
       "  (4): ReLU()\n",
       "  (5): Flatten()\n",
       "  (6): Linear(in_features=24576, out_features=120, bias=True)\n",
       "  (7): Linear(in_features=120, out_features=84, bias=True)\n",
       "  (8): Linear(in_features=84, out_features=40, bias=True)\n",
       ")"
      ]
     },
     "execution_count": 4,
     "metadata": {
      "tags": []
     },
     "output_type": "execute_result"
    }
   ],
   "source": [
    "import torch\n",
    "import torch.nn as nn\n",
    "import torch.nn.functional as F\n",
    "\n",
    "net = torch.nn.Sequential(\n",
    "    nn.Conv2d(in_channels=1, out_channels=12, kernel_size=3,stride=1, padding=1),\n",
    "    nn.ReLU(),\n",
    "    nn.MaxPool2d(kernel_size=2),\n",
    "    nn.Conv2d(in_channels=12, out_channels=24, kernel_size=3, stride=1, padding=1),\n",
    "    nn.ReLU(),\n",
    "    nn.Flatten(),\n",
    "    nn.Linear(32 * 32 * 24, 120),\n",
    "    nn.Linear(120, 84),\n",
    "    nn.Linear(84, num_classes)\n",
    ")\n",
    "\n",
    "device = torch.device(\"cuda:0\" if torch.cuda.is_available() else \"cpu\")\n",
    "net.to(device)"
   ]
  },
  {
   "cell_type": "code",
   "execution_count": 0,
   "metadata": {
    "colab": {},
    "colab_type": "code",
    "id": "SeTwwgrV9cFL"
   },
   "outputs": [],
   "source": [
    "import torch.optim as optim\n",
    "\n",
    "criterion = nn.CrossEntropyLoss()\n",
    "optimizer = optim.SGD(net.parameters(), lr=0.001, momentum=0.9)"
   ]
  },
  {
   "cell_type": "code",
   "execution_count": 6,
   "metadata": {
    "colab": {
     "base_uri": "https://localhost:8080/",
     "height": 68
    },
    "colab_type": "code",
    "executionInfo": {
     "elapsed": 65837,
     "status": "ok",
     "timestamp": 1579873743916,
     "user": {
      "displayName": "krin chinprasatsak",
      "photoUrl": "",
      "userId": "04529029956798069439"
     },
     "user_tz": -420
    },
    "id": "hOaqndCH9kpN",
    "outputId": "0b137253-29d1-43e3-a45a-9a53409f9a51"
   },
   "outputs": [
    {
     "name": "stderr",
     "output_type": "stream",
     "text": [
      "100%|██████████| 2001/2001 [00:33<00:00, 59.44it/s]"
     ]
    },
    {
     "name": "stdout",
     "output_type": "stream",
     "text": [
      "[ 2000] loss: 0.000\n",
      "Finished Training\n"
     ]
    },
    {
     "name": "stderr",
     "output_type": "stream",
     "text": [
      "\n"
     ]
    }
   ],
   "source": [
    "for epoch in tqdm(range(2000 + 1)):  # loop over the dataset multiple times\n",
    "    running_loss = 0.0\n",
    "\n",
    "    # get the inputs\n",
    "    # inputs, labels = data\n",
    "    inputs, labels = torch.from_numpy(X_train), torch.from_numpy(y_train)\n",
    "    inputs, labels = inputs.to(device), labels.to(device)\n",
    "\n",
    "    # zero the parameter gradients\n",
    "    optimizer.zero_grad()\n",
    "\n",
    "    # forward + backward + optimize\n",
    "    outputs = net(inputs)\n",
    "    loss = criterion(outputs, labels)\n",
    "    loss.backward()\n",
    "    optimizer.step()\n",
    "\n",
    "    # print statistics\n",
    "    running_loss += loss.item()\n",
    "    if epoch % 2000 == 1999:    # print every 2000 mini-batches\n",
    "        print('[%5d] loss: %.3f' %(epoch + 1, running_loss / 2000))\n",
    "        running_loss = 0.0\n",
    "\n",
    "print('Finished Training')"
   ]
  },
  {
   "cell_type": "code",
   "execution_count": 7,
   "metadata": {
    "colab": {
     "base_uri": "https://localhost:8080/",
     "height": 135
    },
    "colab_type": "code",
    "executionInfo": {
     "elapsed": 67325,
     "status": "ok",
     "timestamp": 1579873745415,
     "user": {
      "displayName": "krin chinprasatsak",
      "photoUrl": "",
      "userId": "04529029956798069439"
     },
     "user_tz": -420
    },
    "id": "XDdpYq2Vih39",
    "outputId": "a101ec24-d1ff-4439-c959-48e27f37c832"
   },
   "outputs": [
    {
     "data": {
      "text/plain": [
       "<matplotlib.image.AxesImage at 0x7fb8042d7b38>"
      ]
     },
     "execution_count": 7,
     "metadata": {
      "tags": []
     },
     "output_type": "execute_result"
    },
    {
     "data": {
      "image/png": "[encoded data removed]",
      "text/plain": [
       "<Figure size 432x288 with 1 Axes>"
      ]
     },
     "metadata": {
      "tags": []
     },
     "output_type": "display_data"
    }
   ],
   "source": [
    "plt.imshow(np.hstack((X_train[0].reshape(64, 64), X_train[10].reshape(64, 64), X_train[20].reshape(64, 64), X_train[30].reshape(64, 64), X_train[40].reshape(64, 64))))"
   ]
  },
  {
   "cell_type": "code",
   "execution_count": 8,
   "metadata": {
    "colab": {
     "base_uri": "https://localhost:8080/",
     "height": 34
    },
    "colab_type": "code",
    "executionInfo": {
     "elapsed": 67317,
     "status": "ok",
     "timestamp": 1579873745416,
     "user": {
      "displayName": "krin chinprasatsak",
      "photoUrl": "",
      "userId": "04529029956798069439"
     },
     "user_tz": -420
    },
    "id": "owbbNarRqoOn",
    "outputId": "01d317c2-5822-4776-f83f-6e04f61806a6"
   },
   "outputs": [
    {
     "name": "stdout",
     "output_type": "stream",
     "text": [
      "90.0\n"
     ]
    }
   ],
   "source": [
    "images = torch.from_numpy(X_test.reshape(120, 1, 64, 64))\n",
    "images = images.to(device)\n",
    "outputs = net(images)\n",
    "_, predicted = torch.max(outputs.data, 1)\n",
    "\n",
    "correct = 0\n",
    "for i in range(images.shape[0]):\n",
    "    correct += (predicted[i].item() == y_test[i])\n",
    "print(round(100 * correct / len(X_test), 2))"
   ]
  },
  {
   "cell_type": "code",
   "execution_count": 0,
   "metadata": {
    "colab": {},
    "colab_type": "code",
    "id": "cQDJtp9_tCl9"
   },
   "outputs": [],
   "source": []
  }
 ],
 "metadata": {
  "accelerator": "GPU",
  "colab": {
   "collapsed_sections": [],
   "name": "Face Recognition.ipynb",
   "provenance": [
    {
     "file_id": "1BYZ34hyHaGEDBkyT9FGsOdWDQTXOCl6U",
     "timestamp": 1579873627101
    }
   ]
  },
  "kernelspec": {
   "display_name": "Python 3",
   "language": "python",
   "name": "python3"
  },
  "language_info": {
   "codemirror_mode": {
    "name": "ipython",
    "version": 3
   },
   "file_extension": ".py",
   "mimetype": "text/x-python",
   "name": "python",
   "nbconvert_exporter": "python",
   "pygments_lexer": "ipython3",
   "version": "3.7.8"
  }
 },
 "nbformat": 4,
 "nbformat_minor": 1
}
